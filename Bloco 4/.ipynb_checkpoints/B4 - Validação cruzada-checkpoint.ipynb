{
 "cells": [
  {
   "cell_type": "markdown",
   "id": "16eb78b5-f981-4e5f-afba-13b3b01a421b",
   "metadata": {},
   "source": [
    "## Bloco 04\n",
    "\n",
    "> ### Validação cruzada\n"
   ]
  },
  {
   "cell_type": "markdown",
   "id": "fc1f07ce-7d1e-43e5-8a9c-56e44579dd7f",
   "metadata": {},
   "source": [
    "---"
   ]
  },
  {
   "cell_type": "markdown",
   "id": "3144754d-d420-4190-b70b-f97c19bc175d",
   "metadata": {},
   "source": [
    "**Motivação**\n",
    "\n",
    "Ao trabalhamos com um *dataset*, podemos dividir em treino e teste a partir de uma semente aleatória de forma que possamos realizar o cálculo com um conjunto que seja eficiente para uma determinada técnica, mas que não represente os dados como um todo. Dessa forma, podemos ter um vazamento de dados.\n",
    "\n",
    "É importante, portanto, buscar encontrar uma *validação cruzada*, sendo que caso os resultados sejam consistentes para diferentes divisões da base de dados, a confiabilidade seja maior."
   ]
  },
  {
   "cell_type": "markdown",
   "id": "3196fb15-b122-4d06-a79a-5344e48facc2",
   "metadata": {},
   "source": [
    "---"
   ]
  },
  {
   "cell_type": "code",
   "execution_count": 1,
   "id": "0614a915-7710-48c5-999c-526f6e77a74b",
   "metadata": {},
   "outputs": [],
   "source": [
    "import seaborn as sns\n",
    "import pandas as pd\n",
    "from sklearn.model_selection import train_test_split\n",
    "import numpy as np\n",
    "import seaborn as sns\n",
    "import pandas as pd\n",
    "from sklearn.preprocessing import StandardScaler\n",
    "from sklearn.decomposition import PCA\n",
    "import matplotlib.pyplot as plt\n",
    "import random"
   ]
  },
  {
   "cell_type": "code",
   "execution_count": 2,
   "id": "19ea460d-6a17-42e6-88a5-f0edfac09a58",
   "metadata": {},
   "outputs": [
    {
     "data": {
      "text/html": [
       "<div>\n",
       "<style scoped>\n",
       "    .dataframe tbody tr th:only-of-type {\n",
       "        vertical-align: middle;\n",
       "    }\n",
       "\n",
       "    .dataframe tbody tr th {\n",
       "        vertical-align: top;\n",
       "    }\n",
       "\n",
       "    .dataframe thead th {\n",
       "        text-align: right;\n",
       "    }\n",
       "</style>\n",
       "<table border=\"1\" class=\"dataframe\">\n",
       "  <thead>\n",
       "    <tr style=\"text-align: right;\">\n",
       "      <th></th>\n",
       "      <th>Amostra</th>\n",
       "      <th>Sexo</th>\n",
       "      <th>Categoria Idade</th>\n",
       "      <th>Idade</th>\n",
       "      <th>MMP1</th>\n",
       "      <th>MMP3</th>\n",
       "      <th>MMP9</th>\n",
       "      <th>MMP11</th>\n",
       "      <th>MMP24</th>\n",
       "      <th>MMP27</th>\n",
       "      <th>BARD1</th>\n",
       "      <th>BCL7C</th>\n",
       "      <th>CLPTM1L</th>\n",
       "      <th>TERT</th>\n",
       "      <th>CDKN1A</th>\n",
       "    </tr>\n",
       "  </thead>\n",
       "  <tbody>\n",
       "    <tr>\n",
       "      <th>0</th>\n",
       "      <td>GTEX-U8XE</td>\n",
       "      <td>male</td>\n",
       "      <td>Jovem</td>\n",
       "      <td>30-39</td>\n",
       "      <td>0.415301</td>\n",
       "      <td>0.019599</td>\n",
       "      <td>0.609227</td>\n",
       "      <td>0.088210</td>\n",
       "      <td>0.000014</td>\n",
       "      <td>0.851644</td>\n",
       "      <td>0.354668</td>\n",
       "      <td>0.472280</td>\n",
       "      <td>0.910613</td>\n",
       "      <td>0.456960</td>\n",
       "      <td>0.770863</td>\n",
       "    </tr>\n",
       "    <tr>\n",
       "      <th>1</th>\n",
       "      <td>GTEX-UPJH</td>\n",
       "      <td>male</td>\n",
       "      <td>Adulto</td>\n",
       "      <td>50-59</td>\n",
       "      <td>0.000005</td>\n",
       "      <td>0.007997</td>\n",
       "      <td>0.159422</td>\n",
       "      <td>0.038826</td>\n",
       "      <td>0.503206</td>\n",
       "      <td>0.168324</td>\n",
       "      <td>0.491779</td>\n",
       "      <td>0.604135</td>\n",
       "      <td>0.656658</td>\n",
       "      <td>0.020528</td>\n",
       "      <td>0.301729</td>\n",
       "    </tr>\n",
       "    <tr>\n",
       "      <th>2</th>\n",
       "      <td>GTEX-UPK5</td>\n",
       "      <td>male</td>\n",
       "      <td>Adulto</td>\n",
       "      <td>40-49</td>\n",
       "      <td>0.000000</td>\n",
       "      <td>0.007150</td>\n",
       "      <td>0.000003</td>\n",
       "      <td>0.047462</td>\n",
       "      <td>0.000003</td>\n",
       "      <td>0.310585</td>\n",
       "      <td>0.215032</td>\n",
       "      <td>0.536110</td>\n",
       "      <td>0.690726</td>\n",
       "      <td>0.000000</td>\n",
       "      <td>0.230042</td>\n",
       "    </tr>\n",
       "    <tr>\n",
       "      <th>3</th>\n",
       "      <td>GTEX-V1D1</td>\n",
       "      <td>male</td>\n",
       "      <td>Adulto</td>\n",
       "      <td>50-59</td>\n",
       "      <td>0.000000</td>\n",
       "      <td>0.000000</td>\n",
       "      <td>0.062979</td>\n",
       "      <td>0.000001</td>\n",
       "      <td>0.000034</td>\n",
       "      <td>0.523176</td>\n",
       "      <td>0.488843</td>\n",
       "      <td>0.430027</td>\n",
       "      <td>0.459522</td>\n",
       "      <td>0.183716</td>\n",
       "      <td>0.266740</td>\n",
       "    </tr>\n",
       "    <tr>\n",
       "      <th>4</th>\n",
       "      <td>GTEX-VJYA</td>\n",
       "      <td>male</td>\n",
       "      <td>Idoso</td>\n",
       "      <td>60-69</td>\n",
       "      <td>0.000000</td>\n",
       "      <td>0.019699</td>\n",
       "      <td>0.329350</td>\n",
       "      <td>0.037106</td>\n",
       "      <td>0.444207</td>\n",
       "      <td>0.744908</td>\n",
       "      <td>0.250793</td>\n",
       "      <td>0.411447</td>\n",
       "      <td>0.618432</td>\n",
       "      <td>0.223564</td>\n",
       "      <td>0.134728</td>\n",
       "    </tr>\n",
       "  </tbody>\n",
       "</table>\n",
       "</div>"
      ],
      "text/plain": [
       "     Amostra  Sexo Categoria Idade  Idade      MMP1      MMP3      MMP9  \\\n",
       "0  GTEX-U8XE  male           Jovem  30-39  0.415301  0.019599  0.609227   \n",
       "1  GTEX-UPJH  male          Adulto  50-59  0.000005  0.007997  0.159422   \n",
       "2  GTEX-UPK5  male          Adulto  40-49  0.000000  0.007150  0.000003   \n",
       "3  GTEX-V1D1  male          Adulto  50-59  0.000000  0.000000  0.062979   \n",
       "4  GTEX-VJYA  male           Idoso  60-69  0.000000  0.019699  0.329350   \n",
       "\n",
       "      MMP11     MMP24     MMP27     BARD1     BCL7C   CLPTM1L      TERT  \\\n",
       "0  0.088210  0.000014  0.851644  0.354668  0.472280  0.910613  0.456960   \n",
       "1  0.038826  0.503206  0.168324  0.491779  0.604135  0.656658  0.020528   \n",
       "2  0.047462  0.000003  0.310585  0.215032  0.536110  0.690726  0.000000   \n",
       "3  0.000001  0.000034  0.523176  0.488843  0.430027  0.459522  0.183716   \n",
       "4  0.037106  0.444207  0.744908  0.250793  0.411447  0.618432  0.223564   \n",
       "\n",
       "     CDKN1A  \n",
       "0  0.770863  \n",
       "1  0.301729  \n",
       "2  0.230042  \n",
       "3  0.266740  \n",
       "4  0.134728  "
      ]
     },
     "execution_count": 2,
     "metadata": {},
     "output_type": "execute_result"
    }
   ],
   "source": [
    "df = pd.read_csv('data_artigo.csv')\n",
    "df = df.drop(\"Unnamed: 0\",axis=1)\n",
    "df.head()"
   ]
  },
  {
   "cell_type": "code",
   "execution_count": 3,
   "id": "236ce7cb-ba1a-46a4-aaf2-04050d2f62ac",
   "metadata": {},
   "outputs": [],
   "source": [
    "from sklearn.model_selection import train_test_split\n",
    "\n",
    "TAMANHO_TESTE = 0.1\n",
    "SEMENTE_ALEATORIA = 2499\n",
    "\n",
    "FEATURES = df.columns.values[4:]\n",
    "TARGET = [\"Categoria Idade\"]\n",
    "\n",
    "indices = df.index\n",
    "indices_treino, indices_teste = train_test_split(\n",
    "    indices, test_size=TAMANHO_TESTE, random_state=SEMENTE_ALEATORIA\n",
    ")\n",
    "\n",
    "df_treino = df.loc[indices_treino]\n",
    "df_teste = df.loc[indices_teste]\n",
    "\n",
    "X_treino = df_treino.reindex(FEATURES, axis=1).values\n",
    "y_treino = df_treino.reindex(TARGET, axis=1).values.ravel()\n",
    "X_teste = df_teste.reindex(FEATURES, axis=1).values\n",
    "y_teste = df_teste.reindex(TARGET, axis=1).values.ravel()"
   ]
  },
  {
   "cell_type": "code",
   "execution_count": 4,
   "id": "8f93bf03-e309-4461-9386-173d449252cc",
   "metadata": {},
   "outputs": [
    {
     "name": "stdout",
     "output_type": "stream",
     "text": [
      "Os scores foram de:  [0.66666667 0.60606061 0.51515152]\n",
      "\n",
      "A média dos scores é de:  0.5959595959595959\n"
     ]
    }
   ],
   "source": [
    "from sklearn.neighbors import KNeighborsClassifier\n",
    "from sklearn.model_selection import cross_val_score\n",
    "\n",
    "NUM_FOLDS = 3\n",
    "NUM_CPU_CORES = 4\n",
    "\n",
    "modelo = KNeighborsClassifier()\n",
    "\n",
    "scores = cross_val_score(\n",
    "    modelo,\n",
    "    X_treino,\n",
    "    y_treino,\n",
    "    cv=NUM_FOLDS,\n",
    "    scoring=\"accuracy\",\n",
    ")\n",
    "\n",
    "print(\"Os scores foram de: \", scores)\n",
    "print()\n",
    "print(\"A média dos scores é de: \", scores.mean())"
   ]
  },
  {
   "cell_type": "code",
   "execution_count": 5,
   "id": "f99db51c-e321-44a6-80c5-a879acdcff75",
   "metadata": {},
   "outputs": [
    {
     "name": "stdout",
     "output_type": "stream",
     "text": [
      "Os scores foram de:  [0.66666667 0.60606061 0.51515152]\n",
      "\n",
      "A média dos scores é de:  0.5959595959595959\n"
     ]
    }
   ],
   "source": [
    "scores = cross_val_score(\n",
    "    modelo,\n",
    "    X_treino,\n",
    "    y_treino,\n",
    "    cv=NUM_FOLDS,\n",
    "    scoring=\"accuracy\",\n",
    ")\n",
    "\n",
    "print(\"Os scores foram de: \", scores)\n",
    "print()\n",
    "print(\"A média dos scores é de: \", scores.mean())"
   ]
  },
  {
   "cell_type": "markdown",
   "id": "74009e15-0c5c-4fbd-b19a-3f478384b399",
   "metadata": {},
   "source": [
    "Uma vez que o método mais eficiente para o projeto foi o de classificação de K vizinhos, já que os dados de *target* são categóricos, usamos como método de pontuação a acurácia."
   ]
  },
  {
   "cell_type": "code",
   "execution_count": 6,
   "id": "18d380ac-3def-4a22-a286-16f80e037d07",
   "metadata": {},
   "outputs": [
    {
     "name": "stdout",
     "output_type": "stream",
     "text": [
      "Os scores foram de:  [0.66666667 0.66666667 0.60606061]\n",
      "\n",
      "A média dos scores é de:  0.6464646464646465\n"
     ]
    }
   ],
   "source": [
    "N_BEIGHBORS = 15\n",
    "NUM_FOLDS = 3\n",
    "NUM_CPU_CORES = 4\n",
    "\n",
    "modelo = KNeighborsClassifier(\n",
    "    n_neighbors=N_BEIGHBORS,\n",
    "    n_jobs=NUM_CPU_CORES,\n",
    ")\n",
    "\n",
    "scores = cross_val_score(\n",
    "    modelo,\n",
    "    X_treino,\n",
    "    y_treino,\n",
    "    cv=NUM_FOLDS,\n",
    "    scoring=\"accuracy\",\n",
    ")\n",
    "\n",
    "print(\"Os scores foram de: \", scores)\n",
    "print()\n",
    "print(\"A média dos scores é de: \", scores.mean())"
   ]
  },
  {
   "cell_type": "code",
   "execution_count": 9,
   "id": "df6bb8ed-8fda-4081-803b-be2c1952f02b",
   "metadata": {},
   "outputs": [
    {
     "name": "stdout",
     "output_type": "stream",
     "text": [
      "A acurácia do modelo de K vizinhos do conjunto de teste foi de 0.8181818181818182.\n"
     ]
    }
   ],
   "source": [
    "from sklearn.metrics import accuracy_score\n",
    "\n",
    "N_BEIGHBORS = 15\n",
    "NUM_FOLDS = 3\n",
    "NUM_CPU_CORES = 4\n",
    "\n",
    "modelo = KNeighborsClassifier(\n",
    "    n_neighbors=N_BEIGHBORS,\n",
    "    n_jobs=NUM_CPU_CORES,\n",
    ")\n",
    "\n",
    "modelo.fit(X_treino, y_treino)\n",
    "\n",
    "y_previsao = modelo.predict(X_teste)\n",
    "accuracy = accuracy_score(y_teste, y_previsao)\n",
    "\n",
    "print(f\"A acurácia do modelo de K vizinhos do conjunto de teste foi de {accuracy}.\")"
   ]
  },
  {
   "cell_type": "markdown",
   "id": "11c3ebc1-9a3e-4db7-ac00-58780ca658b9",
   "metadata": {},
   "source": [
    "---"
   ]
  },
  {
   "cell_type": "markdown",
   "id": "11b0e35c-d6ca-4d92-9938-e7d7f6581673",
   "metadata": {},
   "source": [
    "**Aplicação de K vizinhos com Pipeline**"
   ]
  },
  {
   "cell_type": "code",
   "execution_count": 10,
   "id": "d618ecc0-9938-4ab1-8612-fbba6b7d98f8",
   "metadata": {},
   "outputs": [
    {
     "name": "stdout",
     "output_type": "stream",
     "text": [
      "Os scores foram de:  [0.5        0.6        0.6        0.6        0.7        0.5\n",
      " 0.5        0.4        0.6        0.44444444]\n",
      "\n",
      "A média dos scores é de:  0.5444444444444445\n"
     ]
    }
   ],
   "source": [
    "from sklearn.pipeline import make_pipeline\n",
    "from sklearn.preprocessing import MinMaxScaler\n",
    "\n",
    "NUM_VIZINHOS = 3\n",
    "NUM_FOLDS = 10\n",
    "\n",
    "modelo_knn_composto = make_pipeline(\n",
    "    MinMaxScaler(),\n",
    "    KNeighborsClassifier(n_neighbors=NUM_VIZINHOS),\n",
    ")\n",
    "\n",
    "scores = cross_val_score(\n",
    "    modelo_knn_composto,\n",
    "    X_treino,\n",
    "    y_treino,\n",
    "    cv=NUM_FOLDS,\n",
    "    scoring=\"accuracy\",\n",
    ")\n",
    "\n",
    "print(\"Os scores foram de: \", scores)\n",
    "print()\n",
    "print(\"A média dos scores é de: \", scores.mean())"
   ]
  },
  {
   "cell_type": "code",
   "execution_count": 11,
   "id": "afc35131-4774-46a4-806a-b8913753f167",
   "metadata": {},
   "outputs": [
    {
     "name": "stdout",
     "output_type": "stream",
     "text": [
      "Os scores foram de:  [0.6        0.7        0.7        0.7        0.7        0.7\n",
      " 0.5        0.4        0.6        0.66666667]\n",
      "\n",
      "A média dos scores é de:  0.6266666666666667\n"
     ]
    }
   ],
   "source": [
    "NUM_VIZINHOS = 7\n",
    "NUM_FOLDS = 10\n",
    "\n",
    "modelo_knn_composto = make_pipeline(\n",
    "    MinMaxScaler(),\n",
    "    KNeighborsClassifier(n_neighbors=NUM_VIZINHOS),\n",
    ")\n",
    "\n",
    "scores = cross_val_score(\n",
    "    modelo_knn_composto,\n",
    "    X_treino,\n",
    "    y_treino,\n",
    "    cv=NUM_FOLDS,\n",
    "    scoring=\"accuracy\",\n",
    ")\n",
    "\n",
    "print(\"Os scores foram de: \", scores)\n",
    "print()\n",
    "print(\"A média dos scores é de: \", scores.mean())"
   ]
  },
  {
   "cell_type": "code",
   "execution_count": 12,
   "id": "b40ae117-871a-42d7-8afd-f7ce384d033a",
   "metadata": {},
   "outputs": [
    {
     "name": "stdout",
     "output_type": "stream",
     "text": [
      "A acurácia do modelo de K vizinhos do conjunto de teste foi de 0.8181818181818182.\n"
     ]
    }
   ],
   "source": [
    "NUM_VIZINHOS = 7\n",
    "\n",
    "modelo_knn_composto = make_pipeline(\n",
    "    MinMaxScaler(),\n",
    "    KNeighborsClassifier(n_neighbors=NUM_VIZINHOS),\n",
    ")\n",
    "modelo_knn_composto.fit(X_treino, y_treino)\n",
    "\n",
    "y_previsao = modelo_knn_composto.predict(X_teste)\n",
    "accuracy = accuracy_score(y_teste, y_previsao)\n",
    "\n",
    "print(f\"A acurácia do modelo de K vizinhos do conjunto de teste foi de {accuracy}.\")"
   ]
  },
  {
   "cell_type": "markdown",
   "id": "fbe62c9e-9299-471d-b67a-9f29f9b341f1",
   "metadata": {},
   "source": [
    "---"
   ]
  },
  {
   "cell_type": "markdown",
   "id": "fc419beb-b99f-491d-8b29-5596014caba8",
   "metadata": {},
   "source": [
    "Tendo em vista as análises, é possível concluir que a acurácia resultada no bloco 2 pode ser confirmada pela validação cruzada."
   ]
  }
 ],
 "metadata": {
  "kernelspec": {
   "display_name": "ilumpy",
   "language": "python",
   "name": "ilumpy"
  },
  "language_info": {
   "codemirror_mode": {
    "name": "ipython",
    "version": 3
   },
   "file_extension": ".py",
   "mimetype": "text/x-python",
   "name": "python",
   "nbconvert_exporter": "python",
   "pygments_lexer": "ipython3",
   "version": "3.9.7"
  }
 },
 "nbformat": 4,
 "nbformat_minor": 5
}
