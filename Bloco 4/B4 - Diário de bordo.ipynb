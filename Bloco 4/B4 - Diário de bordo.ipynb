{
 "cells": [
  {
   "cell_type": "markdown",
   "id": "039500bd-01a5-41d1-a289-d144daf0926e",
   "metadata": {},
   "source": [
    "# Bloco 04\n",
    "\n",
    "**Geral**\n",
    "\n",
    "Organização das semanas do quarto e último bloco da disciplina de Aprendizado de Máquina\n",
    "\n",
    "| - | *Semana 01* | *Semana 02* | *Semana 03* | *Semana 04* |\n",
    "| :----------- | -----------: | ---------: | ----------: | ----------: |\n",
    "| **Datas** | 07/11 - 11/11 | 14/11 - 18/11 | 21/11 - 25/11 | 28/11 - 02/12 |\n",
    "| **Status**| Finalizado | Feriado | Finalizado | Apresentação |"
   ]
  },
  {
   "cell_type": "markdown",
   "id": "bcefa78a-adf3-4ba9-b446-b7bdd78fc320",
   "metadata": {},
   "source": [
    "---"
   ]
  },
  {
   "cell_type": "markdown",
   "id": "5de93c29-6fed-4b46-b925-02dd3ac3e370",
   "metadata": {},
   "source": [
    "### Semana 1\n",
    "\n",
    "Como parte do desenvolvimento das tarefas da primeira semana, faz-se como necessária a correção das sugestões dadas por parte dos professores.\n",
    "\n",
    "**a. Avaliação do bloco 3 por parte dos professores**\n",
    "\n",
    "1. Explicação dos blocos no ReadMe - **Vitor** - ✔️\n",
    "\n",
    "> Buscar trazer uma explicação das atividades desenvolvidas em cada um dos blocos, a fim de facilitar uma consulta nos notebooks e técnicas desenvolvidas;\n",
    "\n",
    "> Pegar as informações do caderno \"Sumário geral\" e implementar no ReadMe.\n",
    "\n",
    "2. Aplicação de PCA com uma maior quantidade de features - ✔️\n",
    "\n",
    "> Aplicação mudando o parâmetro da quantidade de features;\n",
    "\n",
    "> Análise dos resultados do PCA com mais features.\n",
    "\n",
    "3. Plot multidimensional das informações - **Artur** - ✔️\n",
    "\n",
    "> Como temos muitas features, podemos buscar uma visualização multidimensional;\n",
    "\n",
    "> Buscar usar elementos de PCA para realizar a visualização.\n",
    "\n",
    "**b. Outras Tarefas**\n",
    "\n",
    "4. Preparo da apresentação - **Débora** - ✔️\n",
    "\n",
    "> Separar os tópicos de maneira lógica para a apresentação;\n",
    "\n",
    "> Todo mundo junto.\n",
    "\n",
    "5. Validação cruzada - **Zani** - ✔️\n",
    "\n",
    "**c. Descrição das atividades**\n",
    "\n",
    "Artur e James conversaram a respeito da atividade 3."
   ]
  },
  {
   "cell_type": "markdown",
   "id": "b124b6f4-d402-4949-9754-ef31dc585353",
   "metadata": {},
   "source": [
    "---"
   ]
  },
  {
   "cell_type": "markdown",
   "id": "4f37c5bc-7000-4e0a-9bd6-ba3a2335e714",
   "metadata": {},
   "source": [
    "### Semana 3\n",
    "\n",
    "Na semana 3, Artur teve um imprevisto médico por conta de uma complicação no olho e acabou não podendo estar presente. Assim, com exceção do mesmo, os demais integrantes do grupo focaram na criação de um raciocínio lógico para a apresentação."
   ]
  }
 ],
 "metadata": {
  "kernelspec": {
   "display_name": "ilumpy",
   "language": "python",
   "name": "ilumpy"
  },
  "language_info": {
   "codemirror_mode": {
    "name": "ipython",
    "version": 3
   },
   "file_extension": ".py",
   "mimetype": "text/x-python",
   "name": "python",
   "nbconvert_exporter": "python",
   "pygments_lexer": "ipython3",
   "version": "3.9.7"
  }
 },
 "nbformat": 4,
 "nbformat_minor": 5
}
