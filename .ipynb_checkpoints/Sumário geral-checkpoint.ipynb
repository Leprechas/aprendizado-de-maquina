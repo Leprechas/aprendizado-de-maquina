{
 "cells": [
  {
   "cell_type": "markdown",
   "id": "218e5739-7a97-470c-888c-5aaa9beb06c2",
   "metadata": {},
   "source": [
    "# Sumário geral;"
   ]
  },
  {
   "cell_type": "markdown",
   "id": "4a22f2e6-daa2-46ae-8eeb-1bd0a54ea523",
   "metadata": {},
   "source": [
    "## Bloco 1"
   ]
  },
  {
   "cell_type": "markdown",
   "id": "eb74d51d-7149-4845-b6af-59f5fc212cda",
   "metadata": {},
   "source": [
    "- B1 - Coletando os dados:\n",
    "- B1 - Dados:\n",
    "- B1 - Diário de bordo:\n",
    "- B1 - Preparando e analisando os dados:"
   ]
  },
  {
   "cell_type": "markdown",
   "id": "3fd4a82a-e1c3-4cbe-b79c-901ebd7cd83d",
   "metadata": {},
   "source": [
    "## Bloco 2"
   ]
  },
  {
   "cell_type": "markdown",
   "id": "3a794441-68fc-4617-bfe1-89925d0f8c89",
   "metadata": {},
   "source": [
    "- B1 - Aplicação dos métodos com conversão randômica de idade:\n",
    "- B1 - Aplicação dos métodos:\n",
    "- B1 - Diário de bordo:"
   ]
  },
  {
   "cell_type": "markdown",
   "id": "97d59176-7b73-43b5-a6db-e769d80203ab",
   "metadata": {},
   "source": [
    "## Bloco 3"
   ]
  },
  {
   "cell_type": "markdown",
   "id": "cf1afd18-6d56-4c43-9ebb-f366bc2b2896",
   "metadata": {},
   "source": [
    "- B1 - Agrupamento (clustering):\n",
    "- B1 - Detecção de valores anômalos:\n",
    "- B1 - Diário de bordo:\n",
    "- B1 - PCA:"
   ]
  },
  {
   "cell_type": "markdown",
   "id": "036d733c-1d36-40dd-94be-82b1a999282c",
   "metadata": {},
   "source": [
    "## Bloco 4"
   ]
  },
  {
   "cell_type": "markdown",
   "id": "b7559168-8cd9-4e03-8e09-80641c3dbe4c",
   "metadata": {},
   "source": [
    "## Material de estudo"
   ]
  }
 ],
 "metadata": {
  "kernelspec": {
   "display_name": "ilumpy",
   "language": "python",
   "name": "ilumpy"
  },
  "language_info": {
   "codemirror_mode": {
    "name": "ipython",
    "version": 3
   },
   "file_extension": ".py",
   "mimetype": "text/x-python",
   "name": "python",
   "nbconvert_exporter": "python",
   "pygments_lexer": "ipython3",
   "version": "3.9.7"
  }
 },
 "nbformat": 4,
 "nbformat_minor": 5
}
