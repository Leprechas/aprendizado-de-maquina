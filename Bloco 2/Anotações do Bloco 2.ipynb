{
 "cells": [
  {
   "cell_type": "markdown",
   "id": "027a6693-2c08-4b03-95cc-d3370c9f3677",
   "metadata": {},
   "source": [
    "#### Aprendizado de máquina - Análise da expressão genica da derme, com ênfase em estudos forenses"
   ]
  },
  {
   "cell_type": "markdown",
   "id": "a7f58836-c1f1-4084-84bd-c4483e8e821e",
   "metadata": {},
   "source": [
    "# Bloco 2"
   ]
  },
  {
   "cell_type": "markdown",
   "id": "f4491136-68f6-44bf-8aa8-59072da45881",
   "metadata": {},
   "source": [
    "- **O propóstio desse notebook é ajudar o próprio grupo com nossa organização e com algumas notas relevantes, portanto não deve ser considerada como métrica direta de nosso progresso e entendimento do conteúdo, uma vez que a maior parte do nosso trabalho está sendo executado no notebook *\"B2 - Oficial - Aplicação de Métodos - Atualização FINAL\"***\n",
    "\n",
    "- Fazer com que os notebooks nesse bloco sejam executáveis em qualquer ordem\n",
    "- **A todos os membros do grupo:** Avisar antes de alterar qualquer documento relacionado ao projeto \n",
    "- Utilizar o módulo `scikit-learn`"
   ]
  },
  {
   "cell_type": "markdown",
   "id": "fe8460d4-209a-431a-bd8a-f0871f7b89e2",
   "metadata": {},
   "source": [
    "### Diário de bordo do líder e anotações relevantes:\n",
    "#### Discussões e acontecimentos da primeira semana (dia 30/08/2022):"
   ]
  },
  {
   "cell_type": "markdown",
   "id": "faa5c461-c17d-4c32-a34b-a2bd454da28c",
   "metadata": {},
   "source": [
    "- Foi discutida e montada uma dinâmica de duplas dentre o grupo, para que as tarefas estipuladas pelo documeto a serem trabalhadas no bloco sejam cumpridas de forma mais eficiente e rápida. Sendo inicialmente: Artur e Vitor, Débora e Pedro Zanineli. Porém nada conclusivo.\n",
    "\n",
    "- Durante a aula expositiva, muitas funções úteis foram apresentadas e códigos explicados, obviamente, os métodos irão variar de projeto a projeto, de acordo com o conjunto de dados com quais estaremos trabalhando. **Os notebooks apresentados doram disponibilizados no Moodle, checá-los com frequência para relembrar funções e testar novas**.\n",
    "\n",
    "- Para treinarmos os modelos, devemos simplificar o sistema, buscando apenas os valores numéricos. Para auxiliar, podemos utilizar o `scikit-learn` **(checar o notebook \"*b2a1.2 - baseline e modelo linear*\")**.\n",
    "\n",
    "- **Sempre testar e guardar o modelo linear dos dados**, pois mesmo que simples, pode ser muito eficaz e muitas vezes preciso.\n",
    "\n",
    "- Fomos capazes de concluir a primeira das tarefas do segundo bloco (Treino, teste e baseline), utilizando dois datasets, um com os dados obtidos no bloco passado, selecionados a partir dos principais genes com elevados valores de expressão gênica (que ainda não estávamos certos a respeito da precisão); e outro com os genes encontrados na literatura, dos quais tínhamos certeza de que sua expressão era alterada conforme a idade.\n",
    "\n",
    "- Para/na próxima semana, partiremos para a tarefa 2, sobre **\"*k* vizinhos mais próximos\"**. "
   ]
  },
  {
   "cell_type": "markdown",
   "id": "139dc403-2216-472a-bf57-2ebcf4d6da26",
   "metadata": {},
   "source": [
    "#### Discussões e acontecimentos da segunda semana (dia 13/09/2022):"
   ]
  },
  {
   "cell_type": "markdown",
   "id": "e9172f32-8bd4-43a7-b0cf-9ad766a69735",
   "metadata": {},
   "source": [
    "- Demos início à aula expositiva com uma introdução às **Árvores de decisão**, que poderá ser um dos médotos de treinamento e testagem que poderemos implementar ao nosso projeto. (checar o notebook **\"*b2a2.1 - arvore de decisao*\"**)\n",
    "\n",
    "    - As ***seeds*** são de extrema importância, uma vez que garantem a reprodutividade do experimento, um requerimento essencial para o processo do fazer científico.\n",
    "\n",
    "    - Outros aspectos e conceitos como dados ordinais e hiperperâmetros devem ser compreendidos com clareza para que o dataset utilizado tenha seus dados interpretados corretamente para que um teste apropriado pudesse ser feito.\n",
    "\n",
    "- Em seguida, nos foi apresentado o conceito de **Florestas aleatórias** (checar o notebook **\"*b2a2.2 - floresta aleatoria*\"**);\n",
    "\n",
    "    - Se trata de um modelo muito poderoso e preciso na atualidade, entretanto, demanda um alto custo computacional.\n",
    "    \n",
    "    - *\"Caso montarmos um comitê (ensemble) contendo diversas árvores de decisão onde cada uma realiza sua previsão individual; podemos considerar que cada uma dessas previsões são “votos” e considerando todos os votos nós podemos chegar em uma resposta final.\"*"
   ]
  },
  {
   "cell_type": "code",
   "execution_count": null,
   "id": "a88f1c1a-20b9-4ce4-8ac1-90dcfe9c1be2",
   "metadata": {},
   "outputs": [],
   "source": []
  }
 ],
 "metadata": {
  "kernelspec": {
   "display_name": "ilumpy",
   "language": "python",
   "name": "ilumpy"
  },
  "language_info": {
   "codemirror_mode": {
    "name": "ipython",
    "version": 3
   },
   "file_extension": ".py",
   "mimetype": "text/x-python",
   "name": "python",
   "nbconvert_exporter": "python",
   "pygments_lexer": "ipython3",
   "version": "3.9.7"
  }
 },
 "nbformat": 4,
 "nbformat_minor": 5
}
