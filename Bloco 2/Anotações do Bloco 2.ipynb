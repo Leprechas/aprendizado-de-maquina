{
 "cells": [
  {
   "cell_type": "markdown",
   "id": "027a6693-2c08-4b03-95cc-d3370c9f3677",
   "metadata": {},
   "source": [
    "#### Aprendizado de máquina - Análise da expressão genica da derme, com ênfase em estudos forenses"
   ]
  },
  {
   "cell_type": "markdown",
   "id": "a7f58836-c1f1-4084-84bd-c4483e8e821e",
   "metadata": {},
   "source": [
    "# Bloco 2"
   ]
  },
  {
   "cell_type": "markdown",
   "id": "f4491136-68f6-44bf-8aa8-59072da45881",
   "metadata": {},
   "source": [
    "- Fazer com que os notebooks nesse bloco sejam executáveis em qualquer ordem\n",
    "- **A todos os membros do grupo:** Avisar antes de alterar qualquer documento relacionado ao projeto \n",
    "- Utilizar o módulo `scikit-learn`"
   ]
  },
  {
   "cell_type": "markdown",
   "id": "fe8460d4-209a-431a-bd8a-f0871f7b89e2",
   "metadata": {},
   "source": [
    "### Diário de bordo do líder:\n",
    "#### Discussões e acontecimentos da primeira semana (dia 30/08/2022):"
   ]
  },
  {
   "cell_type": "markdown",
   "id": "faa5c461-c17d-4c32-a34b-a2bd454da28c",
   "metadata": {},
   "source": [
    "- Foi discutida e montada uma dinâmica de duplas dentre o grupo, para que as tarefas estipuladas pelo documeto a serem trabalhadas no bloco sejam cumpridas de forma mais eficiente e rápida. Sendo inicialmente: Artur e Vitor, Débora e Pedro Zanineli. Porém nada conclusivo.\n",
    "\n",
    "- Durante a aula expositiva, muitas funções úteis foram apresentadas e códigos explicados, obviamente, os métodos irão variar de projeto a projeto, de acordo com o conjunto de dados com quais estaremos trabalhando. **Os notebooks apresentados doram disponibilizados no Moodle, checá-los com frequência para relembrar funções e testar novas**.\n",
    "\n",
    "- Para treinarmos os modelos, devemos simplificar o sistema, buscando apenas os valores numéricos. Para auxiliar, podemos utilizar o `scikit-learn` **(checar o notebook \"*b2a1.2 - baseline e modelo linear*\")**.\n",
    "\n",
    "- **Sempre testar e guardar o modelo linear dos dados**, pois mesmo que simples, pode ser muito eficaz e muitas vezes preciso.\n",
    "\n",
    "- Fomos capazes de concluir a primeira das tarefas do segundo bloco (Treino, teste e baseline), utilizando dois datasets, um com os dados obtidos no bloco passado, selecionados a partir dos principais genes com elevados valores de expressão gênica (que ainda não estávamos certos a respeito da precisão); e outro com os genes encontrados na literatura, dos quais tínhamos certeza de que sua expressão era alterada conforme a idade.\n",
    "\n",
    "- Para/na próxima semana, partiremos para a tarefa 2, sobre **\"*k* vizinhos mais próximos\"**. "
   ]
  },
  {
   "cell_type": "code",
   "execution_count": null,
   "id": "191a9937-9171-47df-ad7c-1d7089bcb287",
   "metadata": {},
   "outputs": [],
   "source": []
  }
 ],
 "metadata": {
  "kernelspec": {
   "display_name": "ilumpy",
   "language": "python",
   "name": "ilumpy"
  },
  "language_info": {
   "codemirror_mode": {
    "name": "ipython",
    "version": 3
   },
   "file_extension": ".py",
   "mimetype": "text/x-python",
   "name": "python",
   "nbconvert_exporter": "python",
   "pygments_lexer": "ipython3",
   "version": "3.9.7"
  }
 },
 "nbformat": 4,
 "nbformat_minor": 5
}
