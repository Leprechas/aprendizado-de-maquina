{
 "cells": [
  {
   "cell_type": "markdown",
   "id": "37252307-20eb-41b2-960d-3b0a9cadc347",
   "metadata": {},
   "source": [
    "## Bloco 2 - aprendizado de máquina\n",
    "\n",
    "1. [Treino, teste e baseline](#treino)\n",
    "2. [k vizinhos mais próximos (k-NN)](#vizinhos)\n",
    "3. [Regressão linear](#linear)\n",
    "4. [Árvore de decisão](#decisao)\n",
    "5. [Floresta aleatória](#floresta)\n",
    "6. [Comparando os desempenhos dos modelos de regressão](#comparacao)\n",
    "7. [Classificação](#class)\n",
    "\n",
    "---"
   ]
  },
  {
   "cell_type": "markdown",
   "id": "1c95936d-b9eb-49d7-82f4-3d5857b28a67",
   "metadata": {},
   "source": [
    "### <a id=\"treino\">Tarefa 1 - Treino, teste e baseline"
   ]
  },
  {
   "cell_type": "markdown",
   "id": "8f747eec-c842-46e0-80b8-83a9bb9cb16c",
   "metadata": {},
   "source": [
    "Importando os dados dos arquivos:"
   ]
  },
  {
   "cell_type": "code",
   "execution_count": 1,
   "id": "9ea90edd-122a-4760-a407-c9790cb2740f",
   "metadata": {},
   "outputs": [],
   "source": [
    "# Importando as bibliotecas e módulos a serem utilizados para a realização do treino, teste e baseline\n",
    "import numpy as np\n",
    "import matplotlib.pyplot as plt\n",
    "import seaborn as sns\n",
    "import pandas as pd\n",
    "from sklearn.pipeline import Pipeline\n",
    "from sklearn.preprocessing import PolynomialFeatures\n",
    "from sklearn.linear_model import LinearRegression"
   ]
  },
  {
   "cell_type": "code",
   "execution_count": 2,
   "id": "0e811130-9939-40c8-a1f6-fb017f7b2fd0",
   "metadata": {
    "tags": []
   },
   "outputs": [],
   "source": [
    "df_data = pd.read_csv('data.csv') #Importando o dataframe do arquivo \"data.csv\" (o arquivo sem os dados do artigo)\n",
    "df_data = df_data.drop(\"Unnamed: 0\",axis=1)"
   ]
  },
  {
   "cell_type": "code",
   "execution_count": 3,
   "id": "55ba298e-c63c-438f-a848-89cc9352db3c",
   "metadata": {
    "tags": []
   },
   "outputs": [],
   "source": [
    "df_data_art = pd.read_csv('data_artigo.csv') #Importando o dataframe do arquivo \"data_artigo.csv\"\n",
    "df_data_art = df_data_art.drop(\"Unnamed: 0\",axis=1)"
   ]
  },
  {
   "cell_type": "code",
   "execution_count": 4,
   "id": "1945a23d-08f4-47c5-a756-73cf329f79a8",
   "metadata": {},
   "outputs": [],
   "source": [
    "# Substituindo os intervalos dos valores das idades para a média, a fim de obter os dados em valores numéricos - para o \"data.csv\"\n",
    "df_data['Idade']=df_data['Idade'].replace('20-29',int(25))\n",
    "df_data['Idade']=df_data['Idade'].replace('30-39',int(35))\n",
    "df_data['Idade']=df_data['Idade'].replace('40-49',int(45))\n",
    "df_data['Idade']=df_data['Idade'].replace('50-59',int(55))\n",
    "df_data['Idade']=df_data['Idade'].replace('60-69',int(65))\n",
    "df_data['Idade']=df_data['Idade'].replace('70-79',int(75))"
   ]
  },
  {
   "cell_type": "code",
   "execution_count": 5,
   "id": "b4d66675-8b36-4a58-939d-02cf4f048156",
   "metadata": {},
   "outputs": [],
   "source": [
    "# Substituindo os intervalos dos valores das idades para a média, a fim de obter os dados em valores numéricos - para o \"data_artigo.csv\"\n",
    "df_data_art['Idade']=df_data_art['Idade'].replace('20-29',int(25))\n",
    "df_data_art['Idade']=df_data_art['Idade'].replace('30-39',int(35))\n",
    "df_data_art['Idade']=df_data_art['Idade'].replace('40-49',int(45))\n",
    "df_data_art['Idade']=df_data_art['Idade'].replace('50-59',int(55))\n",
    "df_data_art['Idade']=df_data_art['Idade'].replace('60-69',int(65))\n",
    "df_data_art['Idade']=df_data_art['Idade'].replace('70-79',int(75))"
   ]
  },
  {
   "cell_type": "markdown",
   "id": "0a35e864-1be9-4c40-aa04-1da1654e20c1",
   "metadata": {},
   "source": [
    "#### Dividindo o dataset em treino e teste"
   ]
  },
  {
   "cell_type": "code",
   "execution_count": 6,
   "id": "76757cd6-703a-4490-8387-728693493980",
   "metadata": {
    "tags": []
   },
   "outputs": [],
   "source": [
    "# Para o dataframe do \"data.csv\"\n",
    "from sklearn.model_selection import train_test_split\n",
    "\n",
    "TAMANHO_TESTE = 10\n",
    "\n",
    "indices = df_data.index\n",
    "indices_treino, indices_teste = train_test_split(\n",
    "    indices, test_size=TAMANHO_TESTE\n",
    ")\n",
    "\n",
    "df_treino = df_data.loc[indices_treino]\n",
    "df_teste = df_data.loc[indices_teste]"
   ]
  },
  {
   "cell_type": "code",
   "execution_count": 7,
   "id": "23dc7d1a-5f51-4f27-82ec-011a6b0fa122",
   "metadata": {
    "tags": []
   },
   "outputs": [],
   "source": [
    "# Para o dataframe do \"data_artigo.csv\"\n",
    "from sklearn.model_selection import train_test_split\n",
    "\n",
    "TAMANHO_TESTE_art = 10\n",
    "\n",
    "indices_art = df_data_art.index\n",
    "indices_treino_art, indices_teste_art = train_test_split(\n",
    "    indices_art, test_size=TAMANHO_TESTE_art\n",
    ")\n",
    "\n",
    "df_art_treino = df_data_art.loc[indices_treino_art]\n",
    "df_art_teste = df_data_art.loc[indices_teste_art]"
   ]
  },
  {
   "cell_type": "markdown",
   "id": "0701dccd-c7a0-4215-9bd9-cbddca44906e",
   "metadata": {},
   "source": [
    "--- "
   ]
  },
  {
   "cell_type": "markdown",
   "id": "4dadcdf7-78b2-49da-8ab7-9736ad86c990",
   "metadata": {},
   "source": [
    "#### Criando o modelo preditivo de base (baseline)"
   ]
  },
  {
   "cell_type": "markdown",
   "id": "f0bcee34-35f5-4c2f-a4f7-bcf3b721589e",
   "metadata": {},
   "source": [
    "- Para o dataframe do arquivo ***\"data.csv\"***:"
   ]
  },
  {
   "cell_type": "code",
   "execution_count": 8,
   "id": "c9aa408b-6120-4e91-b754-4f067d316a66",
   "metadata": {},
   "outputs": [
    {
     "data": {
      "text/plain": [
       "array(['Amostra', 'Sexo', 'Categoria Idade', 'Idade', 'URM1', 'TRAPPC3',\n",
       "       'GTF3C5', 'USP4', 'SCYL1', 'MLF2', 'DGCR14', 'ARAF', 'TCF25',\n",
       "       'HDAC3', 'RTFDC1', 'MTMR14', 'MANBAL', 'MRPL9', 'GPS1', 'GTF2F1',\n",
       "       'SMPD4', 'NRBP1', 'DNAJB12', 'SUPT5H'], dtype=object)"
      ]
     },
     "execution_count": 8,
     "metadata": {},
     "output_type": "execute_result"
    }
   ],
   "source": [
    "df_data.columns.values"
   ]
  },
  {
   "cell_type": "markdown",
   "id": "05edf5fb-ee17-4515-aad3-c1c141a533bc",
   "metadata": {},
   "source": [
    "> Queremos apenas os genes como features, então selecionaremos da quarta coluna para frente"
   ]
  },
  {
   "cell_type": "code",
   "execution_count": 9,
   "id": "0a087370-c570-4107-ad6c-379c0dc224fb",
   "metadata": {},
   "outputs": [],
   "source": [
    "TAMANHO_TESTE = 10\n",
    "SEMENTE_ALEATORIA = 666\n",
    "FEATURES = df_data.columns.values[4:]\n",
    "TARGET = [\"Idade\"]\n",
    "\n",
    "indices_data = df_data.index\n",
    "indices_treino_data, indices_teste_data = train_test_split(\n",
    "    indices_data, test_size=TAMANHO_TESTE, random_state=SEMENTE_ALEATORIA\n",
    ")\n",
    "\n",
    "df_treino_data = df_data.loc[indices_treino_data]\n",
    "df_teste_data = df_data.loc[indices_teste_data]\n",
    "\n",
    "# observe que usamos o .values aqui pois queremos apenas os valores\n",
    "X_treino_data = df_treino_data.reindex(FEATURES, axis=1).values\n",
    "y_treino_data = df_treino_data.reindex(TARGET, axis=1).values\n",
    "X_teste_data = df_teste_data.reindex(FEATURES, axis=1).values\n",
    "y_teste_data = df_teste_data.reindex(TARGET, axis=1).values"
   ]
  },
  {
   "cell_type": "markdown",
   "id": "9beb402b-16d2-402d-a432-1c2c5886ac85",
   "metadata": {},
   "source": [
    "Treinando o modelo:"
   ]
  },
  {
   "cell_type": "code",
   "execution_count": 10,
   "id": "9f274dd1-505a-4302-a5c9-61b9da564d79",
   "metadata": {},
   "outputs": [
    {
     "name": "stdout",
     "output_type": "stream",
     "text": [
      "[51.4 51.4 51.4 51.4 51.4 51.4 51.4 51.4 51.4 51.4]\n"
     ]
    }
   ],
   "source": [
    "from sklearn.dummy import DummyRegressor\n",
    "\n",
    "# Criando o modelo\n",
    "modelo_baseline = DummyRegressor()\n",
    "\n",
    "# Treinando o modelo\n",
    "modelo_baseline.fit(X_treino_data, y_treino_data)\n",
    "\n",
    "# realiza uma previsão usando o modelo treinado\n",
    "previsao = modelo_baseline.predict(X_teste_data)\n",
    "print(previsao)"
   ]
  },
  {
   "cell_type": "markdown",
   "id": "88e71d9e-e910-4e86-b3b6-965e0797af9b",
   "metadata": {},
   "source": [
    "####"
   ]
  },
  {
   "cell_type": "markdown",
   "id": "1dd5f304-65ef-45d9-afd4-e301f5db6d47",
   "metadata": {},
   "source": [
    "- Para o dataframe do arquivo ***\"data_artigo.csv\"***:"
   ]
  },
  {
   "cell_type": "code",
   "execution_count": 11,
   "id": "8092af7c-05e1-43b7-943f-88246363002a",
   "metadata": {},
   "outputs": [
    {
     "data": {
      "text/plain": [
       "array(['Amostra', 'Sexo', 'Categoria Idade', 'Idade', 'MMP1', 'MMP3',\n",
       "       'MMP9', 'MMP11', 'MMP24', 'MMP27', 'BARD1', 'BCL7C', 'CLPTM1L',\n",
       "       'TERT', 'CDKN1A'], dtype=object)"
      ]
     },
     "execution_count": 11,
     "metadata": {},
     "output_type": "execute_result"
    }
   ],
   "source": [
    "df_data_art.columns.values"
   ]
  },
  {
   "cell_type": "markdown",
   "id": "21b7885b-c53e-42f6-83f4-9c68930bda9e",
   "metadata": {},
   "source": [
    "> Novamente, apenas desejamos os genes como as features, então trabalharemos a partir da quarta coluna para frente"
   ]
  },
  {
   "cell_type": "code",
   "execution_count": 12,
   "id": "687e7f0c-0dd6-46d6-a4c2-b1695a7b4cbb",
   "metadata": {},
   "outputs": [],
   "source": [
    "TAMANHO_TESTE_art = 10\n",
    "SEMENTE_ALEATORIA_art = 777\n",
    "FEATURES_art = df_data_art.columns.values[4:]\n",
    "TARGET_art = [\"Idade\"]\n",
    "\n",
    "indices_data_art = df_data_art.index\n",
    "indices_treino_data_art, indices_teste_data_art = train_test_split(\n",
    "    indices_data_art, test_size=TAMANHO_TESTE_art, random_state=SEMENTE_ALEATORIA_art\n",
    ")\n",
    "\n",
    "df_treino_data_art = df_data_art.loc[indices_treino_data_art]\n",
    "df_teste_data_art = df_data_art.loc[indices_teste_data_art]\n",
    "\n",
    "# observe que usamos o .values aqui pois queremos apenas os valores\n",
    "X_treino_data_art = df_treino_data_art.reindex(FEATURES_art, axis=1).values\n",
    "y_treino_data_art = df_treino_data_art.reindex(TARGET_art, axis=1).values\n",
    "X_teste_data_art = df_teste_data_art.reindex(FEATURES_art, axis=1).values\n",
    "y_teste_data_art = df_teste_data_art.reindex(TARGET_art, axis=1).values"
   ]
  },
  {
   "cell_type": "markdown",
   "id": "f8e2fdd9-1e95-4b79-9841-5b2def87b51e",
   "metadata": {},
   "source": [
    "Treinando o modelo (para o ***data_artigo.csv***):"
   ]
  },
  {
   "cell_type": "code",
   "execution_count": 13,
   "id": "7bab03a1-fa36-4fec-a2af-eebe174d9cf5",
   "metadata": {},
   "outputs": [
    {
     "name": "stdout",
     "output_type": "stream",
     "text": [
      "[51.1 51.1 51.1 51.1 51.1 51.1 51.1 51.1 51.1 51.1]\n"
     ]
    }
   ],
   "source": [
    "from sklearn.dummy import DummyRegressor\n",
    "\n",
    "# Criando o modelo\n",
    "modelo_baseline_art = DummyRegressor()\n",
    "\n",
    "# Treinando o modelo\n",
    "modelo_baseline_art.fit(X_treino_data_art, y_treino_data_art)\n",
    "\n",
    "# realiza uma previsão usando o modelo treinado\n",
    "previsao_art = modelo_baseline_art.predict(X_teste_data_art)\n",
    "print(previsao_art)"
   ]
  },
  {
   "cell_type": "markdown",
   "id": "1faf3113-f4c7-44ef-af9b-a5cf303e1090",
   "metadata": {},
   "source": [
    "###"
   ]
  },
  {
   "cell_type": "markdown",
   "id": "6e84afab-c40d-4c86-af73-9be7e342b8f7",
   "metadata": {},
   "source": [
    "Agora, precisamos testar se o nosso modelo realmente é bom, e para isso, precisamos utilizar métricas - a raiz quadrada do erro quadrático médio (RMSE, root mean squared error) é um bom método"
   ]
  },
  {
   "cell_type": "markdown",
   "id": "60784de8-87ae-415a-a5b6-e7f93797c260",
   "metadata": {},
   "source": [
    "- Testando para o dataframe do arquivo ***\"data.csv\"***:"
   ]
  },
  {
   "cell_type": "code",
   "execution_count": 14,
   "id": "93c84a88-866f-4b32-b861-09e3b1a84f1a",
   "metadata": {},
   "outputs": [
    {
     "name": "stdout",
     "output_type": "stream",
     "text": [
      "O RMSE do modelo baseline foi de 14.579437574886077 anos.\n"
     ]
    },
    {
     "data": {
      "image/png": "[encoded data removed]",
      "text/plain": [
       "<Figure size 432x288 with 1 Axes>"
      ]
     },
     "metadata": {
      "needs_background": "light"
     },
     "output_type": "display_data"
    }
   ],
   "source": [
    "from sklearn.metrics import mean_squared_error\n",
    "\n",
    "y_verdadeiro = y_teste_data\n",
    "y_previsao = modelo_baseline.predict(X_teste_data)\n",
    "\n",
    "RMSE = mean_squared_error(y_verdadeiro, y_previsao, squared=False)\n",
    "\n",
    "print(f\"O RMSE do modelo baseline foi de {RMSE} anos.\")\n",
    "\n",
    "fig, ax = plt.subplots()\n",
    "ax.scatter(y_verdadeiro, y_previsao)\n",
    "ax.plot([y_verdadeiro.min(), y_verdadeiro.max()], [y_verdadeiro.min(), y_verdadeiro.max()], 'k--', lw=4)\n",
    "ax.set_xlabel('Valor real')\n",
    "ax.set_ylabel('Previsão')\n",
    "plt.show()"
   ]
  },
  {
   "cell_type": "markdown",
   "id": "a6099859-93e3-4acf-8f7f-d24df8215cfb",
   "metadata": {},
   "source": [
    "- Testando para o dataframe do arquivo ***\"data_artigo.csv\"***:"
   ]
  },
  {
   "cell_type": "code",
   "execution_count": 15,
   "id": "4329089e-c8c2-473f-8875-3be958a58831",
   "metadata": {},
   "outputs": [
    {
     "name": "stdout",
     "output_type": "stream",
     "text": [
      "O RMSE do modelo baseline foi de 10.205880657738458 anos.\n"
     ]
    }
   ],
   "source": [
    "y_verdadeiro_art = y_teste_data_art\n",
    "y_previsao_art = modelo_baseline.predict(X_teste_data_art)\n",
    "\n",
    "RMSE_art = mean_squared_error(y_verdadeiro_art, y_previsao_art, squared=False)\n",
    "\n",
    "print(f\"O RMSE do modelo baseline foi de {RMSE_art} anos.\")"
   ]
  },
  {
   "cell_type": "code",
   "execution_count": 16,
   "id": "c8806d26-4914-4c1b-bfee-3dcf60f7ea37",
   "metadata": {},
   "outputs": [
    {
     "data": {
      "image/png": "[encoded data removed]",
      "text/plain": [
       "<Figure size 432x288 with 1 Axes>"
      ]
     },
     "metadata": {
      "needs_background": "light"
     },
     "output_type": "display_data"
    }
   ],
   "source": [
    "ig, ax = plt.subplots()\n",
    "ax.scatter(y_verdadeiro_art, y_previsao_art)\n",
    "ax.plot([y_verdadeiro_art.min(), y_verdadeiro_art.max()], [y_verdadeiro_art.min(), y_verdadeiro_art.max()], 'k--', lw=4)\n",
    "ax.set_xlabel('Valor real')\n",
    "ax.set_ylabel('Previsão')\n",
    "plt.show()"
   ]
  },
  {
   "cell_type": "markdown",
   "id": "91719377-46b8-4a33-bc17-621794b33084",
   "metadata": {},
   "source": [
    "---"
   ]
  },
  {
   "cell_type": "markdown",
   "id": "4fd6fde4-627c-4262-88ae-da6d6f50701e",
   "metadata": {},
   "source": [
    "### <a id=\"vizinhos\">Tarefa 2 - k vizinhos mais próximos (k-NN)\n"
   ]
  },
  {
   "cell_type": "code",
   "execution_count": 17,
   "id": "e6468778-853a-4270-81de-b6818cd0d0a5",
   "metadata": {},
   "outputs": [],
   "source": [
    "# Relembrando o nome das variáveis do data.csv\n",
    "# observe que usamos o .values aqui, pois queremos apenas os valores\n",
    "# X_treino_data = df_treino_data.reindex(FEATURES, axis=1).values\n",
    "# y_treino_data = df_treino_data.reindex(TARGET, axis=1).values\n",
    "# X_teste_data = df_teste_data.reindex(FEATURES, axis=1).values\n",
    "# y_teste_data = df_teste_data.reindex(TARGET, axis=1).values\n",
    "\n",
    "# Relembrando o nome das variáveis do data.art.cvs\n",
    "# observe que usamos o .values aqui, pois queremos apenas os valores\n",
    "# X_treino_data_art = df_treino_data_art.reindex(FEATURES_art, axis=1).values\n",
    "# y_treino_data_art = df_treino_data_art.reindex(TARGET_art, axis=1).values\n",
    "# X_teste_data_art = df_teste_data_art.reindex(FEATURES_art, axis=1).values\n",
    "# y_teste_data_art = df_teste_data_art.reindex(TARGET_art, axis=1).values"
   ]
  },
  {
   "cell_type": "markdown",
   "id": "84676e01-af41-40ff-a652-0851ddb04f05",
   "metadata": {},
   "source": [
    "Proponho seguirmos a mesma ordem de raciocínio utilizada nos itens anteriores; \n",
    "\n",
    "1- Treinar;\n",
    "\n",
    "2- Testar e produzir o RMSE para ver se é um bom método;\n",
    "\n",
    "3- Determinando a quantidade ideal de vizinhos (Testando os Hiperparâmetros);\n",
    "\n",
    "4- Posteriormente comparar entre os dataframes (data.csv e data_artigo.csv);\n",
    "\n",
    "5- Comparar o RMSE do K-NN com o dos outros modelos; (posteriormente);"
   ]
  },
  {
   "cell_type": "markdown",
   "id": "4c7f58eb-2125-4d46-84fb-9e374257fd57",
   "metadata": {},
   "source": [
    "- 1 - Treinando o K-NN para o dataframe do arquivo ***\"data.csv\"***;"
   ]
  },
  {
   "cell_type": "code",
   "execution_count": 18,
   "id": "29323bf3-948a-4502-9019-7ae0669f9e88",
   "metadata": {},
   "outputs": [
    {
     "name": "stdout",
     "output_type": "stream",
     "text": [
      "[[45.]\n",
      " [47.]\n",
      " [59.]\n",
      " [47.]\n",
      " [49.]\n",
      " [51.]\n",
      " [53.]\n",
      " [57.]\n",
      " [53.]\n",
      " [53.]]\n"
     ]
    }
   ],
   "source": [
    "from sklearn.neighbors import KNeighborsRegressor\n",
    "\n",
    "# cria o modelo\n",
    "modelo_knn = KNeighborsRegressor()\n",
    "\n",
    "# treina o modelo\n",
    "modelo_knn.fit(X_treino_data, y_treino_data)\n",
    "\n",
    "# realiza uma previsão usando o modelo treinado\n",
    "previsao = modelo_knn.predict(X_teste_data)\n",
    "print(previsao)"
   ]
  },
  {
   "cell_type": "markdown",
   "id": "315dee98-96e1-4a2b-828c-9fde4f1b6941",
   "metadata": {},
   "source": [
    "- 2 - Testando o K-NN para o dataframe do arquivo ***\"data.csv\"***;"
   ]
  },
  {
   "cell_type": "code",
   "execution_count": 19,
   "id": "51a4206d-d5ff-494c-bdee-a9a1c3bbf01d",
   "metadata": {},
   "outputs": [
    {
     "name": "stdout",
     "output_type": "stream",
     "text": [
      "O RMSE do modelo k-NN foi de 13.6088206689632 anos.\n"
     ]
    }
   ],
   "source": [
    "from sklearn.metrics import mean_squared_error\n",
    "#aqui estamos testando o modelo produzindo uma previsão e medindo o RMSE da previsão\n",
    "y_verdadeiro1 = y_teste_data\n",
    "y_previsao1 = modelo_knn.predict(X_teste_data)\n",
    "\n",
    "RMSE = mean_squared_error(y_verdadeiro1, y_previsao1, squared=False)\n",
    "\n",
    "print(f\"O RMSE do modelo k-NN foi de {RMSE} anos.\")"
   ]
  },
  {
   "cell_type": "markdown",
   "id": "6c1d69ec-bbfe-4475-b597-2a875349e214",
   "metadata": {},
   "source": [
    "- 3- Determinando a quantidade ideal de vizinhos para o ***\"data.csv\"*** (Testando os Hiperparâmetros);"
   ]
  },
  {
   "cell_type": "code",
   "execution_count": 20,
   "id": "5232d901-6f8c-442f-b100-f06a4468cc36",
   "metadata": {},
   "outputs": [
    {
     "name": "stdout",
     "output_type": "stream",
     "text": [
      "O RMSE do modelo k-NN usando k=1 foi de 17.60681686165901 anos.\n",
      "O RMSE do modelo k-NN usando k=5 foi de 13.6088206689632 anos.\n",
      "O RMSE do modelo k-NN usando k=10 foi de 13.914021704740868 anos.\n",
      "O RMSE do modelo k-NN usando k=25 foi de 14.127986409959487 anos.\n",
      "O RMSE do modelo k-NN usando k=50 foi de 14.658512885009856 anos.\n",
      "O RMSE do modelo k-NN usando k=100 foi de 14.579437574886077 anos.\n"
     ]
    }
   ],
   "source": [
    "NUM_VIZINHOS = [1, 5, 10, 25, 50, 100]\n",
    "#Aqui vamos testar valores diferentes de k (além do padrão de 5), para ver qual seria o melhor número de vizinhos para produzir o melhor RMSE \n",
    "for n in NUM_VIZINHOS:\n",
    "    modelo_knn = KNeighborsRegressor(n_neighbors=n)\n",
    "\n",
    "    modelo_knn.fit(X_treino_data, y_treino_data)\n",
    "\n",
    "    y_verdadeiro1 = y_teste_data\n",
    "    y_previsao1 = modelo_knn.predict(X_teste_data)\n",
    "    RMSE = mean_squared_error(y_verdadeiro1, y_previsao1, squared=False)\n",
    "    print(f\"O RMSE do modelo k-NN usando k={n} foi de {RMSE} anos.\")"
   ]
  },
  {
   "cell_type": "markdown",
   "id": "8abc45e1-015c-4115-bfd4-f8cc130856c5",
   "metadata": {},
   "source": [
    "- 1 - Treinando o K-NN para o dataframe do arquivo ***\"data_artigo.csv\"***;"
   ]
  },
  {
   "cell_type": "code",
   "execution_count": 21,
   "id": "06fe51e4-73fa-4726-9974-7fcc86863449",
   "metadata": {},
   "outputs": [
    {
     "name": "stdout",
     "output_type": "stream",
     "text": [
      "[[51.]\n",
      " [57.]\n",
      " [53.]\n",
      " [55.]\n",
      " [51.]\n",
      " [53.]\n",
      " [55.]\n",
      " [43.]\n",
      " [49.]\n",
      " [51.]]\n"
     ]
    }
   ],
   "source": [
    "from sklearn.neighbors import KNeighborsRegressor\n",
    "\n",
    "# cria o modelo\n",
    "modelo_knn = KNeighborsRegressor()\n",
    "\n",
    "# treina o modelo\n",
    "modelo_knn.fit(X_treino_data_art, y_treino_data_art)\n",
    "\n",
    "# realiza uma previsão usando o modelo treinado\n",
    "previsao_art = modelo_knn.predict(X_teste_data_art)\n",
    "print(previsao_art)"
   ]
  },
  {
   "cell_type": "markdown",
   "id": "c786cc5f-2198-4b3c-8037-4cd17da01d45",
   "metadata": {},
   "source": [
    "- 2 - Testando o K-NN para o dataframe do arquivo ***\"data_artigo.csv\"***;"
   ]
  },
  {
   "cell_type": "code",
   "execution_count": 22,
   "id": "4719cbd9-71b4-45b9-8cef-f3e1d96c4237",
   "metadata": {},
   "outputs": [
    {
     "name": "stdout",
     "output_type": "stream",
     "text": [
      "O RMSE do modelo k-NN foi de 11.661903789690601 anos.\n"
     ]
    }
   ],
   "source": [
    "from sklearn.metrics import mean_squared_error\n",
    "#aqui estamos testando o modelo produzindo uma previsão e medindo o RMSE da previsão\n",
    "y_verdadeiro2 = y_teste_data_art\n",
    "y_previsao2 = modelo_knn.predict(X_teste_data_art)\n",
    "\n",
    "RMSE = mean_squared_error(y_verdadeiro2, y_previsao2, squared=False)\n",
    "\n",
    "print(f\"O RMSE do modelo k-NN foi de {RMSE} anos.\")"
   ]
  },
  {
   "cell_type": "markdown",
   "id": "ad81b2f1-6031-4523-8824-ef10b0289d25",
   "metadata": {},
   "source": [
    "- 3- Determinando a quantidade ideal de vizinhos para o ***\"data_artigo.csv\"*** (Testando os Hiperparâmetros);"
   ]
  },
  {
   "cell_type": "code",
   "execution_count": 23,
   "id": "a78f28d6-3183-4e10-a611-e4cd04a9e705",
   "metadata": {},
   "outputs": [
    {
     "name": "stdout",
     "output_type": "stream",
     "text": [
      "O RMSE do modelo k-NN usando k=1 foi de 12.24744871391589 anos.\n",
      "O RMSE do modelo k-NN usando k=5 foi de 11.661903789690601 anos.\n",
      "O RMSE do modelo k-NN usando k=10 foi de 10.620734437881403 anos.\n",
      "O RMSE do modelo k-NN usando k=25 foi de 10.080476179228837 anos.\n",
      "O RMSE do modelo k-NN usando k=50 foi de 10.250658515432068 anos.\n",
      "O RMSE do modelo k-NN usando k=100 foi de 10.198529305738155 anos.\n"
     ]
    }
   ],
   "source": [
    "NUM_VIZINHOS = [1, 5, 10, 25, 50, 100]\n",
    "#Aqui vamos testar valores diferentes de k (além do padrão de 5), para ver qual seria o melhor número de vizinhos para produzir o melhor RMSE \n",
    "for n in NUM_VIZINHOS:\n",
    "    modelo_knn = KNeighborsRegressor(n_neighbors=n)\n",
    "\n",
    "    modelo_knn.fit(X_treino_data_art, y_treino_data_art)\n",
    "\n",
    "    y_verdadeiro2 = y_teste_data_art\n",
    "    y_previsao2 = modelo_knn.predict(X_teste_data_art)\n",
    "    RMSE = mean_squared_error(y_verdadeiro2, y_previsao2, squared=False)\n",
    "    print(f\"O RMSE do modelo k-NN usando k={n} foi de {RMSE} anos.\")"
   ]
  },
  {
   "cell_type": "markdown",
   "id": "368511d1-0163-479a-b85b-22e943f53448",
   "metadata": {},
   "source": [
    "- 4- Posteriormente comparar entre os dataframes (data.csv e data_artigo.csv)\n",
    "\n",
    "A diferença entre os dataframes continua sendo baixa data.csv = 13.6 anos e o data_artivo.csv = 11.6 anos.\n",
    "\n",
    "O melhor número de vizinhos para data.csv = 5 e para o data_artivo.csv = 25 (considerando o melhor RMSE)."
   ]
  },
  {
   "cell_type": "markdown",
   "id": "706bc9fa-2b17-40f7-bec5-4ec6162c3819",
   "metadata": {},
   "source": [
    "---"
   ]
  },
  {
   "cell_type": "markdown",
   "id": "a87e7a68-8198-4236-8543-3beac449b1fe",
   "metadata": {},
   "source": [
    "### <a id=\"linear\">Tarefa 3 - Regressão Linear"
   ]
  },
  {
   "cell_type": "markdown",
   "id": "890e0968-9800-4606-861a-2acc232b43dd",
   "metadata": {},
   "source": [
    "#### Treinando um modelo linear para os datasets:"
   ]
  },
  {
   "cell_type": "markdown",
   "id": "ef8fb3e9-0760-4e4a-ba36-ef17694380ac",
   "metadata": {},
   "source": [
    "- Treinando para o dataframe do arquivo ***\"data.csv\"***: "
   ]
  },
  {
   "cell_type": "code",
   "execution_count": 24,
   "id": "28ca39d5-5104-45d2-ba82-4da74730cc01",
   "metadata": {},
   "outputs": [
    {
     "name": "stdout",
     "output_type": "stream",
     "text": [
      "[[48.93143127]\n",
      " [56.90916389]\n",
      " [56.84489212]\n",
      " [47.08586348]\n",
      " [44.34850338]\n",
      " [62.32849594]\n",
      " [49.72741549]\n",
      " [55.26228612]\n",
      " [52.32362282]\n",
      " [56.02821142]]\n"
     ]
    }
   ],
   "source": [
    "from sklearn.linear_model import LinearRegression\n",
    "\n",
    "# cria o modelo\n",
    "modelo_linear_data = LinearRegression()\n",
    "\n",
    "# treina o modelo\n",
    "modelo_linear_data.fit(X_treino_data, y_treino_data)\n",
    "\n",
    "# realiza uma previsão usando o modelo treinado\n",
    "previsao_data = modelo_linear_data.predict(X_teste_data)\n",
    "print(previsao_data)"
   ]
  },
  {
   "cell_type": "code",
   "execution_count": 25,
   "id": "fee97819-8886-4fde-9a57-d3b113fb0716",
   "metadata": {},
   "outputs": [
    {
     "name": "stdout",
     "output_type": "stream",
     "text": [
      "O RMSE do modelo linear foi de 17.661276151490007 anos\n"
     ]
    }
   ],
   "source": [
    "y_verdadeiro_data = y_teste_data\n",
    "y_previsao_data = modelo_linear_data.predict(X_teste_data)\n",
    "\n",
    "RMSE_data2 = mean_squared_error(y_verdadeiro_data, y_previsao_data, squared=False)\n",
    "\n",
    "print(f\"O RMSE do modelo linear foi de {RMSE_data2} anos\")"
   ]
  },
  {
   "cell_type": "code",
   "execution_count": 26,
   "id": "fa7c2973-8985-4b6a-a157-e7c5587fb630",
   "metadata": {},
   "outputs": [
    {
     "data": {
      "image/png": "[encoded data removed]",
      "text/plain": [
       "<Figure size 432x288 with 1 Axes>"
      ]
     },
     "metadata": {
      "needs_background": "light"
     },
     "output_type": "display_data"
    }
   ],
   "source": [
    "fig, ax = plt.subplots()\n",
    "ax.scatter(y_verdadeiro_data, y_previsao_data)\n",
    "ax.plot([y_verdadeiro_data.min(), y_verdadeiro_data.max()], [y_verdadeiro_data.min(), y_verdadeiro_data.max()], 'k--', lw=4)\n",
    "ax.set_xlabel('Valor real')\n",
    "ax.set_ylabel('Previsão')\n",
    "plt.show()"
   ]
  },
  {
   "cell_type": "markdown",
   "id": "d1bd196d-7a69-460e-8be0-141f19eb747d",
   "metadata": {},
   "source": [
    "> O valor de RMSE do caso linear (no caso dos genes identificados como relevantes no bloco anterior) foi maior do que aquele obtido a partir da previsão de baseline, ou seja, obtivemos uma piora na performance de predição. Normalmente, o RMSE do modelo linear demonstraria um valor menor em comparação ao valor de RMSE do modelo baseline, implicando em uma melhora, mas curiosamente, o caso oposto ocorreu. Isso pode ser por conta dos valores quais estamos trabalhando no o *dataset* escolhido. "
   ]
  },
  {
   "cell_type": "markdown",
   "id": "8a61de04-87f3-4e59-a37d-75e0320c4e4c",
   "metadata": {},
   "source": [
    "- Treinando para o dataframe do arquivo ***\"data_artigo.csv\"***: "
   ]
  },
  {
   "cell_type": "code",
   "execution_count": 27,
   "id": "c47251f8-3d82-4b26-b9ab-46dc515fe2b4",
   "metadata": {},
   "outputs": [
    {
     "name": "stdout",
     "output_type": "stream",
     "text": [
      "[[53.18572151]\n",
      " [55.83297402]\n",
      " [48.85973193]\n",
      " [48.68125273]\n",
      " [50.75135134]\n",
      " [51.18883681]\n",
      " [52.40139163]\n",
      " [49.50503731]\n",
      " [54.42263743]\n",
      " [51.47477938]]\n"
     ]
    }
   ],
   "source": [
    "# cria o modelo\n",
    "modelo_linear_art = LinearRegression()\n",
    "\n",
    "# treina o modelo\n",
    "modelo_linear_art.fit(X_treino_data_art, y_treino_data_art)\n",
    "\n",
    "# realiza uma previsão usando o modelo treinado\n",
    "previsao_art2 = modelo_linear_art.predict(X_teste_data_art)\n",
    "print(previsao_art2)"
   ]
  },
  {
   "cell_type": "code",
   "execution_count": 28,
   "id": "1b5b0f2a-713e-48a8-94ab-f295ec9cb5d4",
   "metadata": {},
   "outputs": [
    {
     "name": "stdout",
     "output_type": "stream",
     "text": [
      "O RMSE do modelo linear foi de 9.496874730058185 anos\n"
     ]
    }
   ],
   "source": [
    "y_verdadeiro_art2 = y_teste_data_art\n",
    "y_previsao_art2 = modelo_linear_art.predict(X_teste_data_art)\n",
    "\n",
    "RMSE_art2 = mean_squared_error(y_verdadeiro_art2, y_previsao_art2, squared=False)\n",
    "\n",
    "print(f\"O RMSE do modelo linear foi de {RMSE_art2} anos\")"
   ]
  },
  {
   "cell_type": "markdown",
   "id": "9156d56a-40a6-4981-abbf-ef2ece9c49d9",
   "metadata": {},
   "source": [
    "> Já nesse caso, obtivemos o resultado normalmente esperado, no qual um valor menor de RMSE foi observado no caso do modelo linear (9.496874730058186 anos), enquanto o RMSE do modelo baseline teve um valor maior (10.205880657738458 anos.). Portanto, no caso do dataset contendo os genes que possuem sua expressão modificada em função do tempo confirmadada de acordo com a literatura, o modelo linear se prova um pouco mais eficaz."
   ]
  },
  {
   "cell_type": "code",
   "execution_count": 29,
   "id": "12c058af-0e40-4901-8af3-679b3d398b15",
   "metadata": {},
   "outputs": [
    {
     "data": {
      "image/png": "[encoded data removed]",
      "text/plain": [
       "<Figure size 432x288 with 1 Axes>"
      ]
     },
     "metadata": {
      "needs_background": "light"
     },
     "output_type": "display_data"
    }
   ],
   "source": [
    "ig, ax = plt.subplots()\n",
    "ax.scatter(y_verdadeiro_art2, y_previsao_art2)\n",
    "ax.plot([y_verdadeiro_art2.min(), y_verdadeiro_art2.max()], [y_verdadeiro_art2.min(), y_verdadeiro_art2.max()], 'k--', lw=4)\n",
    "ax.set_xlabel('Valor real')\n",
    "ax.set_ylabel('Previsão')\n",
    "plt.show()"
   ]
  },
  {
   "cell_type": "markdown",
   "id": "c4f7f722-89a3-4cd2-8d61-020ec93c30ab",
   "metadata": {},
   "source": [
    "###\n",
    "#### Normalizando os dados\n",
    "Vamos utilizar a normalização pelo mínimo e máximo (função `MinMaxScaler`)."
   ]
  },
  {
   "cell_type": "markdown",
   "id": "399d4a23-22e5-4c47-91fa-3882d43f6330",
   "metadata": {},
   "source": [
    "- Para o dataframe do arquivo ***\"data.csv\"***: "
   ]
  },
  {
   "cell_type": "code",
   "execution_count": 30,
   "id": "cb4a5cca-1964-4fbf-87f0-adba42867f29",
   "metadata": {},
   "outputs": [
    {
     "data": {
      "text/plain": [
       "MinMaxScaler()"
      ]
     },
     "execution_count": 30,
     "metadata": {},
     "output_type": "execute_result"
    }
   ],
   "source": [
    "from sklearn.preprocessing import MinMaxScaler\n",
    "\n",
    "normalizador_x = MinMaxScaler()\n",
    "normalizador_y = MinMaxScaler()\n",
    "\n",
    "normalizador_x.fit(X_treino_data)\n",
    "normalizador_y.fit(y_treino_data)"
   ]
  },
  {
   "cell_type": "code",
   "execution_count": 31,
   "id": "8f1d707c-431b-47df-a26b-f23fa0ce21c4",
   "metadata": {
    "tags": []
   },
   "outputs": [
    {
     "name": "stdout",
     "output_type": "stream",
     "text": [
      "[[55.33348849]\n",
      " [50.56341882]\n",
      " [46.85602764]\n",
      " [57.26211348]\n",
      " [47.31902063]\n",
      " [47.33612646]\n",
      " [54.71777868]\n",
      " [53.25793546]\n",
      " [60.27077979]\n",
      " [48.40420482]\n",
      " [55.89909326]\n",
      " [54.98353248]\n",
      " [54.3637402 ]\n",
      " [42.73383143]\n",
      " [50.45913773]\n",
      " [60.82667746]\n",
      " [53.7005485 ]\n",
      " [51.96597024]\n",
      " [56.35267631]\n",
      " [48.78786749]\n",
      " [61.26684892]\n",
      " [65.49582325]\n",
      " [51.08207143]\n",
      " [51.74953087]\n",
      " [57.36052171]\n",
      " [54.34895764]\n",
      " [51.31097155]\n",
      " [48.48306834]\n",
      " [50.49108198]\n",
      " [55.27757938]\n",
      " [46.86223803]\n",
      " [46.00098949]\n",
      " [55.49998148]\n",
      " [57.14165369]\n",
      " [45.66165884]\n",
      " [39.89626961]\n",
      " [55.00079756]\n",
      " [50.67888828]\n",
      " [51.19272933]\n",
      " [56.42431445]\n",
      " [47.08498729]\n",
      " [44.7411305 ]\n",
      " [44.54086476]\n",
      " [51.82844299]\n",
      " [47.91670639]\n",
      " [45.76728397]\n",
      " [51.83031631]\n",
      " [55.4488751 ]\n",
      " [50.33742961]\n",
      " [46.59875638]\n",
      " [49.07081977]\n",
      " [60.34143641]\n",
      " [47.90615939]\n",
      " [50.38411925]\n",
      " [43.92608637]\n",
      " [56.96287225]\n",
      " [61.1623197 ]\n",
      " [49.05882292]\n",
      " [58.14725778]\n",
      " [47.59226519]\n",
      " [50.97587996]\n",
      " [50.28960122]\n",
      " [48.2543825 ]\n",
      " [53.66408921]\n",
      " [60.25552623]\n",
      " [49.17444948]\n",
      " [46.06349765]\n",
      " [51.66678494]\n",
      " [57.85769041]\n",
      " [58.41331729]\n",
      " [48.19903699]\n",
      " [43.38145067]\n",
      " [51.44903007]\n",
      " [41.13307057]\n",
      " [46.86357923]\n",
      " [52.21100223]\n",
      " [57.63160046]\n",
      " [55.6457134 ]\n",
      " [56.23714913]\n",
      " [59.23939811]\n",
      " [49.45766905]\n",
      " [47.44944087]\n",
      " [50.33756256]\n",
      " [28.89109734]\n",
      " [48.24533275]\n",
      " [59.6762551 ]\n",
      " [49.85155818]\n",
      " [50.83749602]\n",
      " [55.1316205 ]\n",
      " [52.45508389]\n",
      " [46.15795534]\n",
      " [57.25843215]\n",
      " [51.07856508]\n",
      " [53.34973449]\n",
      " [51.89849054]\n",
      " [48.6365044 ]\n",
      " [47.05755301]\n",
      " [44.31995708]\n",
      " [55.37024721]\n",
      " [40.66629715]]\n"
     ]
    }
   ],
   "source": [
    "# Ajustando o modelo:\n",
    "\n",
    "from sklearn.linear_model import LinearRegression\n",
    "\n",
    "# cria o modelo\n",
    "modelo_linear_dn = LinearRegression()\n",
    "\n",
    "# treina o modelo\n",
    "modelo_linear_dn.fit(\n",
    "    normalizador_x.transform(X_treino_data),\n",
    "    normalizador_y.transform(y_treino_data),\n",
    ")\n",
    "\n",
    "# realiza uma previsão usando o modelo treinado\n",
    "previsao1 = modelo_linear_dn.predict(normalizador_x.transform(X_treino_data))\n",
    "previsao1 = normalizador_y.inverse_transform(previsao1)\n",
    "print(previsao1)"
   ]
  },
  {
   "cell_type": "code",
   "execution_count": 32,
   "id": "4aaeb91c-5f75-4ea9-81f5-9a1c50837b53",
   "metadata": {},
   "outputs": [
    {
     "name": "stdout",
     "output_type": "stream",
     "text": [
      "O RMSE do modelo linear foi de 2107.00778539594 anos.\n"
     ]
    }
   ],
   "source": [
    "from sklearn.metrics import mean_squared_error\n",
    "\n",
    "y_verdadeiro = y_teste_data\n",
    "y_previsao_n = modelo_linear_dn.predict(normalizador_x.transform(X_teste_data))\n",
    "y_previsao_n = normalizador_y.inverse_transform(y_previsao_data)\n",
    "\n",
    "RMSE_dn = mean_squared_error(y_verdadeiro, y_previsao_n, squared=False)\n",
    "\n",
    "print(f\"O RMSE do modelo linear foi de {RMSE_dn} anos.\")"
   ]
  },
  {
   "cell_type": "markdown",
   "id": "577c0590-5e1d-47de-aa8d-125eeb1aeb40",
   "metadata": {},
   "source": [
    "###\n",
    "- Para o dataframe do arquivo ***\"data_artigo.csv\"***:"
   ]
  },
  {
   "cell_type": "code",
   "execution_count": 33,
   "id": "cf76cf56-4c5d-4a23-96c5-f113a55b2167",
   "metadata": {},
   "outputs": [
    {
     "data": {
      "text/plain": [
       "MinMaxScaler()"
      ]
     },
     "execution_count": 33,
     "metadata": {},
     "output_type": "execute_result"
    }
   ],
   "source": [
    "normalizador_x = MinMaxScaler()\n",
    "normalizador_y = MinMaxScaler()\n",
    "\n",
    "normalizador_x.fit(X_treino_data_art)\n",
    "normalizador_y.fit(y_treino_data_art)"
   ]
  },
  {
   "cell_type": "code",
   "execution_count": 34,
   "id": "02b21e0a-a887-4f74-9ca2-5234c05bb60a",
   "metadata": {
    "tags": []
   },
   "outputs": [
    {
     "name": "stdout",
     "output_type": "stream",
     "text": [
      "[[49.81214409]\n",
      " [48.65941644]\n",
      " [49.14751132]\n",
      " [52.81596816]\n",
      " [50.86518625]\n",
      " [51.28601586]\n",
      " [48.61021607]\n",
      " [49.97538721]\n",
      " [56.01091417]\n",
      " [50.2497385 ]\n",
      " [50.35492933]\n",
      " [44.1808967 ]\n",
      " [57.8244508 ]\n",
      " [51.42875806]\n",
      " [50.48611827]\n",
      " [52.27575694]\n",
      " [55.09980666]\n",
      " [47.94314813]\n",
      " [50.44665653]\n",
      " [50.41707531]\n",
      " [51.16673913]\n",
      " [52.46515677]\n",
      " [49.38523758]\n",
      " [48.24995462]\n",
      " [46.28738645]\n",
      " [48.60536523]\n",
      " [59.78798053]\n",
      " [51.6219699 ]\n",
      " [52.93627715]\n",
      " [53.23951225]\n",
      " [54.56367552]\n",
      " [52.45716998]\n",
      " [50.00398209]\n",
      " [49.43680644]\n",
      " [54.17732222]\n",
      " [53.12778833]\n",
      " [49.70481079]\n",
      " [51.78495573]\n",
      " [52.45136837]\n",
      " [47.83893685]\n",
      " [51.94085712]\n",
      " [50.34047047]\n",
      " [50.26163717]\n",
      " [49.36208117]\n",
      " [52.68213591]\n",
      " [50.11727791]\n",
      " [50.71475275]\n",
      " [48.96742329]\n",
      " [52.43077147]\n",
      " [52.22154839]\n",
      " [55.4875378 ]\n",
      " [51.0287955 ]\n",
      " [52.56673453]\n",
      " [48.27168746]\n",
      " [52.26173171]\n",
      " [53.44774815]\n",
      " [47.20192605]\n",
      " [47.87716325]\n",
      " [47.97424944]\n",
      " [49.83835519]\n",
      " [44.6552346 ]\n",
      " [48.49059542]\n",
      " [49.28605787]\n",
      " [51.69788579]\n",
      " [51.99350142]\n",
      " [52.09889697]\n",
      " [50.18567652]\n",
      " [53.10069508]\n",
      " [50.93733927]\n",
      " [50.19744266]\n",
      " [51.56276836]\n",
      " [53.53785376]\n",
      " [54.01737157]\n",
      " [51.54487104]\n",
      " [52.93571145]\n",
      " [55.9868473 ]\n",
      " [52.57517141]\n",
      " [48.16533518]\n",
      " [51.0233374 ]\n",
      " [50.70099952]\n",
      " [50.26126301]\n",
      " [53.43288021]\n",
      " [51.06875696]\n",
      " [52.62587035]\n",
      " [35.55356384]\n",
      " [52.56416275]\n",
      " [49.52098636]\n",
      " [51.76656937]\n",
      " [51.38046524]\n",
      " [50.75982447]\n",
      " [49.70919614]\n",
      " [56.33378512]\n",
      " [52.68743765]\n",
      " [55.61496028]\n",
      " [50.77184797]\n",
      " [51.32253856]\n",
      " [51.58780664]\n",
      " [55.89525808]\n",
      " [51.56890924]\n",
      " [48.70294966]]\n"
     ]
    }
   ],
   "source": [
    "# Ajustando o modelo:\n",
    "\n",
    "# cria o modelo\n",
    "modelo_linear_artn = LinearRegression()\n",
    "\n",
    "# treina o modelo\n",
    "modelo_linear_artn.fit(\n",
    "    normalizador_x.transform(X_treino_data_art),\n",
    "    normalizador_y.transform(y_treino_data_art),\n",
    ")\n",
    "\n",
    "# realiza uma previsão usando o modelo treinado\n",
    "previsao2 = modelo_linear_artn.predict(normalizador_x.transform(X_treino_data_art))\n",
    "previsao2 = normalizador_y.inverse_transform(previsao2)\n",
    "print(previsao2)"
   ]
  },
  {
   "cell_type": "code",
   "execution_count": 35,
   "id": "b0d78e44-3c2e-4cac-9c7c-5ee36c641279",
   "metadata": {},
   "outputs": [
    {
     "name": "stdout",
     "output_type": "stream",
     "text": [
      "O RMSE do modelo linear foi de 9.496874730058188 anos.\n"
     ]
    }
   ],
   "source": [
    "from sklearn.metrics import mean_squared_error\n",
    "\n",
    "y_verdadeiro = y_teste_data_art\n",
    "y_previsao_artn = modelo_linear_artn.predict(normalizador_x.transform(X_teste_data_art))\n",
    "y_previsao_artn = normalizador_y.inverse_transform(y_previsao_artn)\n",
    "\n",
    "RMSE_artn = mean_squared_error(y_verdadeiro, y_previsao_artn, squared=False)\n",
    "\n",
    "print(f\"O RMSE do modelo linear foi de {RMSE_artn} anos.\")"
   ]
  },
  {
   "cell_type": "markdown",
   "id": "23d4f2b4-a1e5-4dd3-875e-7cff8e219610",
   "metadata": {},
   "source": [
    "----"
   ]
  },
  {
   "cell_type": "code",
   "execution_count": null,
   "id": "63fc4010-6ba7-4f1b-a58b-30f6289dd357",
   "metadata": {},
   "outputs": [],
   "source": []
  }
 ],
 "metadata": {
  "kernelspec": {
   "display_name": "ilumpy",
   "language": "python",
   "name": "ilumpy"
  },
  "language_info": {
   "codemirror_mode": {
    "name": "ipython",
    "version": 3
   },
   "file_extension": ".py",
   "mimetype": "text/x-python",
   "name": "python",
   "nbconvert_exporter": "python",
   "pygments_lexer": "ipython3",
   "version": "3.9.7"
  }
 },
 "nbformat": 4,
 "nbformat_minor": 5
}
