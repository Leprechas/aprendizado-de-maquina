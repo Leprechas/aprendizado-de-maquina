{
 "cells": [
  {
   "cell_type": "markdown",
   "id": "37252307-20eb-41b2-960d-3b0a9cadc347",
   "metadata": {},
   "source": [
    "## Bloco 2 - aprendizado de máquina"
   ]
  },
  {
   "cell_type": "markdown",
   "id": "1c95936d-b9eb-49d7-82f4-3d5857b28a67",
   "metadata": {},
   "source": [
    "### Tarefa 1 - Treino, teste e baseline"
   ]
  },
  {
   "cell_type": "markdown",
   "id": "8f747eec-c842-46e0-80b8-83a9bb9cb16c",
   "metadata": {},
   "source": [
    "Importando os dados dos arquivos:"
   ]
  },
  {
   "cell_type": "code",
   "execution_count": 2,
   "id": "9ea90edd-122a-4760-a407-c9790cb2740f",
   "metadata": {},
   "outputs": [],
   "source": [
    "# Importando as bibliotecas e módulos a serem utilizados para a realização do treino, teste e baseline\n",
    "import numpy as np\n",
    "import matplotlib.pyplot as plt\n",
    "import seaborn as sns\n",
    "import pandas as pd\n",
    "from sklearn.pipeline import Pipeline\n",
    "from sklearn.preprocessing import PolynomialFeatures\n",
    "from sklearn.linear_model import LinearRegression"
   ]
  },
  {
   "cell_type": "code",
   "execution_count": 3,
   "id": "0e811130-9939-40c8-a1f6-fb017f7b2fd0",
   "metadata": {
    "tags": []
   },
   "outputs": [
    {
     "name": "stdout",
     "output_type": "stream",
     "text": [
      "       Amostra    Sexo Categoria Idade  Idade      URM1   TRAPPC3    GTF3C5  \\\n",
      "0    GTEX-U8XE    male           Jovem  30-39  0.970511  0.916667  0.706498   \n",
      "1    GTEX-UPJH    male          Adulto  50-59  0.668665  0.724498  0.855626   \n",
      "2    GTEX-UPK5    male          Adulto  40-49  0.765044  0.891566  0.641997   \n",
      "3    GTEX-V1D1    male          Adulto  50-59  0.695756  0.547992  0.632330   \n",
      "4    GTEX-VJYA    male           Idoso  60-69  0.574682  0.795382  0.503962   \n",
      "..         ...     ...             ...    ...       ...       ...       ...   \n",
      "105  GTEX-ZYVF  female          Adulto  50-59  0.621434  0.841566  0.654834   \n",
      "106  GTEX-ZYW4    male           Idoso  60-69  0.846320  0.833534  0.655784   \n",
      "107  GTEX-ZYY3  female           Idoso  60-69  0.723328  0.796185  0.860539   \n",
      "108  GTEX-ZZ64    male           Jovem  20-29  0.713498  0.731124  0.688431   \n",
      "109  GTEX-ZZPU  female          Adulto  50-59  0.742268  0.708032  0.784786   \n",
      "\n",
      "         USP4     SCYL1      MLF2  ...    RTFDC1    MTMR14    MANBAL  \\\n",
      "0    0.825296  0.943988  0.915365  ...  0.810352  0.620929  0.731743   \n",
      "1    1.000000  0.814403  0.777995  ...  0.843942  1.000000  0.821252   \n",
      "2    0.779974  0.665592  0.738281  ...  0.869037  0.802774  0.980705   \n",
      "3    0.924374  0.575239  0.707031  ...  0.592602  0.774729  0.699183   \n",
      "4    0.911989  0.711825  0.703125  ...  0.743955  0.808203  0.802090   \n",
      "..        ...       ...       ...  ...       ...       ...       ...   \n",
      "105  0.779710  0.571905  0.693359  ...  0.749706  0.637817  0.738845   \n",
      "106  0.621080  0.802956  0.835286  ...  0.830741  0.783172  0.946804   \n",
      "107  0.756258  0.531007  0.571289  ...  0.572082  0.701448  0.514538   \n",
      "108  0.855863  0.870305  0.915365  ...  0.817671  0.783172  0.808790   \n",
      "109  0.767852  0.706935  0.634635  ...  0.662528  0.848613  0.661664   \n",
      "\n",
      "        MRPL9      GPS1    GTF2F1     SMPD4     NRBP1   DNAJB12    SUPT5H  \n",
      "0    0.965841  0.830299  0.712460  0.889464  0.847246  0.717243  0.864087  \n",
      "1    0.669403  0.862361  0.765743  0.917921  1.000000  0.882019  0.871705  \n",
      "2    0.990600  0.564181  0.765877  0.690263  0.776425  0.791548  0.700210  \n",
      "3    0.706209  0.623605  0.516550  0.806444  0.662126  0.736812  0.725469  \n",
      "4    0.998014  0.601762  0.598762  0.782455  0.696135  0.595576  0.682169  \n",
      "..        ...       ...       ...       ...       ...       ...       ...  \n",
      "105  0.560572  0.590957  0.616523  0.637347  0.698454  0.700794  0.709131  \n",
      "106  0.734278  0.729771  0.822255  0.687912  0.822222  0.886841  0.665130  \n",
      "107  0.804449  0.648268  0.560549  0.853010  0.704058  0.745037  0.848852  \n",
      "108  0.722494  0.756665  0.994483  0.765522  0.869179  0.891378  0.833317  \n",
      "109  0.739309  0.910393  0.718649  0.695673  0.746473  0.778219  0.818282  \n",
      "\n",
      "[110 rows x 24 columns]\n"
     ]
    }
   ],
   "source": [
    "df_data = pd.read_csv('data.csv') #Importando o dataframe do arquivo \"data.csv\" (o arquivo sem os dados do artigo)\n",
    "df_data = df_data.drop(\"Unnamed: 0\",axis=1)\n",
    "print(df_data)"
   ]
  },
  {
   "cell_type": "code",
   "execution_count": 4,
   "id": "55ba298e-c63c-438f-a848-89cc9352db3c",
   "metadata": {
    "tags": []
   },
   "outputs": [
    {
     "name": "stdout",
     "output_type": "stream",
     "text": [
      "       Amostra    Sexo Categoria Idade  Idade      MMP1          MMP3  \\\n",
      "0    GTEX-U8XE    male           Jovem  30-39  0.415301  1.959855e-02   \n",
      "1    GTEX-UPJH    male          Adulto  50-59  0.000005  7.996788e-03   \n",
      "2    GTEX-UPK5    male          Adulto  40-49  0.000000  7.149739e-03   \n",
      "3    GTEX-V1D1    male          Adulto  50-59  0.000000  0.000000e+00   \n",
      "4    GTEX-VJYA    male           Idoso  60-69  0.000000  1.969892e-02   \n",
      "..         ...     ...             ...    ...       ...           ...   \n",
      "105  GTEX-ZYVF  female          Adulto  50-59  0.000024  1.819350e-07   \n",
      "106  GTEX-ZYW4    male           Idoso  60-69  0.000023  5.150542e-03   \n",
      "107  GTEX-ZYY3  female           Idoso  60-69  0.000003  2.070253e-07   \n",
      "108  GTEX-ZZ64    male           Jovem  20-29  0.000001  3.753111e-02   \n",
      "109  GTEX-ZZPU  female          Adulto  50-59  0.000000  1.586110e-02   \n",
      "\n",
      "         MMP9         MMP11     MMP24     MMP27     BARD1     BCL7C   CLPTM1L  \\\n",
      "0    0.609227  8.821049e-02  0.000014  0.851644  0.354668  0.472280  0.910613   \n",
      "1    0.159422  3.882611e-02  0.503206  0.168324  0.491779  0.604135  0.656658   \n",
      "2    0.000003  4.746163e-02  0.000003  0.310585  0.215032  0.536110  0.690726   \n",
      "3    0.062979  1.321471e-06  0.000034  0.523176  0.488843  0.430027  0.459522   \n",
      "4    0.329350  3.710575e-02  0.444207  0.744908  0.250793  0.411447  0.618432   \n",
      "..        ...           ...       ...       ...       ...       ...       ...   \n",
      "105  0.142913  2.020577e-02  0.000032  0.095750  0.363183  0.539107  0.547407   \n",
      "106  0.168872  5.422500e-02  0.000013  0.103609  0.250000  0.706623  0.785079   \n",
      "107  0.071373  8.591668e-07  0.000021  0.000006  0.754844  0.472580  0.506640   \n",
      "108  0.185770  2.604149e-02  0.000039  0.289014  0.354081  0.503746  0.718097   \n",
      "109  0.067426  1.959858e-02  0.502779  0.581716  0.288227  0.700330  0.666243   \n",
      "\n",
      "         TERT    CDKN1A  \n",
      "0    0.456960  0.770863  \n",
      "1    0.020528  0.301729  \n",
      "2    0.000000  0.230042  \n",
      "3    0.183716  0.266740  \n",
      "4    0.223564  0.134728  \n",
      "..        ...       ...  \n",
      "105  0.106089  0.242711  \n",
      "106  0.312058  0.371003  \n",
      "107  0.312230  0.363262  \n",
      "108  0.037088  0.377036  \n",
      "109  0.043816  0.166901  \n",
      "\n",
      "[110 rows x 15 columns]\n"
     ]
    }
   ],
   "source": [
    "df_data_art = pd.read_csv('data_artigo.csv') #Importando o dataframe do arquivo \"data_artigo.csv\"\n",
    "df_data_art = df_data_art.drop(\"Unnamed: 0\",axis=1)\n",
    "print(df_data_art)"
   ]
  },
  {
   "cell_type": "code",
   "execution_count": 5,
   "id": "1945a23d-08f4-47c5-a756-73cf329f79a8",
   "metadata": {},
   "outputs": [],
   "source": [
    "# Substituindo os intervalos dos valores das idades para a média, a fim de obter os dados em valores numéricos - para o \"data.csv\"\n",
    "df_data['Idade']=df_data['Idade'].replace('20-29',int(25))\n",
    "df_data['Idade']=df_data['Idade'].replace('30-39',int(35))\n",
    "df_data['Idade']=df_data['Idade'].replace('40-49',int(45))\n",
    "df_data['Idade']=df_data['Idade'].replace('50-59',int(55))\n",
    "df_data['Idade']=df_data['Idade'].replace('60-69',int(65))\n",
    "df_data['Idade']=df_data['Idade'].replace('70-79',int(75))"
   ]
  },
  {
   "cell_type": "code",
   "execution_count": 6,
   "id": "b4d66675-8b36-4a58-939d-02cf4f048156",
   "metadata": {},
   "outputs": [],
   "source": [
    "# Substituindo os intervalos dos valores das idades para a média, a fim de obter os dados em valores numéricos - para o \"data_artigo.csv\"\n",
    "df_data_art['Idade']=df_data_art['Idade'].replace('20-29',int(25))\n",
    "df_data_art['Idade']=df_data_art['Idade'].replace('30-39',int(35))\n",
    "df_data_art['Idade']=df_data_art['Idade'].replace('40-49',int(45))\n",
    "df_data_art['Idade']=df_data_art['Idade'].replace('50-59',int(55))\n",
    "df_data_art['Idade']=df_data_art['Idade'].replace('60-69',int(65))\n",
    "df_data_art['Idade']=df_data_art['Idade'].replace('70-79',int(75))"
   ]
  },
  {
   "cell_type": "markdown",
   "id": "0a35e864-1be9-4c40-aa04-1da1654e20c1",
   "metadata": {},
   "source": [
    "#### Dividindo o dataset em treino e teste"
   ]
  },
  {
   "cell_type": "code",
   "execution_count": 7,
   "id": "76757cd6-703a-4490-8387-728693493980",
   "metadata": {
    "tags": []
   },
   "outputs": [
    {
     "name": "stdout",
     "output_type": "stream",
     "text": [
      "       Amostra    Sexo Categoria Idade  Idade      URM1   TRAPPC3    GTF3C5  \\\n",
      "43   GTEX-XYKS  female           Idoso     65  1.000000  0.817470  0.674010   \n",
      "60   GTEX-YJ8O  female          Adulto     45  0.714936  0.690361  0.733914   \n",
      "100  GTEX-ZY6K    male          Adulto     55  0.551187  0.913855  0.616006   \n",
      "88   GTEX-ZTX8    male           Jovem     25  0.500839  0.475100  0.592710   \n",
      "58   GTEX-YF7O    male          Adulto     55  0.622872  0.603614  0.534865   \n",
      "..         ...     ...             ...    ...       ...       ...       ...   \n",
      "2    GTEX-UPK5    male          Adulto     45  0.765044  0.891566  0.641997   \n",
      "80   GTEX-ZP4G  female           Jovem     25  0.701510  0.750201  0.774802   \n",
      "76   GTEX-ZGAY  female          Adulto     45  0.779909  0.727309  0.767353   \n",
      "96   GTEX-ZVTK    male           Jovem     25  0.925677  0.768474  0.987163   \n",
      "16   GTEX-WI4N  female          Adulto     45  0.923999  0.706627  0.569572   \n",
      "\n",
      "         USP4     SCYL1      MLF2  ...    RTFDC1    MTMR14    MANBAL  \\\n",
      "43   0.711462  0.902312  0.833984  ...  0.900013  0.708384  0.949752   \n",
      "60   0.820553  0.729162  0.801432  ...  0.833094  0.723462  0.866542   \n",
      "100  0.619236  0.725606  0.683594  ...  0.666710  0.647165  0.781455   \n",
      "88   0.639789  0.759613  0.704427  ...  0.615475  0.823281  0.619858   \n",
      "58   0.593412  0.648255  0.742839  ...  0.769703  0.555790  0.600429   \n",
      "..        ...       ...       ...  ...       ...       ...       ...   \n",
      "2    0.779974  0.665592  0.738281  ...  0.869037  0.802774  0.980705   \n",
      "80   0.727536  0.750611  0.680990  ...  0.683048  0.749397  0.625352   \n",
      "76   0.849275  0.836075  0.644727  ...  0.927330  0.981604  0.751708   \n",
      "96   0.924638  0.802734  1.000000  ...  0.912430  0.635103  0.961410   \n",
      "16   0.586298  0.772172  0.874349  ...  0.577441  0.512666  0.715262   \n",
      "\n",
      "        MRPL9      GPS1    GTF2F1     SMPD4     NRBP1   DNAJB12    SUPT5H  \n",
      "43   0.924666  0.915326  0.801668  0.872295  0.836329  0.640102  0.807658  \n",
      "60   0.799417  0.784028  0.896663  0.786689  0.889855  0.774816  0.833116  \n",
      "100  0.741162  0.624193  0.717438  0.844779  0.735749  0.804311  0.798136  \n",
      "88   0.487091  0.574281  0.802879  0.743885  0.725314  0.785593  0.693595  \n",
      "58   0.756785  0.654022  0.841900  0.610536  0.898068  0.611174  0.802045  \n",
      "..        ...       ...       ...       ...       ...       ...       ...  \n",
      "2    0.990600  0.564181  0.765877  0.690263  0.776425  0.791548  0.700210  \n",
      "80   0.725937  0.849794  0.770587  0.794920  0.828599  0.744186  0.707928  \n",
      "76   1.000000  0.794480  0.880382  0.871355  0.883382  0.915485  0.918713  \n",
      "96   0.911558  0.992366  0.985065  1.000000  0.824155  0.839195  0.861882  \n",
      "16   0.550113  0.641104  0.607912  0.511054  0.497101  0.518151  0.789516  \n",
      "\n",
      "[100 rows x 24 columns]\n",
      "\n",
      "       Amostra    Sexo Categoria Idade  Idade      URM1   TRAPPC3    GTF3C5  \\\n",
      "95   GTEX-ZVT4  female          Adulto     55  0.656917  0.754016  0.755784   \n",
      "108  GTEX-ZZ64    male           Jovem     25  0.713498  0.731124  0.688431   \n",
      "47   GTEX-Y3IK  female          Adulto     55  0.985135  0.767671  0.720602   \n",
      "69   GTEX-ZDXO    male           Idoso     65  0.704627  0.667470  0.759588   \n",
      "82   GTEX-ZPIC  female          Adulto     45  0.865979  0.753614  0.666086   \n",
      "75   GTEX-ZF3C  female          Adulto     55  0.957804  0.884739  0.974643   \n",
      "36   GTEX-XOT4  female           Idoso     65  0.849197  0.731928  0.900317   \n",
      "52   GTEX-Y8LW  female          Adulto     55  0.809638  0.625703  0.688273   \n",
      "97   GTEX-ZVZP    male          Adulto     55  0.605131  0.765663  0.842155   \n",
      "21   GTEX-WYBS  female           Idoso     65  0.807960  0.788755  0.685737   \n",
      "\n",
      "         USP4     SCYL1      MLF2  ...    RTFDC1    MTMR14    MANBAL  \\\n",
      "95   0.844532  0.633141  0.835286  ...  0.815841  0.775935  0.693957   \n",
      "108  0.855863  0.870305  0.915365  ...  0.817671  0.783172  0.808790   \n",
      "47   0.744401  0.734719  0.653646  ...  1.000000  0.873040  0.968511   \n",
      "69   0.759684  0.692376  0.725911  ...  0.756895  0.660434  0.815758   \n",
      "82   0.632148  0.821849  0.635091  ...  0.887596  0.868818  0.853410   \n",
      "75   0.552833  0.695154  0.710938  ...  0.755849  0.796743  0.878065   \n",
      "36   0.704875  0.717271  0.774740  ...  0.780552  0.758142  0.701729   \n",
      "52   0.703294  0.835741  0.637695  ...  0.761992  0.832027  0.725848   \n",
      "97   0.671410  0.715159  0.746745  ...  0.675075  0.793727  0.639287   \n",
      "21   0.957312  0.781952  0.641276  ...  0.877663  0.751508  0.668230   \n",
      "\n",
      "        MRPL9      GPS1    GTF2F1     SMPD4     NRBP1   DNAJB12    SUPT5H  \n",
      "95   0.801801  0.719436  0.768837  0.751411  0.766377  0.790414  0.827603  \n",
      "108  0.722494  0.756665  0.994483  0.765522  0.869179  0.891378  0.833317  \n",
      "47   0.802727  0.708045  0.795344  0.685795  0.723285  0.749575  0.779493  \n",
      "69   0.716007  0.810100  0.649892  0.813970  0.700290  0.800624  0.698707  \n",
      "82   0.723024  0.912625  0.801265  0.906397  0.868792  0.729438  0.799439  \n",
      "75   0.980140  0.894304  0.721340  0.670508  0.773430  0.908678  0.738298  \n",
      "36   0.740103  0.813388  0.699812  0.755174  0.601353  0.765457  0.732384  \n",
      "52   0.560837  0.685026  0.877557  0.744826  0.726473  0.842598  0.875313  \n",
      "97   0.888654  0.802701  0.699543  0.745061  0.817295  0.699943  0.928636  \n",
      "21   0.827883  0.716618  0.927476  0.741298  0.877101  0.875496  0.865591  \n",
      "\n",
      "[10 rows x 24 columns]\n"
     ]
    }
   ],
   "source": [
    "# Para o dataframe do \"data.csv\"\n",
    "from sklearn.model_selection import train_test_split\n",
    "\n",
    "TAMANHO_TESTE = 10\n",
    "\n",
    "indices = df_data.index\n",
    "indices_treino, indices_teste = train_test_split(\n",
    "    indices, test_size=TAMANHO_TESTE\n",
    ")\n",
    "\n",
    "df_treino = df_data.loc[indices_treino]\n",
    "df_teste = df_data.loc[indices_teste]\n",
    "\n",
    "print(df_treino)\n",
    "print()\n",
    "print(df_teste)"
   ]
  },
  {
   "cell_type": "code",
   "execution_count": 8,
   "id": "23dc7d1a-5f51-4f27-82ec-011a6b0fa122",
   "metadata": {
    "tags": []
   },
   "outputs": [
    {
     "name": "stdout",
     "output_type": "stream",
     "text": [
      "      Amostra    Sexo Categoria Idade  Idade          MMP1          MMP3  \\\n",
      "91  GTEX-ZVE1  female          Adulto     55  1.441133e-05  4.050582e-03   \n",
      "27  GTEX-X585    male          Adulto     55  3.827620e-06  2.967884e-02   \n",
      "23  GTEX-WYVS  female          Adulto     45  1.661699e-06  4.038539e-08   \n",
      "65  GTEX-ZAK1  female          Adulto     55  0.000000e+00  5.194701e-03   \n",
      "55  GTEX-YEC3    male          Adulto     55  4.446100e-07  2.513448e-02   \n",
      "..        ...     ...             ...    ...           ...           ...   \n",
      "12  GTEX-WHPG    male          Adulto     55  0.000000e+00  8.582898e-02   \n",
      "79  GTEX-ZLWG  female          Adulto     55  4.883259e-06  8.105179e-03   \n",
      "21  GTEX-WYBS  female           Idoso     65  9.413810e-06  2.819350e-07   \n",
      "74  GTEX-ZF2S  female          Adulto     55  1.753602e-06  7.671618e-08   \n",
      "25  GTEX-X4EO  female           Idoso     65  3.286140e-01  2.843436e-07   \n",
      "\n",
      "        MMP9     MMP11     MMP24     MMP27     BARD1     BCL7C   CLPTM1L  \\\n",
      "91  0.110617  0.019615  0.000017  0.129511  0.525837  0.519329  0.511722   \n",
      "27  0.188105  0.054478  0.000028  0.000005  0.207634  0.856458  0.801132   \n",
      "23  0.231907  0.211334  0.537409  1.000000  0.339988  0.682649  0.677214   \n",
      "65  0.188994  0.062489  0.453185  0.712590  0.267146  0.686245  0.603072   \n",
      "55  0.000005  0.023495  0.000026  0.114595  0.224016  0.525622  0.669939   \n",
      "..       ...       ...       ...       ...       ...       ...       ...   \n",
      "12  0.144414  0.046298  0.000038  0.219727  0.299765  0.582260  0.593256   \n",
      "79  0.000004  0.037915  0.448482  0.215638  0.252437  0.529218  0.751011   \n",
      "21  0.201167  0.077585  0.000017  0.356135  0.730182  0.450105  0.594988   \n",
      "74  0.146971  0.038489  0.000029  0.403689  0.194656  0.808511  0.612773   \n",
      "25  0.213007  0.279474  0.000022  0.306175  0.344392  0.671262  0.563114   \n",
      "\n",
      "        TERT    CDKN1A  \n",
      "91  0.133172  0.437261  \n",
      "27  0.341038  0.306958  \n",
      "23  0.034501  0.275789  \n",
      "65  0.447645  0.161070  \n",
      "55  0.124547  0.222703  \n",
      "..       ...       ...  \n",
      "12  0.136795  0.136939  \n",
      "79  0.152320  0.170320  \n",
      "21  0.262550  0.434345  \n",
      "74  0.232189  0.129901  \n",
      "25  0.486114  0.351096  \n",
      "\n",
      "[100 rows x 15 columns]\n",
      "\n",
      "      Amostra    Sexo Categoria Idade  Idade          MMP1          MMP3  \\\n",
      "31  GTEX-XBEC    male          Adulto     55  7.327372e-07  8.028904e-03   \n",
      "32  GTEX-XBED    male           Idoso     65  6.982116e-06  1.018868e-02   \n",
      "60  GTEX-YJ8O  female          Adulto     45  2.990561e-06  0.000000e+00   \n",
      "50  GTEX-Y5V6    male           Idoso     65  3.800298e-06  1.696909e-01   \n",
      "93  GTEX-ZVP2    male          Adulto     55  0.000000e+00  2.589322e-01   \n",
      "24  GTEX-X3Y1    male          Adulto     45  4.669647e-06  4.700923e-03   \n",
      "29  GTEX-X8HC  female          Adulto     55  6.761053e-06  1.031714e-02   \n",
      "20  GTEX-WY7C    male          Adulto     55  6.770989e-06  5.644320e-02   \n",
      "81  GTEX-ZPCL  female           Idoso     65  1.634377e-06  2.666800e-02   \n",
      "42  GTEX-XXEK    male          Adulto     55  1.331346e-06  3.885588e-07   \n",
      "\n",
      "        MMP9         MMP11     MMP24     MMP27     BARD1     BCL7C   CLPTM1L  \\\n",
      "31  0.197554  4.746163e-02  0.439504  0.434964  0.325308  0.824693  0.533664   \n",
      "32  0.563091  1.190083e-06  0.000024  0.559583  0.359366  0.776146  0.669246   \n",
      "60  1.000000  9.434981e-02  0.000029  0.770008  0.418086  0.581061  0.546252   \n",
      "50  0.091773  2.290437e-02  0.000009  0.428308  0.139342  0.816002  0.483312   \n",
      "93  0.126237  3.767920e-07  0.000039  0.121492  0.439812  0.563980  0.669361   \n",
      "24  0.076820  1.191263e-01  1.000000  0.278268  0.211157  0.591549  0.765331   \n",
      "29  0.292273  2.519818e-01  0.000013  0.400962  0.481797  0.448007  0.473380   \n",
      "20  0.091051  7.760162e-07  0.000041  0.344988  0.428362  0.571771  0.689918   \n",
      "81  0.170372  7.665711e-07  0.000018  0.126864  0.393717  0.721906  0.672249   \n",
      "42  0.115231  1.541744e-06  0.000033  0.357899  0.231767  0.635301  0.744543   \n",
      "\n",
      "        TERT    CDKN1A  \n",
      "31  0.571848  0.219184  \n",
      "32  0.395894  0.372713  \n",
      "60  0.186476  0.228635  \n",
      "50  0.094704  0.116831  \n",
      "93  0.015180  0.139956  \n",
      "24  0.203899  0.208627  \n",
      "29  0.064861  0.991755  \n",
      "20  0.136622  0.153429  \n",
      "81  0.063654  0.105268  \n",
      "42  0.082974  0.170420  \n"
     ]
    }
   ],
   "source": [
    "# Para o dataframe do \"data_artigo.csv\"\n",
    "from sklearn.model_selection import train_test_split\n",
    "\n",
    "TAMANHO_TESTE_art = 10\n",
    "\n",
    "indices_art = df_data_art.index\n",
    "indices_treino_art, indices_teste_art = train_test_split(\n",
    "    indices_art, test_size=TAMANHO_TESTE_art\n",
    ")\n",
    "\n",
    "df_art_treino = df_data_art.loc[indices_treino_art]\n",
    "df_art_teste = df_data_art.loc[indices_teste_art]\n",
    "\n",
    "print(df_art_treino)\n",
    "print()\n",
    "print(df_art_teste)"
   ]
  },
  {
   "cell_type": "markdown",
   "id": "0701dccd-c7a0-4215-9bd9-cbddca44906e",
   "metadata": {},
   "source": [
    "--- "
   ]
  },
  {
   "cell_type": "markdown",
   "id": "4dadcdf7-78b2-49da-8ab7-9736ad86c990",
   "metadata": {},
   "source": [
    "#### Criando o modelo preditivo de base (baseline)"
   ]
  },
  {
   "cell_type": "markdown",
   "id": "f0bcee34-35f5-4c2f-a4f7-bcf3b721589e",
   "metadata": {},
   "source": [
    "- Para o dataframe do arquivo ***\"data.csv\"***:"
   ]
  },
  {
   "cell_type": "code",
   "execution_count": 9,
   "id": "c9aa408b-6120-4e91-b754-4f067d316a66",
   "metadata": {},
   "outputs": [
    {
     "data": {
      "text/plain": [
       "array(['Amostra', 'Sexo', 'Categoria Idade', 'Idade', 'URM1', 'TRAPPC3',\n",
       "       'GTF3C5', 'USP4', 'SCYL1', 'MLF2', 'DGCR14', 'ARAF', 'TCF25',\n",
       "       'HDAC3', 'RTFDC1', 'MTMR14', 'MANBAL', 'MRPL9', 'GPS1', 'GTF2F1',\n",
       "       'SMPD4', 'NRBP1', 'DNAJB12', 'SUPT5H'], dtype=object)"
      ]
     },
     "execution_count": 9,
     "metadata": {},
     "output_type": "execute_result"
    }
   ],
   "source": [
    "df_data.columns.values"
   ]
  },
  {
   "cell_type": "markdown",
   "id": "05edf5fb-ee17-4515-aad3-c1c141a533bc",
   "metadata": {},
   "source": [
    "> Queremos apenas os genes como features, então selecionaremos da quarta coluna para frente"
   ]
  },
  {
   "cell_type": "code",
   "execution_count": 10,
   "id": "0a087370-c570-4107-ad6c-379c0dc224fb",
   "metadata": {},
   "outputs": [],
   "source": [
    "TAMANHO_TESTE = 10\n",
    "SEMENTE_ALEATORIA = 666\n",
    "FEATURES = df_data.columns.values[4:]\n",
    "TARGET = [\"Idade\"]\n",
    "\n",
    "indices_data = df_data.index\n",
    "indices_treino_data, indices_teste_data = train_test_split(\n",
    "    indices_data, test_size=TAMANHO_TESTE, random_state=SEMENTE_ALEATORIA\n",
    ")\n",
    "\n",
    "df_treino_data = df_data.loc[indices_treino_data]\n",
    "df_teste_data = df_data.loc[indices_teste_data]\n",
    "\n",
    "# observe que usamos o .values aqui pois queremos apenas os valores\n",
    "X_treino_data = df_treino_data.reindex(FEATURES, axis=1).values\n",
    "y_treino_data = df_treino_data.reindex(TARGET, axis=1).values\n",
    "X_teste_data = df_teste_data.reindex(FEATURES, axis=1).values\n",
    "y_teste_data = df_teste_data.reindex(TARGET, axis=1).values"
   ]
  },
  {
   "cell_type": "markdown",
   "id": "9beb402b-16d2-402d-a432-1c2c5886ac85",
   "metadata": {},
   "source": [
    "Treinando o modelo:"
   ]
  },
  {
   "cell_type": "code",
   "execution_count": 11,
   "id": "9f274dd1-505a-4302-a5c9-61b9da564d79",
   "metadata": {},
   "outputs": [
    {
     "name": "stdout",
     "output_type": "stream",
     "text": [
      "[51.4 51.4 51.4 51.4 51.4 51.4 51.4 51.4 51.4 51.4]\n"
     ]
    }
   ],
   "source": [
    "from sklearn.dummy import DummyRegressor\n",
    "\n",
    "# Criando o modelo\n",
    "modelo_baseline = DummyRegressor()\n",
    "\n",
    "# Treinando o modelo\n",
    "modelo_baseline.fit(X_treino_data, y_treino_data)\n",
    "\n",
    "# realiza uma previsão usando o modelo treinado\n",
    "previsao = modelo_baseline.predict(X_teste_data)\n",
    "print(previsao)"
   ]
  },
  {
   "cell_type": "markdown",
   "id": "88e71d9e-e910-4e86-b3b6-965e0797af9b",
   "metadata": {},
   "source": [
    "####"
   ]
  },
  {
   "cell_type": "markdown",
   "id": "1dd5f304-65ef-45d9-afd4-e301f5db6d47",
   "metadata": {},
   "source": [
    "- Para o dataframe do arquivo ***\"data_artigo.csv\"***:"
   ]
  },
  {
   "cell_type": "code",
   "execution_count": 12,
   "id": "8092af7c-05e1-43b7-943f-88246363002a",
   "metadata": {},
   "outputs": [
    {
     "data": {
      "text/plain": [
       "array(['Amostra', 'Sexo', 'Categoria Idade', 'Idade', 'MMP1', 'MMP3',\n",
       "       'MMP9', 'MMP11', 'MMP24', 'MMP27', 'BARD1', 'BCL7C', 'CLPTM1L',\n",
       "       'TERT', 'CDKN1A'], dtype=object)"
      ]
     },
     "execution_count": 12,
     "metadata": {},
     "output_type": "execute_result"
    }
   ],
   "source": [
    "df_data_art.columns.values"
   ]
  },
  {
   "cell_type": "markdown",
   "id": "21b7885b-c53e-42f6-83f4-9c68930bda9e",
   "metadata": {},
   "source": [
    "> Novamente, apenas desejamos os genes como as features, então trabalharemos a partir da quarta coluna para frente"
   ]
  },
  {
   "cell_type": "code",
   "execution_count": 13,
   "id": "687e7f0c-0dd6-46d6-a4c2-b1695a7b4cbb",
   "metadata": {},
   "outputs": [],
   "source": [
    "TAMANHO_TESTE_art = 10\n",
    "SEMENTE_ALEATORIA_art = 777\n",
    "FEATURES_art = df_data_art.columns.values[4:]\n",
    "TARGET_art = [\"Idade\"]\n",
    "\n",
    "indices_data_art = df_data_art.index\n",
    "indices_treino_data_art, indices_teste_data_art = train_test_split(\n",
    "    indices_data_art, test_size=TAMANHO_TESTE_art, random_state=SEMENTE_ALEATORIA_art\n",
    ")\n",
    "\n",
    "df_treino_data_art = df_data_art.loc[indices_treino_data_art]\n",
    "df_teste_data_art = df_data_art.loc[indices_teste_data_art]\n",
    "\n",
    "# observe que usamos o .values aqui pois queremos apenas os valores\n",
    "X_treino_data_art = df_treino_data_art.reindex(FEATURES_art, axis=1).values\n",
    "y_treino_data_art = df_treino_data_art.reindex(TARGET_art, axis=1).values\n",
    "X_teste_data_art = df_teste_data_art.reindex(FEATURES_art, axis=1).values\n",
    "y_teste_data_art = df_teste_data_art.reindex(TARGET_art, axis=1).values"
   ]
  },
  {
   "cell_type": "markdown",
   "id": "f8e2fdd9-1e95-4b79-9841-5b2def87b51e",
   "metadata": {},
   "source": [
    "Treinando o modelo (para o ***data_artigo.csv***):"
   ]
  },
  {
   "cell_type": "code",
   "execution_count": 14,
   "id": "7bab03a1-fa36-4fec-a2af-eebe174d9cf5",
   "metadata": {},
   "outputs": [
    {
     "name": "stdout",
     "output_type": "stream",
     "text": [
      "[51.1 51.1 51.1 51.1 51.1 51.1 51.1 51.1 51.1 51.1]\n"
     ]
    }
   ],
   "source": [
    "from sklearn.dummy import DummyRegressor\n",
    "\n",
    "# Criando o modelo\n",
    "modelo_baseline_art = DummyRegressor()\n",
    "\n",
    "# Treinando o modelo\n",
    "modelo_baseline_art.fit(X_treino_data_art, y_treino_data_art)\n",
    "\n",
    "# realiza uma previsão usando o modelo treinado\n",
    "previsao_art = modelo_baseline_art.predict(X_teste_data_art)\n",
    "print(previsao_art)"
   ]
  },
  {
   "cell_type": "markdown",
   "id": "1faf3113-f4c7-44ef-af9b-a5cf303e1090",
   "metadata": {},
   "source": [
    "###"
   ]
  },
  {
   "cell_type": "markdown",
   "id": "6e84afab-c40d-4c86-af73-9be7e342b8f7",
   "metadata": {},
   "source": [
    "Agora, precisamos testar se o nosso modelo realmente é bom, e para isso, precisamos utilizar métricas - a raiz quadrada do erro quadrático médio (RMSE, root mean squared error) é um bom método"
   ]
  },
  {
   "cell_type": "markdown",
   "id": "60784de8-87ae-415a-a5b6-e7f93797c260",
   "metadata": {},
   "source": [
    "- Testando para o dataframe do arquivo ***\"data.csv\"***:"
   ]
  },
  {
   "cell_type": "code",
   "execution_count": 15,
   "id": "93c84a88-866f-4b32-b861-09e3b1a84f1a",
   "metadata": {},
   "outputs": [
    {
     "name": "stdout",
     "output_type": "stream",
     "text": [
      "O RMSE do modelo baseline foi de 14.579437574886077 anos.\n"
     ]
    }
   ],
   "source": [
    "from sklearn.metrics import mean_squared_error\n",
    "\n",
    "y_verdadeiro = y_teste_data\n",
    "y_previsao = modelo_baseline.predict(X_teste_data)\n",
    "\n",
    "RMSE = mean_squared_error(y_verdadeiro, y_previsao, squared=False)\n",
    "\n",
    "print(f\"O RMSE do modelo baseline foi de {RMSE} anos.\")"
   ]
  },
  {
   "cell_type": "markdown",
   "id": "a6099859-93e3-4acf-8f7f-d24df8215cfb",
   "metadata": {},
   "source": [
    "- Testando para o dataframe do arquivo ***\"data_artigo.csv\"***:"
   ]
  },
  {
   "cell_type": "code",
   "execution_count": 16,
   "id": "4329089e-c8c2-473f-8875-3be958a58831",
   "metadata": {},
   "outputs": [
    {
     "name": "stdout",
     "output_type": "stream",
     "text": [
      "O RMSE do modelo baseline foi de 10.205880657738458 anos.\n"
     ]
    }
   ],
   "source": [
    "y_verdadeiro_art = y_teste_data_art\n",
    "y_previsao_art = modelo_baseline.predict(X_teste_data_art)\n",
    "\n",
    "RMSE_art = mean_squared_error(y_verdadeiro_art, y_previsao_art, squared=False)\n",
    "\n",
    "print(f\"O RMSE do modelo baseline foi de {RMSE_art} anos.\")"
   ]
  },
  {
   "cell_type": "markdown",
   "id": "91719377-46b8-4a33-bc17-621794b33084",
   "metadata": {},
   "source": [
    "###"
   ]
  },
  {
   "cell_type": "markdown",
   "id": "890e0968-9800-4606-861a-2acc232b43dd",
   "metadata": {},
   "source": [
    "#### Treinando um modelo linear para os datasets:"
   ]
  },
  {
   "cell_type": "markdown",
   "id": "ef8fb3e9-0760-4e4a-ba36-ef17694380ac",
   "metadata": {},
   "source": [
    "- Treinando para o dataframe do arquivo ***\"data.csv\"***: "
   ]
  },
  {
   "cell_type": "code",
   "execution_count": 17,
   "id": "28ca39d5-5104-45d2-ba82-4da74730cc01",
   "metadata": {},
   "outputs": [
    {
     "name": "stdout",
     "output_type": "stream",
     "text": [
      "[[48.93143127]\n",
      " [56.90916389]\n",
      " [56.84489212]\n",
      " [47.08586348]\n",
      " [44.34850338]\n",
      " [62.32849594]\n",
      " [49.72741549]\n",
      " [55.26228612]\n",
      " [52.32362282]\n",
      " [56.02821142]]\n"
     ]
    }
   ],
   "source": [
    "from sklearn.linear_model import LinearRegression\n",
    "\n",
    "# cria o modelo\n",
    "modelo_linear_data = LinearRegression()\n",
    "\n",
    "# treina o modelo\n",
    "modelo_linear_data.fit(X_treino_data, y_treino_data)\n",
    "\n",
    "# realiza uma previsão usando o modelo treinado\n",
    "previsao_data = modelo_linear_data.predict(X_teste_data)\n",
    "print(previsao_data)"
   ]
  },
  {
   "cell_type": "code",
   "execution_count": 18,
   "id": "fee97819-8886-4fde-9a57-d3b113fb0716",
   "metadata": {},
   "outputs": [
    {
     "name": "stdout",
     "output_type": "stream",
     "text": [
      "O RMSE do modelo linear foi de 17.661276151490007 anos\n"
     ]
    }
   ],
   "source": [
    "y_verdadeiro_data = y_teste_data\n",
    "y_previsao_data = modelo_linear_data.predict(X_teste_data)\n",
    "\n",
    "RMSE_data2 = mean_squared_error(y_verdadeiro_data, y_previsao_data, squared=False)\n",
    "\n",
    "print(f\"O RMSE do modelo linear foi de {RMSE_data2} anos\")"
   ]
  },
  {
   "cell_type": "markdown",
   "id": "d1bd196d-7a69-460e-8be0-141f19eb747d",
   "metadata": {},
   "source": [
    "> O valor de RMSE do caso linear (no caso dos genes identificados como relevantes no bloco anterior) foi maior do que aquele obtido a partir da previsão de baseline, ou seja, obtivemos uma piora na performance de predição. Normalmente, o RMSE do modelo linear demonstraria um valor menor em comparação ao valor de RMSE do modelo baseline, implicando em uma melhora, mas curiosamente, o caso oposto ocorreu. Isso pode ser por conta dos valores quais estamos trabalhando no o *dataset* escolhido. "
   ]
  },
  {
   "cell_type": "markdown",
   "id": "8a61de04-87f3-4e59-a37d-75e0320c4e4c",
   "metadata": {},
   "source": [
    "- Treinando para o dataframe do arquivo ***\"data_artigo.csv\"***: "
   ]
  },
  {
   "cell_type": "code",
   "execution_count": 19,
   "id": "c47251f8-3d82-4b26-b9ab-46dc515fe2b4",
   "metadata": {},
   "outputs": [
    {
     "name": "stdout",
     "output_type": "stream",
     "text": [
      "[[53.18572151]\n",
      " [55.83297402]\n",
      " [48.85973193]\n",
      " [48.68125273]\n",
      " [50.75135134]\n",
      " [51.18883681]\n",
      " [52.40139163]\n",
      " [49.50503731]\n",
      " [54.42263743]\n",
      " [51.47477938]]\n"
     ]
    }
   ],
   "source": [
    "# cria o modelo\n",
    "modelo_linear_art = LinearRegression()\n",
    "\n",
    "# treina o modelo\n",
    "modelo_linear_art.fit(X_treino_data_art, y_treino_data_art)\n",
    "\n",
    "# realiza uma previsão usando o modelo treinado\n",
    "previsao_art2 = modelo_linear_art.predict(X_teste_data_art)\n",
    "print(previsao_art2)"
   ]
  },
  {
   "cell_type": "code",
   "execution_count": 20,
   "id": "1b5b0f2a-713e-48a8-94ab-f295ec9cb5d4",
   "metadata": {},
   "outputs": [
    {
     "name": "stdout",
     "output_type": "stream",
     "text": [
      "O RMSE do modelo linear foi de 9.496874730058186 anos\n"
     ]
    }
   ],
   "source": [
    "y_verdadeiro_art2 = y_teste_data_art\n",
    "y_previsao_art2 = modelo_linear_art.predict(X_teste_data_art)\n",
    "\n",
    "RMSE_art2 = mean_squared_error(y_verdadeiro_art2, y_previsao_art2, squared=False)\n",
    "\n",
    "print(f\"O RMSE do modelo linear foi de {RMSE_art2} anos\")"
   ]
  },
  {
   "cell_type": "markdown",
   "id": "9156d56a-40a6-4981-abbf-ef2ece9c49d9",
   "metadata": {},
   "source": [
    "> Já nesse caso, obtivemos o resultado normalmente esperado, no qual um valor menor de RMSE foi observado no caso do modelo linear (9.496874730058186 anos), enquanto o RMSE do modelo baseline teve um valor maior (10.205880657738458 anos.). Portanto, no caso do dataset contendo os genes que possuem sua expressão modificada em função do tempo confirmadada de acordo com a literatura, o modelo linear se prova um pouco mais eficaz."
   ]
  },
  {
   "cell_type": "markdown",
   "id": "c4f7f722-89a3-4cd2-8d61-020ec93c30ab",
   "metadata": {},
   "source": [
    "###\n",
    "#### Normalizando os dados\n",
    "Vamos utilizar a normalização pelo mínimo e máximo (função `MinMaxScaler`)."
   ]
  },
  {
   "cell_type": "markdown",
   "id": "399d4a23-22e5-4c47-91fa-3882d43f6330",
   "metadata": {},
   "source": [
    "- Para o dataframe do arquivo ***\"data.csv\"***: "
   ]
  },
  {
   "cell_type": "code",
   "execution_count": 21,
   "id": "cb4a5cca-1964-4fbf-87f0-adba42867f29",
   "metadata": {},
   "outputs": [
    {
     "data": {
      "text/html": [
       "<style>#sk-container-id-1 {color: black;background-color: white;}#sk-container-id-1 pre{padding: 0;}#sk-container-id-1 div.sk-toggleable {background-color: white;}#sk-container-id-1 label.sk-toggleable__label {cursor: pointer;display: block;width: 100%;margin-bottom: 0;padding: 0.3em;box-sizing: border-box;text-align: center;}#sk-container-id-1 label.sk-toggleable__label-arrow:before {content: \"▸\";float: left;margin-right: 0.25em;color: #696969;}#sk-container-id-1 label.sk-toggleable__label-arrow:hover:before {color: black;}#sk-container-id-1 div.sk-estimator:hover label.sk-toggleable__label-arrow:before {color: black;}#sk-container-id-1 div.sk-toggleable__content {max-height: 0;max-width: 0;overflow: hidden;text-align: left;background-color: #f0f8ff;}#sk-container-id-1 div.sk-toggleable__content pre {margin: 0.2em;color: black;border-radius: 0.25em;background-color: #f0f8ff;}#sk-container-id-1 input.sk-toggleable__control:checked~div.sk-toggleable__content {max-height: 200px;max-width: 100%;overflow: auto;}#sk-container-id-1 input.sk-toggleable__control:checked~label.sk-toggleable__label-arrow:before {content: \"▾\";}#sk-container-id-1 div.sk-estimator input.sk-toggleable__control:checked~label.sk-toggleable__label {background-color: #d4ebff;}#sk-container-id-1 div.sk-label input.sk-toggleable__control:checked~label.sk-toggleable__label {background-color: #d4ebff;}#sk-container-id-1 input.sk-hidden--visually {border: 0;clip: rect(1px 1px 1px 1px);clip: rect(1px, 1px, 1px, 1px);height: 1px;margin: -1px;overflow: hidden;padding: 0;position: absolute;width: 1px;}#sk-container-id-1 div.sk-estimator {font-family: monospace;background-color: #f0f8ff;border: 1px dotted black;border-radius: 0.25em;box-sizing: border-box;margin-bottom: 0.5em;}#sk-container-id-1 div.sk-estimator:hover {background-color: #d4ebff;}#sk-container-id-1 div.sk-parallel-item::after {content: \"\";width: 100%;border-bottom: 1px solid gray;flex-grow: 1;}#sk-container-id-1 div.sk-label:hover label.sk-toggleable__label {background-color: #d4ebff;}#sk-container-id-1 div.sk-serial::before {content: \"\";position: absolute;border-left: 1px solid gray;box-sizing: border-box;top: 0;bottom: 0;left: 50%;z-index: 0;}#sk-container-id-1 div.sk-serial {display: flex;flex-direction: column;align-items: center;background-color: white;padding-right: 0.2em;padding-left: 0.2em;position: relative;}#sk-container-id-1 div.sk-item {position: relative;z-index: 1;}#sk-container-id-1 div.sk-parallel {display: flex;align-items: stretch;justify-content: center;background-color: white;position: relative;}#sk-container-id-1 div.sk-item::before, #sk-container-id-1 div.sk-parallel-item::before {content: \"\";position: absolute;border-left: 1px solid gray;box-sizing: border-box;top: 0;bottom: 0;left: 50%;z-index: -1;}#sk-container-id-1 div.sk-parallel-item {display: flex;flex-direction: column;z-index: 1;position: relative;background-color: white;}#sk-container-id-1 div.sk-parallel-item:first-child::after {align-self: flex-end;width: 50%;}#sk-container-id-1 div.sk-parallel-item:last-child::after {align-self: flex-start;width: 50%;}#sk-container-id-1 div.sk-parallel-item:only-child::after {width: 0;}#sk-container-id-1 div.sk-dashed-wrapped {border: 1px dashed gray;margin: 0 0.4em 0.5em 0.4em;box-sizing: border-box;padding-bottom: 0.4em;background-color: white;}#sk-container-id-1 div.sk-label label {font-family: monospace;font-weight: bold;display: inline-block;line-height: 1.2em;}#sk-container-id-1 div.sk-label-container {text-align: center;}#sk-container-id-1 div.sk-container {/* jupyter's `normalize.less` sets `[hidden] { display: none; }` but bootstrap.min.css set `[hidden] { display: none !important; }` so we also need the `!important` here to be able to override the default hidden behavior on the sphinx rendered scikit-learn.org. See: https://github.com/scikit-learn/scikit-learn/issues/21755 */display: inline-block !important;position: relative;}#sk-container-id-1 div.sk-text-repr-fallback {display: none;}</style><div id=\"sk-container-id-1\" class=\"sk-top-container\"><div class=\"sk-text-repr-fallback\"><pre>MinMaxScaler()</pre><b>In a Jupyter environment, please rerun this cell to show the HTML representation or trust the notebook. <br />On GitHub, the HTML representation is unable to render, please try loading this page with nbviewer.org.</b></div><div class=\"sk-container\" hidden><div class=\"sk-item\"><div class=\"sk-estimator sk-toggleable\"><input class=\"sk-toggleable__control sk-hidden--visually\" id=\"sk-estimator-id-1\" type=\"checkbox\" checked><label for=\"sk-estimator-id-1\" class=\"sk-toggleable__label sk-toggleable__label-arrow\">MinMaxScaler</label><div class=\"sk-toggleable__content\"><pre>MinMaxScaler()</pre></div></div></div></div></div>"
      ],
      "text/plain": [
       "MinMaxScaler()"
      ]
     },
     "execution_count": 21,
     "metadata": {},
     "output_type": "execute_result"
    }
   ],
   "source": [
    "from sklearn.preprocessing import MinMaxScaler\n",
    "\n",
    "normalizador_x = MinMaxScaler()\n",
    "normalizador_y = MinMaxScaler()\n",
    "\n",
    "normalizador_x.fit(X_treino_data)\n",
    "normalizador_y.fit(y_treino_data)"
   ]
  },
  {
   "cell_type": "code",
   "execution_count": 22,
   "id": "8f1d707c-431b-47df-a26b-f23fa0ce21c4",
   "metadata": {
    "tags": []
   },
   "outputs": [
    {
     "name": "stdout",
     "output_type": "stream",
     "text": [
      "[[55.33348849]\n",
      " [50.56341882]\n",
      " [46.85602764]\n",
      " [57.26211348]\n",
      " [47.31902063]\n",
      " [47.33612646]\n",
      " [54.71777868]\n",
      " [53.25793546]\n",
      " [60.27077979]\n",
      " [48.40420482]\n",
      " [55.89909326]\n",
      " [54.98353248]\n",
      " [54.3637402 ]\n",
      " [42.73383143]\n",
      " [50.45913773]\n",
      " [60.82667746]\n",
      " [53.7005485 ]\n",
      " [51.96597024]\n",
      " [56.35267631]\n",
      " [48.78786749]\n",
      " [61.26684892]\n",
      " [65.49582325]\n",
      " [51.08207143]\n",
      " [51.74953087]\n",
      " [57.36052171]\n",
      " [54.34895764]\n",
      " [51.31097155]\n",
      " [48.48306834]\n",
      " [50.49108198]\n",
      " [55.27757938]\n",
      " [46.86223803]\n",
      " [46.00098949]\n",
      " [55.49998148]\n",
      " [57.14165369]\n",
      " [45.66165884]\n",
      " [39.89626961]\n",
      " [55.00079756]\n",
      " [50.67888828]\n",
      " [51.19272933]\n",
      " [56.42431445]\n",
      " [47.08498729]\n",
      " [44.7411305 ]\n",
      " [44.54086476]\n",
      " [51.82844299]\n",
      " [47.91670639]\n",
      " [45.76728397]\n",
      " [51.83031631]\n",
      " [55.4488751 ]\n",
      " [50.33742961]\n",
      " [46.59875638]\n",
      " [49.07081977]\n",
      " [60.34143641]\n",
      " [47.90615939]\n",
      " [50.38411925]\n",
      " [43.92608637]\n",
      " [56.96287225]\n",
      " [61.1623197 ]\n",
      " [49.05882292]\n",
      " [58.14725778]\n",
      " [47.59226519]\n",
      " [50.97587996]\n",
      " [50.28960122]\n",
      " [48.2543825 ]\n",
      " [53.66408921]\n",
      " [60.25552623]\n",
      " [49.17444948]\n",
      " [46.06349765]\n",
      " [51.66678494]\n",
      " [57.85769041]\n",
      " [58.41331729]\n",
      " [48.19903699]\n",
      " [43.38145067]\n",
      " [51.44903007]\n",
      " [41.13307057]\n",
      " [46.86357923]\n",
      " [52.21100223]\n",
      " [57.63160046]\n",
      " [55.6457134 ]\n",
      " [56.23714913]\n",
      " [59.23939811]\n",
      " [49.45766905]\n",
      " [47.44944087]\n",
      " [50.33756256]\n",
      " [28.89109734]\n",
      " [48.24533275]\n",
      " [59.6762551 ]\n",
      " [49.85155818]\n",
      " [50.83749602]\n",
      " [55.1316205 ]\n",
      " [52.45508389]\n",
      " [46.15795534]\n",
      " [57.25843215]\n",
      " [51.07856508]\n",
      " [53.34973449]\n",
      " [51.89849054]\n",
      " [48.6365044 ]\n",
      " [47.05755301]\n",
      " [44.31995708]\n",
      " [55.37024721]\n",
      " [40.66629715]]\n"
     ]
    }
   ],
   "source": [
    "# Ajustando o modelo:\n",
    "\n",
    "from sklearn.linear_model import LinearRegression\n",
    "\n",
    "# cria o modelo\n",
    "modelo_linear_dn = LinearRegression()\n",
    "\n",
    "# treina o modelo\n",
    "modelo_linear_dn.fit(\n",
    "    normalizador_x.transform(X_treino_data),\n",
    "    normalizador_y.transform(y_treino_data),\n",
    ")\n",
    "\n",
    "# realiza uma previsão usando o modelo treinado\n",
    "previsao1 = modelo_linear_dn.predict(normalizador_x.transform(X_treino_data))\n",
    "previsao1 = normalizador_y.inverse_transform(previsao1)\n",
    "print(previsao1)"
   ]
  },
  {
   "cell_type": "code",
   "execution_count": 23,
   "id": "4aaeb91c-5f75-4ea9-81f5-9a1c50837b53",
   "metadata": {},
   "outputs": [
    {
     "name": "stdout",
     "output_type": "stream",
     "text": [
      "O RMSE do modelo linear foi de 2107.0077853959406 anos.\n"
     ]
    }
   ],
   "source": [
    "from sklearn.metrics import mean_squared_error\n",
    "\n",
    "y_verdadeiro = y_teste_data\n",
    "y_previsao_n = modelo_linear_dn.predict(normalizador_x.transform(X_teste_data))\n",
    "y_previsao_n = normalizador_y.inverse_transform(y_previsao_data)\n",
    "\n",
    "RMSE_dn = mean_squared_error(y_verdadeiro, y_previsao_n, squared=False)\n",
    "\n",
    "print(f\"O RMSE do modelo linear foi de {RMSE_dn} anos.\")"
   ]
  },
  {
   "cell_type": "markdown",
   "id": "577c0590-5e1d-47de-aa8d-125eeb1aeb40",
   "metadata": {},
   "source": [
    "###\n",
    "- Para o dataframe do arquivo ***\"data_artigo.csv\"***:"
   ]
  },
  {
   "cell_type": "code",
   "execution_count": 24,
   "id": "cf76cf56-4c5d-4a23-96c5-f113a55b2167",
   "metadata": {},
   "outputs": [
    {
     "data": {
      "text/html": [
       "<style>#sk-container-id-2 {color: black;background-color: white;}#sk-container-id-2 pre{padding: 0;}#sk-container-id-2 div.sk-toggleable {background-color: white;}#sk-container-id-2 label.sk-toggleable__label {cursor: pointer;display: block;width: 100%;margin-bottom: 0;padding: 0.3em;box-sizing: border-box;text-align: center;}#sk-container-id-2 label.sk-toggleable__label-arrow:before {content: \"▸\";float: left;margin-right: 0.25em;color: #696969;}#sk-container-id-2 label.sk-toggleable__label-arrow:hover:before {color: black;}#sk-container-id-2 div.sk-estimator:hover label.sk-toggleable__label-arrow:before {color: black;}#sk-container-id-2 div.sk-toggleable__content {max-height: 0;max-width: 0;overflow: hidden;text-align: left;background-color: #f0f8ff;}#sk-container-id-2 div.sk-toggleable__content pre {margin: 0.2em;color: black;border-radius: 0.25em;background-color: #f0f8ff;}#sk-container-id-2 input.sk-toggleable__control:checked~div.sk-toggleable__content {max-height: 200px;max-width: 100%;overflow: auto;}#sk-container-id-2 input.sk-toggleable__control:checked~label.sk-toggleable__label-arrow:before {content: \"▾\";}#sk-container-id-2 div.sk-estimator input.sk-toggleable__control:checked~label.sk-toggleable__label {background-color: #d4ebff;}#sk-container-id-2 div.sk-label input.sk-toggleable__control:checked~label.sk-toggleable__label {background-color: #d4ebff;}#sk-container-id-2 input.sk-hidden--visually {border: 0;clip: rect(1px 1px 1px 1px);clip: rect(1px, 1px, 1px, 1px);height: 1px;margin: -1px;overflow: hidden;padding: 0;position: absolute;width: 1px;}#sk-container-id-2 div.sk-estimator {font-family: monospace;background-color: #f0f8ff;border: 1px dotted black;border-radius: 0.25em;box-sizing: border-box;margin-bottom: 0.5em;}#sk-container-id-2 div.sk-estimator:hover {background-color: #d4ebff;}#sk-container-id-2 div.sk-parallel-item::after {content: \"\";width: 100%;border-bottom: 1px solid gray;flex-grow: 1;}#sk-container-id-2 div.sk-label:hover label.sk-toggleable__label {background-color: #d4ebff;}#sk-container-id-2 div.sk-serial::before {content: \"\";position: absolute;border-left: 1px solid gray;box-sizing: border-box;top: 0;bottom: 0;left: 50%;z-index: 0;}#sk-container-id-2 div.sk-serial {display: flex;flex-direction: column;align-items: center;background-color: white;padding-right: 0.2em;padding-left: 0.2em;position: relative;}#sk-container-id-2 div.sk-item {position: relative;z-index: 1;}#sk-container-id-2 div.sk-parallel {display: flex;align-items: stretch;justify-content: center;background-color: white;position: relative;}#sk-container-id-2 div.sk-item::before, #sk-container-id-2 div.sk-parallel-item::before {content: \"\";position: absolute;border-left: 1px solid gray;box-sizing: border-box;top: 0;bottom: 0;left: 50%;z-index: -1;}#sk-container-id-2 div.sk-parallel-item {display: flex;flex-direction: column;z-index: 1;position: relative;background-color: white;}#sk-container-id-2 div.sk-parallel-item:first-child::after {align-self: flex-end;width: 50%;}#sk-container-id-2 div.sk-parallel-item:last-child::after {align-self: flex-start;width: 50%;}#sk-container-id-2 div.sk-parallel-item:only-child::after {width: 0;}#sk-container-id-2 div.sk-dashed-wrapped {border: 1px dashed gray;margin: 0 0.4em 0.5em 0.4em;box-sizing: border-box;padding-bottom: 0.4em;background-color: white;}#sk-container-id-2 div.sk-label label {font-family: monospace;font-weight: bold;display: inline-block;line-height: 1.2em;}#sk-container-id-2 div.sk-label-container {text-align: center;}#sk-container-id-2 div.sk-container {/* jupyter's `normalize.less` sets `[hidden] { display: none; }` but bootstrap.min.css set `[hidden] { display: none !important; }` so we also need the `!important` here to be able to override the default hidden behavior on the sphinx rendered scikit-learn.org. See: https://github.com/scikit-learn/scikit-learn/issues/21755 */display: inline-block !important;position: relative;}#sk-container-id-2 div.sk-text-repr-fallback {display: none;}</style><div id=\"sk-container-id-2\" class=\"sk-top-container\"><div class=\"sk-text-repr-fallback\"><pre>MinMaxScaler()</pre><b>In a Jupyter environment, please rerun this cell to show the HTML representation or trust the notebook. <br />On GitHub, the HTML representation is unable to render, please try loading this page with nbviewer.org.</b></div><div class=\"sk-container\" hidden><div class=\"sk-item\"><div class=\"sk-estimator sk-toggleable\"><input class=\"sk-toggleable__control sk-hidden--visually\" id=\"sk-estimator-id-2\" type=\"checkbox\" checked><label for=\"sk-estimator-id-2\" class=\"sk-toggleable__label sk-toggleable__label-arrow\">MinMaxScaler</label><div class=\"sk-toggleable__content\"><pre>MinMaxScaler()</pre></div></div></div></div></div>"
      ],
      "text/plain": [
       "MinMaxScaler()"
      ]
     },
     "execution_count": 24,
     "metadata": {},
     "output_type": "execute_result"
    }
   ],
   "source": [
    "normalizador_x = MinMaxScaler()\n",
    "normalizador_y = MinMaxScaler()\n",
    "\n",
    "normalizador_x.fit(X_treino_data_art)\n",
    "normalizador_y.fit(y_treino_data_art)"
   ]
  },
  {
   "cell_type": "code",
   "execution_count": 25,
   "id": "02b21e0a-a887-4f74-9ca2-5234c05bb60a",
   "metadata": {
    "tags": []
   },
   "outputs": [
    {
     "name": "stdout",
     "output_type": "stream",
     "text": [
      "[[49.81214409]\n",
      " [48.65941644]\n",
      " [49.14751132]\n",
      " [52.81596816]\n",
      " [50.86518625]\n",
      " [51.28601586]\n",
      " [48.61021607]\n",
      " [49.97538721]\n",
      " [56.01091417]\n",
      " [50.2497385 ]\n",
      " [50.35492933]\n",
      " [44.1808967 ]\n",
      " [57.8244508 ]\n",
      " [51.42875806]\n",
      " [50.48611827]\n",
      " [52.27575694]\n",
      " [55.09980666]\n",
      " [47.94314813]\n",
      " [50.44665653]\n",
      " [50.41707531]\n",
      " [51.16673913]\n",
      " [52.46515677]\n",
      " [49.38523758]\n",
      " [48.24995462]\n",
      " [46.28738645]\n",
      " [48.60536523]\n",
      " [59.78798053]\n",
      " [51.6219699 ]\n",
      " [52.93627715]\n",
      " [53.23951225]\n",
      " [54.56367552]\n",
      " [52.45716998]\n",
      " [50.00398209]\n",
      " [49.43680644]\n",
      " [54.17732222]\n",
      " [53.12778833]\n",
      " [49.70481079]\n",
      " [51.78495573]\n",
      " [52.45136837]\n",
      " [47.83893685]\n",
      " [51.94085712]\n",
      " [50.34047047]\n",
      " [50.26163717]\n",
      " [49.36208117]\n",
      " [52.68213591]\n",
      " [50.11727791]\n",
      " [50.71475275]\n",
      " [48.96742329]\n",
      " [52.43077147]\n",
      " [52.22154839]\n",
      " [55.4875378 ]\n",
      " [51.0287955 ]\n",
      " [52.56673453]\n",
      " [48.27168746]\n",
      " [52.26173171]\n",
      " [53.44774815]\n",
      " [47.20192605]\n",
      " [47.87716325]\n",
      " [47.97424944]\n",
      " [49.83835519]\n",
      " [44.6552346 ]\n",
      " [48.49059542]\n",
      " [49.28605787]\n",
      " [51.69788579]\n",
      " [51.99350142]\n",
      " [52.09889697]\n",
      " [50.18567652]\n",
      " [53.10069508]\n",
      " [50.93733927]\n",
      " [50.19744266]\n",
      " [51.56276836]\n",
      " [53.53785376]\n",
      " [54.01737157]\n",
      " [51.54487104]\n",
      " [52.93571145]\n",
      " [55.9868473 ]\n",
      " [52.57517141]\n",
      " [48.16533518]\n",
      " [51.0233374 ]\n",
      " [50.70099952]\n",
      " [50.26126301]\n",
      " [53.43288021]\n",
      " [51.06875696]\n",
      " [52.62587035]\n",
      " [35.55356384]\n",
      " [52.56416275]\n",
      " [49.52098636]\n",
      " [51.76656937]\n",
      " [51.38046524]\n",
      " [50.75982447]\n",
      " [49.70919614]\n",
      " [56.33378512]\n",
      " [52.68743765]\n",
      " [55.61496028]\n",
      " [50.77184797]\n",
      " [51.32253856]\n",
      " [51.58780664]\n",
      " [55.89525808]\n",
      " [51.56890924]\n",
      " [48.70294966]]\n"
     ]
    }
   ],
   "source": [
    "# Ajustando o modelo:\n",
    "\n",
    "# cria o modelo\n",
    "modelo_linear_artn = LinearRegression()\n",
    "\n",
    "# treina o modelo\n",
    "modelo_linear_artn.fit(\n",
    "    normalizador_x.transform(X_treino_data_art),\n",
    "    normalizador_y.transform(y_treino_data_art),\n",
    ")\n",
    "\n",
    "# realiza uma previsão usando o modelo treinado\n",
    "previsao2 = modelo_linear_artn.predict(normalizador_x.transform(X_treino_data_art))\n",
    "previsao2 = normalizador_y.inverse_transform(previsao2)\n",
    "print(previsao2)"
   ]
  },
  {
   "cell_type": "code",
   "execution_count": 26,
   "id": "b0d78e44-3c2e-4cac-9c7c-5ee36c641279",
   "metadata": {},
   "outputs": [
    {
     "name": "stdout",
     "output_type": "stream",
     "text": [
      "O RMSE do modelo linear foi de 9.496874730058185 anos.\n"
     ]
    }
   ],
   "source": [
    "from sklearn.metrics import mean_squared_error\n",
    "\n",
    "y_verdadeiro = y_teste_data_art\n",
    "y_previsao_artn = modelo_linear_artn.predict(normalizador_x.transform(X_teste_data_art))\n",
    "y_previsao_artn = normalizador_y.inverse_transform(y_previsao_artn)\n",
    "\n",
    "RMSE_artn = mean_squared_error(y_verdadeiro, y_previsao_artn, squared=False)\n",
    "\n",
    "print(f\"O RMSE do modelo linear foi de {RMSE_artn} anos.\")"
   ]
  },
  {
   "cell_type": "markdown",
   "id": "23d4f2b4-a1e5-4dd3-875e-7cff8e219610",
   "metadata": {},
   "source": [
    "----"
   ]
  },
  {
   "cell_type": "markdown",
   "id": "4fd6fde4-627c-4262-88ae-da6d6f50701e",
   "metadata": {},
   "source": [
    "### Tarefa 2 - k vizinhos mais próximos (k-NN)\n"
   ]
  },
  {
   "cell_type": "code",
   "execution_count": null,
   "id": "63fc4010-6ba7-4f1b-a58b-30f6289dd357",
   "metadata": {},
   "outputs": [],
   "source": []
  }
 ],
 "metadata": {
  "kernelspec": {
   "display_name": "new-ilumpy",
   "language": "python",
   "name": "new-ilumpy"
  },
  "language_info": {
   "codemirror_mode": {
    "name": "ipython",
    "version": 3
   },
   "file_extension": ".py",
   "mimetype": "text/x-python",
   "name": "python",
   "nbconvert_exporter": "python",
   "pygments_lexer": "ipython3",
   "version": "3.9.7"
  }
 },
 "nbformat": 4,
 "nbformat_minor": 5
}
