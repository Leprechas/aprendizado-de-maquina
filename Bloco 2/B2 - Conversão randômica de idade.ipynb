{
 "cells": [
  {
   "cell_type": "markdown",
   "id": "37252307-20eb-41b2-960d-3b0a9cadc347",
   "metadata": {
    "tags": []
   },
   "source": [
    "## Bloco 2 - aprendizado de máquina\n",
    "\n",
    "<a id='sum'>Sumário</a>\n",
    "\n",
    "1. [Treino, teste e baseline](#treino)\n",
    "2. [k vizinhos mais próximos (k-NN)](#vizinhos)\n",
    "3. [Regressão linear](#linear)\n",
    "4. [Árvore de decisão](#decisao)\n",
    "5. [Floresta aleatória](#floresta)\n",
    "6. [Comparando os desempenhos dos modelos de regressão](#comparacao)\n",
    "7. [Classificação](#class)\n"
   ]
  },
  {
   "cell_type": "markdown",
   "id": "0535d0a2-ccdb-49b6-95cc-16147b753a2f",
   "metadata": {},
   "source": [
    "**Objetivo**\n",
    "<br>Em poucas palavras, o objetivo do  segundo bloco consiste em formular modelos que sejam capazes de trabalhar com os nossos dados a partir de diferentes algoritmos. Tendo o resultado dessas manipulações, os analisaremos e compararemos os modelos. Finalmente, buscamos encontrar o modelo que mais se adequa aos objetivos do projeto."
   ]
  },
  {
   "cell_type": "markdown",
   "id": "0bcabe88-52b2-437b-92a4-e6ba88a30805",
   "metadata": {},
   "source": [
    "<hr>"
   ]
  },
  {
   "cell_type": "markdown",
   "id": "1c95936d-b9eb-49d7-82f4-3d5857b28a67",
   "metadata": {
    "tags": []
   },
   "source": [
    "### <a id=\"treino\">Tarefa 1 - Treino, teste e baseline"
   ]
  },
  {
   "cell_type": "markdown",
   "id": "c9792d81-483a-47f8-b1aa-db529a4f6de7",
   "metadata": {},
   "source": [
    "Antes de mais nada, apenas por convenção e consistência dos dados analisados, estamos utilizando as seguintes `seeds` para as análises feitas:\n",
    "- ***seed:* 666** para os dados referentes ao dataset que utiliza o arquivo ***data.csv*** \n",
    "- ***seed:* 777** para os dados referentes ao dataset que utiliza o arquivo ***data_artigo.csv*** "
   ]
  },
  {
   "cell_type": "markdown",
   "id": "9dadca4f-473e-4442-ad36-0092bc0e4718",
   "metadata": {},
   "source": [
    "[Voltar para o sumário](#sum)"
   ]
  },
  {
   "cell_type": "markdown",
   "id": "8f747eec-c842-46e0-80b8-83a9bb9cb16c",
   "metadata": {},
   "source": [
    "Importando os dados dos arquivos:"
   ]
  },
  {
   "cell_type": "code",
   "execution_count": 1,
   "id": "9ea90edd-122a-4760-a407-c9790cb2740f",
   "metadata": {},
   "outputs": [],
   "source": [
    "# Importando as bibliotecas e módulos a serem utilizados para a realização do treino, teste e baseline\n",
    "import numpy as np\n",
    "import matplotlib.pyplot as plt\n",
    "import seaborn as sns\n",
    "import pandas as pd\n",
    "import random\n",
    "from sklearn.pipeline import Pipeline\n",
    "from sklearn.preprocessing import PolynomialFeatures\n",
    "from sklearn.linear_model import LinearRegression"
   ]
  },
  {
   "cell_type": "code",
   "execution_count": 2,
   "id": "0e811130-9939-40c8-a1f6-fb017f7b2fd0",
   "metadata": {
    "tags": []
   },
   "outputs": [],
   "source": [
    "df_data = pd.read_csv('data.csv') #Importando o dataframe do arquivo \"data.csv\" (o arquivo sem os dados do artigo)\n",
    "df_data = df_data.drop(\"Unnamed: 0\",axis=1)"
   ]
  },
  {
   "cell_type": "code",
   "execution_count": 3,
   "id": "55ba298e-c63c-438f-a848-89cc9352db3c",
   "metadata": {
    "tags": []
   },
   "outputs": [],
   "source": [
    "df_data_art = pd.read_csv('data_artigo.csv') #Importando o dataframe do arquivo \"data_artigo.csv\"\n",
    "df_data_art = df_data_art.drop(\"Unnamed: 0\",axis=1)"
   ]
  },
  {
   "cell_type": "code",
   "execution_count": 4,
   "id": "1945a23d-08f4-47c5-a756-73cf329f79a8",
   "metadata": {},
   "outputs": [
    {
     "data": {
      "text/html": [
       "<div>\n",
       "<style scoped>\n",
       "    .dataframe tbody tr th:only-of-type {\n",
       "        vertical-align: middle;\n",
       "    }\n",
       "\n",
       "    .dataframe tbody tr th {\n",
       "        vertical-align: top;\n",
       "    }\n",
       "\n",
       "    .dataframe thead th {\n",
       "        text-align: right;\n",
       "    }\n",
       "</style>\n",
       "<table border=\"1\" class=\"dataframe\">\n",
       "  <thead>\n",
       "    <tr style=\"text-align: right;\">\n",
       "      <th></th>\n",
       "      <th>Amostra</th>\n",
       "      <th>Sexo</th>\n",
       "      <th>Categoria Idade</th>\n",
       "      <th>Idade</th>\n",
       "      <th>URM1</th>\n",
       "      <th>TRAPPC3</th>\n",
       "      <th>GTF3C5</th>\n",
       "      <th>USP4</th>\n",
       "      <th>SCYL1</th>\n",
       "      <th>MLF2</th>\n",
       "      <th>...</th>\n",
       "      <th>RTFDC1</th>\n",
       "      <th>MTMR14</th>\n",
       "      <th>MANBAL</th>\n",
       "      <th>MRPL9</th>\n",
       "      <th>GPS1</th>\n",
       "      <th>GTF2F1</th>\n",
       "      <th>SMPD4</th>\n",
       "      <th>NRBP1</th>\n",
       "      <th>DNAJB12</th>\n",
       "      <th>SUPT5H</th>\n",
       "    </tr>\n",
       "  </thead>\n",
       "  <tbody>\n",
       "    <tr>\n",
       "      <th>0</th>\n",
       "      <td>GTEX-U8XE</td>\n",
       "      <td>male</td>\n",
       "      <td>Jovem</td>\n",
       "      <td>35</td>\n",
       "      <td>0.970511</td>\n",
       "      <td>0.916667</td>\n",
       "      <td>0.706498</td>\n",
       "      <td>0.825296</td>\n",
       "      <td>0.943988</td>\n",
       "      <td>0.915365</td>\n",
       "      <td>...</td>\n",
       "      <td>0.810352</td>\n",
       "      <td>0.620929</td>\n",
       "      <td>0.731743</td>\n",
       "      <td>0.965841</td>\n",
       "      <td>0.830299</td>\n",
       "      <td>0.712460</td>\n",
       "      <td>0.889464</td>\n",
       "      <td>0.847246</td>\n",
       "      <td>0.717243</td>\n",
       "      <td>0.864087</td>\n",
       "    </tr>\n",
       "    <tr>\n",
       "      <th>1</th>\n",
       "      <td>GTEX-UPJH</td>\n",
       "      <td>male</td>\n",
       "      <td>Adulto</td>\n",
       "      <td>56</td>\n",
       "      <td>0.668665</td>\n",
       "      <td>0.724498</td>\n",
       "      <td>0.855626</td>\n",
       "      <td>1.000000</td>\n",
       "      <td>0.814403</td>\n",
       "      <td>0.777995</td>\n",
       "      <td>...</td>\n",
       "      <td>0.843942</td>\n",
       "      <td>1.000000</td>\n",
       "      <td>0.821252</td>\n",
       "      <td>0.669403</td>\n",
       "      <td>0.862361</td>\n",
       "      <td>0.765743</td>\n",
       "      <td>0.917921</td>\n",
       "      <td>1.000000</td>\n",
       "      <td>0.882019</td>\n",
       "      <td>0.871705</td>\n",
       "    </tr>\n",
       "    <tr>\n",
       "      <th>2</th>\n",
       "      <td>GTEX-UPK5</td>\n",
       "      <td>male</td>\n",
       "      <td>Adulto</td>\n",
       "      <td>42</td>\n",
       "      <td>0.765044</td>\n",
       "      <td>0.891566</td>\n",
       "      <td>0.641997</td>\n",
       "      <td>0.779974</td>\n",
       "      <td>0.665592</td>\n",
       "      <td>0.738281</td>\n",
       "      <td>...</td>\n",
       "      <td>0.869037</td>\n",
       "      <td>0.802774</td>\n",
       "      <td>0.980705</td>\n",
       "      <td>0.990600</td>\n",
       "      <td>0.564181</td>\n",
       "      <td>0.765877</td>\n",
       "      <td>0.690263</td>\n",
       "      <td>0.776425</td>\n",
       "      <td>0.791548</td>\n",
       "      <td>0.700210</td>\n",
       "    </tr>\n",
       "    <tr>\n",
       "      <th>3</th>\n",
       "      <td>GTEX-V1D1</td>\n",
       "      <td>male</td>\n",
       "      <td>Adulto</td>\n",
       "      <td>56</td>\n",
       "      <td>0.695756</td>\n",
       "      <td>0.547992</td>\n",
       "      <td>0.632330</td>\n",
       "      <td>0.924374</td>\n",
       "      <td>0.575239</td>\n",
       "      <td>0.707031</td>\n",
       "      <td>...</td>\n",
       "      <td>0.592602</td>\n",
       "      <td>0.774729</td>\n",
       "      <td>0.699183</td>\n",
       "      <td>0.706209</td>\n",
       "      <td>0.623605</td>\n",
       "      <td>0.516550</td>\n",
       "      <td>0.806444</td>\n",
       "      <td>0.662126</td>\n",
       "      <td>0.736812</td>\n",
       "      <td>0.725469</td>\n",
       "    </tr>\n",
       "    <tr>\n",
       "      <th>4</th>\n",
       "      <td>GTEX-VJYA</td>\n",
       "      <td>male</td>\n",
       "      <td>Idoso</td>\n",
       "      <td>63</td>\n",
       "      <td>0.574682</td>\n",
       "      <td>0.795382</td>\n",
       "      <td>0.503962</td>\n",
       "      <td>0.911989</td>\n",
       "      <td>0.711825</td>\n",
       "      <td>0.703125</td>\n",
       "      <td>...</td>\n",
       "      <td>0.743955</td>\n",
       "      <td>0.808203</td>\n",
       "      <td>0.802090</td>\n",
       "      <td>0.998014</td>\n",
       "      <td>0.601762</td>\n",
       "      <td>0.598762</td>\n",
       "      <td>0.782455</td>\n",
       "      <td>0.696135</td>\n",
       "      <td>0.595576</td>\n",
       "      <td>0.682169</td>\n",
       "    </tr>\n",
       "    <tr>\n",
       "      <th>...</th>\n",
       "      <td>...</td>\n",
       "      <td>...</td>\n",
       "      <td>...</td>\n",
       "      <td>...</td>\n",
       "      <td>...</td>\n",
       "      <td>...</td>\n",
       "      <td>...</td>\n",
       "      <td>...</td>\n",
       "      <td>...</td>\n",
       "      <td>...</td>\n",
       "      <td>...</td>\n",
       "      <td>...</td>\n",
       "      <td>...</td>\n",
       "      <td>...</td>\n",
       "      <td>...</td>\n",
       "      <td>...</td>\n",
       "      <td>...</td>\n",
       "      <td>...</td>\n",
       "      <td>...</td>\n",
       "      <td>...</td>\n",
       "      <td>...</td>\n",
       "    </tr>\n",
       "    <tr>\n",
       "      <th>105</th>\n",
       "      <td>GTEX-ZYVF</td>\n",
       "      <td>female</td>\n",
       "      <td>Adulto</td>\n",
       "      <td>56</td>\n",
       "      <td>0.621434</td>\n",
       "      <td>0.841566</td>\n",
       "      <td>0.654834</td>\n",
       "      <td>0.779710</td>\n",
       "      <td>0.571905</td>\n",
       "      <td>0.693359</td>\n",
       "      <td>...</td>\n",
       "      <td>0.749706</td>\n",
       "      <td>0.637817</td>\n",
       "      <td>0.738845</td>\n",
       "      <td>0.560572</td>\n",
       "      <td>0.590957</td>\n",
       "      <td>0.616523</td>\n",
       "      <td>0.637347</td>\n",
       "      <td>0.698454</td>\n",
       "      <td>0.700794</td>\n",
       "      <td>0.709131</td>\n",
       "    </tr>\n",
       "    <tr>\n",
       "      <th>106</th>\n",
       "      <td>GTEX-ZYW4</td>\n",
       "      <td>male</td>\n",
       "      <td>Idoso</td>\n",
       "      <td>63</td>\n",
       "      <td>0.846320</td>\n",
       "      <td>0.833534</td>\n",
       "      <td>0.655784</td>\n",
       "      <td>0.621080</td>\n",
       "      <td>0.802956</td>\n",
       "      <td>0.835286</td>\n",
       "      <td>...</td>\n",
       "      <td>0.830741</td>\n",
       "      <td>0.783172</td>\n",
       "      <td>0.946804</td>\n",
       "      <td>0.734278</td>\n",
       "      <td>0.729771</td>\n",
       "      <td>0.822255</td>\n",
       "      <td>0.687912</td>\n",
       "      <td>0.822222</td>\n",
       "      <td>0.886841</td>\n",
       "      <td>0.665130</td>\n",
       "    </tr>\n",
       "    <tr>\n",
       "      <th>107</th>\n",
       "      <td>GTEX-ZYY3</td>\n",
       "      <td>female</td>\n",
       "      <td>Idoso</td>\n",
       "      <td>63</td>\n",
       "      <td>0.723328</td>\n",
       "      <td>0.796185</td>\n",
       "      <td>0.860539</td>\n",
       "      <td>0.756258</td>\n",
       "      <td>0.531007</td>\n",
       "      <td>0.571289</td>\n",
       "      <td>...</td>\n",
       "      <td>0.572082</td>\n",
       "      <td>0.701448</td>\n",
       "      <td>0.514538</td>\n",
       "      <td>0.804449</td>\n",
       "      <td>0.648268</td>\n",
       "      <td>0.560549</td>\n",
       "      <td>0.853010</td>\n",
       "      <td>0.704058</td>\n",
       "      <td>0.745037</td>\n",
       "      <td>0.848852</td>\n",
       "    </tr>\n",
       "    <tr>\n",
       "      <th>108</th>\n",
       "      <td>GTEX-ZZ64</td>\n",
       "      <td>male</td>\n",
       "      <td>Jovem</td>\n",
       "      <td>25</td>\n",
       "      <td>0.713498</td>\n",
       "      <td>0.731124</td>\n",
       "      <td>0.688431</td>\n",
       "      <td>0.855863</td>\n",
       "      <td>0.870305</td>\n",
       "      <td>0.915365</td>\n",
       "      <td>...</td>\n",
       "      <td>0.817671</td>\n",
       "      <td>0.783172</td>\n",
       "      <td>0.808790</td>\n",
       "      <td>0.722494</td>\n",
       "      <td>0.756665</td>\n",
       "      <td>0.994483</td>\n",
       "      <td>0.765522</td>\n",
       "      <td>0.869179</td>\n",
       "      <td>0.891378</td>\n",
       "      <td>0.833317</td>\n",
       "    </tr>\n",
       "    <tr>\n",
       "      <th>109</th>\n",
       "      <td>GTEX-ZZPU</td>\n",
       "      <td>female</td>\n",
       "      <td>Adulto</td>\n",
       "      <td>56</td>\n",
       "      <td>0.742268</td>\n",
       "      <td>0.708032</td>\n",
       "      <td>0.784786</td>\n",
       "      <td>0.767852</td>\n",
       "      <td>0.706935</td>\n",
       "      <td>0.634635</td>\n",
       "      <td>...</td>\n",
       "      <td>0.662528</td>\n",
       "      <td>0.848613</td>\n",
       "      <td>0.661664</td>\n",
       "      <td>0.739309</td>\n",
       "      <td>0.910393</td>\n",
       "      <td>0.718649</td>\n",
       "      <td>0.695673</td>\n",
       "      <td>0.746473</td>\n",
       "      <td>0.778219</td>\n",
       "      <td>0.818282</td>\n",
       "    </tr>\n",
       "  </tbody>\n",
       "</table>\n",
       "<p>110 rows × 24 columns</p>\n",
       "</div>"
      ],
      "text/plain": [
       "       Amostra    Sexo Categoria Idade  Idade      URM1   TRAPPC3    GTF3C5  \\\n",
       "0    GTEX-U8XE    male           Jovem     35  0.970511  0.916667  0.706498   \n",
       "1    GTEX-UPJH    male          Adulto     56  0.668665  0.724498  0.855626   \n",
       "2    GTEX-UPK5    male          Adulto     42  0.765044  0.891566  0.641997   \n",
       "3    GTEX-V1D1    male          Adulto     56  0.695756  0.547992  0.632330   \n",
       "4    GTEX-VJYA    male           Idoso     63  0.574682  0.795382  0.503962   \n",
       "..         ...     ...             ...    ...       ...       ...       ...   \n",
       "105  GTEX-ZYVF  female          Adulto     56  0.621434  0.841566  0.654834   \n",
       "106  GTEX-ZYW4    male           Idoso     63  0.846320  0.833534  0.655784   \n",
       "107  GTEX-ZYY3  female           Idoso     63  0.723328  0.796185  0.860539   \n",
       "108  GTEX-ZZ64    male           Jovem     25  0.713498  0.731124  0.688431   \n",
       "109  GTEX-ZZPU  female          Adulto     56  0.742268  0.708032  0.784786   \n",
       "\n",
       "         USP4     SCYL1      MLF2  ...    RTFDC1    MTMR14    MANBAL  \\\n",
       "0    0.825296  0.943988  0.915365  ...  0.810352  0.620929  0.731743   \n",
       "1    1.000000  0.814403  0.777995  ...  0.843942  1.000000  0.821252   \n",
       "2    0.779974  0.665592  0.738281  ...  0.869037  0.802774  0.980705   \n",
       "3    0.924374  0.575239  0.707031  ...  0.592602  0.774729  0.699183   \n",
       "4    0.911989  0.711825  0.703125  ...  0.743955  0.808203  0.802090   \n",
       "..        ...       ...       ...  ...       ...       ...       ...   \n",
       "105  0.779710  0.571905  0.693359  ...  0.749706  0.637817  0.738845   \n",
       "106  0.621080  0.802956  0.835286  ...  0.830741  0.783172  0.946804   \n",
       "107  0.756258  0.531007  0.571289  ...  0.572082  0.701448  0.514538   \n",
       "108  0.855863  0.870305  0.915365  ...  0.817671  0.783172  0.808790   \n",
       "109  0.767852  0.706935  0.634635  ...  0.662528  0.848613  0.661664   \n",
       "\n",
       "        MRPL9      GPS1    GTF2F1     SMPD4     NRBP1   DNAJB12    SUPT5H  \n",
       "0    0.965841  0.830299  0.712460  0.889464  0.847246  0.717243  0.864087  \n",
       "1    0.669403  0.862361  0.765743  0.917921  1.000000  0.882019  0.871705  \n",
       "2    0.990600  0.564181  0.765877  0.690263  0.776425  0.791548  0.700210  \n",
       "3    0.706209  0.623605  0.516550  0.806444  0.662126  0.736812  0.725469  \n",
       "4    0.998014  0.601762  0.598762  0.782455  0.696135  0.595576  0.682169  \n",
       "..        ...       ...       ...       ...       ...       ...       ...  \n",
       "105  0.560572  0.590957  0.616523  0.637347  0.698454  0.700794  0.709131  \n",
       "106  0.734278  0.729771  0.822255  0.687912  0.822222  0.886841  0.665130  \n",
       "107  0.804449  0.648268  0.560549  0.853010  0.704058  0.745037  0.848852  \n",
       "108  0.722494  0.756665  0.994483  0.765522  0.869179  0.891378  0.833317  \n",
       "109  0.739309  0.910393  0.718649  0.695673  0.746473  0.778219  0.818282  \n",
       "\n",
       "[110 rows x 24 columns]"
      ]
     },
     "execution_count": 4,
     "metadata": {},
     "output_type": "execute_result"
    }
   ],
   "source": [
    "# Substituindo os intervalos dos valores das idades para a média, a fim de obter os dados em valores numéricos - para o \"data.csv\"\n",
    "df_data['Idade']=df_data['Idade'].replace('20-29',random.randint(20, 29))\n",
    "df_data['Idade']=df_data['Idade'].replace('30-39',random.randint(30, 39))\n",
    "df_data['Idade']=df_data['Idade'].replace('40-49',random.randint(40, 49))\n",
    "df_data['Idade']=df_data['Idade'].replace('50-59',random.randint(50, 59))\n",
    "df_data['Idade']=df_data['Idade'].replace('60-69',random.randint(60, 69))\n",
    "df_data['Idade']=df_data['Idade'].replace('70-79',random.randint(70, 79))\n",
    "df_data"
   ]
  },
  {
   "cell_type": "code",
   "execution_count": 5,
   "id": "b4d66675-8b36-4a58-939d-02cf4f048156",
   "metadata": {},
   "outputs": [
    {
     "data": {
      "text/html": [
       "<div>\n",
       "<style scoped>\n",
       "    .dataframe tbody tr th:only-of-type {\n",
       "        vertical-align: middle;\n",
       "    }\n",
       "\n",
       "    .dataframe tbody tr th {\n",
       "        vertical-align: top;\n",
       "    }\n",
       "\n",
       "    .dataframe thead th {\n",
       "        text-align: right;\n",
       "    }\n",
       "</style>\n",
       "<table border=\"1\" class=\"dataframe\">\n",
       "  <thead>\n",
       "    <tr style=\"text-align: right;\">\n",
       "      <th></th>\n",
       "      <th>Amostra</th>\n",
       "      <th>Sexo</th>\n",
       "      <th>Categoria Idade</th>\n",
       "      <th>Idade</th>\n",
       "      <th>MMP1</th>\n",
       "      <th>MMP3</th>\n",
       "      <th>MMP9</th>\n",
       "      <th>MMP11</th>\n",
       "      <th>MMP24</th>\n",
       "      <th>MMP27</th>\n",
       "      <th>BARD1</th>\n",
       "      <th>BCL7C</th>\n",
       "      <th>CLPTM1L</th>\n",
       "      <th>TERT</th>\n",
       "      <th>CDKN1A</th>\n",
       "    </tr>\n",
       "  </thead>\n",
       "  <tbody>\n",
       "    <tr>\n",
       "      <th>0</th>\n",
       "      <td>GTEX-U8XE</td>\n",
       "      <td>male</td>\n",
       "      <td>Jovem</td>\n",
       "      <td>35</td>\n",
       "      <td>0.415301</td>\n",
       "      <td>1.959855e-02</td>\n",
       "      <td>0.609227</td>\n",
       "      <td>8.821049e-02</td>\n",
       "      <td>0.000014</td>\n",
       "      <td>0.851644</td>\n",
       "      <td>0.354668</td>\n",
       "      <td>0.472280</td>\n",
       "      <td>0.910613</td>\n",
       "      <td>0.456960</td>\n",
       "      <td>0.770863</td>\n",
       "    </tr>\n",
       "    <tr>\n",
       "      <th>1</th>\n",
       "      <td>GTEX-UPJH</td>\n",
       "      <td>male</td>\n",
       "      <td>Adulto</td>\n",
       "      <td>52</td>\n",
       "      <td>0.000005</td>\n",
       "      <td>7.996788e-03</td>\n",
       "      <td>0.159422</td>\n",
       "      <td>3.882611e-02</td>\n",
       "      <td>0.503206</td>\n",
       "      <td>0.168324</td>\n",
       "      <td>0.491779</td>\n",
       "      <td>0.604135</td>\n",
       "      <td>0.656658</td>\n",
       "      <td>0.020528</td>\n",
       "      <td>0.301729</td>\n",
       "    </tr>\n",
       "    <tr>\n",
       "      <th>2</th>\n",
       "      <td>GTEX-UPK5</td>\n",
       "      <td>male</td>\n",
       "      <td>Adulto</td>\n",
       "      <td>49</td>\n",
       "      <td>0.000000</td>\n",
       "      <td>7.149739e-03</td>\n",
       "      <td>0.000003</td>\n",
       "      <td>4.746163e-02</td>\n",
       "      <td>0.000003</td>\n",
       "      <td>0.310585</td>\n",
       "      <td>0.215032</td>\n",
       "      <td>0.536110</td>\n",
       "      <td>0.690726</td>\n",
       "      <td>0.000000</td>\n",
       "      <td>0.230042</td>\n",
       "    </tr>\n",
       "    <tr>\n",
       "      <th>3</th>\n",
       "      <td>GTEX-V1D1</td>\n",
       "      <td>male</td>\n",
       "      <td>Adulto</td>\n",
       "      <td>52</td>\n",
       "      <td>0.000000</td>\n",
       "      <td>0.000000e+00</td>\n",
       "      <td>0.062979</td>\n",
       "      <td>1.321471e-06</td>\n",
       "      <td>0.000034</td>\n",
       "      <td>0.523176</td>\n",
       "      <td>0.488843</td>\n",
       "      <td>0.430027</td>\n",
       "      <td>0.459522</td>\n",
       "      <td>0.183716</td>\n",
       "      <td>0.266740</td>\n",
       "    </tr>\n",
       "    <tr>\n",
       "      <th>4</th>\n",
       "      <td>GTEX-VJYA</td>\n",
       "      <td>male</td>\n",
       "      <td>Idoso</td>\n",
       "      <td>65</td>\n",
       "      <td>0.000000</td>\n",
       "      <td>1.969892e-02</td>\n",
       "      <td>0.329350</td>\n",
       "      <td>3.710575e-02</td>\n",
       "      <td>0.444207</td>\n",
       "      <td>0.744908</td>\n",
       "      <td>0.250793</td>\n",
       "      <td>0.411447</td>\n",
       "      <td>0.618432</td>\n",
       "      <td>0.223564</td>\n",
       "      <td>0.134728</td>\n",
       "    </tr>\n",
       "    <tr>\n",
       "      <th>...</th>\n",
       "      <td>...</td>\n",
       "      <td>...</td>\n",
       "      <td>...</td>\n",
       "      <td>...</td>\n",
       "      <td>...</td>\n",
       "      <td>...</td>\n",
       "      <td>...</td>\n",
       "      <td>...</td>\n",
       "      <td>...</td>\n",
       "      <td>...</td>\n",
       "      <td>...</td>\n",
       "      <td>...</td>\n",
       "      <td>...</td>\n",
       "      <td>...</td>\n",
       "      <td>...</td>\n",
       "    </tr>\n",
       "    <tr>\n",
       "      <th>105</th>\n",
       "      <td>GTEX-ZYVF</td>\n",
       "      <td>female</td>\n",
       "      <td>Adulto</td>\n",
       "      <td>52</td>\n",
       "      <td>0.000024</td>\n",
       "      <td>1.819350e-07</td>\n",
       "      <td>0.142913</td>\n",
       "      <td>2.020577e-02</td>\n",
       "      <td>0.000032</td>\n",
       "      <td>0.095750</td>\n",
       "      <td>0.363183</td>\n",
       "      <td>0.539107</td>\n",
       "      <td>0.547407</td>\n",
       "      <td>0.106089</td>\n",
       "      <td>0.242711</td>\n",
       "    </tr>\n",
       "    <tr>\n",
       "      <th>106</th>\n",
       "      <td>GTEX-ZYW4</td>\n",
       "      <td>male</td>\n",
       "      <td>Idoso</td>\n",
       "      <td>65</td>\n",
       "      <td>0.000023</td>\n",
       "      <td>5.150542e-03</td>\n",
       "      <td>0.168872</td>\n",
       "      <td>5.422500e-02</td>\n",
       "      <td>0.000013</td>\n",
       "      <td>0.103609</td>\n",
       "      <td>0.250000</td>\n",
       "      <td>0.706623</td>\n",
       "      <td>0.785079</td>\n",
       "      <td>0.312058</td>\n",
       "      <td>0.371003</td>\n",
       "    </tr>\n",
       "    <tr>\n",
       "      <th>107</th>\n",
       "      <td>GTEX-ZYY3</td>\n",
       "      <td>female</td>\n",
       "      <td>Idoso</td>\n",
       "      <td>65</td>\n",
       "      <td>0.000003</td>\n",
       "      <td>2.070253e-07</td>\n",
       "      <td>0.071373</td>\n",
       "      <td>8.591668e-07</td>\n",
       "      <td>0.000021</td>\n",
       "      <td>0.000006</td>\n",
       "      <td>0.754844</td>\n",
       "      <td>0.472580</td>\n",
       "      <td>0.506640</td>\n",
       "      <td>0.312230</td>\n",
       "      <td>0.363262</td>\n",
       "    </tr>\n",
       "    <tr>\n",
       "      <th>108</th>\n",
       "      <td>GTEX-ZZ64</td>\n",
       "      <td>male</td>\n",
       "      <td>Jovem</td>\n",
       "      <td>25</td>\n",
       "      <td>0.000001</td>\n",
       "      <td>3.753111e-02</td>\n",
       "      <td>0.185770</td>\n",
       "      <td>2.604149e-02</td>\n",
       "      <td>0.000039</td>\n",
       "      <td>0.289014</td>\n",
       "      <td>0.354081</td>\n",
       "      <td>0.503746</td>\n",
       "      <td>0.718097</td>\n",
       "      <td>0.037088</td>\n",
       "      <td>0.377036</td>\n",
       "    </tr>\n",
       "    <tr>\n",
       "      <th>109</th>\n",
       "      <td>GTEX-ZZPU</td>\n",
       "      <td>female</td>\n",
       "      <td>Adulto</td>\n",
       "      <td>52</td>\n",
       "      <td>0.000000</td>\n",
       "      <td>1.586110e-02</td>\n",
       "      <td>0.067426</td>\n",
       "      <td>1.959858e-02</td>\n",
       "      <td>0.502779</td>\n",
       "      <td>0.581716</td>\n",
       "      <td>0.288227</td>\n",
       "      <td>0.700330</td>\n",
       "      <td>0.666243</td>\n",
       "      <td>0.043816</td>\n",
       "      <td>0.166901</td>\n",
       "    </tr>\n",
       "  </tbody>\n",
       "</table>\n",
       "<p>110 rows × 15 columns</p>\n",
       "</div>"
      ],
      "text/plain": [
       "       Amostra    Sexo Categoria Idade  Idade      MMP1          MMP3  \\\n",
       "0    GTEX-U8XE    male           Jovem     35  0.415301  1.959855e-02   \n",
       "1    GTEX-UPJH    male          Adulto     52  0.000005  7.996788e-03   \n",
       "2    GTEX-UPK5    male          Adulto     49  0.000000  7.149739e-03   \n",
       "3    GTEX-V1D1    male          Adulto     52  0.000000  0.000000e+00   \n",
       "4    GTEX-VJYA    male           Idoso     65  0.000000  1.969892e-02   \n",
       "..         ...     ...             ...    ...       ...           ...   \n",
       "105  GTEX-ZYVF  female          Adulto     52  0.000024  1.819350e-07   \n",
       "106  GTEX-ZYW4    male           Idoso     65  0.000023  5.150542e-03   \n",
       "107  GTEX-ZYY3  female           Idoso     65  0.000003  2.070253e-07   \n",
       "108  GTEX-ZZ64    male           Jovem     25  0.000001  3.753111e-02   \n",
       "109  GTEX-ZZPU  female          Adulto     52  0.000000  1.586110e-02   \n",
       "\n",
       "         MMP9         MMP11     MMP24     MMP27     BARD1     BCL7C   CLPTM1L  \\\n",
       "0    0.609227  8.821049e-02  0.000014  0.851644  0.354668  0.472280  0.910613   \n",
       "1    0.159422  3.882611e-02  0.503206  0.168324  0.491779  0.604135  0.656658   \n",
       "2    0.000003  4.746163e-02  0.000003  0.310585  0.215032  0.536110  0.690726   \n",
       "3    0.062979  1.321471e-06  0.000034  0.523176  0.488843  0.430027  0.459522   \n",
       "4    0.329350  3.710575e-02  0.444207  0.744908  0.250793  0.411447  0.618432   \n",
       "..        ...           ...       ...       ...       ...       ...       ...   \n",
       "105  0.142913  2.020577e-02  0.000032  0.095750  0.363183  0.539107  0.547407   \n",
       "106  0.168872  5.422500e-02  0.000013  0.103609  0.250000  0.706623  0.785079   \n",
       "107  0.071373  8.591668e-07  0.000021  0.000006  0.754844  0.472580  0.506640   \n",
       "108  0.185770  2.604149e-02  0.000039  0.289014  0.354081  0.503746  0.718097   \n",
       "109  0.067426  1.959858e-02  0.502779  0.581716  0.288227  0.700330  0.666243   \n",
       "\n",
       "         TERT    CDKN1A  \n",
       "0    0.456960  0.770863  \n",
       "1    0.020528  0.301729  \n",
       "2    0.000000  0.230042  \n",
       "3    0.183716  0.266740  \n",
       "4    0.223564  0.134728  \n",
       "..        ...       ...  \n",
       "105  0.106089  0.242711  \n",
       "106  0.312058  0.371003  \n",
       "107  0.312230  0.363262  \n",
       "108  0.037088  0.377036  \n",
       "109  0.043816  0.166901  \n",
       "\n",
       "[110 rows x 15 columns]"
      ]
     },
     "execution_count": 5,
     "metadata": {},
     "output_type": "execute_result"
    }
   ],
   "source": [
    "# Substituindo os intervalos dos valores das idades para a média, a fim de obter os dados em valores numéricos - para o \"data_artigo.csv\"\n",
    "df_data_art['Idade']=df_data_art['Idade'].replace('20-29',random.randint(20, 29))\n",
    "df_data_art['Idade']=df_data_art['Idade'].replace('30-39',random.randint(30, 39))\n",
    "df_data_art['Idade']=df_data_art['Idade'].replace('40-49',random.randint(40, 49))\n",
    "df_data_art['Idade']=df_data_art['Idade'].replace('50-59',random.randint(50, 59))\n",
    "df_data_art['Idade']=df_data_art['Idade'].replace('60-69',random.randint(60, 69))\n",
    "df_data_art['Idade']=df_data_art['Idade'].replace('70-79',random.randint(70, 79))\n",
    "df_data_art"
   ]
  },
  {
   "cell_type": "markdown",
   "id": "97666317-7c06-4fb3-8e87-36c199ac1965",
   "metadata": {},
   "source": [
    "<hr>"
   ]
  },
  {
   "cell_type": "markdown",
   "id": "0a35e864-1be9-4c40-aa04-1da1654e20c1",
   "metadata": {},
   "source": [
    "#### Dividindo o dataset em treino e teste"
   ]
  },
  {
   "cell_type": "code",
   "execution_count": 6,
   "id": "76757cd6-703a-4490-8387-728693493980",
   "metadata": {
    "tags": []
   },
   "outputs": [],
   "source": [
    "# Para o dataframe do \"data.csv\"\n",
    "from sklearn.model_selection import train_test_split\n",
    "\n",
    "TAMANHO_TESTE = 10\n",
    "\n",
    "indices = df_data.index\n",
    "indices_treino, indices_teste = train_test_split(\n",
    "    indices, test_size=TAMANHO_TESTE\n",
    ")\n",
    "\n",
    "df_treino = df_data.loc[indices_treino]\n",
    "df_teste = df_data.loc[indices_teste]"
   ]
  },
  {
   "cell_type": "code",
   "execution_count": 7,
   "id": "23dc7d1a-5f51-4f27-82ec-011a6b0fa122",
   "metadata": {
    "tags": []
   },
   "outputs": [],
   "source": [
    "# Para o dataframe do \"data_artigo.csv\"\n",
    "from sklearn.model_selection import train_test_split\n",
    "\n",
    "TAMANHO_TESTE_art = 10\n",
    "\n",
    "indices_art = df_data_art.index\n",
    "indices_treino_art, indices_teste_art = train_test_split(\n",
    "    indices_art, test_size=TAMANHO_TESTE_art\n",
    ")\n",
    "\n",
    "df_art_treino = df_data_art.loc[indices_treino_art]\n",
    "df_art_teste = df_data_art.loc[indices_teste_art]"
   ]
  },
  {
   "cell_type": "markdown",
   "id": "0701dccd-c7a0-4215-9bd9-cbddca44906e",
   "metadata": {},
   "source": [
    "--- "
   ]
  },
  {
   "cell_type": "markdown",
   "id": "4dadcdf7-78b2-49da-8ab7-9736ad86c990",
   "metadata": {},
   "source": [
    "#### Criando o modelo preditivo de base (baseline)"
   ]
  },
  {
   "cell_type": "markdown",
   "id": "f0bcee34-35f5-4c2f-a4f7-bcf3b721589e",
   "metadata": {},
   "source": [
    "- Para o dataframe do arquivo ***\"data.csv\"***:"
   ]
  },
  {
   "cell_type": "code",
   "execution_count": 8,
   "id": "c9aa408b-6120-4e91-b754-4f067d316a66",
   "metadata": {},
   "outputs": [
    {
     "data": {
      "text/plain": [
       "array(['Amostra', 'Sexo', 'Categoria Idade', 'Idade', 'URM1', 'TRAPPC3',\n",
       "       'GTF3C5', 'USP4', 'SCYL1', 'MLF2', 'DGCR14', 'ARAF', 'TCF25',\n",
       "       'HDAC3', 'RTFDC1', 'MTMR14', 'MANBAL', 'MRPL9', 'GPS1', 'GTF2F1',\n",
       "       'SMPD4', 'NRBP1', 'DNAJB12', 'SUPT5H'], dtype=object)"
      ]
     },
     "execution_count": 8,
     "metadata": {},
     "output_type": "execute_result"
    }
   ],
   "source": [
    "df_data.columns.values"
   ]
  },
  {
   "cell_type": "markdown",
   "id": "05edf5fb-ee17-4515-aad3-c1c141a533bc",
   "metadata": {},
   "source": [
    "> Queremos apenas os genes como features, então selecionaremos da quarta coluna para frente. Sendo assim, solicitamos ao Python que ele pegue os valores das colunas do nosso DataFrame, a partir do nosso primeiro gene."
   ]
  },
  {
   "cell_type": "code",
   "execution_count": 9,
   "id": "0a087370-c570-4107-ad6c-379c0dc224fb",
   "metadata": {},
   "outputs": [],
   "source": [
    "TAMANHO_TESTE = 10\n",
    "SEMENTE_ALEATORIA = 666\n",
    "FEATURES = df_data.columns.values[4:]\n",
    "TARGET = [\"Idade\"]\n",
    "\n",
    "indices_data = df_data.index\n",
    "indices_treino_data, indices_teste_data = train_test_split(\n",
    "    indices_data, test_size=TAMANHO_TESTE, random_state=SEMENTE_ALEATORIA\n",
    ")\n",
    "\n",
    "df_treino_data = df_data.loc[indices_treino_data]\n",
    "df_teste_data = df_data.loc[indices_teste_data]\n",
    "\n",
    "# observe que usamos o .values aqui pois queremos apenas os valores\n",
    "X_treino_data = df_treino_data.reindex(FEATURES, axis=1).values\n",
    "y_treino_data = df_treino_data.reindex(TARGET, axis=1).values\n",
    "X_teste_data = df_teste_data.reindex(FEATURES, axis=1).values\n",
    "y_teste_data = df_teste_data.reindex(TARGET, axis=1).values"
   ]
  },
  {
   "cell_type": "markdown",
   "id": "9beb402b-16d2-402d-a432-1c2c5886ac85",
   "metadata": {},
   "source": [
    "Treinando o modelo:"
   ]
  },
  {
   "cell_type": "code",
   "execution_count": 10,
   "id": "9f274dd1-505a-4302-a5c9-61b9da564d79",
   "metadata": {},
   "outputs": [
    {
     "name": "stdout",
     "output_type": "stream",
     "text": [
      "[50.61 50.61 50.61 50.61 50.61 50.61 50.61 50.61 50.61 50.61]\n"
     ]
    }
   ],
   "source": [
    "from sklearn.dummy import DummyRegressor\n",
    "\n",
    "# Criando o modelo\n",
    "modelo_baseline = DummyRegressor()\n",
    "\n",
    "# Treinando o modelo\n",
    "modelo_baseline.fit(X_treino_data, y_treino_data)\n",
    "\n",
    "# realiza uma previsão usando o modelo treinado\n",
    "previsao = modelo_baseline.predict(X_teste_data)\n",
    "print(previsao)"
   ]
  },
  {
   "cell_type": "markdown",
   "id": "88e71d9e-e910-4e86-b3b6-965e0797af9b",
   "metadata": {},
   "source": [
    "####"
   ]
  },
  {
   "cell_type": "markdown",
   "id": "1dd5f304-65ef-45d9-afd4-e301f5db6d47",
   "metadata": {},
   "source": [
    "- Para o dataframe do arquivo ***\"data_artigo.csv\"***:"
   ]
  },
  {
   "cell_type": "code",
   "execution_count": 11,
   "id": "8092af7c-05e1-43b7-943f-88246363002a",
   "metadata": {},
   "outputs": [
    {
     "data": {
      "text/plain": [
       "array(['Amostra', 'Sexo', 'Categoria Idade', 'Idade', 'MMP1', 'MMP3',\n",
       "       'MMP9', 'MMP11', 'MMP24', 'MMP27', 'BARD1', 'BCL7C', 'CLPTM1L',\n",
       "       'TERT', 'CDKN1A'], dtype=object)"
      ]
     },
     "execution_count": 11,
     "metadata": {},
     "output_type": "execute_result"
    }
   ],
   "source": [
    "df_data_art.columns.values"
   ]
  },
  {
   "cell_type": "markdown",
   "id": "21b7885b-c53e-42f6-83f4-9c68930bda9e",
   "metadata": {},
   "source": [
    "> Novamente, apenas desejamos os genes como as features, então trabalharemos a partir da quarta coluna para frente."
   ]
  },
  {
   "cell_type": "code",
   "execution_count": 12,
   "id": "687e7f0c-0dd6-46d6-a4c2-b1695a7b4cbb",
   "metadata": {},
   "outputs": [],
   "source": [
    "TAMANHO_TESTE_art = 10\n",
    "SEMENTE_ALEATORIA_art = 777\n",
    "FEATURES_art = df_data_art.columns.values[4:]\n",
    "TARGET_art = [\"Idade\"]\n",
    "\n",
    "indices_data_art = df_data_art.index\n",
    "indices_treino_data_art, indices_teste_data_art = train_test_split(\n",
    "    indices_data_art, test_size=TAMANHO_TESTE_art, random_state=SEMENTE_ALEATORIA_art\n",
    ")\n",
    "\n",
    "df_treino_data_art = df_data_art.loc[indices_treino_data_art]\n",
    "df_teste_data_art = df_data_art.loc[indices_teste_data_art]\n",
    "\n",
    "# observe que usamos o .values aqui pois queremos apenas os valores\n",
    "X_treino_data_art = df_treino_data_art.reindex(FEATURES_art, axis=1).values\n",
    "y_treino_data_art = df_treino_data_art.reindex(TARGET_art, axis=1).values\n",
    "X_teste_data_art = df_teste_data_art.reindex(FEATURES_art, axis=1).values\n",
    "y_teste_data_art = df_teste_data_art.reindex(TARGET_art, axis=1).values"
   ]
  },
  {
   "cell_type": "markdown",
   "id": "f8e2fdd9-1e95-4b79-9841-5b2def87b51e",
   "metadata": {},
   "source": [
    "Treinando o modelo (para o ***data_artigo.csv***):"
   ]
  },
  {
   "cell_type": "code",
   "execution_count": 13,
   "id": "7bab03a1-fa36-4fec-a2af-eebe174d9cf5",
   "metadata": {},
   "outputs": [
    {
     "name": "stdout",
     "output_type": "stream",
     "text": [
      "[50.94 50.94 50.94 50.94 50.94 50.94 50.94 50.94 50.94 50.94]\n"
     ]
    }
   ],
   "source": [
    "from sklearn.dummy import DummyRegressor\n",
    "\n",
    "# Criando o modelo\n",
    "modelo_baseline_art = DummyRegressor()\n",
    "\n",
    "# Treinando o modelo\n",
    "modelo_baseline_art.fit(X_treino_data_art, y_treino_data_art)\n",
    "\n",
    "# realiza uma previsão usando o modelo treinado\n",
    "previsao_art = modelo_baseline_art.predict(X_teste_data_art)\n",
    "print(previsao_art)"
   ]
  },
  {
   "cell_type": "markdown",
   "id": "1faf3113-f4c7-44ef-af9b-a5cf303e1090",
   "metadata": {
    "tags": []
   },
   "source": [
    "###"
   ]
  },
  {
   "cell_type": "markdown",
   "id": "6e84afab-c40d-4c86-af73-9be7e342b8f7",
   "metadata": {},
   "source": [
    "Agora, precisamos testar se o nosso modelo realmente é bom, e para isso, precisamos utilizar métricas - a raiz quadrada do erro quadrático médio (RMSE, root mean squared error) é um bom método para determinar a eficácia do algoritmo."
   ]
  },
  {
   "cell_type": "markdown",
   "id": "60784de8-87ae-415a-a5b6-e7f93797c260",
   "metadata": {},
   "source": [
    "- Testando para o dataframe do arquivo ***\"data.csv\"***:"
   ]
  },
  {
   "cell_type": "code",
   "execution_count": 14,
   "id": "93c84a88-866f-4b32-b861-09e3b1a84f1a",
   "metadata": {},
   "outputs": [
    {
     "name": "stdout",
     "output_type": "stream",
     "text": [
      "O RMSE do modelo baseline foi de 14.327529445092757 anos.\n"
     ]
    },
    {
     "data": {
      "image/png": "[encoded data removed]",
      "text/plain": [
       "<Figure size 432x288 with 1 Axes>"
      ]
     },
     "metadata": {
      "needs_background": "light"
     },
     "output_type": "display_data"
    }
   ],
   "source": [
    "from sklearn.metrics import mean_squared_error\n",
    "\n",
    "y_verdadeiro = y_teste_data\n",
    "y_previsao = modelo_baseline.predict(X_teste_data)\n",
    "\n",
    "RMSE = mean_squared_error(y_verdadeiro, y_previsao, squared=False)\n",
    "\n",
    "print(f\"O RMSE do modelo baseline foi de {RMSE} anos.\")\n",
    "\n",
    "fig, ax = plt.subplots()\n",
    "ax.scatter(y_verdadeiro, y_previsao)\n",
    "ax.plot([y_verdadeiro.min(), y_verdadeiro.max()], [y_verdadeiro.min(), y_verdadeiro.max()], 'k--', lw=4)\n",
    "ax.set_xlabel('Valor real')\n",
    "ax.set_ylabel('Previsão')\n",
    "plt.show()"
   ]
  },
  {
   "cell_type": "markdown",
   "id": "a6099859-93e3-4acf-8f7f-d24df8215cfb",
   "metadata": {},
   "source": [
    "- Testando para o dataframe do arquivo ***\"data_artigo.csv\"***:"
   ]
  },
  {
   "cell_type": "code",
   "execution_count": 15,
   "id": "4329089e-c8c2-473f-8875-3be958a58831",
   "metadata": {},
   "outputs": [
    {
     "name": "stdout",
     "output_type": "stream",
     "text": [
      "O RMSE do modelo baseline foi de 9.379344326763997 anos.\n"
     ]
    }
   ],
   "source": [
    "y_verdadeiro_art = y_teste_data_art\n",
    "y_previsao_art = modelo_baseline.predict(X_teste_data_art)\n",
    "\n",
    "RMSE_art = mean_squared_error(y_verdadeiro_art, y_previsao_art, squared=False)\n",
    "\n",
    "print(f\"O RMSE do modelo baseline foi de {RMSE_art} anos.\")"
   ]
  },
  {
   "cell_type": "code",
   "execution_count": 16,
   "id": "c8806d26-4914-4c1b-bfee-3dcf60f7ea37",
   "metadata": {},
   "outputs": [
    {
     "data": {
      "image/png": "[encoded data removed]",
      "text/plain": [
       "<Figure size 432x288 with 1 Axes>"
      ]
     },
     "metadata": {
      "needs_background": "light"
     },
     "output_type": "display_data"
    }
   ],
   "source": [
    "ig, ax = plt.subplots()\n",
    "ax.scatter(y_verdadeiro_art, y_previsao_art)\n",
    "ax.plot([y_verdadeiro_art.min(), y_verdadeiro_art.max()], [y_verdadeiro_art.min(), y_verdadeiro_art.max()], 'k--', lw=4)\n",
    "ax.set_xlabel('Valor real')\n",
    "ax.set_ylabel('Previsão')\n",
    "plt.show()"
   ]
  },
  {
   "cell_type": "markdown",
   "id": "91719377-46b8-4a33-bc17-621794b33084",
   "metadata": {},
   "source": [
    "---"
   ]
  },
  {
   "cell_type": "markdown",
   "id": "4fd6fde4-627c-4262-88ae-da6d6f50701e",
   "metadata": {
    "tags": []
   },
   "source": [
    "### <a id=\"vizinhos\">Tarefa 2 - k vizinhos mais próximos (k-NN)\n"
   ]
  },
  {
   "cell_type": "markdown",
   "id": "8ee56450-9a05-402e-a8ab-b7b362c4565e",
   "metadata": {},
   "source": [
    "[Voltar para o sumário](#sum)"
   ]
  },
  {
   "cell_type": "code",
   "execution_count": 17,
   "id": "e6468778-853a-4270-81de-b6818cd0d0a5",
   "metadata": {},
   "outputs": [],
   "source": [
    "# Relembrando o nome das variáveis do data.csv\n",
    "# observe que usamos o .values aqui, pois queremos apenas os valores\n",
    "# X_treino_data = df_treino_data.reindex(FEATURES, axis=1).values\n",
    "# y_treino_data = df_treino_data.reindex(TARGET, axis=1).values\n",
    "# X_teste_data = df_teste_data.reindex(FEATURES, axis=1).values\n",
    "# y_teste_data = df_teste_data.reindex(TARGET, axis=1).values\n",
    "\n",
    "# Relembrando o nome das variáveis do data.art.cvs\n",
    "# observe que usamos o .values aqui, pois queremos apenas os valores\n",
    "# X_treino_data_art = df_treino_data_art.reindex(FEATURES_art, axis=1).values\n",
    "# y_treino_data_art = df_treino_data_art.reindex(TARGET_art, axis=1).values\n",
    "# X_teste_data_art = df_teste_data_art.reindex(FEATURES_art, axis=1).values\n",
    "# y_teste_data_art = df_teste_data_art.reindex(TARGET_art, axis=1).values"
   ]
  },
  {
   "cell_type": "markdown",
   "id": "84676e01-af41-40ff-a652-0851ddb04f05",
   "metadata": {},
   "source": [
    "Proponho seguirmos a mesma ordem de raciocínio utilizada nos itens anteriores; \n",
    "\n",
    "1- Treinar;\n",
    "\n",
    "2- Testar e produzir o RMSE para ver se é um bom método;\n",
    "\n",
    "3- Determinando a quantidade ideal de vizinhos (Testando os Hiperparâmetros);\n",
    "\n",
    "4- Posteriormente comparar entre os dataframes (data.csv e data_artigo.csv);\n",
    "\n",
    "5- Comparar o RMSE com os Hiperparâmetros; (Produzindo gráficos);"
   ]
  },
  {
   "cell_type": "markdown",
   "id": "4c7f58eb-2125-4d46-84fb-9e374257fd57",
   "metadata": {},
   "source": [
    "- 1 - Treinando o K-NN para o dataframe do arquivo ***\"data.csv\"***;"
   ]
  },
  {
   "cell_type": "code",
   "execution_count": 18,
   "id": "29323bf3-948a-4502-9019-7ae0669f9e88",
   "metadata": {},
   "outputs": [
    {
     "name": "stdout",
     "output_type": "stream",
     "text": [
      "[[44.2]\n",
      " [45.6]\n",
      " [58.8]\n",
      " [46.2]\n",
      " [48.4]\n",
      " [49. ]\n",
      " [53.2]\n",
      " [56. ]\n",
      " [51.8]\n",
      " [53.2]]\n"
     ]
    }
   ],
   "source": [
    "from sklearn.neighbors import KNeighborsRegressor\n",
    "\n",
    "# cria o modelo\n",
    "modelo_knn = KNeighborsRegressor()\n",
    "\n",
    "# treina o modelo\n",
    "modelo_knn.fit(X_treino_data, y_treino_data)\n",
    "\n",
    "# realiza uma previsão usando o modelo treinado\n",
    "previsao = modelo_knn.predict(X_teste_data)\n",
    "print(previsao)"
   ]
  },
  {
   "cell_type": "markdown",
   "id": "315dee98-96e1-4a2b-828c-9fde4f1b6941",
   "metadata": {},
   "source": [
    "- 2 - Testando o K-NN para o dataframe do arquivo ***\"data.csv\"***;"
   ]
  },
  {
   "cell_type": "code",
   "execution_count": 19,
   "id": "51a4206d-d5ff-494c-bdee-a9a1c3bbf01d",
   "metadata": {},
   "outputs": [
    {
     "name": "stdout",
     "output_type": "stream",
     "text": [
      "O RMSE do modelo k-NN foi de 13.045918902093485 anos.\n"
     ]
    }
   ],
   "source": [
    "from sklearn.metrics import mean_squared_error\n",
    "#aqui estamos testando o modelo produzindo uma previsão e medindo o RMSE da previsão\n",
    "y_verdadeiro1 = y_teste_data\n",
    "y_previsao1 = modelo_knn.predict(X_teste_data)\n",
    "\n",
    "RMSE = mean_squared_error(y_verdadeiro1, y_previsao1, squared=False)\n",
    "\n",
    "print(f\"O RMSE do modelo k-NN foi de {RMSE} anos.\")"
   ]
  },
  {
   "cell_type": "markdown",
   "id": "6c1d69ec-bbfe-4475-b597-2a875349e214",
   "metadata": {},
   "source": [
    "- 3- Determinando a quantidade ideal de vizinhos para o ***\"data.csv\"*** (Testando os Hiperparâmetros);"
   ]
  },
  {
   "cell_type": "code",
   "execution_count": 20,
   "id": "5232d901-6f8c-442f-b100-f06a4468cc36",
   "metadata": {},
   "outputs": [
    {
     "name": "stdout",
     "output_type": "stream",
     "text": [
      "O RMSE do modelo k-NN usando k=1 foi de 18.283872675120005 anos.\n",
      "O RMSE do modelo k-NN usando k=5 foi de 13.045918902093485 anos.\n",
      "O RMSE do modelo k-NN usando k=10 foi de 13.349794005901364 anos.\n",
      "O RMSE do modelo k-NN usando k=25 foi de 13.81305469474439 anos.\n",
      "O RMSE do modelo k-NN usando k=30 foi de 13.912572251983695 anos.\n",
      "O RMSE do modelo k-NN usando k=100 foi de 14.327529445092757 anos.\n"
     ]
    }
   ],
   "source": [
    "NUM_VIZINHOS = [1, 5, 10, 25, 30, 100]\n",
    "#Aqui vamos testar valores diferentes de k (além do padrão de 5), para ver qual seria o melhor número de vizinhos para produzir o melhor RMSE \n",
    "for n in NUM_VIZINHOS:\n",
    "    modelo_knn = KNeighborsRegressor(n_neighbors=n)\n",
    "\n",
    "    modelo_knn.fit(X_treino_data, y_treino_data)\n",
    "\n",
    "    y_verdadeiro1 = y_teste_data\n",
    "    y_previsao1 = modelo_knn.predict(X_teste_data)\n",
    "    RMSE = mean_squared_error(y_verdadeiro1, y_previsao1, squared=False)\n",
    "    print(f\"O RMSE do modelo k-NN usando k={n} foi de {RMSE} anos.\")"
   ]
  },
  {
   "cell_type": "markdown",
   "id": "8abc45e1-015c-4115-bfd4-f8cc130856c5",
   "metadata": {},
   "source": [
    "- 1 - Treinando o K-NN para o dataframe do arquivo ***\"data_artigo.csv\"***;"
   ]
  },
  {
   "cell_type": "code",
   "execution_count": 21,
   "id": "06fe51e4-73fa-4726-9974-7fcc86863449",
   "metadata": {},
   "outputs": [
    {
     "name": "stdout",
     "output_type": "stream",
     "text": [
      "[[51.2]\n",
      " [56.6]\n",
      " [51.4]\n",
      " [56. ]\n",
      " [52.8]\n",
      " [51.8]\n",
      " [53.8]\n",
      " [44.6]\n",
      " [50. ]\n",
      " [52.8]]\n"
     ]
    }
   ],
   "source": [
    "from sklearn.neighbors import KNeighborsRegressor\n",
    "\n",
    "# cria o modelo\n",
    "modelo_knn = KNeighborsRegressor()\n",
    "\n",
    "# treina o modelo\n",
    "modelo_knn.fit(X_treino_data_art, y_treino_data_art)\n",
    "\n",
    "# realiza uma previsão usando o modelo treinado\n",
    "previsao_art = modelo_knn.predict(X_teste_data_art)\n",
    "print(previsao_art)"
   ]
  },
  {
   "cell_type": "markdown",
   "id": "c786cc5f-2198-4b3c-8037-4cd17da01d45",
   "metadata": {},
   "source": [
    "- 2 - Testando o K-NN para o dataframe do arquivo ***\"data_artigo.csv\"***;"
   ]
  },
  {
   "cell_type": "code",
   "execution_count": 22,
   "id": "4719cbd9-71b4-45b9-8cef-f3e1d96c4237",
   "metadata": {},
   "outputs": [
    {
     "name": "stdout",
     "output_type": "stream",
     "text": [
      "O RMSE do modelo k-NN foi de 11.091798772065783 anos.\n"
     ]
    }
   ],
   "source": [
    "from sklearn.metrics import mean_squared_error\n",
    "#aqui estamos testando o modelo produzindo uma previsão e medindo o RMSE da previsão\n",
    "y_verdadeiro2 = y_teste_data_art\n",
    "y_previsao2 = modelo_knn.predict(X_teste_data_art)\n",
    "\n",
    "RMSE = mean_squared_error(y_verdadeiro2, y_previsao2, squared=False)\n",
    "\n",
    "print(f\"O RMSE do modelo k-NN foi de {RMSE} anos.\")"
   ]
  },
  {
   "cell_type": "markdown",
   "id": "ad81b2f1-6031-4523-8824-ef10b0289d25",
   "metadata": {},
   "source": [
    "- 3- Determinando a quantidade ideal de vizinhos para o ***\"data_artigo.csv\"*** (Testando os Hiperparâmetros);"
   ]
  },
  {
   "cell_type": "code",
   "execution_count": 23,
   "id": "a78f28d6-3183-4e10-a611-e4cd04a9e705",
   "metadata": {},
   "outputs": [
    {
     "name": "stdout",
     "output_type": "stream",
     "text": [
      "O RMSE do modelo k-NN usando k=1 foi de 12.521980673998822 anos.\n",
      "O RMSE do modelo k-NN usando k=5 foi de 11.091798772065783 anos.\n",
      "O RMSE do modelo k-NN usando k=10 foi de 10.162578412981619 anos.\n",
      "O RMSE do modelo k-NN usando k=25 foi de 9.259218109538192 anos.\n",
      "O RMSE do modelo k-NN usando k=30 foi de 9.307601433475998 anos.\n",
      "O RMSE do modelo k-NN usando k=100 foi de 9.406572170562452 anos.\n"
     ]
    }
   ],
   "source": [
    "NUM_VIZINHOS = [1, 5, 10, 25, 30, 100]\n",
    "#Aqui vamos testar valores diferentes de k (além do padrão de 5), para ver qual seria o melhor número de vizinhos para produzir o melhor RMSE \n",
    "for n in NUM_VIZINHOS:\n",
    "    modelo_knn = KNeighborsRegressor(n_neighbors=n)\n",
    "\n",
    "    modelo_knn.fit(X_treino_data_art, y_treino_data_art)\n",
    "\n",
    "    y_verdadeiro2 = y_teste_data_art\n",
    "    y_previsao2 = modelo_knn.predict(X_teste_data_art)\n",
    "    RMSE = mean_squared_error(y_verdadeiro2, y_previsao2, squared=False)\n",
    "    print(f\"O RMSE do modelo k-NN usando k={n} foi de {RMSE} anos.\")"
   ]
  },
  {
   "cell_type": "markdown",
   "id": "368511d1-0163-479a-b85b-22e943f53448",
   "metadata": {},
   "source": [
    "- 4- Posteriormente comparar entre os dataframes (data.csv e data_artigo.csv)\n",
    "\n",
    "A diferença entre os dataframes continua sendo baixa data.csv = 13.6 anos e o data_artivo.csv = 11.6 anos.\n",
    "\n",
    "O melhor número de vizinhos para data.csv = 5 e para o data_artivo.csv = 30 (considerando o melhor RMSE)."
   ]
  },
  {
   "cell_type": "markdown",
   "id": "4b061ec9-a1e3-4e43-96b4-ce0701fe7faf",
   "metadata": {},
   "source": [
    "- 5- Comparar o RMSE com os Hiperparâmetros;"
   ]
  },
  {
   "cell_type": "code",
   "execution_count": 24,
   "id": "a5d77b83-54ec-4743-bcf0-221e9aed98a3",
   "metadata": {},
   "outputs": [],
   "source": [
    "#Aqui vamos plotar um gráfico de RMSE x Número de vizinhos para confirmar que o melhor número de vizinhos achado anteriormente é realmente o melhor\n",
    "def kn_plot(X_treino_data, y_treino_data, X_teste_data, y_teste_data, n=5):    \n",
    "    import matplotlib.pyplot as plt        \n",
    "    resultado_RMSE = []    \n",
    "    testes = [i for i in range(1, n) if i % 2 != 0] #Estamos escolhendo os números, impares para produzir os gráficos        \n",
    "    for k in testes:        \n",
    "        model = KNeighborsRegressor(n_neighbors=k)        \n",
    "        model.fit(X_treino_data, y_treino_data)        \n",
    "        previsao1 = model.predict(X_teste_data)        \n",
    "        rmse = mean_squared_error(y_teste_data, previsao1, squared=False)        \n",
    "        resultado_RMSE.append(rmse)       \n",
    "    plt.xlabel('Número de vizinhos')    \n",
    "    plt.ylabel('RMSE')\n",
    "    plt.plot(testes, resultado_RMSE)"
   ]
  },
  {
   "cell_type": "code",
   "execution_count": 25,
   "id": "a4e97615-3673-4ad1-8ea8-43a6c3ad1a78",
   "metadata": {},
   "outputs": [
    {
     "data": {
      "image/png": "[encoded data removed]",
      "text/plain": [
       "<Figure size 432x288 with 1 Axes>"
      ]
     },
     "metadata": {
      "needs_background": "light"
     },
     "output_type": "display_data"
    }
   ],
   "source": [
    "# ***\"data.csv\"***\n",
    "kn_plot(X_treino_data, y_treino_data, X_teste_data, y_teste_data, n=100)"
   ]
  },
  {
   "cell_type": "code",
   "execution_count": 26,
   "id": "146e8d90-cf5a-45f5-9c1d-d24c82126021",
   "metadata": {},
   "outputs": [
    {
     "data": {
      "image/png": "[encoded data removed]",
      "text/plain": [
       "<Figure size 432x288 with 1 Axes>"
      ]
     },
     "metadata": {
      "needs_background": "light"
     },
     "output_type": "display_data"
    }
   ],
   "source": [
    "# ***\"data_artigo.csv\"***\n",
    "kn_plot(X_treino_data_art, y_treino_data_art, X_teste_data_art, y_teste_data_art, n=100)"
   ]
  },
  {
   "cell_type": "markdown",
   "id": "36a05270-4d8a-4dcb-9649-0e28481e5421",
   "metadata": {},
   "source": [
    "- 5 - Comparar o RMSE com os Hiperparâmetros; \n",
    "\n",
    "Conclusão: Conforme comprovado na 4, aqui temos graficamente que os valores para data.csv = 5 e para o data_artivo.csv = 30 são os melhores valores de vizinhos que podemos encontrar considerando o RMSE.\n",
    "\n",
    "Temos 2 pontos mínimos globais nos dois gráficos: Isso levantou um questionamento pelo método utilizado pela KNN para escolher o melhor número de vizinhos. Por padrão o KNN utiliza a distância euclidiana e ela apresenta alguns problemas conforme o número de dimensões crescem e no nosso modelo nós temos 10 dimensões, mas mesmo que tenhamos duas opções de mínimos globais é melhor escolher o primeiro mínimo global que apareceu no gráfico, ou seja, para data.csv = 5 e para o data_artivo.csv = 31 (pois excluímos os números pares).\n",
    "\n",
    "OBS: uma solução para a existência desses dois pontos mínimos globais eficientes seria mudar o método para medir a distância entre os vizinhos, por exemplo, poderíamos utilizar o método da distância manhattan.\n",
    "\n",
    "Comentário do professor Daniel: Diferentemente dos outros grupos, o nosso modelo (KNN) deve reagir melhor com mais dados para ter como vizinhos para escolher de forma mais eficiente o local do novo dado, pois nosso projeto é computacionalmente mais complexo."
   ]
  },
  {
   "cell_type": "markdown",
   "id": "a87e7a68-8198-4236-8543-3beac449b1fe",
   "metadata": {
    "tags": []
   },
   "source": [
    "---\n",
    "\n",
    "### <a id=\"linear\">Tarefa 3 - Regressão Linear"
   ]
  },
  {
   "cell_type": "markdown",
   "id": "2cc794af-6511-4736-92d5-e14d45a1b354",
   "metadata": {},
   "source": [
    "[Voltar para o sumário](#sum)"
   ]
  },
  {
   "cell_type": "markdown",
   "id": "890e0968-9800-4606-861a-2acc232b43dd",
   "metadata": {},
   "source": [
    "#### Treinando um modelo linear para os datasets:"
   ]
  },
  {
   "cell_type": "markdown",
   "id": "ef8fb3e9-0760-4e4a-ba36-ef17694380ac",
   "metadata": {},
   "source": [
    "- Treinando para o dataframe do arquivo ***\"data.csv\"***: "
   ]
  },
  {
   "cell_type": "code",
   "execution_count": 27,
   "id": "28ca39d5-5104-45d2-ba82-4da74730cc01",
   "metadata": {},
   "outputs": [
    {
     "name": "stdout",
     "output_type": "stream",
     "text": [
      "[[48.68804466]\n",
      " [55.68630246]\n",
      " [56.10998567]\n",
      " [45.10384341]\n",
      " [43.3802607 ]\n",
      " [60.63517766]\n",
      " [48.83056194]\n",
      " [54.3302675 ]\n",
      " [52.83708692]\n",
      " [55.14089899]]\n"
     ]
    }
   ],
   "source": [
    "from sklearn.linear_model import LinearRegression\n",
    "\n",
    "# cria o modelo\n",
    "modelo_linear_data = LinearRegression()\n",
    "\n",
    "# treina o modelo\n",
    "modelo_linear_data.fit(X_treino_data, y_treino_data)\n",
    "\n",
    "# realiza uma previsão usando o modelo treinado\n",
    "previsao_data = modelo_linear_data.predict(X_teste_data)\n",
    "print(previsao_data)"
   ]
  },
  {
   "cell_type": "code",
   "execution_count": 28,
   "id": "fee97819-8886-4fde-9a57-d3b113fb0716",
   "metadata": {},
   "outputs": [
    {
     "name": "stdout",
     "output_type": "stream",
     "text": [
      "O RMSE do modelo linear foi de 17.392842874292885 anos\n"
     ]
    }
   ],
   "source": [
    "y_verdadeiro_data = y_teste_data\n",
    "y_previsao_data = modelo_linear_data.predict(X_teste_data)\n",
    "\n",
    "RMSE_data2 = mean_squared_error(y_verdadeiro_data, y_previsao_data, squared=False)\n",
    "\n",
    "print(f\"O RMSE do modelo linear foi de {RMSE_data2} anos\")"
   ]
  },
  {
   "cell_type": "code",
   "execution_count": 29,
   "id": "fa7c2973-8985-4b6a-a157-e7c5587fb630",
   "metadata": {},
   "outputs": [
    {
     "data": {
      "image/png": "[encoded data removed]",
      "text/plain": [
       "<Figure size 432x288 with 1 Axes>"
      ]
     },
     "metadata": {
      "needs_background": "light"
     },
     "output_type": "display_data"
    }
   ],
   "source": [
    "fig, ax = plt.subplots()\n",
    "ax.scatter(y_verdadeiro_data, y_previsao_data)\n",
    "ax.plot([y_verdadeiro_data.min(), y_verdadeiro_data.max()], [y_verdadeiro_data.min(), y_verdadeiro_data.max()], 'k--', lw=4)\n",
    "ax.set_xlabel('Valor real')\n",
    "ax.set_ylabel('Previsão')\n",
    "plt.show()"
   ]
  },
  {
   "cell_type": "markdown",
   "id": "d1bd196d-7a69-460e-8be0-141f19eb747d",
   "metadata": {},
   "source": [
    "> O valor de RMSE do caso linear (no caso dos genes identificados como relevantes no bloco anterior) foi maior do que aquele obtido a partir da previsão de baseline, ou seja, obtivemos uma piora na performance de predição. Normalmente, o RMSE do modelo linear demonstraria um valor menor em comparação ao valor de RMSE do modelo baseline, implicando em uma melhora, mas curiosamente, o caso oposto ocorreu. Isso pode ser por conta dos valores quais estamos trabalhando no o *dataset* escolhido. "
   ]
  },
  {
   "cell_type": "markdown",
   "id": "8a61de04-87f3-4e59-a37d-75e0320c4e4c",
   "metadata": {},
   "source": [
    "- Treinando para o dataframe do arquivo ***\"data_artigo.csv\"***: "
   ]
  },
  {
   "cell_type": "code",
   "execution_count": 30,
   "id": "c47251f8-3d82-4b26-b9ab-46dc515fe2b4",
   "metadata": {},
   "outputs": [
    {
     "name": "stdout",
     "output_type": "stream",
     "text": [
      "[[54.18139477]\n",
      " [54.30403899]\n",
      " [49.07843573]\n",
      " [49.36306758]\n",
      " [51.28434027]\n",
      " [50.4619893 ]\n",
      " [52.82185574]\n",
      " [50.19386057]\n",
      " [53.44940319]\n",
      " [51.28309518]]\n"
     ]
    }
   ],
   "source": [
    "# cria o modelo\n",
    "modelo_linear_art = LinearRegression()\n",
    "\n",
    "# treina o modelo\n",
    "modelo_linear_art.fit(X_treino_data_art, y_treino_data_art)\n",
    "\n",
    "# realiza uma previsão usando o modelo treinado\n",
    "previsao_art2 = modelo_linear_art.predict(X_teste_data_art)\n",
    "print(previsao_art2)"
   ]
  },
  {
   "cell_type": "code",
   "execution_count": 31,
   "id": "1b5b0f2a-713e-48a8-94ab-f295ec9cb5d4",
   "metadata": {},
   "outputs": [
    {
     "name": "stdout",
     "output_type": "stream",
     "text": [
      "O RMSE do modelo linear foi de 9.187703163029754 anos\n"
     ]
    }
   ],
   "source": [
    "y_verdadeiro_art2 = y_teste_data_art\n",
    "y_previsao_art2 = modelo_linear_art.predict(X_teste_data_art)\n",
    "\n",
    "RMSE_art2 = mean_squared_error(y_verdadeiro_art2, y_previsao_art2, squared=False)\n",
    "\n",
    "print(f\"O RMSE do modelo linear foi de {RMSE_art2} anos\")"
   ]
  },
  {
   "cell_type": "markdown",
   "id": "9156d56a-40a6-4981-abbf-ef2ece9c49d9",
   "metadata": {},
   "source": [
    "> Já nesse caso, obtivemos o resultado normalmente esperado, no qual um valor menor de RMSE foi observado no caso do modelo linear (9.496874730058186 anos), enquanto o RMSE do modelo baseline teve um valor maior (10.205880657738458 anos.). Portanto, no caso do dataset contendo os genes que possuem sua expressão modificada em função do tempo confirmadada de acordo com a literatura, o modelo linear se prova um pouco mais eficaz."
   ]
  },
  {
   "cell_type": "code",
   "execution_count": 32,
   "id": "12c058af-0e40-4901-8af3-679b3d398b15",
   "metadata": {},
   "outputs": [
    {
     "data": {
      "image/png": "[encoded data removed]",
      "text/plain": [
       "<Figure size 432x288 with 1 Axes>"
      ]
     },
     "metadata": {
      "needs_background": "light"
     },
     "output_type": "display_data"
    }
   ],
   "source": [
    "ig, ax = plt.subplots()\n",
    "ax.scatter(y_verdadeiro_art2, y_previsao_art2)\n",
    "ax.plot([y_verdadeiro_art2.min(), y_verdadeiro_art2.max()], [y_verdadeiro_art2.min(), y_verdadeiro_art2.max()], 'k--', lw=4)\n",
    "ax.set_xlabel('Valor real')\n",
    "ax.set_ylabel('Previsão')\n",
    "plt.show()"
   ]
  },
  {
   "cell_type": "markdown",
   "id": "c4f7f722-89a3-4cd2-8d61-020ec93c30ab",
   "metadata": {},
   "source": [
    "###\n",
    "#### Normalizando os dados\n",
    "Vamos utilizar a normalização pelo mínimo e máximo (função `MinMaxScaler`). </br>\n",
    "<u>A normalização nesse caso só foi realizada como um teste, visto que nossos dados originais já se encontravam normalizados.</u>"
   ]
  },
  {
   "cell_type": "markdown",
   "id": "399d4a23-22e5-4c47-91fa-3882d43f6330",
   "metadata": {},
   "source": [
    "- Para o dataframe do arquivo ***\"data.csv\"***: "
   ]
  },
  {
   "cell_type": "code",
   "execution_count": 33,
   "id": "cb4a5cca-1964-4fbf-87f0-adba42867f29",
   "metadata": {},
   "outputs": [
    {
     "data": {
      "text/plain": [
       "MinMaxScaler()"
      ]
     },
     "execution_count": 33,
     "metadata": {},
     "output_type": "execute_result"
    }
   ],
   "source": [
    "from sklearn.preprocessing import MinMaxScaler\n",
    "\n",
    "normalizador_x = MinMaxScaler()\n",
    "normalizador_y = MinMaxScaler()\n",
    "\n",
    "normalizador_x.fit(X_treino_data)\n",
    "normalizador_y.fit(y_treino_data)"
   ]
  },
  {
   "cell_type": "code",
   "execution_count": 34,
   "id": "8f1d707c-431b-47df-a26b-f23fa0ce21c4",
   "metadata": {
    "tags": []
   },
   "outputs": [
    {
     "name": "stdout",
     "output_type": "stream",
     "text": [
      "[[55.20046406]\n",
      " [50.43767824]\n",
      " [44.12942358]\n",
      " [55.67703209]\n",
      " [46.35960876]\n",
      " [45.8264292 ]\n",
      " [53.91744297]\n",
      " [52.80750546]\n",
      " [59.72728225]\n",
      " [47.99585275]\n",
      " [56.19708101]\n",
      " [52.83508308]\n",
      " [53.40990011]\n",
      " [42.17392175]\n",
      " [50.19825461]\n",
      " [61.10680784]\n",
      " [52.7080271 ]\n",
      " [51.99718541]\n",
      " [54.03103906]\n",
      " [48.15500159]\n",
      " [61.13451386]\n",
      " [65.17006645]\n",
      " [50.25640119]\n",
      " [50.45724099]\n",
      " [57.37536787]\n",
      " [53.91095435]\n",
      " [49.91397018]\n",
      " [47.64149372]\n",
      " [48.57356379]\n",
      " [54.81209859]\n",
      " [44.87068628]\n",
      " [45.3195411 ]\n",
      " [55.9898328 ]\n",
      " [56.22746607]\n",
      " [44.66061402]\n",
      " [38.55859297]\n",
      " [52.65916777]\n",
      " [50.70670083]\n",
      " [50.4676195 ]\n",
      " [56.02326285]\n",
      " [46.79373062]\n",
      " [43.0466345 ]\n",
      " [43.1317485 ]\n",
      " [50.57023448]\n",
      " [48.46509656]\n",
      " [44.70316437]\n",
      " [49.85202291]\n",
      " [55.22645889]\n",
      " [48.46272191]\n",
      " [47.26903157]\n",
      " [47.54316199]\n",
      " [60.61157736]\n",
      " [46.83085481]\n",
      " [49.90772427]\n",
      " [43.51711933]\n",
      " [55.85692747]\n",
      " [61.04471668]\n",
      " [48.44239783]\n",
      " [57.5176313 ]\n",
      " [46.65920981]\n",
      " [50.51175166]\n",
      " [48.24178613]\n",
      " [47.11731303]\n",
      " [53.57573904]\n",
      " [59.05348351]\n",
      " [48.34099859]\n",
      " [45.20346046]\n",
      " [50.38148496]\n",
      " [58.10085868]\n",
      " [58.20973697]\n",
      " [46.5627018 ]\n",
      " [42.48005847]\n",
      " [51.11360256]\n",
      " [41.05586016]\n",
      " [46.11326948]\n",
      " [50.397844  ]\n",
      " [56.30331821]\n",
      " [53.73784817]\n",
      " [54.96406221]\n",
      " [59.00327457]\n",
      " [48.89140718]\n",
      " [45.90686294]\n",
      " [48.72806662]\n",
      " [29.29817893]\n",
      " [47.46689641]\n",
      " [59.87267928]\n",
      " [49.93609887]\n",
      " [49.87103193]\n",
      " [56.20711184]\n",
      " [50.93423703]\n",
      " [45.50535729]\n",
      " [56.06643341]\n",
      " [49.75435648]\n",
      " [52.76898618]\n",
      " [51.34254216]\n",
      " [48.19364127]\n",
      " [46.18468512]\n",
      " [44.03983322]\n",
      " [54.09546895]\n",
      " [40.39533095]]\n"
     ]
    }
   ],
   "source": [
    "# Ajustando o modelo:\n",
    "\n",
    "from sklearn.linear_model import LinearRegression\n",
    "\n",
    "# cria o modelo\n",
    "modelo_linear_dn = LinearRegression()\n",
    "\n",
    "# treina o modelo\n",
    "modelo_linear_dn.fit(\n",
    "    normalizador_x.transform(X_treino_data),\n",
    "    normalizador_y.transform(y_treino_data),\n",
    ")\n",
    "\n",
    "# realiza uma previsão usando o modelo treinado\n",
    "previsao1 = modelo_linear_dn.predict(normalizador_x.transform(X_treino_data))\n",
    "previsao1 = normalizador_y.inverse_transform(previsao1)\n",
    "print(previsao1)"
   ]
  },
  {
   "cell_type": "code",
   "execution_count": 35,
   "id": "4aaeb91c-5f75-4ea9-81f5-9a1c50837b53",
   "metadata": {},
   "outputs": [
    {
     "name": "stdout",
     "output_type": "stream",
     "text": [
      "O RMSE do modelo linear foi de 1966.467711760821 anos.\n"
     ]
    }
   ],
   "source": [
    "from sklearn.metrics import mean_squared_error\n",
    "\n",
    "y_verdadeiro = y_teste_data\n",
    "y_previsao_n = modelo_linear_dn.predict(normalizador_x.transform(X_teste_data))\n",
    "y_previsao_n = normalizador_y.inverse_transform(y_previsao_data)\n",
    "\n",
    "RMSE_dn = mean_squared_error(y_verdadeiro, y_previsao_n, squared=False)\n",
    "\n",
    "print(f\"O RMSE do modelo linear foi de {RMSE_dn} anos.\")"
   ]
  },
  {
   "cell_type": "markdown",
   "id": "577c0590-5e1d-47de-aa8d-125eeb1aeb40",
   "metadata": {},
   "source": [
    "###\n",
    "- Para o dataframe do arquivo ***\"data_artigo.csv\"***:"
   ]
  },
  {
   "cell_type": "code",
   "execution_count": 36,
   "id": "cf76cf56-4c5d-4a23-96c5-f113a55b2167",
   "metadata": {},
   "outputs": [
    {
     "data": {
      "text/plain": [
       "MinMaxScaler()"
      ]
     },
     "execution_count": 36,
     "metadata": {},
     "output_type": "execute_result"
    }
   ],
   "source": [
    "normalizador_x = MinMaxScaler()\n",
    "normalizador_y = MinMaxScaler()\n",
    "\n",
    "normalizador_x.fit(X_treino_data_art)\n",
    "normalizador_y.fit(y_treino_data_art)"
   ]
  },
  {
   "cell_type": "code",
   "execution_count": 37,
   "id": "02b21e0a-a887-4f74-9ca2-5234c05bb60a",
   "metadata": {
    "tags": []
   },
   "outputs": [
    {
     "name": "stdout",
     "output_type": "stream",
     "text": [
      "[[50.10766074]\n",
      " [48.20227138]\n",
      " [49.31370289]\n",
      " [52.81664961]\n",
      " [51.08377022]\n",
      " [51.19101837]\n",
      " [48.77963216]\n",
      " [49.66927908]\n",
      " [56.43539992]\n",
      " [48.19005086]\n",
      " [50.02816441]\n",
      " [43.63537675]\n",
      " [55.34089837]\n",
      " [51.22844113]\n",
      " [50.75136222]\n",
      " [51.94750465]\n",
      " [53.80091592]\n",
      " [48.54513009]\n",
      " [49.46528781]\n",
      " [50.46702001]\n",
      " [51.05005408]\n",
      " [51.77983075]\n",
      " [49.02868381]\n",
      " [48.91690707]\n",
      " [45.24722683]\n",
      " [49.37579761]\n",
      " [58.0138299 ]\n",
      " [50.05380374]\n",
      " [52.57451297]\n",
      " [52.54947136]\n",
      " [53.79554416]\n",
      " [51.86113321]\n",
      " [49.81484754]\n",
      " [50.47999589]\n",
      " [53.79910615]\n",
      " [52.97292747]\n",
      " [50.16660811]\n",
      " [51.58729739]\n",
      " [51.95091428]\n",
      " [48.9717203 ]\n",
      " [53.16804618]\n",
      " [50.34737195]\n",
      " [50.16374514]\n",
      " [49.84290077]\n",
      " [51.38194669]\n",
      " [50.97119955]\n",
      " [50.39243076]\n",
      " [48.94694968]\n",
      " [53.06890913]\n",
      " [51.77421424]\n",
      " [53.89596754]\n",
      " [51.42113922]\n",
      " [52.28232207]\n",
      " [49.12314092]\n",
      " [53.08034916]\n",
      " [52.80609643]\n",
      " [46.32273396]\n",
      " [48.3387228 ]\n",
      " [45.65839515]\n",
      " [50.26690254]\n",
      " [45.20373085]\n",
      " [49.33463273]\n",
      " [49.73244706]\n",
      " [52.90736737]\n",
      " [51.9992362 ]\n",
      " [51.77713279]\n",
      " [50.54843421]\n",
      " [53.32827531]\n",
      " [50.61687753]\n",
      " [50.84587797]\n",
      " [52.18041069]\n",
      " [53.13032188]\n",
      " [53.50500644]\n",
      " [51.50378146]\n",
      " [51.45884162]\n",
      " [55.05538627]\n",
      " [52.48115369]\n",
      " [48.35761956]\n",
      " [51.09611804]\n",
      " [50.84711186]\n",
      " [51.04149194]\n",
      " [53.14652967]\n",
      " [50.43063324]\n",
      " [53.1110113 ]\n",
      " [35.18191073]\n",
      " [51.92953902]\n",
      " [47.61049965]\n",
      " [51.34819654]\n",
      " [52.29070074]\n",
      " [50.32028138]\n",
      " [49.40125273]\n",
      " [56.34949621]\n",
      " [52.81815165]\n",
      " [54.08482119]\n",
      " [51.4650053 ]\n",
      " [50.74043097]\n",
      " [51.23956068]\n",
      " [56.10996653]\n",
      " [52.28167432]\n",
      " [48.94584955]]\n"
     ]
    }
   ],
   "source": [
    "# Ajustando o modelo:\n",
    "\n",
    "# cria o modelo\n",
    "modelo_linear_artn = LinearRegression()\n",
    "\n",
    "# treina o modelo\n",
    "modelo_linear_artn.fit(\n",
    "    normalizador_x.transform(X_treino_data_art),\n",
    "    normalizador_y.transform(y_treino_data_art),\n",
    ")\n",
    "\n",
    "# realiza uma previsão usando o modelo treinado\n",
    "previsao2 = modelo_linear_artn.predict(normalizador_x.transform(X_treino_data_art))\n",
    "previsao2 = normalizador_y.inverse_transform(previsao2)\n",
    "print(previsao2)"
   ]
  },
  {
   "cell_type": "code",
   "execution_count": 38,
   "id": "b0d78e44-3c2e-4cac-9c7c-5ee36c641279",
   "metadata": {},
   "outputs": [
    {
     "name": "stdout",
     "output_type": "stream",
     "text": [
      "O RMSE do modelo linear foi de 9.187703163029756 anos.\n"
     ]
    }
   ],
   "source": [
    "from sklearn.metrics import mean_squared_error\n",
    "\n",
    "y_verdadeiro = y_teste_data_art\n",
    "y_previsao_artn = modelo_linear_artn.predict(normalizador_x.transform(X_teste_data_art))\n",
    "y_previsao_artn = normalizador_y.inverse_transform(y_previsao_artn)\n",
    "\n",
    "RMSE_artn = mean_squared_error(y_verdadeiro, y_previsao_artn, squared=False)\n",
    "\n",
    "print(f\"O RMSE do modelo linear foi de {RMSE_artn} anos.\")"
   ]
  },
  {
   "cell_type": "markdown",
   "id": "491348ab-fb03-4cf3-9bb8-40897660bb90",
   "metadata": {},
   "source": [
    "---\n",
    "\n",
    "### <a id=\"decisao\">Tarefa 4 - Árvore de Decisão"
   ]
  },
  {
   "cell_type": "markdown",
   "id": "26107ec9-6d75-4a09-b537-1985f818c440",
   "metadata": {},
   "source": [
    "[Voltar para o sumário](#sum)"
   ]
  },
  {
   "cell_type": "markdown",
   "id": "14fa6f6b-1982-4f85-ae72-1144931b15a7",
   "metadata": {},
   "source": [
    "Começando com uma breve introdução, o algoritmo consiste basicamente em uma lógica de grafos direcionais, tomando decisões a partir da checagem da informação do tipo de vértice no qual a instância se encontra, sendo as categorias de vértice retratadas abaixo, de acordo com o notebook ***\"b2a2.1 - arvore de decisao\"*** disponibilizado para nós pelos professores:\n",
    "\n",
    "-   *Vértice raiz*: é um vértice cauda que é ligado a dois vértices cabeça. Em outras palavras, existem duas setas que saem dele e nenhuma seta que chega nele. (Ou seja, é comparável a uma casa inicial de um jogo de tabuleiro).\n",
    "\n",
    "-   *Vértice de decisão*: é um vértice que atua como cabeça para outro vértice e como cauda para dois outros vértices cabeça. Em outras palavras, existe uma seta que chega nele e duas setas que saem dele.\n",
    "\n",
    "-   *Vértice folha*: é um vértice cabeça de um outro vértice. Em outras palavras, existe uma seta que chega nele e nenhuma seta que sai dele. (Como se fossem os \"dead-ends\" de uma via)\n",
    "\n",
    "Ao navegar por uma árvore de decisão, a instância sempre iniciará no vértice raiz. O vértice raiz e os vértices de decisão possuem o que são chamados de *condicionais*, enquanto os vértices folhas possuem *valores de resposta*. Sabendo disso, a instâcia checará o condicional presente em um determinado vértice, sendo que a resposta ao condicional é sempre binária, ou seja, `True` ou `False`, sendo assim, caso o retorno for `True`, a seta da esquerda será seguida; já caso for `False`, seguirá para a seta da direita. O mesmo procedimento é repetido até que eventualmente um vértice folha for atingido. <br>\n",
    "\n",
    "####\n",
    "Com os dados já previamente importados no notebook, vamos partir diretamente para o treinamento dos modelos utilizando ambos os *datasets*, fazendo uso do algoritmo da árvore de decisão, também pelo `scikit-learn`:"
   ]
  },
  {
   "cell_type": "markdown",
   "id": "ba20ecbe-8125-40df-a3b2-0aaf7a4fcce4",
   "metadata": {},
   "source": [
    "- Para o dataframe do arquivo ***\"data.csv\"***: "
   ]
  },
  {
   "cell_type": "code",
   "execution_count": 39,
   "id": "2a8092f1-4ee6-4c17-b12e-122d701f78b7",
   "metadata": {},
   "outputs": [],
   "source": [
    "# Relembrando as variáveis:\n",
    "# X_treino_data = df_treino_data.reindex(FEATURES, axis=1).values\n",
    "# y_treino_data = df_treino_data.reindex(TARGET, axis=1).values\n",
    "# X_teste_data = df_teste_data.reindex(FEATURES, axis=1).values\n",
    "# y_teste_data = df_teste_data.reindex(TARGET, axis=1).values"
   ]
  },
  {
   "cell_type": "code",
   "execution_count": 40,
   "id": "d7dee745-1c46-4289-84ce-6d26d76933ff",
   "metadata": {},
   "outputs": [
    {
     "name": "stdout",
     "output_type": "stream",
     "text": [
      "[25. 25. 63. 56. 35. 63. 42. 25. 42. 63.]\n"
     ]
    }
   ],
   "source": [
    "from sklearn.tree import DecisionTreeRegressor\n",
    "\n",
    "# cria o modelo\n",
    "modelo_dt_data = DecisionTreeRegressor(random_state=666)\n",
    "\n",
    "# treina o modelo\n",
    "modelo_dt_data.fit(X_treino_data, y_treino_data)\n",
    "\n",
    "# realiza uma previsão usando o modelo treinado\n",
    "previsao = modelo_dt_data.predict(X_teste_data)\n",
    "print(previsao)"
   ]
  },
  {
   "cell_type": "code",
   "execution_count": 41,
   "id": "42855331-9f55-4a9c-9231-4d86ab217d9f",
   "metadata": {},
   "outputs": [
    {
     "name": "stdout",
     "output_type": "stream",
     "text": [
      "O RMSE do modelo árvore de decisão foi de 18.601075237738275 anos\n"
     ]
    }
   ],
   "source": [
    "# Assim como feito nos outros algoritmos de treinamento, aqui calcularemos o RMSE\n",
    "from sklearn.metrics import mean_squared_error\n",
    "\n",
    "y_verdadeiro_dt_data = y_teste_data\n",
    "y_previsao_dt_data = modelo_dt_data.predict(X_teste_data)\n",
    "\n",
    "RMSE_dt_data = mean_squared_error(y_verdadeiro_dt_data, y_previsao_dt_data, squared=False)\n",
    "\n",
    "print(f\"O RMSE do modelo árvore de decisão foi de {RMSE_dt_data} anos\")"
   ]
  },
  {
   "cell_type": "markdown",
   "id": "c04d7b27-effe-4beb-8f74-78c4f878d3aa",
   "metadata": {},
   "source": [
    "> A partir do valor de RMSE encontrado através da aplicação desse método, é possível inferir que esse método não aparenta ser tão eficaz em relação aos outros testados previamente, já que aparenta ser maior do que os outros, implicando em uma margem de erro média maior."
   ]
  },
  {
   "cell_type": "markdown",
   "id": "805fe5b1-a16b-4d6b-8362-fa78b7a91db6",
   "metadata": {},
   "source": [
    "####\n",
    "- Para o dataframe do arquivo ***\"data_artigo.csv\"***:"
   ]
  },
  {
   "cell_type": "code",
   "execution_count": 42,
   "id": "744f805d-6473-46f3-a903-788a1227d3db",
   "metadata": {},
   "outputs": [],
   "source": [
    "# Relembrando as variáveis para o dataset em questão:\n",
    "# X_treino_data_art = df_treino_data_art.reindex(FEATURES_art, axis=1).values\n",
    "# y_treino_data_art = df_treino_data_art.reindex(TARGET_art, axis=1).values\n",
    "# X_teste_data_art = df_teste_data_art.reindex(FEATURES_art, axis=1).values\n",
    "# y_teste_data_art = df_teste_data_art.reindex(TARGET_art, axis=1).values"
   ]
  },
  {
   "cell_type": "code",
   "execution_count": 43,
   "id": "3c109953-4f4e-4971-b37d-52c80c198df2",
   "metadata": {},
   "outputs": [
    {
     "name": "stdout",
     "output_type": "stream",
     "text": [
      "[49. 52. 25. 35. 52. 49. 52. 65. 25. 52.]\n"
     ]
    }
   ],
   "source": [
    "from sklearn.tree import DecisionTreeRegressor\n",
    "\n",
    "# cria o modelo\n",
    "modelo_dt_art = DecisionTreeRegressor(random_state=777)\n",
    "\n",
    "# treina o modelo\n",
    "modelo_dt_art.fit(X_treino_data_art, y_treino_data_art)\n",
    "\n",
    "# realiza uma previsão usando o modelo treinado\n",
    "previsao2 = modelo_dt_art.predict(X_teste_data_art)\n",
    "print(previsao2)"
   ]
  },
  {
   "cell_type": "code",
   "execution_count": 44,
   "id": "aeba79e7-c03f-40c8-9b15-67c50cd9eae7",
   "metadata": {},
   "outputs": [
    {
     "name": "stdout",
     "output_type": "stream",
     "text": [
      "O RMSE do modelo árvore de decisão foi de 13.527749258468683 anos\n"
     ]
    }
   ],
   "source": [
    "from sklearn.metrics import mean_squared_error\n",
    "\n",
    "y_verdadeiro_dt_art = y_teste_data_art\n",
    "y_previsao_dt_art = modelo_dt_art.predict(X_teste_data_art)\n",
    "\n",
    "RMSE_dt_art = mean_squared_error(y_verdadeiro_dt_art, y_previsao_dt_art, squared=False)\n",
    "\n",
    "print(f\"O RMSE do modelo árvore de decisão foi de {RMSE_dt_art} anos\")"
   ]
  },
  {
   "cell_type": "markdown",
   "id": "387c93e0-de9b-49de-bcb7-4056e2bf9589",
   "metadata": {},
   "source": [
    "> Novamente é possível notar que o valor de RMSE obtido a partir do método de árvore de decisão foi maior do que os anteriores até para o dataset com os dados referentes ao arquivo *\"dados_artigo.csv\"*, implicando em sua menor eficiência."
   ]
  },
  {
   "cell_type": "markdown",
   "id": "33070b56-7695-4d65-8cb5-070d6cbd8a72",
   "metadata": {},
   "source": [
    "####\n",
    "Como o *feature* e certos dados selecionados por nós já se tratavam de dados ordinais e dados categóricos originalmente e já foram tranformados em dados numéricos com sucesso, partiremos diretamente para a definição dos hiperparâmetros.\n",
    "</br>\n",
    "\n",
    "### Hiperparâmetros: \n",
    "Assim como no modelo de *k-NN*, podemos definir diferentes hiperparâmetros (ou seja, o conjunto de parâmetros definidos em um momento anterior ao treino dos modelos e que não se alteram durante o treino, de acordo com o notebook ***\"b2a1.3 - k vizinhos mais proximos\"***) a fim de melhorar a performance do modelo. Utilizaremos em primeira instância dois dos dez hiperparâmetros que o `scikit-learn` nos permite configurar, sendo eles (assim como afirmado no notebook ***\"b2a2.1 - arvore de decisao\"***):\n",
    "\n",
    "-   `max_leaf_nodes`: que controla o número máximo de *vértices folha* permitidos na árvore de decisão. O valor padrão é `None` que indica para o `scikit-learn` que não existe limite para esse número.\n",
    "\n",
    "-   `max_depth`: que controla a profundidade máxima da árvore de decisão, ou seja, o número máximo de *vértices de decisão* que podem ser visitados até se atingir um vértice folha. O valor padrão é `None` que indica para o `scikit-learn` que não existe limite para esse número."
   ]
  },
  {
   "cell_type": "markdown",
   "id": "f95f5489-e22f-497e-9e84-911241f9a55d",
   "metadata": {},
   "source": [
    "- Para o dataframe do arquivo ***\"data.csv\"***: "
   ]
  },
  {
   "cell_type": "code",
   "execution_count": 45,
   "id": "bf6e5b87-fba8-4731-be96-b3bfcdbfd4cb",
   "metadata": {},
   "outputs": [
    {
     "name": "stdout",
     "output_type": "stream",
     "text": [
      "O RMSE do modelo AD usando max_leaf_nodes=None e max_depth=None foi de 18.60 anos.\n",
      "O RMSE do modelo AD usando max_leaf_nodes=None e max_depth=3 foi de 10.41 anos.\n",
      "O RMSE do modelo AD usando max_leaf_nodes=None e max_depth=10 foi de 17.74 anos.\n",
      "O RMSE do modelo AD usando max_leaf_nodes=6 e max_depth=None foi de 11.88 anos.\n",
      "O RMSE do modelo AD usando max_leaf_nodes=6 e max_depth=3 foi de 10.66 anos.\n",
      "O RMSE do modelo AD usando max_leaf_nodes=6 e max_depth=10 foi de 11.88 anos.\n",
      "O RMSE do modelo AD usando max_leaf_nodes=36 e max_depth=None foi de 14.85 anos.\n",
      "O RMSE do modelo AD usando max_leaf_nodes=36 e max_depth=3 foi de 10.51 anos.\n",
      "O RMSE do modelo AD usando max_leaf_nodes=36 e max_depth=10 foi de 15.11 anos.\n"
     ]
    }
   ],
   "source": [
    "from itertools import product\n",
    "\n",
    "NUM_FOLHAS = [None, 6, 36]\n",
    "NUM_PROFUNDIDADE = [None, 3, 10]\n",
    "\n",
    "for n_folhas, n_profundidade in product(NUM_FOLHAS, NUM_PROFUNDIDADE):\n",
    "    modelo_dt_data = DecisionTreeRegressor(\n",
    "        max_leaf_nodes=n_folhas,\n",
    "        max_depth=n_profundidade,\n",
    "        random_state=666,\n",
    "    )\n",
    "\n",
    "    modelo_dt_data.fit(X_treino_data, y_treino_data)\n",
    "\n",
    "    y_verdadeiro_dt_data = y_teste_data\n",
    "    y_previsao_dt_data = modelo_dt_data.predict(X_teste_data)\n",
    "    RMSEdt1 = mean_squared_error(y_verdadeiro_dt_data, y_previsao_dt_data, squared=False)\n",
    "\n",
    "    print(\n",
    "        f\"O RMSE do modelo AD usando max_leaf_nodes={n_folhas} \"\n",
    "        f\"e max_depth={n_profundidade} foi de {RMSEdt1:.2f} anos.\"\n",
    "    )"
   ]
  },
  {
   "cell_type": "markdown",
   "id": "f28fd43c-aff9-474e-9d98-cd6aa6c3be21",
   "metadata": {},
   "source": [
    "> A partir da configuração dos diferentes valores de hiperparâmetros, conseguimos notar um valor melhor de RMSE (9,90 anos) para quando utilizamos um `max_leaf_nodes` equivalente a 36 e um valor de `max_depth` equivalente a 3, evidenciando uma certa melhora em performance do modelo."
   ]
  },
  {
   "cell_type": "markdown",
   "id": "06f4640b-e29b-4c40-8208-91fe104c35b4",
   "metadata": {},
   "source": [
    "####\n",
    "- Para o dataframe do arquivo ***\"data_artigo.csv\"***"
   ]
  },
  {
   "cell_type": "code",
   "execution_count": 46,
   "id": "33f927e1-b0d5-4d2b-a5cb-832937d9ea0e",
   "metadata": {},
   "outputs": [
    {
     "name": "stdout",
     "output_type": "stream",
     "text": [
      "O RMSE do modelo AD usando max_leaf_nodes=None e max_depth=None foi de 13.53 anos.\n",
      "O RMSE do modelo AD usando max_leaf_nodes=None e max_depth=3 foi de 14.34 anos.\n",
      "O RMSE do modelo AD usando max_leaf_nodes=None e max_depth=10 foi de 13.64 anos.\n",
      "O RMSE do modelo AD usando max_leaf_nodes=6 e max_depth=None foi de 14.39 anos.\n",
      "O RMSE do modelo AD usando max_leaf_nodes=6 e max_depth=3 foi de 14.34 anos.\n",
      "O RMSE do modelo AD usando max_leaf_nodes=6 e max_depth=10 foi de 14.39 anos.\n",
      "O RMSE do modelo AD usando max_leaf_nodes=36 e max_depth=None foi de 13.40 anos.\n",
      "O RMSE do modelo AD usando max_leaf_nodes=36 e max_depth=3 foi de 14.34 anos.\n",
      "O RMSE do modelo AD usando max_leaf_nodes=36 e max_depth=10 foi de 13.40 anos.\n"
     ]
    }
   ],
   "source": [
    "NUM_FOLHAS = [None, 6, 36]\n",
    "NUM_PROFUNDIDADE = [None, 3, 10]\n",
    "\n",
    "for n_folhas, n_profundidade in product(NUM_FOLHAS, NUM_PROFUNDIDADE):\n",
    "    modelo_dt_art = DecisionTreeRegressor(\n",
    "        max_leaf_nodes=n_folhas,\n",
    "        max_depth=n_profundidade,\n",
    "        random_state=777,\n",
    "    )\n",
    "\n",
    "    modelo_dt_art.fit(X_treino_data_art, y_treino_data_art)\n",
    "\n",
    "    y_verdadeiro_dt_data_art = y_teste_data_art\n",
    "    y_previsao_dt_data_art = modelo_dt_art.predict(X_teste_data_art)\n",
    "    RMSEdt2 = mean_squared_error(y_verdadeiro_dt_data_art, y_previsao_dt_data_art, squared=False)\n",
    "\n",
    "    print(\n",
    "        f\"O RMSE do modelo AD usando max_leaf_nodes={n_folhas} \"\n",
    "        f\"e max_depth={n_profundidade} foi de {RMSEdt2:.2f} anos.\"\n",
    "    )"
   ]
  },
  {
   "cell_type": "markdown",
   "id": "bd3ac24e-7cbc-4c70-833f-f01fb6164d65",
   "metadata": {},
   "source": [
    "> De novo, mesmo considerando agora o dataset referente aos dados do arquivo ***\"data_artigo.csv\"*** é possível notar, por meio da configuração de diferentes valores de hiperparâmetros, um melhor valor de RMSE (9,82 anos) para quando utilizamos um `max_leaf_nodes` equivalente a 6 e um valor de `max_depth` equivalente a *None*, 3 ou 10, também evidenciando uma certa melhora em performance."
   ]
  },
  {
   "cell_type": "markdown",
   "id": "26942a68-cbe9-4290-a156-b70ea6b52671",
   "metadata": {},
   "source": [
    "####\n",
    "### Analisando a árvore de decisão através da plotagem gráfica\n"
   ]
  },
  {
   "cell_type": "markdown",
   "id": "9c2dd1d4-b4cb-4225-8c2d-3ff292a84ee1",
   "metadata": {},
   "source": [
    "Para que possamos compreender melhor os modelos desenvolvidos anteriormente, e os condicionais que estão sendo levados em consideração, vale plotar as árvores de decisão de forma gráfica. </br>\n",
    "É válido ressaltar também que em ambos os gráficos abaixo, assim como mencionado anteriormente, a seta da esquerda de cada vértice é tomada se a condição for verdadeira (`True`) e a seta da direita é seguida apenas caso a condição for falsa (`False`)."
   ]
  },
  {
   "cell_type": "markdown",
   "id": "393bd9b3-e0a7-4658-ae2e-080fd208f0ef",
   "metadata": {},
   "source": [
    "- Para o dataframe do arquivo ***\"data.csv\"***: "
   ]
  },
  {
   "cell_type": "code",
   "execution_count": 47,
   "id": "93e8beba-4953-40c8-a89a-5b920f02a8d8",
   "metadata": {},
   "outputs": [
    {
     "data": {
      "image/png": "[encoded data removed]",
      "text/plain": [
       "<Figure size 2100x1200 with 1 Axes>"
      ]
     },
     "metadata": {
      "needs_background": "light"
     },
     "output_type": "display_data"
    }
   ],
   "source": [
    "from matplotlib import pyplot as plt\n",
    "from sklearn import tree\n",
    "\n",
    "# cria e treina o modelo\n",
    "modelo_dt_data = DecisionTreeRegressor(\n",
    "    max_leaf_nodes=36,  # Utilizando o valor de max_leaf_nodes = 36 pois foi o resultado que apresentou um menor valor de RMSE nos hiperparâmetros\n",
    "    max_depth=3, # Utilizando o valor de max_depth = 3 pois também foi o resultado que apresentou um menor valor de RMSE nos hiperparâmetros\n",
    "    random_state=666,\n",
    ")\n",
    "modelo_dt_data.fit(X_treino_data, y_treino_data)\n",
    "\n",
    "# cria os objetos de figura e eixo\n",
    "fig, axe = plt.subplots(\n",
    "    ncols=1,\n",
    "    nrows=1,\n",
    "    figsize=(7, 4),\n",
    "    dpi=300,\n",
    ")\n",
    "\n",
    "# plota o grafo da árvore de decisão\n",
    "tree.plot_tree(\n",
    "    modelo_dt_data,\n",
    "    feature_names=FEATURES,\n",
    "    ax=axe,\n",
    "    impurity=False,\n",
    "    filled=True,\n",
    "    proportion=True,\n",
    "    precision=2,\n",
    ")\n",
    "\n",
    "# mostra o plot para o usuário\n",
    "plt.show()"
   ]
  },
  {
   "cell_type": "markdown",
   "id": "cb40f81f-bd43-4a8f-9fc8-26a6e37c3575",
   "metadata": {},
   "source": [
    "> Chegamos à conclusão de que a distribuição um tanto quanto desigual das amostras em termos de porcentagem pode ser por conta das amostras que estamos considerando nos datasets e utilizando para o treinamento do modelo, uma vez que a maior parte das amostras corresponde a indivíduos com idade de 55 anos em média."
   ]
  },
  {
   "cell_type": "code",
   "execution_count": 48,
   "id": "5a8c3994-ae98-4c43-989f-e2ce63a75f18",
   "metadata": {},
   "outputs": [
    {
     "data": {
      "text/plain": [
       "<AxesSubplot:>"
      ]
     },
     "execution_count": 48,
     "metadata": {},
     "output_type": "execute_result"
    },
    {
     "data": {
      "image/png": "[encoded data removed]",
      "text/plain": [
       "<Figure size 432x288 with 1 Axes>"
      ]
     },
     "metadata": {
      "needs_background": "light"
     },
     "output_type": "display_data"
    }
   ],
   "source": [
    "df_data[\"Idade\"].hist()"
   ]
  },
  {
   "cell_type": "markdown",
   "id": "7959847c-3d9e-4b70-99e5-4f7178f87ed8",
   "metadata": {},
   "source": [
    "####\n",
    "- Para o dataframe do arquivo ***\"data_artigo.csv\"***: "
   ]
  },
  {
   "cell_type": "code",
   "execution_count": 49,
   "id": "3c4debd3-b8ed-4773-b7d5-1644deecdba4",
   "metadata": {},
   "outputs": [
    {
     "data": {
      "image/png": "[encoded data removed]",
      "text/plain": [
       "<Figure size 2100x1200 with 1 Axes>"
      ]
     },
     "metadata": {
      "needs_background": "light"
     },
     "output_type": "display_data"
    }
   ],
   "source": [
    "# cria e treina o modelo\n",
    "modelo_dt_art = DecisionTreeRegressor(\n",
    "    max_leaf_nodes=6, # Utilizando o valor de max_leaf_nodes = 6 pois foi o resultado que apresentou um menor valor de RMSE nos hiperparâmetros\n",
    "    max_depth=10, # Utilizando o valor de max_depth = 10 pois foi um dos resultado que apresentou um menor valor de RMSE nos hiperparâmetros\n",
    "    random_state=777,\n",
    ")\n",
    "modelo_dt_art.fit(X_treino_data_art, y_treino_data_art)\n",
    "\n",
    "# cria os objetos de figura e eixo\n",
    "fig, axe = plt.subplots(\n",
    "    ncols=1,\n",
    "    nrows=1,\n",
    "    figsize=(7, 4),\n",
    "    dpi=300,\n",
    ")\n",
    "\n",
    "# plota o grafo da árvore de decisão\n",
    "tree.plot_tree(\n",
    "    modelo_dt_art,\n",
    "    feature_names=FEATURES,\n",
    "    ax=axe,\n",
    "    impurity=False,\n",
    "    filled=True,\n",
    "    proportion=True,\n",
    "    precision=2,\n",
    ")\n",
    "\n",
    "# mostra o plot para o usuário\n",
    "plt.show()"
   ]
  },
  {
   "cell_type": "markdown",
   "id": "e1f1b7a3-9361-4607-bb04-3b349e18bdbb",
   "metadata": {},
   "source": [
    "> Mesmo com as distribuições das amostras em termos de porcentagem um pouco menos concentradas em um só vértice folha, ainda apresentam uma grande diferença entre si, de tal forma conluímos que a mesma análise feita para o gráfico anterior também é aplicável neste."
   ]
  },
  {
   "cell_type": "code",
   "execution_count": 50,
   "id": "c277cf7b-bee8-4dcf-9ce3-9d34f7e45def",
   "metadata": {},
   "outputs": [
    {
     "data": {
      "text/plain": [
       "<AxesSubplot:>"
      ]
     },
     "execution_count": 50,
     "metadata": {},
     "output_type": "execute_result"
    },
    {
     "data": {
      "image/png": "[encoded data removed]",
      "text/plain": [
       "<Figure size 432x288 with 1 Axes>"
      ]
     },
     "metadata": {
      "needs_background": "light"
     },
     "output_type": "display_data"
    }
   ],
   "source": [
    "df_data_art[\"Idade\"].hist()"
   ]
  },
  {
   "cell_type": "markdown",
   "id": "23d4f2b4-a1e5-4dd3-875e-7cff8e219610",
   "metadata": {},
   "source": [
    "----"
   ]
  },
  {
   "cell_type": "markdown",
   "id": "20d5b43a-65a1-4c22-a4ad-ffc04ea5ca7e",
   "metadata": {},
   "source": [
    "### <a id=\"floresta\"> Tarefa 5 - Floresta Aleatória"
   ]
  },
  {
   "cell_type": "markdown",
   "id": "556ab9f2-481b-4dda-87b1-ba1d4014ea03",
   "metadata": {},
   "source": [
    "[Voltar para o sumário](#sum)"
   ]
  },
  {
   "cell_type": "markdown",
   "id": "053f4b8f-9a22-4397-b05a-deb46f4368b1",
   "metadata": {},
   "source": [
    "Na presente seção, o método de floresta aleatória é aplicado. Para tanto, vale notar que o algoritmo é desenvolvido a partir de árvores de decisão com uma maior flexibilidade, apesar de não apresentar a melhor performance, assim como Josh Starmer afirma ([vídeo do Stat Quest](https://www.youtube.com/watch?v=J4Wdy0Wc_xQ))."
   ]
  },
  {
   "cell_type": "markdown",
   "id": "53f394c5-9438-4c87-8571-37119ae58a20",
   "metadata": {},
   "source": [
    "- Testando para o dataframe do arquivo ***\"data.csv\"***:"
   ]
  },
  {
   "cell_type": "code",
   "execution_count": 51,
   "id": "2cf94fc5-36f2-45c7-904d-319a40c4ed4e",
   "metadata": {},
   "outputs": [],
   "source": [
    "TAMANHO_TESTE = 10\n",
    "SEMENTE_ALEATORIA = 666\n",
    "FEATURES = df_data.columns.values[4:]\n",
    "TARGET = [\"Idade\"]\n",
    "\n",
    "indices_data = df_data.index\n",
    "indices_treino_data, indices_teste_data = train_test_split(\n",
    "    indices_data, test_size=TAMANHO_TESTE, random_state=SEMENTE_ALEATORIA\n",
    ")\n",
    "\n",
    "df_treino_data = df_data.loc[indices_treino_data]\n",
    "df_teste_data = df_data.loc[indices_teste_data]\n",
    "\n",
    "# observe que usamos o .values aqui pois queremos apenas os valores\n",
    "X_treino_data = df_treino_data.reindex(FEATURES, axis=1).values\n",
    "y_treino_data = df_treino_data.reindex(TARGET, axis=1).values\n",
    "X_teste_data = df_teste_data.reindex(FEATURES, axis=1).values\n",
    "y_teste_data = df_teste_data.reindex(TARGET, axis=1).values"
   ]
  },
  {
   "cell_type": "code",
   "execution_count": 52,
   "id": "2f72ac75-cbd5-4251-a39b-f6a9a3c6b8e9",
   "metadata": {},
   "outputs": [
    {
     "name": "stdout",
     "output_type": "stream",
     "text": [
      "(100, 1) (10, 1)\n",
      "(100,) (10,)\n",
      "\n",
      "[44.25 38.53 50.06 47.8  47.65 55.65 47.53 49.45 52.69 50.11]\n"
     ]
    }
   ],
   "source": [
    "from sklearn.ensemble import RandomForestRegressor\n",
    "\n",
    "# alterando o formato do target\n",
    "print(y_treino_data.shape, y_teste_data.shape)\n",
    "y_treino_data = y_treino_data.ravel()\n",
    "y_teste_data = y_teste_data.ravel()\n",
    "print(y_treino_data.shape, y_teste_data.shape)\n",
    "\n",
    "# cria o modelo\n",
    "modelo_rf = RandomForestRegressor(random_state=SEMENTE_ALEATORIA)\n",
    "\n",
    "# treina o modelo\n",
    "modelo_rf.fit(X_treino_data, y_treino_data)\n",
    "\n",
    "# realiza uma previsão usando o modelo treinado\n",
    "previsao = modelo_rf.predict(X_teste_data)\n",
    "print()\n",
    "print(previsao)"
   ]
  },
  {
   "cell_type": "code",
   "execution_count": 53,
   "id": "0c404d2f-06b8-4461-a1f4-e68e978d5f19",
   "metadata": {},
   "outputs": [
    {
     "name": "stdout",
     "output_type": "stream",
     "text": [
      "O RMSE do modelo árvore de decisão foi de 12.632512022555135 anos.\n"
     ]
    }
   ],
   "source": [
    "from sklearn.metrics import mean_squared_error\n",
    "\n",
    "y_verdadeiro = y_teste_data\n",
    "y_previsao = modelo_rf.predict(X_teste_data)\n",
    "\n",
    "RMSE = mean_squared_error(y_verdadeiro, y_previsao, squared=False)\n",
    "\n",
    "print(f\"O RMSE do modelo árvore de decisão foi de {RMSE} anos.\")"
   ]
  },
  {
   "cell_type": "markdown",
   "id": "cb0f9653-7e65-4860-8094-7eef97afb4b4",
   "metadata": {},
   "source": [
    "**Alteração dos Hiperparâmetros**\n",
    "\n",
    "Sabendo que `num_estimators` é um dos hiperparâmetros do algoritmo, responsável pelo controle do número de árvores que irão compor o comitê, o número de folhas é responsável pela quantidade de nós terminais, o e número de profundida representa quantos nós temos entre o começo e o fim, podemos testar e variar os parâmetros."
   ]
  },
  {
   "cell_type": "code",
   "execution_count": 54,
   "id": "67ae23cb-7a21-4f77-9be4-afe6186c851d",
   "metadata": {
    "tags": []
   },
   "outputs": [],
   "source": [
    "from itertools import product\n",
    "\n",
    "NUM_ARVORES = [10, 100, 300, 500]\n",
    "NUM_FOLHAS = [None, 6, 12, 18]\n",
    "NUM_PROFUNDIDADE = [None, 3, 6, 9]\n",
    "\n",
    "data = []\n",
    "\n",
    "for n_folhas, n_profundidade, n_arvores in product(\n",
    "    NUM_FOLHAS, NUM_PROFUNDIDADE, NUM_ARVORES\n",
    "):\n",
    "    modelo_rf = RandomForestRegressor(\n",
    "        n_estimators=n_arvores,\n",
    "        max_leaf_nodes=n_folhas,\n",
    "        max_depth=n_profundidade,\n",
    "        random_state=SEMENTE_ALEATORIA,\n",
    "        n_jobs=4,\n",
    "    )\n",
    "\n",
    "    modelo_rf.fit(X_treino_data, y_treino_data)\n",
    "\n",
    "    y_verdadeiro = y_teste_data\n",
    "    y_previsao = modelo_rf.predict(X_teste_data)\n",
    "    RMSE = mean_squared_error(y_verdadeiro, y_previsao, squared=False)\n",
    "\n",
    "    '''\n",
    "    print(\n",
    "        f\"O RMSE do modelo RF usando \"\n",
    "        f\"n_estimators={n_arvores} max_leaf_nodes={n_folhas} \"\n",
    "        f\"e max_depth={n_profundidade} foi de {RMSE:.2f} anos.\"\n",
    "    )\n",
    "    '''\n",
    "    \n",
    "    data.append([n_folhas,n_profundidade,n_arvores,RMSE])"
   ]
  },
  {
   "cell_type": "code",
   "execution_count": 55,
   "id": "4813ebe2-a12e-406e-b113-b40708906354",
   "metadata": {},
   "outputs": [],
   "source": [
    "df_params_data_rf = pd.DataFrame(data,columns=['Folhas','Profundidade','Árvores','RMSE'])"
   ]
  },
  {
   "cell_type": "markdown",
   "id": "b6b330a6-6acc-41b1-8d1e-68ed376dfffb",
   "metadata": {},
   "source": [
    "A primeira linha da próxima célula permite manipular a visualização 3D, mas está comentada apenas para efeito demonstrativo do plot no notebook. Dessa forma, ao retirar o comentário da célula é possível realizar a rotação do gráfico gerado."
   ]
  },
  {
   "cell_type": "code",
   "execution_count": 56,
   "id": "288e8a4b-eefe-479e-b970-f37233bb1e71",
   "metadata": {},
   "outputs": [
    {
     "data": {
      "image/png": "[encoded data removed]",
      "text/plain": [
       "<Figure size 720x720 with 2 Axes>"
      ]
     },
     "metadata": {
      "needs_background": "light"
     },
     "output_type": "display_data"
    }
   ],
   "source": [
    "# %matplotlib\n",
    "  \n",
    "# importing required libraries\n",
    "from mpl_toolkits.mplot3d import Axes3D\n",
    "import matplotlib.pyplot as plt\n",
    "import numpy as np\n",
    "from pylab import *\n",
    "  \n",
    "x = df_params_data_rf['Folhas']\n",
    "y = df_params_data_rf['Profundidade']\n",
    "z = df_params_data_rf['Árvores']\n",
    "colo = df_params_data_rf['RMSE']\n",
    "  \n",
    "fig = plt.figure(figsize=(10, 10))\n",
    "ax = fig.add_subplot(111, projection='3d')\n",
    "  \n",
    "color_map = cm.ScalarMappable(cmap=cm.Greens_r)\n",
    "color_map.set_array(colo)\n",
    "  \n",
    "# creating the heatmap\n",
    "img = ax.scatter(x, y, z, marker='s',\n",
    "                 s=200, color='green')\n",
    "plt.colorbar(color_map)\n",
    "  \n",
    "# adding title and labels\n",
    "ax.set_title(\"Variação dos hiperparâmetros para a floresta aleatória - DF Data\")\n",
    "ax.set_xlabel('Número de folhas')\n",
    "ax.set_ylabel('Número da profundidade')\n",
    "ax.set_zlabel('Número de árvores')\n",
    "  \n",
    "# displaying plot\n",
    "plt.show()"
   ]
  },
  {
   "cell_type": "markdown",
   "id": "24dae8e0-406e-4c43-a68e-ad0d3593b134",
   "metadata": {},
   "source": [
    "Assim como é possível observar no heatmap 3D, quanto maior é o número de folhas e de árvores, e menor a profundidade, menor é o RMSE, ou seja, um melhor resultado é apresentado. Em contrapartida, quanto maior o número da profundidade, mais impreciso é o RMSE."
   ]
  },
  {
   "cell_type": "markdown",
   "id": "9c99ad79-8fd5-48a1-a77c-471523e64964",
   "metadata": {},
   "source": [
    "#"
   ]
  },
  {
   "cell_type": "code",
   "execution_count": 57,
   "id": "dbeb06be-c3f3-4310-9175-64904bec4b06",
   "metadata": {},
   "outputs": [],
   "source": [
    "TAMANHO_TESTE_art = 10\n",
    "SEMENTE_ALEATORIA_art = 777\n",
    "FEATURES_art = df_data_art.columns.values[4:]\n",
    "TARGET_art = [\"Idade\"]\n",
    "\n",
    "indices_data_art = df_data_art.index\n",
    "indices_treino_data_art, indices_teste_data_art = train_test_split(\n",
    "    indices_data_art, test_size=TAMANHO_TESTE_art, random_state=SEMENTE_ALEATORIA_art\n",
    ")\n",
    "\n",
    "df_treino_data_art = df_data_art.loc[indices_treino_data_art]\n",
    "df_teste_data_art = df_data_art.loc[indices_teste_data_art]\n",
    "\n",
    "# observe que usamos o .values aqui pois queremos apenas os valores\n",
    "X_treino_data_art = df_treino_data_art.reindex(FEATURES_art, axis=1).values\n",
    "y_treino_data_art = df_treino_data_art.reindex(TARGET_art, axis=1).values\n",
    "X_teste_data_art = df_teste_data_art.reindex(FEATURES_art, axis=1).values\n",
    "y_teste_data_art = df_teste_data_art.reindex(TARGET_art, axis=1).values"
   ]
  },
  {
   "cell_type": "code",
   "execution_count": 58,
   "id": "3d3cb77e-7369-462f-9168-a62ffc6c4e32",
   "metadata": {},
   "outputs": [
    {
     "name": "stdout",
     "output_type": "stream",
     "text": [
      "(100, 1) (10, 1)\n",
      "(100,) (10,)\n",
      "\n",
      "[49.1  55.11 51.1  49.49 51.7  52.22 49.15 51.52 46.69 52.98]\n"
     ]
    }
   ],
   "source": [
    "from sklearn.ensemble import RandomForestRegressor\n",
    "\n",
    "# alterando o formato do target\n",
    "print(y_treino_data_art.shape, y_teste_data_art.shape)\n",
    "y_treino_data_art = y_treino_data_art.ravel()\n",
    "y_teste_data_art = y_teste_data_art.ravel()\n",
    "print(y_treino_data_art.shape, y_teste_data_art.shape)\n",
    "\n",
    "# cria o modelo\n",
    "modelo_rf = RandomForestRegressor(random_state=SEMENTE_ALEATORIA)\n",
    "\n",
    "# treina o modelo\n",
    "modelo_rf.fit(X_treino_data_art, y_treino_data_art)\n",
    "\n",
    "# realiza uma previsão usando o modelo treinado\n",
    "previsao = modelo_rf.predict(X_teste_data_art)\n",
    "print()\n",
    "print(previsao)"
   ]
  },
  {
   "cell_type": "markdown",
   "id": "b5914490-0162-4992-a351-aa6894815dd9",
   "metadata": {},
   "source": [
    "- Testando para o dataframe do arquivo ***\"data_artigo.csv\"***:"
   ]
  },
  {
   "cell_type": "code",
   "execution_count": 59,
   "id": "fc8e4415-2881-4c8e-8b04-20eeaaa731de",
   "metadata": {},
   "outputs": [
    {
     "name": "stdout",
     "output_type": "stream",
     "text": [
      "O RMSE do modelo árvore de decisão foi de 9.026516493088572 anos.\n"
     ]
    }
   ],
   "source": [
    "from sklearn.metrics import mean_squared_error\n",
    "\n",
    "y_verdadeiro = y_teste_data_art\n",
    "y_previsao = modelo_rf.predict(X_teste_data_art)\n",
    "\n",
    "RMSE = mean_squared_error(y_verdadeiro, y_previsao, squared=False)\n",
    "\n",
    "print(f\"O RMSE do modelo árvore de decisão foi de {RMSE} anos.\")"
   ]
  },
  {
   "cell_type": "markdown",
   "id": "7cb1b286-4c46-49cf-a58c-fc50878e8ec8",
   "metadata": {},
   "source": [
    "**Alteração dos Hiperparâmetros**\n",
    "\n",
    "Usando os mesmos conceitos apresentados anteriormente, temos:"
   ]
  },
  {
   "cell_type": "code",
   "execution_count": 60,
   "id": "6b7d0b33-ad43-4a1c-b918-c9e662d89a0d",
   "metadata": {
    "tags": []
   },
   "outputs": [],
   "source": [
    "from itertools import product\n",
    "\n",
    "NUM_ARVORES = [10, 100, 300, 500]\n",
    "NUM_FOLHAS = [None, 6, 12, 18]\n",
    "NUM_PROFUNDIDADE = [None, 3, 6, 9]\n",
    "\n",
    "data = []\n",
    "\n",
    "for n_folhas, n_profundidade, n_arvores in product(\n",
    "    NUM_FOLHAS, NUM_PROFUNDIDADE, NUM_ARVORES\n",
    "):\n",
    "    modelo_rf = RandomForestRegressor(\n",
    "        n_estimators=n_arvores,\n",
    "        max_leaf_nodes=n_folhas,\n",
    "        max_depth=n_profundidade,\n",
    "        random_state=SEMENTE_ALEATORIA,\n",
    "        n_jobs=4,\n",
    "    )\n",
    "\n",
    "    modelo_rf.fit(X_treino_data, y_treino_data)\n",
    "\n",
    "    y_verdadeiro = y_teste_data\n",
    "    y_previsao = modelo_rf.predict(X_teste_data)\n",
    "    RMSE = mean_squared_error(y_verdadeiro, y_previsao, squared=False)\n",
    "\n",
    "    '''\n",
    "    print(\n",
    "        f\"O RMSE do modelo RF usando \"\n",
    "        f\"n_estimators={n_arvores} max_leaf_nodes={n_folhas} \"\n",
    "        f\"e max_depth={n_profundidade} foi de {RMSE:.2f} anos.\"\n",
    "    )\n",
    "    '''\n",
    "    \n",
    "    data.append([n_folhas,n_profundidade,n_arvores,RMSE])"
   ]
  },
  {
   "cell_type": "code",
   "execution_count": 61,
   "id": "2755c34f-a865-4257-ac52-083f3bc8a378",
   "metadata": {},
   "outputs": [],
   "source": [
    "df_params_data_art_rf = pd.DataFrame(data,columns=['Folhas','Profundidade','Árvores','RMSE'])"
   ]
  },
  {
   "cell_type": "code",
   "execution_count": 62,
   "id": "544fe228-ec79-4d3d-8f5f-24b3438252ac",
   "metadata": {},
   "outputs": [
    {
     "data": {
      "image/png": "[encoded data removed]",
      "text/plain": [
       "<Figure size 720x720 with 2 Axes>"
      ]
     },
     "metadata": {
      "needs_background": "light"
     },
     "output_type": "display_data"
    }
   ],
   "source": [
    "# %matplotlib\n",
    "  \n",
    "# importing required libraries\n",
    "from mpl_toolkits.mplot3d import Axes3D\n",
    "import matplotlib.pyplot as plt\n",
    "import numpy as np\n",
    "from pylab import *\n",
    "  \n",
    "x = df_params_data_art_rf['Folhas']\n",
    "y = df_params_data_art_rf['Profundidade']\n",
    "z = df_params_data_art_rf['Árvores']\n",
    "colo = df_params_data_rf['RMSE']\n",
    "  \n",
    "fig = plt.figure(figsize=(10, 10))\n",
    "ax = fig.add_subplot(111, projection='3d')\n",
    "  \n",
    "color_map = cm.ScalarMappable(cmap=cm.Greens_r)\n",
    "color_map.set_array(colo)\n",
    "  \n",
    "# creating the heatmap\n",
    "img = ax.scatter(x, y, z, marker='s',\n",
    "                 s=200, color='green')\n",
    "plt.colorbar(color_map)\n",
    "  \n",
    "# adding title and labels\n",
    "ax.set_title(\"Variação dos hiperparâmetros para a floresta aleatória - DF Data Art\")\n",
    "ax.set_xlabel('Número de folhas')\n",
    "ax.set_ylabel('Número da profundidade')\n",
    "ax.set_zlabel('Número de árvores')\n",
    "  \n",
    "# displaying plot\n",
    "plt.show()"
   ]
  },
  {
   "cell_type": "markdown",
   "id": "bb3bb826-bed5-44dc-bf62-b5f7de3f44c6",
   "metadata": {},
   "source": [
    "Tal como pôde ser observado para o heatmap anterior, o menor RMSE será aquele com maior quantidade de folhas e árvores, com a menor profundidade possível."
   ]
  },
  {
   "cell_type": "markdown",
   "id": "fce0da88-d2ac-41cc-a988-bdb8d1bd3e5e",
   "metadata": {},
   "source": [
    "#\n",
    "\n",
    "#### Medição da importância das features"
   ]
  },
  {
   "cell_type": "markdown",
   "id": "60a15fd1-2e9e-4978-8f80-9b1a6dd83871",
   "metadata": {},
   "source": [
    "- Testando para o dataframe do arquivo ***\"data.csv\"***:"
   ]
  },
  {
   "cell_type": "code",
   "execution_count": 63,
   "id": "04c47f9c-df79-49db-ad5c-e78318d33a45",
   "metadata": {},
   "outputs": [
    {
     "data": {
      "text/plain": [
       "((100, 20), (100,))"
      ]
     },
     "execution_count": 63,
     "metadata": {},
     "output_type": "execute_result"
    }
   ],
   "source": [
    "X_treino_data.shape,y_treino_data.shape"
   ]
  },
  {
   "cell_type": "code",
   "execution_count": 64,
   "id": "ef26456c-7a3a-4ea1-846c-0bdd33dcd69a",
   "metadata": {},
   "outputs": [
    {
     "data": {
      "text/plain": [
       "RandomForestRegressor(n_estimators=50, n_jobs=4, random_state=666)"
      ]
     },
     "execution_count": 64,
     "metadata": {},
     "output_type": "execute_result"
    }
   ],
   "source": [
    "N_ARVORES = 50\n",
    "N_JOBS = 4\n",
    "\n",
    "modelo_rf = RandomForestRegressor(\n",
    "    n_estimators=N_ARVORES,\n",
    "    random_state=SEMENTE_ALEATORIA,\n",
    "    n_jobs=N_JOBS,\n",
    ")\n",
    "\n",
    "modelo_rf.fit(X_treino_data, y_treino_data.flatten())"
   ]
  },
  {
   "cell_type": "code",
   "execution_count": 65,
   "id": "df9633f8-e2a9-44a0-ac77-a1c43bfe3c8b",
   "metadata": {},
   "outputs": [
    {
     "data": {
      "image/png": "[encoded data removed]",
      "text/plain": [
       "<Figure size 432x288 with 1 Axes>"
      ]
     },
     "metadata": {
      "needs_background": "light"
     },
     "output_type": "display_data"
    }
   ],
   "source": [
    "import matplotlib.pyplot as plt\n",
    "import numpy as np\n",
    "import pandas as pd\n",
    "\n",
    "importancia = modelo_rf.feature_importances_\n",
    "desvio_padrao = np.std(\n",
    "    [arvore.feature_importances_ for arvore in modelo_rf.estimators_], axis=0\n",
    ")\n",
    "\n",
    "serie_importancia = pd.Series(importancia, index=FEATURES)\n",
    "\n",
    "fig, axe = plt.subplots()\n",
    "serie_importancia.plot.bar(yerr=desvio_padrao, ax=axe)\n",
    "axe.set_ylabel(\"Redução média da impureza\")\n",
    "plt.show()"
   ]
  },
  {
   "cell_type": "code",
   "execution_count": 66,
   "id": "0f1516e7-ee05-41e8-9f02-c6d3f28a7e23",
   "metadata": {},
   "outputs": [
    {
     "name": "stdout",
     "output_type": "stream",
     "text": [
      "O R^2 da previsão é de 0.9924330782290715\n",
      "\n",
      "MLF2    0.009 +/- 0.001\n",
      "RTFDC1  0.005 +/- 0.001\n",
      "SCYL1   0.004 +/- 0.000\n",
      "MANBAL  0.004 +/- 0.000\n",
      "MTMR14  0.003 +/- 0.000\n",
      "GTF2F1  0.003 +/- 0.001\n",
      "SUPT5H  0.003 +/- 0.000\n",
      "TRAPPC3 0.003 +/- 0.000\n",
      "GPS1    0.002 +/- 0.000\n",
      "TCF25   0.002 +/- 0.000\n",
      "NRBP1   0.002 +/- 0.000\n",
      "MRPL9   0.002 +/- 0.000\n",
      "DGCR14  0.001 +/- 0.000\n",
      "ARAF    0.001 +/- 0.000\n",
      "USP4    0.001 +/- 0.000\n",
      "GTF3C5  0.001 +/- 0.000\n",
      "DNAJB12 0.001 +/- 0.000\n",
      "HDAC3   0.001 +/- 0.000\n",
      "URM1    0.000 +/- 0.000\n",
      "SMPD4   0.000 +/- 0.000\n"
     ]
    }
   ],
   "source": [
    "from sklearn.inspection import permutation_importance\n",
    "\n",
    "N_REPETICOES = 10\n",
    "\n",
    "\n",
    "def R2_1param(modelo, x, y):\n",
    "    \"\"\"Computa o coef. de determinação quando hip. alt. não tem coef. linear.\"\"\"\n",
    "    y_pred = modelo.predict(x).ravel()\n",
    "    y_true = (np.array(y)).ravel()\n",
    "    return 1 - sum((y_true - y_pred) ** 2) / sum(y_true**2)\n",
    "\n",
    "\n",
    "X_local = X_treino_data\n",
    "y_local = y_treino_data\n",
    "\n",
    "R2 = R2_1param(modelo_rf, X_local, y_local)\n",
    "print(f\"O R^2 da previsão é de {R2}\")\n",
    "\n",
    "# Aqui que calculamos a importância das features\n",
    "r = permutation_importance(\n",
    "    modelo_rf,\n",
    "    X_local,\n",
    "    y_local,\n",
    "    n_repeats=N_REPETICOES,\n",
    "    random_state=SEMENTE_ALEATORIA,\n",
    "    scoring=R2_1param,\n",
    ")\n",
    "\n",
    "print()\n",
    "\n",
    "# Aqui nós exibimos os resultados obtidos\n",
    "for i in r.importances_mean.argsort()[::-1]:\n",
    "    if r.importances_mean[i] - 2 * r.importances_std[i] > 0:\n",
    "        print(f\"{FEATURES[i]:<8}\"\n",
    "              f\"{r.importances_mean[i]:.3f}\"\n",
    "              f\" +/- {r.importances_std[i]:.3f}\")"
   ]
  },
  {
   "cell_type": "markdown",
   "id": "c1f8600d-a669-4ede-b0fd-c44e6a787ff4",
   "metadata": {},
   "source": [
    "- Testando para o dataframe do arquivo ***\"data_artigo.csv\"***:"
   ]
  },
  {
   "cell_type": "code",
   "execution_count": 67,
   "id": "9d5c44e3-dba0-4a04-bf54-95797c748990",
   "metadata": {},
   "outputs": [
    {
     "data": {
      "text/plain": [
       "RandomForestRegressor(n_estimators=50, n_jobs=4, random_state=666)"
      ]
     },
     "execution_count": 67,
     "metadata": {},
     "output_type": "execute_result"
    }
   ],
   "source": [
    "N_ARVORES = 50\n",
    "N_JOBS = 4\n",
    "\n",
    "modelo_rf = RandomForestRegressor(\n",
    "    n_estimators=N_ARVORES,\n",
    "    random_state=SEMENTE_ALEATORIA,\n",
    "    n_jobs=N_JOBS,\n",
    ")\n",
    "\n",
    "modelo_rf.fit(X_treino_data_art, y_treino_data_art)"
   ]
  },
  {
   "cell_type": "code",
   "execution_count": 68,
   "id": "042a91ad-2645-4596-b9a2-bfc991aec755",
   "metadata": {},
   "outputs": [
    {
     "data": {
      "image/png": "[encoded data removed]",
      "text/plain": [
       "<Figure size 432x288 with 1 Axes>"
      ]
     },
     "metadata": {
      "needs_background": "light"
     },
     "output_type": "display_data"
    }
   ],
   "source": [
    "import matplotlib.pyplot as plt\n",
    "import numpy as np\n",
    "import pandas as pd\n",
    "\n",
    "importancia = modelo_rf.feature_importances_\n",
    "desvio_padrao = np.std(\n",
    "    [arvore.feature_importances_ for arvore in modelo_rf.estimators_], axis=0\n",
    ")\n",
    "\n",
    "serie_importancia = pd.Series(importancia, index=FEATURES_art)\n",
    "\n",
    "fig, axe = plt.subplots()\n",
    "serie_importancia.plot.bar(yerr=desvio_padrao, ax=axe)\n",
    "axe.set_ylabel(\"Redução média da impureza\")\n",
    "plt.show()"
   ]
  },
  {
   "cell_type": "code",
   "execution_count": 69,
   "id": "42781e80-659d-4ac8-b602-a1fa68288160",
   "metadata": {
    "tags": []
   },
   "outputs": [
    {
     "name": "stdout",
     "output_type": "stream",
     "text": [
      "O R^2 da previsão é de 0.9937374816962239\n",
      "\n",
      "CDKN1A  0.006 +/- 0.001\n",
      "MMP9    0.006 +/- 0.001\n",
      "CLPTM1L 0.006 +/- 0.001\n",
      "MMP27   0.005 +/- 0.001\n",
      "TERT    0.004 +/- 0.000\n",
      "BARD1   0.004 +/- 0.001\n",
      "MMP11   0.003 +/- 0.000\n",
      "MMP3    0.003 +/- 0.000\n",
      "MMP24   0.003 +/- 0.000\n",
      "BCL7C   0.003 +/- 0.000\n",
      "MMP1    0.002 +/- 0.000\n"
     ]
    }
   ],
   "source": [
    "from sklearn.inspection import permutation_importance\n",
    "\n",
    "N_REPETICOES = 10\n",
    "\n",
    "\n",
    "def R2_1param(modelo, x, y):\n",
    "    \"\"\"Computa o coef. de determinação quando hip. alt. não tem coef. linear.\"\"\"\n",
    "    y_pred = modelo.predict(x).ravel()\n",
    "    y_true = (np.array(y)).ravel()\n",
    "    return 1 - sum((y_true - y_pred) ** 2) / sum(y_true**2)\n",
    "\n",
    "\n",
    "X_local = X_treino_data_art\n",
    "y_local = y_treino_data_art\n",
    "\n",
    "R2 = R2_1param(modelo_rf, X_local, y_local)\n",
    "print(f\"O R^2 da previsão é de {R2}\")\n",
    "\n",
    "# Aqui que calculamos a importância das features\n",
    "r = permutation_importance(\n",
    "    modelo_rf,\n",
    "    X_local,\n",
    "    y_local,\n",
    "    n_repeats=N_REPETICOES,\n",
    "    random_state=SEMENTE_ALEATORIA,\n",
    "    scoring=R2_1param,\n",
    ")\n",
    "\n",
    "print()\n",
    "\n",
    "# Aqui nós exibimos os resultados obtidos\n",
    "for i in r.importances_mean.argsort()[::-1]:\n",
    "    if r.importances_mean[i] - 2 * r.importances_std[i] > 0:\n",
    "        print(f\"{FEATURES_art[i]:<8}\"\n",
    "              f\"{r.importances_mean[i]:.3f}\"\n",
    "              f\" +/- {r.importances_std[i]:.3f}\")"
   ]
  },
  {
   "cell_type": "markdown",
   "id": "8fe32f30-9a30-44f3-8f59-faee2846bb84",
   "metadata": {},
   "source": [
    "A partir da métrica, é possível observar que os genes não apresentam uma boa previsibilidade, ao contrário do que se era esperado pela literatura. Uma hipótese levantada é a de que, quando analisados individualmente, não são suficientes para realizar previsões da idade."
   ]
  },
  {
   "cell_type": "markdown",
   "id": "071c4231-d5ac-468e-9d6b-e21c9d96a323",
   "metadata": {},
   "source": [
    "#\n",
    "\n",
    "### Análise da relevância dos atributos\n",
    "\n",
    "Uma vez que o algoritmo foi aplicado, é essencial observar quais os hiperparâmetros mais adequados para a análise, e, uma vez que foi criado um dataframe que dispõe a relação da variação com os respectivos valores de RMSE, é mostrado abaixo os menores e maiores valores para as duas bases de dados."
   ]
  },
  {
   "cell_type": "code",
   "execution_count": 70,
   "id": "897e03ec-72bc-4f59-bb2c-8302aa797dc6",
   "metadata": {},
   "outputs": [
    {
     "name": "stdout",
     "output_type": "stream",
     "text": [
      "Maior valor de RMSE para o df data é 15.09 e o menor valor é 11.98\n",
      "Maior valor de RMSE para o df data art é 15.09 e o menor valor é 11.98\n"
     ]
    }
   ],
   "source": [
    "print(f'Maior valor de RMSE para o df data é {round(df_params_data_rf[\"RMSE\"].max(),2)}',\n",
    "     f'e o menor valor é {round(df_params_data_rf[\"RMSE\"].min(),2)}')\n",
    "print(f'Maior valor de RMSE para o df data art é {round(df_params_data_art_rf[\"RMSE\"].max(),2)}',\n",
    "     f'e o menor valor é {round(df_params_data_art_rf[\"RMSE\"].min(),2)}')"
   ]
  },
  {
   "cell_type": "markdown",
   "id": "5a3d9590-6701-479c-8fec-dca16edeaa33",
   "metadata": {},
   "source": [
    "Uma vez que já conhecemos os menores e maiores valores de RMSE, podemos buscar são os valores dos parâmetros que maximizam e minimizam o erro."
   ]
  },
  {
   "cell_type": "code",
   "execution_count": 71,
   "id": "4b911c9b-f1b3-47a8-8c90-6df9034ec8ea",
   "metadata": {},
   "outputs": [
    {
     "name": "stdout",
     "output_type": "stream",
     "text": [
      "Df data\n",
      "Máximo\n",
      "    Folhas  Profundidade  Árvores      RMSE\n",
      "0     NaN           NaN       10  15.09321 \n",
      "\n",
      "Mínimo\n",
      "     Folhas  Profundidade  Árvores      RMSE\n",
      "23     6.0           3.0      500  11.98421\n",
      "\n",
      "\n",
      "Df data art\n",
      "Máximo\n",
      "    Folhas  Profundidade  Árvores      RMSE\n",
      "0     NaN           NaN       10  15.09321 \n",
      "\n",
      "Mínimo\n",
      "     Folhas  Profundidade  Árvores      RMSE\n",
      "23     6.0           3.0      500  11.98421\n"
     ]
    }
   ],
   "source": [
    "print('Df data\\nMáximo\\n',\n",
    "      df_params_data_rf[df_params_data_rf.RMSE == df_params_data_rf.RMSE.max()],'\\n\\nMínimo\\n',\n",
    "      df_params_data_rf[df_params_data_rf.RMSE == df_params_data_rf.RMSE.min()])\n",
    "\n",
    "print('\\n')\n",
    "\n",
    "print('Df data art\\nMáximo\\n',\n",
    "      df_params_data_art_rf[df_params_data_art_rf.RMSE == df_params_data_art_rf.RMSE.max()],'\\n\\nMínimo\\n',\n",
    "      df_params_data_art_rf[df_params_data_art_rf.RMSE == df_params_data_art_rf.RMSE.min()])"
   ]
  },
  {
   "cell_type": "markdown",
   "id": "65e26343-dcde-4816-8203-65e4c6725136",
   "metadata": {},
   "source": [
    "De maneira similar a observada pelo plot 3D, é possível observar que os melhores resultados realmente são com valores baixos de profundidade, mas não nulos, ao passo que que um baixo número de folhas e um número relativamente alto de árvores é melhor."
   ]
  },
  {
   "cell_type": "markdown",
   "id": "08c0a6bd-fd5a-4c57-9d0f-e3b47d7822c1",
   "metadata": {
    "tags": []
   },
   "source": [
    "---\n",
    "\n",
    "### <a id=\"comparacao\"> Tarefa 6 - Comparação de Desempenho"
   ]
  },
  {
   "cell_type": "markdown",
   "id": "a39c1179-c2bd-4caa-86e7-ee0d0080a7b2",
   "metadata": {},
   "source": [
    "[Voltar para o sumário](#sum)"
   ]
  },
  {
   "cell_type": "markdown",
   "id": "132b6954-3870-4367-87c6-46742aca92f0",
   "metadata": {},
   "source": [
    "Com todos os algoritmos devidamente testados e analisados por nós, utilizando ambos os *datasets* com os dados refentes às informações contidas nos arquivos ***\"data_csv\"*** e ***\"data_artigo.csv\"***, levando em consideração os melhores valores de RMSE (raiz quadrada do erro quadrático médio (root mean squared error)) obtidos pela aplicação de cada método, fomos capazes de elaborar a tabela abaixo:"
   ]
  },
  {
   "cell_type": "markdown",
   "id": "a35f9827-b226-47c0-bbe7-a1143db86008",
   "metadata": {},
   "source": [
    "| Base de dados| k-NN | Regressão Linear | Árvore de Decisão | Floresta Aleatória |\n",
    "| :----------- | ---------: | ----------: | -----------: | -----------: |\n",
    "| Data | 13.60 | 17.66 | 9.90 | 11.12 |\n",
    "| Data Artigo | 9.49 | 9.49 | 9.82 | 11.12 |"
   ]
  },
  {
   "cell_type": "markdown",
   "id": "7b22ce9c-4c55-4341-a77f-d7ec92cc0671",
   "metadata": {},
   "source": [
    "Os valores de RMSE foram utilizados como métrica e como critério comparativo pois, assim como previamente estabelecido no notebook, é um ótimo método para determinar a eficácia do algoritmo, sendo que quanto menor o valor, melhor a eficiência, já que implicará em uma menor margem de erro média a cada previsão. Destarte, após a análise de tais valores, podemos inferir que, até o momento, o método de <u>árvore de decisão</u> aparenta ser o mais efetivo e recomendado dado os parâmetros dos nossos dados, o nosso target, e nossa interpretação, seguido pelo método de <u>floresta aleatória</u>, depois pelo <u>k-NN</u>, e por final a <u>regressão linear</u>, que se mostra como o pior modelo para nosso dataset."
   ]
  },
  {
   "cell_type": "markdown",
   "id": "ad1d3102-9251-405d-820c-78c07bc8ee50",
   "metadata": {
    "tags": []
   },
   "source": [
    "---\n",
    "\n",
    "### <a id=\"class\"> Tarefa 7 - Classificação"
   ]
  },
  {
   "cell_type": "markdown",
   "id": "d9a73ad8-d739-4a01-b510-7b76c87e6fd7",
   "metadata": {},
   "source": [
    "[Voltar para o sumário](#sum)"
   ]
  },
  {
   "cell_type": "code",
   "execution_count": 72,
   "id": "431eb54f-2648-466a-9751-b46b816a6448",
   "metadata": {},
   "outputs": [],
   "source": [
    "# Treinando os classificadores, mas para todos os algoritmos"
   ]
  },
  {
   "cell_type": "markdown",
   "id": "14fe542f-a375-42aa-862c-85e28275bfa3",
   "metadata": {},
   "source": [
    "1. CLASSIFICAÇÕES PARA O DF_DATA\n",
    "<br> **Informação importante**: nesse ponto, as análises serão feitas apenas com base na acurácia. Outras métricas serão usadas apenas posteriormente.\n",
    "> *Classificação com k-NN para o df_data*"
   ]
  },
  {
   "cell_type": "code",
   "execution_count": 73,
   "id": "9bfaa812-b099-40b0-bf8c-7bdcd0d71428",
   "metadata": {},
   "outputs": [],
   "source": [
    "import seaborn as sns\n",
    "from sklearn.model_selection import train_test_split\n",
    "\n",
    "TAMANHO_TESTE = 0.1\n",
    "SEMENTE_ALEATORIA = 666\n",
    "FEATURES = df_data.columns.values[4:]\n",
    "TARGET = [\"Categoria Idade\"]\n",
    "\n",
    "indices = df_data.index\n",
    "indices_treino, indices_teste = train_test_split(\n",
    "    indices, test_size=TAMANHO_TESTE, random_state=SEMENTE_ALEATORIA\n",
    ")\n",
    "\n",
    "df_data_treino = df_data.loc[indices_treino]\n",
    "df_data_teste = df_data.loc[indices_teste]\n",
    "\n",
    "# observe que usamos o .values aqui pois queremos apenas os valores\n",
    "X_treino_data = df_data_treino.reindex(FEATURES, axis=1).values\n",
    "y_treino_data = df_data_treino.reindex(TARGET, axis=1).values.ravel()\n",
    "X_teste_data = df_data_teste.reindex(FEATURES, axis=1).values\n",
    "y_teste_data = df_data_teste.reindex(TARGET, axis=1).values.ravel()"
   ]
  },
  {
   "cell_type": "markdown",
   "id": "53ebc7dd-9999-4fa2-ae1c-6e20a943ba99",
   "metadata": {},
   "source": [
    "Agora para treinar o classificador:"
   ]
  },
  {
   "cell_type": "code",
   "execution_count": 74,
   "id": "1eda527f-5918-4baf-bf96-de0ebbf6abcc",
   "metadata": {},
   "outputs": [
    {
     "name": "stdout",
     "output_type": "stream",
     "text": [
      "['Adulto' 'Adulto' 'Adulto' 'Adulto' 'Adulto' 'Adulto' 'Adulto' 'Adulto'\n",
      " 'Adulto' 'Adulto' 'Adulto']\n"
     ]
    }
   ],
   "source": [
    "from sklearn.neighbors import KNeighborsClassifier\n",
    "\n",
    "# para criar e treinar o modelo\n",
    "modelo_knn = KNeighborsClassifier()\n",
    "modelo_knn.fit(X_treino_data, y_treino_data)\n",
    "\n",
    "# para realizar uma previsão usando o modelo treinado\n",
    "previsao_knndata = modelo_knn.predict(X_teste_data)\n",
    "print(previsao_knndata)"
   ]
  },
  {
   "cell_type": "code",
   "execution_count": 75,
   "id": "b010a7dd-9802-45cd-8411-6fbe4651f516",
   "metadata": {},
   "outputs": [
    {
     "name": "stdout",
     "output_type": "stream",
     "text": [
      "Accuracy: 0.5454545454545454\n",
      "A acurácia do método de k-NN para o data set com os dados estatísticos é: 0.5454545454545454\n"
     ]
    }
   ],
   "source": [
    "# para fazer análises métricas, não temos mais a opção de RMSE para dados categóricos\n",
    "# mas temos outros métodos\n",
    "\n",
    "from sklearn import metrics\n",
    "\n",
    "print(\"Accuracy:\",metrics.accuracy_score(y_teste_data, previsao_knndata))\n",
    "print('A acurácia do método de k-NN para o data set com os dados estatísticos é:', metrics.accuracy_score(y_teste_data, previsao_knndata))\n",
    "      \n",
    "# esse novo modelo permite analisar quantas vezes o modelo acertou a categoria de idade"
   ]
  },
  {
   "cell_type": "markdown",
   "id": "79705cab-2315-45b6-9dde-26bfc8da6959",
   "metadata": {},
   "source": [
    "<br>Uma acurácia muito boa seria de 85% (segundo a aula teórica);\n",
    "<br>Uma acurácia razoável seria de 75% (segundo a aula teórica);\n",
    "<br>Com base nisso, nossa acurácia de 54,5% é pior que razoável então (também conhecida como ruim)."
   ]
  },
  {
   "cell_type": "markdown",
   "id": "ad9ad2ad-75c7-47f1-9fa7-3ced31a4c1c7",
   "metadata": {},
   "source": [
    "> *Classificação com Árvore de Decisão para o df_data*"
   ]
  },
  {
   "cell_type": "code",
   "execution_count": 76,
   "id": "44138fa3-9eae-4e19-bc2c-ee6e9997a21c",
   "metadata": {},
   "outputs": [
    {
     "name": "stdout",
     "output_type": "stream",
     "text": [
      "['Adulto' 'Jovem' 'Idoso' 'Adulto' 'Idoso' 'Idoso' 'Adulto' 'Adulto'\n",
      " 'Adulto' 'Jovem' 'Idoso']\n"
     ]
    }
   ],
   "source": [
    "from sklearn.tree import DecisionTreeClassifier\n",
    "\n",
    "# cria e treina o modelo\n",
    "modelo_dt = DecisionTreeClassifier(random_state=SEMENTE_ALEATORIA) # criação\n",
    "modelo_dt.fit(X_treino_data, y_treino_data) # treinamento\n",
    "\n",
    "# realiza uma previsão usando o modelo treinado\n",
    "previsao_dtdata = modelo_dt.predict(X_teste_data)\n",
    "print(previsao_dtdata)"
   ]
  },
  {
   "cell_type": "code",
   "execution_count": 77,
   "id": "d0a0c5c0-7b4b-421e-aba6-1b71d687e874",
   "metadata": {},
   "outputs": [
    {
     "name": "stdout",
     "output_type": "stream",
     "text": [
      "Accuracy: 0.5454545454545454\n",
      "A acurácia do método de DT para o data set com os dados estatísticos é: 0.5454545454545454\n"
     ]
    }
   ],
   "source": [
    "# vamos analisar a acurácia do modelo de decision tree right now\n",
    "\n",
    "print(\"Accuracy:\",metrics.accuracy_score(y_teste_data, previsao_dtdata))\n",
    "print('A acurácia do método de DT para o data set com os dados estatísticos é:', metrics.accuracy_score(y_teste_data, previsao_dtdata))"
   ]
  },
  {
   "cell_type": "markdown",
   "id": "7c70fe8a-bcd5-4d7d-a9fc-8e44a29b7079",
   "metadata": {},
   "source": [
    "<br>Uma acurácia muito boa seria de 85%;\n",
    "<br>Uma acurácia razoável seria de 75%;\n",
    "<br>Com base nisso, nossa acurácia de 54,5% é pior que razoável então (também conhecida como ruim).\n",
    "<br>Obtivemos, novamente, 54,5% de acurácia. Que seria, de acordo com os padrões utilizados aqui, ruim."
   ]
  },
  {
   "cell_type": "markdown",
   "id": "5482b94a-994d-413f-9b14-2fa7dd0701f1",
   "metadata": {},
   "source": [
    "> *Classificação com Floresta de Decisão para o df_data*"
   ]
  },
  {
   "cell_type": "code",
   "execution_count": 78,
   "id": "60c39a24-ec8d-4591-9c5d-3235b7cc1ecc",
   "metadata": {},
   "outputs": [
    {
     "name": "stdout",
     "output_type": "stream",
     "text": [
      "['Adulto' 'Jovem' 'Adulto' 'Adulto' 'Adulto' 'Adulto' 'Adulto' 'Adulto'\n",
      " 'Adulto' 'Jovem' 'Adulto']\n"
     ]
    }
   ],
   "source": [
    "from sklearn.ensemble import RandomForestClassifier\n",
    "\n",
    "modelo_rf = RandomForestClassifier(random_state=SEMENTE_ALEATORIA) # criação\n",
    "modelo_rf.fit(X_treino_data, y_treino_data) # treinamento\n",
    "previsao_fcdata = modelo_rf.predict(X_teste_data) # previsão\n",
    "\n",
    "print(previsao_fcdata)"
   ]
  },
  {
   "cell_type": "code",
   "execution_count": 79,
   "id": "912109fd-63e0-4405-87ae-edc6e9218b0a",
   "metadata": {},
   "outputs": [
    {
     "name": "stdout",
     "output_type": "stream",
     "text": [
      "Accuracy: 0.7272727272727273\n",
      "A acurácia do método de DT para o data set com os dados estatísticos é: 0.7272727272727273\n"
     ]
    }
   ],
   "source": [
    "# vamos analisar a acurácia do modelo de forest classifier right now\n",
    "\n",
    "print(\"Accuracy:\",metrics.accuracy_score(y_teste_data, previsao_fcdata))\n",
    "print('A acurácia do método de DT para o data set com os dados estatísticos é:', metrics.accuracy_score(y_teste_data, previsao_fcdata))"
   ]
  },
  {
   "cell_type": "markdown",
   "id": "3ca07176-90ac-48a8-a5b1-cda5747fe49d",
   "metadata": {},
   "source": [
    "<br>Uma acurácia muito boa seria de 85%;\n",
    "<br>Uma acurácia razoável seria de 75%;\n",
    "<br>k-NN: Com base nisso, nossa acurácia de 54,5% é pior que razoável então (também conhecida como ruim).\n",
    "<br>DT: Obtivemos, novamente, 54,5% de acurácia. Que seria, de acordo com os padrões utilizados aqui, ruim.\n",
    "<br>FC: acurácia de 72,7%. Até o momento, foi o nosso melhor resultado. Se aproxima de razoável."
   ]
  },
  {
   "cell_type": "markdown",
   "id": "7acf523c-cf45-4cbb-a3c8-365b0195bb55",
   "metadata": {},
   "source": [
    "> Em suma, Árvore de Decisão e k-NN nos ofereceram os mesmos resultados (54,5% de acurária) e os dois foram ruins. Todavia, Floresta de Decisão nos ofereceu um resultado melhor: 72.7% de acurácia, sendo ele então o melhor algoritmo para lidar com os dados do data set 'data.csv'."
   ]
  },
  {
   "cell_type": "markdown",
   "id": "7331bedb-93f9-4977-9858-e5539d126861",
   "metadata": {},
   "source": [
    "<hr>"
   ]
  },
  {
   "cell_type": "markdown",
   "id": "7996471d-c23f-43f0-8946-480c70bbda83",
   "metadata": {},
   "source": [
    "1. CLASSIFICAÇÕES PARA O DF_DATA_ART \n",
    "<br>Observação: (dados de artigo)"
   ]
  },
  {
   "cell_type": "code",
   "execution_count": 80,
   "id": "dc063658-26c3-45ea-a2a5-ce0f4eef934c",
   "metadata": {},
   "outputs": [],
   "source": [
    "TAMANHO_TESTE = 0.1\n",
    "SEMENTE_ALEATORIA = 777\n",
    "FEATURES = df_data_art.columns.values[4:]\n",
    "TARGET = [\"Categoria Idade\"]\n",
    "\n",
    "indices = df_data_art.index\n",
    "indices_treino, indices_teste = train_test_split(\n",
    "    indices, test_size=TAMANHO_TESTE, random_state=SEMENTE_ALEATORIA\n",
    ")\n",
    "\n",
    "df_data_art_treino = df_data_art.loc[indices_treino]\n",
    "df_data_art_teste = df_data_art.loc[indices_teste]\n",
    "\n",
    "# .values aqui pois queremos apenas os valores\n",
    "X_treino_data_art = df_data_art_treino.reindex(FEATURES, axis=1).values\n",
    "y_treino_data_art = df_data_art_treino.reindex(TARGET, axis=1).values.ravel()\n",
    "X_teste_data_art = df_data_art_teste.reindex(FEATURES, axis=1).values\n",
    "y_teste_data_art = df_data_art_teste.reindex(TARGET, axis=1).values.ravel()"
   ]
  },
  {
   "cell_type": "markdown",
   "id": "bb53ccb5-d3ef-4882-b3c3-031be9db4ab5",
   "metadata": {},
   "source": [
    "> *Classificação com k-NN para o df_data_art*"
   ]
  },
  {
   "cell_type": "code",
   "execution_count": 81,
   "id": "eac57fc0-3edb-4c2a-9a0f-2cdecbc06619",
   "metadata": {},
   "outputs": [
    {
     "name": "stdout",
     "output_type": "stream",
     "text": [
      "['Adulto' 'Adulto' 'Adulto' 'Adulto' 'Adulto' 'Adulto' 'Adulto' 'Adulto'\n",
      " 'Adulto' 'Adulto' 'Adulto']\n",
      "\n",
      "Accuracy: 0.8181818181818182\n",
      "A acurácia do método de k-NN para o data set com os dados do artigo é: 0.8181818181818182\n"
     ]
    }
   ],
   "source": [
    "# treinando o classificador\n",
    "\n",
    "# para criar e treinar o modelo\n",
    "modelo_art_knn = KNeighborsClassifier()\n",
    "modelo_art_knn.fit(X_treino_data_art, y_treino_data_art)\n",
    "\n",
    "# para realizar uma previsão usando o modelo treinado\n",
    "previsao_knndata_art = modelo_art_knn.predict(X_teste_data_art)\n",
    "print(previsao_knndata_art)\n",
    "print()\n",
    "\n",
    "# testando a acurácia do modelo\n",
    "print(\"Accuracy:\",metrics.accuracy_score(y_teste_data_art, previsao_knndata_art))\n",
    "print('A acurácia do método de k-NN para o data set com os dados do artigo é:', metrics.accuracy_score(y_teste_data_art, previsao_knndata_art))"
   ]
  },
  {
   "cell_type": "markdown",
   "id": "84552c00-dfa1-485a-b067-dbe7844da03d",
   "metadata": {},
   "source": [
    "<br>Uma acurácia muito boa seria de 85%;\n",
    "<br>Uma acurácia razoável seria de 75%;\n",
    "<br>Com base nisso, nossa acurácia de 81,8% se aproxima de muito boa;"
   ]
  },
  {
   "cell_type": "markdown",
   "id": "ae19fc9d-606d-4012-9b38-da3298d88860",
   "metadata": {},
   "source": [
    "> *Classificação com Árvore de Decisão para o df_data_art*"
   ]
  },
  {
   "cell_type": "code",
   "execution_count": 82,
   "id": "ed67e84d-666c-4db1-baad-a441ef47d5d5",
   "metadata": {},
   "outputs": [
    {
     "name": "stdout",
     "output_type": "stream",
     "text": [
      "['Jovem' 'Adulto' 'Adulto' 'Adulto' 'Idoso' 'Adulto' 'Jovem' 'Adulto'\n",
      " 'Adulto' 'Adulto' 'Adulto']\n"
     ]
    }
   ],
   "source": [
    "modelo_dt = DecisionTreeClassifier(random_state=SEMENTE_ALEATORIA) # criação do modelo\n",
    "modelo_dt.fit(X_treino_data_art, y_treino_data_art) # treinamento do modelo\n",
    "previsao_dtdata_art = modelo_dt.predict(X_teste_data_art) # previsão com o modelo\n",
    "print(previsao_dtdata_art)"
   ]
  },
  {
   "cell_type": "code",
   "execution_count": 83,
   "id": "4a6f6aad-2fd2-4eb2-bb54-917214785fcc",
   "metadata": {},
   "outputs": [
    {
     "name": "stdout",
     "output_type": "stream",
     "text": [
      "Accuracy: 0.5454545454545454\n",
      "A acurácia do método de DT para o data set com os dados do artigo é: 0.5454545454545454\n"
     ]
    }
   ],
   "source": [
    "# testando a acurácia do modelo\n",
    "print(\"Accuracy:\",metrics.accuracy_score(y_teste_data_art, previsao_dtdata_art))\n",
    "print('A acurácia do método de DT para o data set com os dados do artigo é:', metrics.accuracy_score(y_teste_data_art, previsao_dtdata_art))"
   ]
  },
  {
   "cell_type": "markdown",
   "id": "deca0a71-7fc1-4855-8f7a-4540697cbb75",
   "metadata": {},
   "source": [
    "<br>Uma acurácia muito boa seria de 85%;\n",
    "<br>Uma acurácia razoável seria de 75%;\n",
    "<br>Com base nisso, nossa acurácia de 81,8% se aproxima de muito boa;\n",
    "<br> Uma acurácia de 54,5% é ruim;"
   ]
  },
  {
   "cell_type": "markdown",
   "id": "50f3bc04-adb6-4729-aae2-d3410e065bad",
   "metadata": {},
   "source": [
    "> *Classificação com Floresta de Decisão para o df_data_art*"
   ]
  },
  {
   "cell_type": "code",
   "execution_count": 84,
   "id": "d9a598dc-0543-499b-af47-d8b0f4c3f3d1",
   "metadata": {},
   "outputs": [
    {
     "name": "stdout",
     "output_type": "stream",
     "text": [
      "['Adulto' 'Adulto' 'Adulto' 'Adulto' 'Adulto' 'Adulto' 'Adulto' 'Adulto'\n",
      " 'Idoso' 'Adulto' 'Adulto']\n"
     ]
    }
   ],
   "source": [
    "from sklearn.ensemble import RandomForestClassifier\n",
    "\n",
    "modelo_rf = RandomForestClassifier(random_state=SEMENTE_ALEATORIA) # criação\n",
    "modelo_rf.fit(X_treino_data_art, y_treino_data_art) # treinamento\n",
    "previsao_fcdata_art = modelo_rf.predict(X_teste_data_art) # previsão\n",
    "\n",
    "print(previsao_fcdata_art)"
   ]
  },
  {
   "cell_type": "code",
   "execution_count": 85,
   "id": "8ec94313-c113-447a-8ff2-03f60a0fc6b7",
   "metadata": {},
   "outputs": [
    {
     "name": "stdout",
     "output_type": "stream",
     "text": [
      "Accuracy: 0.7272727272727273\n",
      "A acurácia do método de k-NN para o data set com os dados do artigo é: 0.7272727272727273\n"
     ]
    }
   ],
   "source": [
    "# conferindo a acurácia do modelo\n",
    "print(\"Accuracy:\",metrics.accuracy_score(y_teste_data_art, previsao_fcdata_art))\n",
    "print('A acurácia do método de k-NN para o data set com os dados do artigo é:', metrics.accuracy_score(y_teste_data_art, previsao_fcdata_art))"
   ]
  },
  {
   "cell_type": "markdown",
   "id": "ab7afa9f-3846-41b3-8f1a-d74caa8f845d",
   "metadata": {},
   "source": [
    "<br>Uma acurácia muito boa seria de 85%;\n",
    "<br>Uma acurácia razoável seria de 75%;\n",
    "<br>k-NN: Com base nisso, nossa acurácia de 81,8% se aproxima de muito boa;\n",
    "<br>DT: Uma acurácia de 54,5% é ruim;\n",
    "<br>FC: Uma acurácia de 72,7% é razoável."
   ]
  },
  {
   "cell_type": "markdown",
   "id": "dca1cc14-db50-468a-96e6-309b813dd909",
   "metadata": {},
   "source": [
    "> Em suma, considerando a manipulação dos dados provenientes de artigos sob uma análise por meio da classificação (que trabalha com categorias), temos que: a acurácia do modelo de k-NN é a melhor; a acurácia do método de Floresta de Decisões (81,8%) é intermediária (72,7%) e a acurácia do método de Árvores de Decisão é a pior (54,5%)."
   ]
  },
  {
   "cell_type": "markdown",
   "id": "f4e9aa01-e96f-44d4-83a5-0b69e5485dd0",
   "metadata": {},
   "source": [
    "**Resumo: Visão geral**"
   ]
  },
  {
   "cell_type": "markdown",
   "id": "e7ac6968-9a38-493a-9953-2b41fd859104",
   "metadata": {},
   "source": [
    "> Considerando DF_DATA, as análises de classificação, com qualquer um dos três modelos possíveis, não foram satisfatórias. O máximo de acurácia que chegamos pode ser classificada como razoável e corresponde à 72,7%. Por outro lado, na análise de DF_DATA_ART, obtivemos valores mais satisfatórios,já que ele é classificados como muito bons e corresponde à 81,8% (k-NN). \n",
    "\n",
    "> <br>Pensando nas análises dos dois data_sets conjuntamente, sabemos que: \n",
    "- Para o df_data, o melhor algoritmo foi 'Floresta de Decisão', que atingiu acurácia de aproximadamente 73%.\n",
    "- Para o df_data_art, o melhor algoritmo foi 'k-NN', que atingiu acurácia de aproximadamente 82%.\n",
    "- Com base nisso, vamos fazer os próximos passos com o modelo de algoritmo k-nn, e temos justificativas para tanto:\n",
    "1. Método que apresentou melhor resultado: muito bom;\n",
    "2. Pretendemos trabalhar, futuramente, com foco mais voltado para o df_data_art. Nesse sentido, trabalharemos com o algoritmo que melhor se comportou nesse contexto."
   ]
  },
  {
   "cell_type": "markdown",
   "id": "f632be18-4ed1-444e-b093-8ce57c893f9c",
   "metadata": {},
   "source": [
    "<hr>"
   ]
  },
  {
   "cell_type": "markdown",
   "id": "d57fbdd4-6fe9-476a-872c-3709c5abe196",
   "metadata": {},
   "source": [
    "##### Trabalhando com hiperparâmetros e o modelo de k-NN selecionado\n",
    "Instrução: usar data set de treino"
   ]
  },
  {
   "cell_type": "markdown",
   "id": "b820c2b0-de56-4360-92d2-6a8bbcdc2c31",
   "metadata": {},
   "source": [
    "**Anotações relevantes sobre classificação e algoritmos:**\n",
    "<br> *Para k-nn vizinhos*\n",
    "<br>Link: https://www.youtube.com/watch?v=4Dpf76AB9Js\n",
    "> Só faz classificação com variáveis numéricas, não faz com variáveis de textos;\n",
    "> <br> Usar, preferencialmente, valores ímpares;\n",
    "> <br> Usar números pequenos não é uma estratégia boa;"
   ]
  },
  {
   "cell_type": "markdown",
   "id": "1033b9fb-d500-4ec3-a0cc-3444bbe02dbc",
   "metadata": {},
   "source": [
    "> df_data"
   ]
  },
  {
   "cell_type": "code",
   "execution_count": 86,
   "id": "c7253133-e414-46aa-9535-e3b8d9343ad9",
   "metadata": {},
   "outputs": [
    {
     "name": "stdout",
     "output_type": "stream",
     "text": [
      "['Adulto' 'Adulto' 'Adulto' 'Adulto' 'Adulto' 'Idoso' 'Adulto' 'Adulto'\n",
      " 'Idoso' 'Adulto' 'Adulto']\n",
      "\n",
      "Accuracy: 0.36363636363636365\n",
      "A acurácia do método de k-NN com n = 1 para o data set com os dados do artigo é: 0.36363636363636365\n",
      "\n",
      "['Adulto' 'Adulto' 'Adulto' 'Adulto' 'Adulto' 'Adulto' 'Adulto' 'Idoso'\n",
      " 'Adulto' 'Adulto' 'Adulto']\n",
      "\n",
      "Accuracy: 0.45454545454545453\n",
      "A acurácia do método de k-NN com n = 3 para o data set com os dados do artigo é: 0.45454545454545453\n",
      "\n",
      "['Adulto' 'Adulto' 'Adulto' 'Adulto' 'Adulto' 'Adulto' 'Adulto' 'Adulto'\n",
      " 'Adulto' 'Adulto' 'Adulto']\n",
      "\n",
      "Accuracy: 0.5454545454545454\n",
      "A acurácia do método de k-NN com n = 5 para o data set com os dados do artigo é: 0.5454545454545454\n",
      "\n",
      "['Adulto' 'Adulto' 'Adulto' 'Adulto' 'Adulto' 'Adulto' 'Adulto' 'Adulto'\n",
      " 'Adulto' 'Adulto' 'Adulto']\n",
      "\n",
      "Accuracy: 0.5454545454545454\n",
      "A acurácia do método de k-NN com n = 11 para o data set com os dados do artigo é: 0.5454545454545454\n",
      "\n",
      "['Adulto' 'Adulto' 'Adulto' 'Adulto' 'Adulto' 'Adulto' 'Adulto' 'Adulto'\n",
      " 'Adulto' 'Adulto' 'Adulto']\n",
      "\n",
      "Accuracy: 0.5454545454545454\n",
      "A acurácia do método de k-NN com n = 23 para o data set com os dados do artigo é: 0.5454545454545454\n",
      "\n",
      "['Adulto' 'Adulto' 'Adulto' 'Adulto' 'Adulto' 'Adulto' 'Adulto' 'Adulto'\n",
      " 'Adulto' 'Adulto' 'Adulto']\n",
      "\n",
      "Accuracy: 0.5454545454545454\n",
      "A acurácia do método de k-NN com n = 35 para o data set com os dados do artigo é: 0.5454545454545454\n",
      "\n",
      "['Adulto' 'Adulto' 'Adulto' 'Adulto' 'Adulto' 'Adulto' 'Adulto' 'Adulto'\n",
      " 'Adulto' 'Adulto' 'Adulto']\n",
      "\n",
      "Accuracy: 0.5454545454545454\n",
      "A acurácia do método de k-NN com n = 47 para o data set com os dados do artigo é: 0.5454545454545454\n",
      "\n",
      "['Adulto' 'Adulto' 'Adulto' 'Adulto' 'Adulto' 'Adulto' 'Adulto' 'Adulto'\n",
      " 'Adulto' 'Adulto' 'Adulto']\n",
      "\n",
      "Accuracy: 0.5454545454545454\n",
      "A acurácia do método de k-NN com n = 59 para o data set com os dados do artigo é: 0.5454545454545454\n",
      "\n",
      "['Adulto' 'Adulto' 'Adulto' 'Adulto' 'Adulto' 'Adulto' 'Adulto' 'Adulto'\n",
      " 'Adulto' 'Adulto' 'Adulto']\n",
      "\n",
      "Accuracy: 0.5454545454545454\n",
      "A acurácia do método de k-NN com n = 71 para o data set com os dados do artigo é: 0.5454545454545454\n",
      "\n"
     ]
    }
   ],
   "source": [
    "#data\n",
    "NUM_VIZINHOS = [1, 3, 5, 11, 23, 35, 47, 59, 71]\n",
    "\n",
    "for n in NUM_VIZINHOS:   \n",
    "    modelo_hknn = KNeighborsClassifier(n_neighbors=n)\n",
    "    modelo_hknn.fit(X_treino_data, y_treino_data)\n",
    "\n",
    "    #previsão\n",
    "    previsao_hknndata = modelo_hknn.predict(X_teste_data)\n",
    "    print(previsao_hknndata)\n",
    "    print()\n",
    "    \n",
    "    # testando a acurácia do modelo\n",
    "    print(\"Accuracy:\",metrics.accuracy_score(y_teste_data, previsao_hknndata))\n",
    "    print(f'A acurácia do método de k-NN com n = {n} para o data set com os dados do artigo é:', metrics.accuracy_score(y_teste_data, previsao_hknndata))\n",
    "    print()"
   ]
  },
  {
   "cell_type": "code",
   "execution_count": 87,
   "id": "032dbdb7-22f3-4b6a-b830-ea443e6358c4",
   "metadata": {},
   "outputs": [
    {
     "data": {
      "text/plain": [
       "[<matplotlib.lines.Line2D at 0x21d3ff1fc70>]"
      ]
     },
     "execution_count": 87,
     "metadata": {},
     "output_type": "execute_result"
    },
    {
     "data": {
      "image/png": "[encoded data removed]",
      "text/plain": [
       "<Figure size 432x288 with 1 Axes>"
      ]
     },
     "metadata": {
      "needs_background": "light"
     },
     "output_type": "display_data"
    }
   ],
   "source": [
    "num_vizinhos = [i for i in range(1,100)]\n",
    "# agora, vamos trabalhar com todos os n entre 1 e 100 como possíveis valores de hiperparâmetros\n",
    "\n",
    "accuracys_data = []\n",
    "# vamos analisar todos os valores de acurácia para cada um dos números de vizinhos\n",
    "# assim como feito nas células anteriores\n",
    "# os valores de acurácia serão armazenados nessa lista \n",
    "\n",
    "# para cada possível valor de vizinhos, vamos refazer o mesmo processo já observado anteriormente, criar e testar o modelo e prever\n",
    "for i in num_vizinhos:\n",
    "    model = KNeighborsClassifier(n_neighbors=i)     \n",
    "    model.fit(X_treino_data, y_treino_data)    \n",
    "    prevision = model.predict(X_teste_data)\n",
    "    \n",
    " # reunindo os valores de acurácia dentro da lista   \n",
    "    accuracy = metrics.accuracy_score(y_teste_data, prevision)\n",
    "    accuracys_data.append(accuracy)\n",
    "\n",
    "# plotar acurácia em função do número de vizinhos \n",
    "import matplotlib.pyplot as plt\n",
    "plt.plot(num_vizinhos, accuracys_data)"
   ]
  },
  {
   "cell_type": "code",
   "execution_count": 88,
   "id": "7d23825c-7352-4f6d-9dac-5ab09edea516",
   "metadata": {},
   "outputs": [
    {
     "name": "stdout",
     "output_type": "stream",
     "text": [
      "[0.36363636363636365, 0.5454545454545454, 0.45454545454545453, 0.5454545454545454, 0.5454545454545454, 0.5454545454545454, 0.5454545454545454, 0.5454545454545454, 0.5454545454545454, 0.5454545454545454, 0.5454545454545454, 0.5454545454545454, 0.5454545454545454, 0.5454545454545454, 0.5454545454545454, 0.5454545454545454, 0.5454545454545454, 0.5454545454545454, 0.5454545454545454, 0.5454545454545454, 0.5454545454545454, 0.5454545454545454, 0.5454545454545454, 0.5454545454545454, 0.5454545454545454, 0.5454545454545454, 0.5454545454545454, 0.5454545454545454, 0.5454545454545454, 0.5454545454545454, 0.5454545454545454, 0.5454545454545454, 0.5454545454545454, 0.5454545454545454, 0.5454545454545454, 0.5454545454545454, 0.5454545454545454, 0.5454545454545454, 0.5454545454545454, 0.5454545454545454, 0.5454545454545454, 0.5454545454545454, 0.5454545454545454, 0.5454545454545454, 0.5454545454545454, 0.5454545454545454, 0.5454545454545454, 0.5454545454545454, 0.5454545454545454, 0.5454545454545454, 0.5454545454545454, 0.5454545454545454, 0.5454545454545454, 0.5454545454545454, 0.5454545454545454, 0.5454545454545454, 0.5454545454545454, 0.5454545454545454, 0.5454545454545454, 0.5454545454545454, 0.5454545454545454, 0.5454545454545454, 0.5454545454545454, 0.5454545454545454, 0.5454545454545454, 0.5454545454545454, 0.5454545454545454, 0.5454545454545454, 0.5454545454545454, 0.5454545454545454, 0.5454545454545454, 0.5454545454545454, 0.5454545454545454, 0.5454545454545454, 0.5454545454545454, 0.5454545454545454, 0.5454545454545454, 0.5454545454545454, 0.5454545454545454, 0.5454545454545454, 0.5454545454545454, 0.5454545454545454, 0.5454545454545454, 0.5454545454545454, 0.5454545454545454, 0.5454545454545454, 0.5454545454545454, 0.5454545454545454, 0.5454545454545454, 0.5454545454545454, 0.5454545454545454, 0.5454545454545454, 0.5454545454545454, 0.5454545454545454, 0.5454545454545454, 0.5454545454545454, 0.5454545454545454, 0.5454545454545454, 0.5454545454545454]\n"
     ]
    }
   ],
   "source": [
    "print(accuracys_data)\n",
    "# conferindo os valores de acurácia"
   ]
  },
  {
   "cell_type": "markdown",
   "id": "64fc54c8-dc1e-40ca-a742-e4643638971b",
   "metadata": {},
   "source": [
    "> *data_art*"
   ]
  },
  {
   "cell_type": "code",
   "execution_count": 89,
   "id": "3378195a-e562-4f8a-9e61-4c8b71e31bba",
   "metadata": {},
   "outputs": [
    {
     "name": "stdout",
     "output_type": "stream",
     "text": [
      "['Adulto' 'Idoso' 'Adulto' 'Adulto' 'Adulto' 'Adulto' 'Idoso' 'Idoso'\n",
      " 'Jovem' 'Adulto' 'Idoso']\n",
      "\n",
      "Accuracy: 0.36363636363636365\n",
      "A acurácia do método de k-NN para n = 1 o data set com os dados do artigo é: 0.36363636363636365\n",
      "\n",
      "['Adulto' 'Adulto' 'Adulto' 'Adulto' 'Adulto' 'Adulto' 'Idoso' 'Adulto'\n",
      " 'Adulto' 'Adulto' 'Adulto']\n",
      "\n",
      "Accuracy: 0.7272727272727273\n",
      "A acurácia do método de k-NN para n = 3 o data set com os dados do artigo é: 0.7272727272727273\n",
      "\n",
      "['Adulto' 'Adulto' 'Adulto' 'Adulto' 'Adulto' 'Adulto' 'Adulto' 'Adulto'\n",
      " 'Adulto' 'Adulto' 'Adulto']\n",
      "\n",
      "Accuracy: 0.8181818181818182\n",
      "A acurácia do método de k-NN para n = 5 o data set com os dados do artigo é: 0.8181818181818182\n",
      "\n",
      "['Adulto' 'Adulto' 'Adulto' 'Adulto' 'Adulto' 'Adulto' 'Adulto' 'Adulto'\n",
      " 'Adulto' 'Adulto' 'Adulto']\n",
      "\n",
      "Accuracy: 0.8181818181818182\n",
      "A acurácia do método de k-NN para n = 11 o data set com os dados do artigo é: 0.8181818181818182\n",
      "\n",
      "['Adulto' 'Adulto' 'Adulto' 'Adulto' 'Adulto' 'Adulto' 'Adulto' 'Adulto'\n",
      " 'Adulto' 'Adulto' 'Adulto']\n",
      "\n",
      "Accuracy: 0.8181818181818182\n",
      "A acurácia do método de k-NN para n = 23 o data set com os dados do artigo é: 0.8181818181818182\n",
      "\n",
      "['Adulto' 'Adulto' 'Adulto' 'Adulto' 'Adulto' 'Adulto' 'Adulto' 'Adulto'\n",
      " 'Adulto' 'Adulto' 'Adulto']\n",
      "\n",
      "Accuracy: 0.8181818181818182\n",
      "A acurácia do método de k-NN para n = 35 o data set com os dados do artigo é: 0.8181818181818182\n",
      "\n",
      "['Adulto' 'Adulto' 'Adulto' 'Adulto' 'Adulto' 'Adulto' 'Adulto' 'Adulto'\n",
      " 'Adulto' 'Adulto' 'Adulto']\n",
      "\n",
      "Accuracy: 0.8181818181818182\n",
      "A acurácia do método de k-NN para n = 47 o data set com os dados do artigo é: 0.8181818181818182\n",
      "\n",
      "['Adulto' 'Adulto' 'Adulto' 'Adulto' 'Adulto' 'Adulto' 'Adulto' 'Adulto'\n",
      " 'Adulto' 'Adulto' 'Adulto']\n",
      "\n",
      "Accuracy: 0.8181818181818182\n",
      "A acurácia do método de k-NN para n = 59 o data set com os dados do artigo é: 0.8181818181818182\n",
      "\n",
      "['Adulto' 'Adulto' 'Adulto' 'Adulto' 'Adulto' 'Adulto' 'Adulto' 'Adulto'\n",
      " 'Adulto' 'Adulto' 'Adulto']\n",
      "\n",
      "Accuracy: 0.8181818181818182\n",
      "A acurácia do método de k-NN para n = 71 o data set com os dados do artigo é: 0.8181818181818182\n",
      "\n"
     ]
    }
   ],
   "source": [
    "#data_art\n",
    "NUM_VIZINHOS = [1, 3, 5, 11, 23, 35, 47, 59, 71]\n",
    "\n",
    "for n in NUM_VIZINHOS:\n",
    "    modelo_art_hknn = KNeighborsClassifier(n_neighbors=n)\n",
    "    modelo_art_hknn.fit(X_treino_data_art, y_treino_data_art)\n",
    "\n",
    "    #previsão\n",
    "    previsao_hknndata_art = modelo_art_hknn.predict(X_teste_data_art)\n",
    "    print(previsao_hknndata_art)\n",
    "    print()\n",
    "    \n",
    "    # testando a acurácia do modelo\n",
    "    print(\"Accuracy:\",metrics.accuracy_score(y_teste_data_art, previsao_hknndata_art))\n",
    "    print(f'A acurácia do método de k-NN para n = {n} o data set com os dados do artigo é:', metrics.accuracy_score(y_teste_data_art, previsao_hknndata_art))\n",
    "    print()"
   ]
  },
  {
   "cell_type": "markdown",
   "id": "5b145916-3f2f-474a-ba39-c6de24f12599",
   "metadata": {},
   "source": [
    "> Defini 8 possíveis valores para os hiperparâmetros. \n",
    "> <br>Joia. \n",
    "> <br>Mas todos os meus resultados foram exatamente iguais??? Sim, confirmamos depois pelos gráficos.\n",
    "> <br>Mexer com hiperparâmetros em classificação não faz diferença? Essa é uma boa pergunta para se discutir em grupo."
   ]
  },
  {
   "cell_type": "code",
   "execution_count": 90,
   "id": "5678fbf7-2703-4855-bfe3-6963002b6057",
   "metadata": {},
   "outputs": [
    {
     "data": {
      "text/plain": [
       "[<matplotlib.lines.Line2D at 0x21d3ff88ac0>]"
      ]
     },
     "execution_count": 90,
     "metadata": {},
     "output_type": "execute_result"
    },
    {
     "data": {
      "image/png": "[encoded data removed]",
      "text/plain": [
       "<Figure size 432x288 with 1 Axes>"
      ]
     },
     "metadata": {
      "needs_background": "light"
     },
     "output_type": "display_data"
    }
   ],
   "source": [
    "numero = [i for i in range(1,100)]\n",
    "\n",
    "accuracia_data_art = []\n",
    "for i in numero:\n",
    "    model = KNeighborsClassifier(n_neighbors=i)\n",
    "    model.fit(X_treino_data_art, y_treino_data_art)\n",
    "    previsao = model.predict(X_teste_data_art)\n",
    "    \n",
    "# testando todas as acurácias e reunindo elas\n",
    "    accuracia = metrics.accuracy_score(y_teste_data_art, previsao)\n",
    "    accuracia_data_art.append(accuracia)\n",
    "\n",
    "# plotando\n",
    "import matplotlib.pyplot as plt\n",
    "plt.plot(numero, accuracia_data_art)"
   ]
  },
  {
   "cell_type": "code",
   "execution_count": 91,
   "id": "7b40ca5b-315a-4895-8a4e-46bd50d56381",
   "metadata": {},
   "outputs": [
    {
     "name": "stdout",
     "output_type": "stream",
     "text": [
      "[0.36363636363636365, 0.7272727272727273, 0.7272727272727273, 0.7272727272727273, 0.8181818181818182, 0.8181818181818182, 0.8181818181818182, 0.8181818181818182, 0.8181818181818182, 0.8181818181818182, 0.8181818181818182, 0.8181818181818182, 0.8181818181818182, 0.8181818181818182, 0.8181818181818182, 0.8181818181818182, 0.8181818181818182, 0.8181818181818182, 0.8181818181818182, 0.8181818181818182, 0.8181818181818182, 0.8181818181818182, 0.8181818181818182, 0.8181818181818182, 0.8181818181818182, 0.8181818181818182, 0.8181818181818182, 0.8181818181818182, 0.8181818181818182, 0.8181818181818182, 0.8181818181818182, 0.8181818181818182, 0.8181818181818182, 0.8181818181818182, 0.8181818181818182, 0.8181818181818182, 0.8181818181818182, 0.8181818181818182, 0.8181818181818182, 0.8181818181818182, 0.8181818181818182, 0.8181818181818182, 0.8181818181818182, 0.8181818181818182, 0.8181818181818182, 0.8181818181818182, 0.8181818181818182, 0.8181818181818182, 0.8181818181818182, 0.8181818181818182, 0.8181818181818182, 0.8181818181818182, 0.8181818181818182, 0.8181818181818182, 0.8181818181818182, 0.8181818181818182, 0.8181818181818182, 0.8181818181818182, 0.8181818181818182, 0.8181818181818182, 0.8181818181818182, 0.8181818181818182, 0.8181818181818182, 0.8181818181818182, 0.8181818181818182, 0.8181818181818182, 0.8181818181818182, 0.8181818181818182, 0.8181818181818182, 0.8181818181818182, 0.8181818181818182, 0.8181818181818182, 0.8181818181818182, 0.8181818181818182, 0.8181818181818182, 0.8181818181818182, 0.8181818181818182, 0.8181818181818182, 0.8181818181818182, 0.8181818181818182, 0.8181818181818182, 0.8181818181818182, 0.8181818181818182, 0.8181818181818182, 0.8181818181818182, 0.8181818181818182, 0.8181818181818182, 0.8181818181818182, 0.8181818181818182, 0.8181818181818182, 0.8181818181818182, 0.8181818181818182, 0.8181818181818182, 0.8181818181818182, 0.8181818181818182, 0.8181818181818182, 0.8181818181818182, 0.8181818181818182, 0.8181818181818182]\n"
     ]
    }
   ],
   "source": [
    "print(accuracia_data_art)"
   ]
  },
  {
   "cell_type": "markdown",
   "id": "e659e157-8ead-49f4-bf19-84e37a938991",
   "metadata": {},
   "source": [
    "**EXTRA: Avaliação automática de hiperparâmetros**\n",
    "<br> *Link: https://scikit-learn.org/stable/modules/generated/sklearn.model_selection.GridSearchCV.html*"
   ]
  },
  {
   "cell_type": "markdown",
   "id": "e19e4db4-f096-42ab-9e79-75900f2e5160",
   "metadata": {},
   "source": [
    "> *Para df_data*"
   ]
  },
  {
   "cell_type": "code",
   "execution_count": 92,
   "id": "d7d4a9d0-5df2-46bb-9996-4d4e359c20a2",
   "metadata": {},
   "outputs": [],
   "source": [
    "from sklearn.model_selection import GridSearchCV\n",
    "\n",
    "# selecionar os hiperparâmetros que podem ser variados para o k-nn\n",
    "#param_grid = { \n",
    "   # 'n_estimators': [200, 300, 400, 500, 600],  # apenas de referência\n",
    "#}\n",
    "\n",
    "#CV_rfc = GridSearchCV(estimator=modelo_hknn, param_grid=param_grid, cv= 5, n_jobs=8)\n",
    "#CV_rfc.fit(X_treino_data, y_treino_data)"
   ]
  },
  {
   "cell_type": "markdown",
   "id": "1ee4adfd-1430-4fc0-b78e-afc1293a388f",
   "metadata": {},
   "source": [
    "> *Para df_data_art*"
   ]
  },
  {
   "cell_type": "code",
   "execution_count": 93,
   "id": "8ade0d80-6211-474b-b3fa-2c740987f420",
   "metadata": {},
   "outputs": [],
   "source": [
    "# hiperparâmtros para k-nn\n",
    "#param_grid = { \n",
    "    #'n_estimators': [200, 300, 400, 500, 600], #referencia solely\n",
    "#}\n",
    "#CV_rfc = GridSearchCV(estimator=modelo_art_hknn, param_grid=param_grid, cv= 5, n_jobs=8)\n",
    "#CV_rfc.fit(X_treino_data_art, y_treino_data_art)"
   ]
  },
  {
   "cell_type": "markdown",
   "id": "291a1b83-1be4-445b-9253-b2cd3362da94",
   "metadata": {},
   "source": [
    "<hr>"
   ]
  },
  {
   "cell_type": "markdown",
   "id": "ab3681f8-4dbc-4b4a-98ad-0697fe77f606",
   "metadata": {},
   "source": [
    "##### Avaliando o desempenho do modelo"
   ]
  },
  {
   "cell_type": "markdown",
   "id": "1c7949e0-9e07-41ce-a0ee-38f9b3c8c368",
   "metadata": {},
   "source": [
    "<br>Tarefas:\n",
    "<br>Avalie o desempenho do seu modelo\n",
    "- Utilize os datasets de treino e teste para avaliar\n",
    "- Compare com seu modelo baseline\n",
    "- Observe a matriz de confusão do seu modelo\n",
    "- Métricas sugeridas: precisão, revocação, acurácia"
   ]
  },
  {
   "cell_type": "markdown",
   "id": "29a6f9cb-9dd2-4d1e-a162-5b487e57619e",
   "metadata": {},
   "source": [
    "*Além de **acurácia**, vamos avaliar aqui também outras métricas, sendo elas:*\n",
    "- Precisão\n",
    "- Revocação\n",
    "- Matriz de confusão \n",
    "\n",
    "***Conceitos** importantes:*\n",
    "<br> Precisão:\"dentre todas as classificações de classe Positivo que o modelo fez, quantas estão corretas\";\n",
    "<br> Revocação: \"dentre todas as situações de classe Positivo como valor esperado, quantas estão corretas\";\n",
    "<br> Matriz de confusão: \"Uma matriz de confusão é uma tabela que indica os erros e acertos do seu modelo, comparando com o resultado esperado (ou etiquetas/labels)\"\n",
    "\n",
    "<br>**Fontes**: https://vitorborbarodrigues.medium.com/m%C3%A9tricas-de-avalia%C3%A7%C3%A3o-acur%C3%A1cia-precis%C3%A3o-recall-quais-as-diferen%C3%A7as-c8f05e0a513c"
   ]
  },
  {
   "cell_type": "markdown",
   "id": "52f31984-46ab-4ac9-8e00-68ed5804e215",
   "metadata": {},
   "source": [
    "> *df_data (comparação classificador: baseline X k-nn)*"
   ]
  },
  {
   "cell_type": "code",
   "execution_count": 94,
   "id": "2b5c6d7b-62ea-485c-8d49-4526034e117c",
   "metadata": {},
   "outputs": [
    {
     "name": "stdout",
     "output_type": "stream",
     "text": [
      "A previsão é: ['Adulto' 'Adulto' 'Adulto' 'Adulto' 'Adulto' 'Adulto' 'Adulto' 'Adulto'\n",
      " 'Adulto' 'Adulto' 'Adulto']\n",
      "\n",
      "Accuracy: 0.5454545454545454\n",
      "A acurácia da previsão em classificação para o baseline do data set data é: 0.5454545454545454\n",
      "\n",
      "Precision: 0.29752066115702475\n",
      "A precisão do método de k-NN para o data set data é: 0.29752066115702475\n"
     ]
    },
    {
     "name": "stderr",
     "output_type": "stream",
     "text": [
      "c:\\venv\\ilumpy\\lib\\site-packages\\sklearn\\metrics\\_classification.py:1248: UndefinedMetricWarning: Precision is ill-defined and being set to 0.0 in labels with no predicted samples. Use `zero_division` parameter to control this behavior.\n",
      "  _warn_prf(average, modifier, msg_start, len(result))\n",
      "c:\\venv\\ilumpy\\lib\\site-packages\\sklearn\\metrics\\_classification.py:1248: UndefinedMetricWarning: Precision is ill-defined and being set to 0.0 in labels with no predicted samples. Use `zero_division` parameter to control this behavior.\n",
      "  _warn_prf(average, modifier, msg_start, len(result))\n"
     ]
    }
   ],
   "source": [
    "# MODELO BASELINE\n",
    "\n",
    "from sklearn.dummy import DummyClassifier\n",
    "\n",
    "# criar, treinar, prever\n",
    "modelo_cbaseline = DummyClassifier()\n",
    "modelo_cbaseline.fit(X_treino_data, y_treino_data)\n",
    "\n",
    "previsao_cb = modelo_cbaseline.predict(X_teste_data)\n",
    "print('A previsão é:', previsao_cb)\n",
    "print()\n",
    "\n",
    "# valores de acurácia do modelo para baseline\n",
    "print(\"Accuracy:\",metrics.accuracy_score(y_teste_data, previsao_cb))\n",
    "print('A acurácia da previsão em classificação para o baseline do data set data é:', metrics.accuracy_score(y_teste_data, previsao_cb))\n",
    "\n",
    "print()\n",
    "\n",
    "# precisão \n",
    "print(\"Precision:\",metrics.precision_score(y_teste_data, previsao_cb, average='weighted'))\n",
    "print('A precisão do método de k-NN para o data set data é:', metrics.precision_score(y_teste_data, previsao_cb, average='weighted'))\n",
    "\n",
    "# revocação (sensibilidade)"
   ]
  },
  {
   "cell_type": "markdown",
   "id": "fef72f6c-35d2-48b9-bceb-0d70ba036c14",
   "metadata": {},
   "source": [
    "Matriz de confusão para o Dummy Classifier no data set `data`:"
   ]
  },
  {
   "cell_type": "code",
   "execution_count": 95,
   "id": "ea0e19ed-ea91-44f8-b286-036db32e30e7",
   "metadata": {},
   "outputs": [
    {
     "data": {
      "text/plain": [
       "array([[6, 0, 0],\n",
       "       [2, 0, 0],\n",
       "       [3, 0, 0]], dtype=int64)"
      ]
     },
     "execution_count": 95,
     "metadata": {},
     "output_type": "execute_result"
    }
   ],
   "source": [
    "from sklearn.metrics import confusion_matrix\n",
    "\n",
    "confusion_matrix(y_teste_data, previsao_cb)"
   ]
  },
  {
   "cell_type": "code",
   "execution_count": 96,
   "id": "2e174136-8e14-4b7d-a9fa-edbf02737295",
   "metadata": {},
   "outputs": [
    {
     "name": "stdout",
     "output_type": "stream",
     "text": [
      "Accuracy: 0.5454545454545454\n",
      "A acurácia do método de k-NN para o data set data é: 0.5454545454545454\n",
      "\n",
      "Precision: 0.29752066115702475\n",
      "A precisão do método de k-NN para o data set data é: 0.29752066115702475\n"
     ]
    },
    {
     "name": "stderr",
     "output_type": "stream",
     "text": [
      "c:\\venv\\ilumpy\\lib\\site-packages\\sklearn\\metrics\\_classification.py:1248: UndefinedMetricWarning: Precision is ill-defined and being set to 0.0 in labels with no predicted samples. Use `zero_division` parameter to control this behavior.\n",
      "  _warn_prf(average, modifier, msg_start, len(result))\n",
      "c:\\venv\\ilumpy\\lib\\site-packages\\sklearn\\metrics\\_classification.py:1248: UndefinedMetricWarning: Precision is ill-defined and being set to 0.0 in labels with no predicted samples. Use `zero_division` parameter to control this behavior.\n",
      "  _warn_prf(average, modifier, msg_start, len(result))\n"
     ]
    }
   ],
   "source": [
    "# MODELO K-NN\n",
    "\n",
    "# retomada da acurácia\n",
    "print(\"Accuracy:\",metrics.accuracy_score(y_teste_data, previsao_knndata))\n",
    "print('A acurácia do método de k-NN para o data set data é:', metrics.accuracy_score(y_teste_data, previsao_knndata))\n",
    "\n",
    "print()\n",
    "\n",
    "# precisão\n",
    "print(\"Precision:\",metrics.precision_score(y_teste_data, previsao_knndata, average='weighted'))\n",
    "print('A precisão do método de k-NN para o data set data é:', metrics.precision_score(y_teste_data, previsao_knndata, average='weighted'))\n",
    "\n",
    "# revocação"
   ]
  },
  {
   "cell_type": "markdown",
   "id": "b9d9b3d7-9099-4f00-a87f-7435378f6d84",
   "metadata": {},
   "source": [
    "Matriz de confusão para o kNN Classifier no data set `data`:"
   ]
  },
  {
   "cell_type": "code",
   "execution_count": 97,
   "id": "0108f3b8-8f8b-4b5a-8c33-25065f5efd17",
   "metadata": {},
   "outputs": [
    {
     "data": {
      "text/plain": [
       "array([[6, 0, 0],\n",
       "       [2, 0, 0],\n",
       "       [3, 0, 0]], dtype=int64)"
      ]
     },
     "execution_count": 97,
     "metadata": {},
     "output_type": "execute_result"
    }
   ],
   "source": [
    "confusion_matrix(y_teste_data, previsao_knndata)"
   ]
  },
  {
   "cell_type": "markdown",
   "id": "02fad793-7427-4005-a5bf-36de6ce3177e",
   "metadata": {},
   "source": [
    "> *df_data_art (comparação classificador: baseline X k-nn)*"
   ]
  },
  {
   "cell_type": "code",
   "execution_count": 98,
   "id": "8425818d-e82e-4980-851a-a63489ea17d3",
   "metadata": {},
   "outputs": [
    {
     "name": "stdout",
     "output_type": "stream",
     "text": [
      "A previsão é: ['Adulto' 'Adulto' 'Adulto' 'Adulto' 'Adulto' 'Adulto' 'Adulto' 'Adulto'\n",
      " 'Adulto' 'Adulto' 'Adulto']\n",
      "\n",
      "Accuracy: 0.8181818181818182\n",
      "A acurácia da previsão em classificação para o baseline do data set data é: 0.8181818181818182\n",
      "\n",
      "Precision: 0.6694214876033059\n",
      "A precisão da previsão em classificação para o baseline do data set data é: 0.6694214876033059\n"
     ]
    },
    {
     "name": "stderr",
     "output_type": "stream",
     "text": [
      "c:\\venv\\ilumpy\\lib\\site-packages\\sklearn\\metrics\\_classification.py:1248: UndefinedMetricWarning: Precision is ill-defined and being set to 0.0 in labels with no predicted samples. Use `zero_division` parameter to control this behavior.\n",
      "  _warn_prf(average, modifier, msg_start, len(result))\n",
      "c:\\venv\\ilumpy\\lib\\site-packages\\sklearn\\metrics\\_classification.py:1248: UndefinedMetricWarning: Precision is ill-defined and being set to 0.0 in labels with no predicted samples. Use `zero_division` parameter to control this behavior.\n",
      "  _warn_prf(average, modifier, msg_start, len(result))\n"
     ]
    }
   ],
   "source": [
    "# com o baseline\n",
    "# data set data_art\n",
    "\n",
    "from sklearn.dummy import DummyClassifier\n",
    "\n",
    "# criar, treinar, prever\n",
    "modelo_cbaseline = DummyClassifier()\n",
    "modelo_cbaseline.fit(X_treino_data_art, y_treino_data_art)\n",
    "\n",
    "previsao_cb_art = modelo_cbaseline.predict(X_teste_data_art)\n",
    "print('A previsão é:', previsao_cb_art)\n",
    "print()\n",
    "\n",
    "# acurácia\n",
    "print(\"Accuracy:\",metrics.accuracy_score(y_teste_data_art, previsao_cb))\n",
    "print('A acurácia da previsão em classificação para o baseline do data set data é:', metrics.accuracy_score(y_teste_data_art, previsao_cb_art))\n",
    "\n",
    "print()\n",
    "\n",
    "# precisão\n",
    "print(\"Precision:\",metrics.precision_score(y_teste_data_art, previsao_cb, average='weighted'))\n",
    "print('A precisão da previsão em classificação para o baseline do data set data é:', metrics.precision_score(y_teste_data_art, previsao_cb, average='weighted'))\n",
    "\n",
    "# revocação (sensibilidade)"
   ]
  },
  {
   "cell_type": "markdown",
   "id": "b1cddd16-c5cb-45ac-8e35-39fb2f886849",
   "metadata": {},
   "source": [
    "Matriz de confusão para o Dummy Classifier no data set `data art`:"
   ]
  },
  {
   "cell_type": "code",
   "execution_count": 99,
   "id": "c7d1f72f-edce-4fd0-b4ec-54f29cdff427",
   "metadata": {},
   "outputs": [
    {
     "data": {
      "text/plain": [
       "array([[9, 0, 0],\n",
       "       [1, 0, 0],\n",
       "       [1, 0, 0]], dtype=int64)"
      ]
     },
     "execution_count": 99,
     "metadata": {},
     "output_type": "execute_result"
    }
   ],
   "source": [
    "confusion_matrix(y_teste_data_art, previsao_cb)"
   ]
  },
  {
   "cell_type": "code",
   "execution_count": 100,
   "id": "c8c917ec-dfad-4bc2-b3bc-3fe2b730a994",
   "metadata": {},
   "outputs": [
    {
     "name": "stdout",
     "output_type": "stream",
     "text": [
      "Accuracy: 0.8181818181818182\n",
      "A acurácia do método de k-NN para o data set data é: 0.8181818181818182\n",
      "\n",
      "Precision: 0.6694214876033059\n",
      "A precisão do método de k-NN para o data set data é: 0.6694214876033059\n"
     ]
    },
    {
     "name": "stderr",
     "output_type": "stream",
     "text": [
      "c:\\venv\\ilumpy\\lib\\site-packages\\sklearn\\metrics\\_classification.py:1248: UndefinedMetricWarning: Precision is ill-defined and being set to 0.0 in labels with no predicted samples. Use `zero_division` parameter to control this behavior.\n",
      "  _warn_prf(average, modifier, msg_start, len(result))\n",
      "c:\\venv\\ilumpy\\lib\\site-packages\\sklearn\\metrics\\_classification.py:1248: UndefinedMetricWarning: Precision is ill-defined and being set to 0.0 in labels with no predicted samples. Use `zero_division` parameter to control this behavior.\n",
      "  _warn_prf(average, modifier, msg_start, len(result))\n"
     ]
    }
   ],
   "source": [
    "# retomando os resultados anteriores para k-NN\n",
    "print(\"Accuracy:\",metrics.accuracy_score(y_teste_data_art, previsao_knndata_art))\n",
    "print('A acurácia do método de k-NN para o data set data é:', metrics.accuracy_score(y_teste_data_art, previsao_knndata_art))\n",
    "\n",
    "print()\n",
    "\n",
    "# precisão\n",
    "print(\"Precision:\",metrics.precision_score(y_teste_data_art, previsao_knndata_art, average='weighted'))\n",
    "print('A precisão do método de k-NN para o data set data é:', metrics.precision_score(y_teste_data_art, previsao_knndata_art, average='weighted'))\n",
    "\n",
    "# revocação (sensibilidade)"
   ]
  },
  {
   "cell_type": "markdown",
   "id": "165aad7b-8527-4d37-af99-ea366ad895da",
   "metadata": {},
   "source": [
    "Matriz de confusão para o kNN Classifier no data set `data art`:"
   ]
  },
  {
   "cell_type": "code",
   "execution_count": 101,
   "id": "406f5e57-fd84-4394-b629-a97dfb978576",
   "metadata": {},
   "outputs": [
    {
     "data": {
      "text/plain": [
       "array([[9, 0, 0],\n",
       "       [1, 0, 0],\n",
       "       [1, 0, 0]], dtype=int64)"
      ]
     },
     "execution_count": 101,
     "metadata": {},
     "output_type": "execute_result"
    }
   ],
   "source": [
    "confusion_matrix(y_teste_data_art, previsao_knndata_art)"
   ]
  },
  {
   "cell_type": "code",
   "execution_count": null,
   "id": "875031c3-b24c-4eda-a1ac-31468138f7f8",
   "metadata": {},
   "outputs": [],
   "source": []
  }
 ],
 "metadata": {
  "kernelspec": {
   "display_name": "ilumpy",
   "language": "python",
   "name": "ilumpy"
  },
  "language_info": {
   "codemirror_mode": {
    "name": "ipython",
    "version": 3
   },
   "file_extension": ".py",
   "mimetype": "text/x-python",
   "name": "python",
   "nbconvert_exporter": "python",
   "pygments_lexer": "ipython3",
   "version": "3.9.7"
  }
 },
 "nbformat": 4,
 "nbformat_minor": 5
}
