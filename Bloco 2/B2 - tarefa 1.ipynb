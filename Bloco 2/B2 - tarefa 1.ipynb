{
 "cells": [
  {
   "cell_type": "markdown",
   "id": "37252307-20eb-41b2-960d-3b0a9cadc347",
   "metadata": {},
   "source": [
    "## Bloco 2 - aprendizado de máquina"
   ]
  },
  {
   "cell_type": "markdown",
   "id": "1c95936d-b9eb-49d7-82f4-3d5857b28a67",
   "metadata": {},
   "source": [
    "#### Tarefa 1 - Treino, teste e baseline"
   ]
  },
  {
   "cell_type": "markdown",
   "id": "8f747eec-c842-46e0-80b8-83a9bb9cb16c",
   "metadata": {},
   "source": [
    "Importando os dados dos arquivos:"
   ]
  },
  {
   "cell_type": "code",
   "execution_count": 13,
   "id": "9ea90edd-122a-4760-a407-c9790cb2740f",
   "metadata": {},
   "outputs": [],
   "source": [
    "# Importando as bibliotecas e módulos a serem utilizados para a realização do treino, teste e baseline\n",
    "import numpy as np\n",
    "import matplotlib.pyplot as plt\n",
    "import seaborn as sns\n",
    "import pandas as pd\n",
    "from sklearn.pipeline import Pipeline\n",
    "from sklearn.preprocessing import PolynomialFeatures\n",
    "from sklearn.linear_model import LinearRegression"
   ]
  },
  {
   "cell_type": "code",
   "execution_count": 14,
   "id": "0e811130-9939-40c8-a1f6-fb017f7b2fd0",
   "metadata": {
    "collapsed": true,
    "jupyter": {
     "outputs_hidden": true
    },
    "tags": []
   },
   "outputs": [
    {
     "name": "stdout",
     "output_type": "stream",
     "text": [
      "       Amostra    Sexo Categoria Idade  Idade      URM1   TRAPPC3    GTF3C5  \\\n",
      "0    GTEX-U8XE    male           Jovem  30-39  0.970511  0.916667  0.706498   \n",
      "1    GTEX-UPJH    male          Adulto  50-59  0.668665  0.724498  0.855626   \n",
      "2    GTEX-UPK5    male          Adulto  40-49  0.765044  0.891566  0.641997   \n",
      "3    GTEX-V1D1    male          Adulto  50-59  0.695756  0.547992  0.632330   \n",
      "4    GTEX-VJYA    male           Idoso  60-69  0.574682  0.795382  0.503962   \n",
      "..         ...     ...             ...    ...       ...       ...       ...   \n",
      "105  GTEX-ZYVF  female          Adulto  50-59  0.621434  0.841566  0.654834   \n",
      "106  GTEX-ZYW4    male           Idoso  60-69  0.846320  0.833534  0.655784   \n",
      "107  GTEX-ZYY3  female           Idoso  60-69  0.723328  0.796185  0.860539   \n",
      "108  GTEX-ZZ64    male           Jovem  20-29  0.713498  0.731124  0.688431   \n",
      "109  GTEX-ZZPU  female          Adulto  50-59  0.742268  0.708032  0.784786   \n",
      "\n",
      "         USP4     SCYL1      MLF2  ...    RTFDC1    MTMR14    MANBAL  \\\n",
      "0    0.825296  0.943988  0.915365  ...  0.810352  0.620929  0.731743   \n",
      "1    1.000000  0.814403  0.777995  ...  0.843942  1.000000  0.821252   \n",
      "2    0.779974  0.665592  0.738281  ...  0.869037  0.802774  0.980705   \n",
      "3    0.924374  0.575239  0.707031  ...  0.592602  0.774729  0.699183   \n",
      "4    0.911989  0.711825  0.703125  ...  0.743955  0.808203  0.802090   \n",
      "..        ...       ...       ...  ...       ...       ...       ...   \n",
      "105  0.779710  0.571905  0.693359  ...  0.749706  0.637817  0.738845   \n",
      "106  0.621080  0.802956  0.835286  ...  0.830741  0.783172  0.946804   \n",
      "107  0.756258  0.531007  0.571289  ...  0.572082  0.701448  0.514538   \n",
      "108  0.855863  0.870305  0.915365  ...  0.817671  0.783172  0.808790   \n",
      "109  0.767852  0.706935  0.634635  ...  0.662528  0.848613  0.661664   \n",
      "\n",
      "        MRPL9      GPS1    GTF2F1     SMPD4     NRBP1   DNAJB12    SUPT5H  \n",
      "0    0.965841  0.830299  0.712460  0.889464  0.847246  0.717243  0.864087  \n",
      "1    0.669403  0.862361  0.765743  0.917921  1.000000  0.882019  0.871705  \n",
      "2    0.990600  0.564181  0.765877  0.690263  0.776425  0.791548  0.700210  \n",
      "3    0.706209  0.623605  0.516550  0.806444  0.662126  0.736812  0.725469  \n",
      "4    0.998014  0.601762  0.598762  0.782455  0.696135  0.595576  0.682169  \n",
      "..        ...       ...       ...       ...       ...       ...       ...  \n",
      "105  0.560572  0.590957  0.616523  0.637347  0.698454  0.700794  0.709131  \n",
      "106  0.734278  0.729771  0.822255  0.687912  0.822222  0.886841  0.665130  \n",
      "107  0.804449  0.648268  0.560549  0.853010  0.704058  0.745037  0.848852  \n",
      "108  0.722494  0.756665  0.994483  0.765522  0.869179  0.891378  0.833317  \n",
      "109  0.739309  0.910393  0.718649  0.695673  0.746473  0.778219  0.818282  \n",
      "\n",
      "[110 rows x 24 columns]\n"
     ]
    }
   ],
   "source": [
    "df_data = pd.read_csv('data.csv') #Importando o dataframe do arquivo \"data.csv\" (o arquivo sem os dados do artigo)\n",
    "df_data = df_data.drop(\"Unnamed: 0\",axis=1)\n",
    "print(df_data)"
   ]
  },
  {
   "cell_type": "code",
   "execution_count": 15,
   "id": "55ba298e-c63c-438f-a848-89cc9352db3c",
   "metadata": {
    "collapsed": true,
    "jupyter": {
     "outputs_hidden": true
    },
    "tags": []
   },
   "outputs": [
    {
     "name": "stdout",
     "output_type": "stream",
     "text": [
      "       Amostra    Sexo Categoria Idade  Idade      MMP1          MMP3  \\\n",
      "0    GTEX-U8XE    male           Jovem  30-39  0.415301  1.959855e-02   \n",
      "1    GTEX-UPJH    male          Adulto  50-59  0.000005  7.996788e-03   \n",
      "2    GTEX-UPK5    male          Adulto  40-49  0.000000  7.149739e-03   \n",
      "3    GTEX-V1D1    male          Adulto  50-59  0.000000  0.000000e+00   \n",
      "4    GTEX-VJYA    male           Idoso  60-69  0.000000  1.969892e-02   \n",
      "..         ...     ...             ...    ...       ...           ...   \n",
      "105  GTEX-ZYVF  female          Adulto  50-59  0.000024  1.819350e-07   \n",
      "106  GTEX-ZYW4    male           Idoso  60-69  0.000023  5.150542e-03   \n",
      "107  GTEX-ZYY3  female           Idoso  60-69  0.000003  2.070253e-07   \n",
      "108  GTEX-ZZ64    male           Jovem  20-29  0.000001  3.753111e-02   \n",
      "109  GTEX-ZZPU  female          Adulto  50-59  0.000000  1.586110e-02   \n",
      "\n",
      "         MMP9         MMP11     MMP24     MMP27     BARD1     BCL7C   CLPTM1L  \\\n",
      "0    0.609227  8.821049e-02  0.000014  0.851644  0.354668  0.472280  0.910613   \n",
      "1    0.159422  3.882611e-02  0.503206  0.168324  0.491779  0.604135  0.656658   \n",
      "2    0.000003  4.746163e-02  0.000003  0.310585  0.215032  0.536110  0.690726   \n",
      "3    0.062979  1.321471e-06  0.000034  0.523176  0.488843  0.430027  0.459522   \n",
      "4    0.329350  3.710575e-02  0.444207  0.744908  0.250793  0.411447  0.618432   \n",
      "..        ...           ...       ...       ...       ...       ...       ...   \n",
      "105  0.142913  2.020577e-02  0.000032  0.095750  0.363183  0.539107  0.547407   \n",
      "106  0.168872  5.422500e-02  0.000013  0.103609  0.250000  0.706623  0.785079   \n",
      "107  0.071373  8.591668e-07  0.000021  0.000006  0.754844  0.472580  0.506640   \n",
      "108  0.185770  2.604149e-02  0.000039  0.289014  0.354081  0.503746  0.718097   \n",
      "109  0.067426  1.959858e-02  0.502779  0.581716  0.288227  0.700330  0.666243   \n",
      "\n",
      "         TERT    CDKN1A  \n",
      "0    0.456960  0.770863  \n",
      "1    0.020528  0.301729  \n",
      "2    0.000000  0.230042  \n",
      "3    0.183716  0.266740  \n",
      "4    0.223564  0.134728  \n",
      "..        ...       ...  \n",
      "105  0.106089  0.242711  \n",
      "106  0.312058  0.371003  \n",
      "107  0.312230  0.363262  \n",
      "108  0.037088  0.377036  \n",
      "109  0.043816  0.166901  \n",
      "\n",
      "[110 rows x 15 columns]\n"
     ]
    }
   ],
   "source": [
    "df_data_art = pd.read_csv('data_artigo.csv') #Importando o dataframe do arquivo \"data_artigo.csv\"\n",
    "df_data_art = df_data_art.drop(\"Unnamed: 0\",axis=1)\n",
    "print(df_data_art)"
   ]
  },
  {
   "cell_type": "code",
   "execution_count": 52,
   "id": "1945a23d-08f4-47c5-a756-73cf329f79a8",
   "metadata": {},
   "outputs": [],
   "source": [
    "# Substituindo os intervalos dos valores das idades para a média, a fim de obter os dados em valores numéricos - para o \"data.csv\"\n",
    "df_data['Idade']=df_data['Idade'].replace('20-29',int(25))\n",
    "df_data['Idade']=df_data['Idade'].replace('30-39',int(35))\n",
    "df_data['Idade']=df_data['Idade'].replace('40-49',int(45))\n",
    "df_data['Idade']=df_data['Idade'].replace('50-59',int(55))\n",
    "df_data['Idade']=df_data['Idade'].replace('60-69',int(65))\n",
    "df_data['Idade']=df_data['Idade'].replace('70-79',int(75))"
   ]
  },
  {
   "cell_type": "code",
   "execution_count": 54,
   "id": "b4d66675-8b36-4a58-939d-02cf4f048156",
   "metadata": {},
   "outputs": [],
   "source": [
    "# Substituindo os intervalos dos valores das idades para a média, a fim de obter os dados em valores numéricos - para o \"data_artigo.csv\"\n",
    "df_data_art['Idade']=df_data_art['Idade'].replace('20-29',int(25))\n",
    "df_data_art['Idade']=df_data_art['Idade'].replace('30-39',int(35))\n",
    "df_data_art['Idade']=df_data_art['Idade'].replace('40-49',int(45))\n",
    "df_data_art['Idade']=df_data_art['Idade'].replace('50-59',int(55))\n",
    "df_data_art['Idade']=df_data_art['Idade'].replace('60-69',int(65))\n",
    "df_data_art['Idade']=df_data_art['Idade'].replace('70-79',int(75))"
   ]
  },
  {
   "cell_type": "markdown",
   "id": "0a35e864-1be9-4c40-aa04-1da1654e20c1",
   "metadata": {},
   "source": [
    "#### Dividindo o dataset em treino e teste"
   ]
  },
  {
   "cell_type": "code",
   "execution_count": 55,
   "id": "76757cd6-703a-4490-8387-728693493980",
   "metadata": {
    "collapsed": true,
    "jupyter": {
     "outputs_hidden": true
    },
    "tags": []
   },
   "outputs": [
    {
     "name": "stdout",
     "output_type": "stream",
     "text": [
      "       Amostra    Sexo Categoria Idade  Idade      URM1   TRAPPC3    GTF3C5  \\\n",
      "51   GTEX-Y8E4    male          Adulto     45  0.693359  0.585743  0.638352   \n",
      "72   GTEX-ZE9C    male           Idoso     65  0.798130  0.784137  0.841997   \n",
      "56   GTEX-YEC4    male          Adulto     45  0.827380  0.809036  0.619810   \n",
      "46   GTEX-Y3I4    male          Adulto     55  0.689043  0.658635  0.646751   \n",
      "3    GTEX-V1D1    male          Adulto     55  0.695756  0.547992  0.632330   \n",
      "..         ...     ...             ...    ...       ...       ...       ...   \n",
      "25   GTEX-X4EO  female           Idoso     65  0.861184  0.834538  0.854834   \n",
      "57   GTEX-YECK    male           Idoso     65  0.741789  0.793976  0.587163   \n",
      "52   GTEX-Y8LW  female          Adulto     55  0.809638  0.625703  0.688273   \n",
      "103  GTEX-ZYFG  female           Idoso     65  0.699113  0.710643  0.736450   \n",
      "4    GTEX-VJYA    male           Idoso     65  0.574682  0.795382  0.503962   \n",
      "\n",
      "         USP4     SCYL1      MLF2  ...    RTFDC1    MTMR14    MANBAL  \\\n",
      "51   0.776812  0.723716  0.771484  ...  0.801464  0.737334  0.783063   \n",
      "72   0.850329  0.685152  0.752604  ...  0.785518  0.701146  0.710706   \n",
      "56   0.628722  0.712269  0.856771  ...  0.801464  0.817853  0.859976   \n",
      "46   0.489065  0.641254  0.594922  ...  0.629722  0.718938  0.665416   \n",
      "3    0.924374  0.575239  0.707031  ...  0.592602  0.774729  0.699183   \n",
      "..        ...       ...       ...  ...       ...       ...       ...   \n",
      "25   0.936232  0.716159  0.686198  ...  0.886943  0.961701  0.714324   \n",
      "57   0.697497  0.641142  0.813802  ...  0.852830  0.770507  0.759748   \n",
      "52   0.703294  0.835741  0.637695  ...  0.761992  0.832027  0.725848   \n",
      "103  0.549934  0.693710  0.535807  ...  0.760293  0.809409  0.765242   \n",
      "4    0.911989  0.711825  0.703125  ...  0.743955  0.808203  0.802090   \n",
      "\n",
      "        MRPL9      GPS1    GTF2F1     SMPD4     NRBP1   DNAJB12    SUPT5H  \n",
      "51   0.719582  0.641339  0.861948  0.766228  0.668696  0.827283  0.699910  \n",
      "72   0.799285  0.710511  0.686491  0.715428  0.878551  0.795235  0.743911  \n",
      "56   0.816100  0.786377  0.756324  0.622531  0.832077  0.791548  0.669039  \n",
      "46   0.585066  0.675866  0.669403  0.685325  0.680676  0.642938  0.663927  \n",
      "3    0.706209  0.623605  0.516550  0.806444  0.662126  0.736812  0.725469  \n",
      "..        ...       ...       ...       ...       ...       ...       ...  \n",
      "25   0.810274  0.806224  0.831136  0.875588  0.775942  0.889109  0.891250  \n",
      "57   0.824705  0.713682  0.656485  0.621355  0.766570  0.787862  0.559687  \n",
      "52   0.560837  0.685026  0.877557  0.744826  0.726473  0.842598  0.875313  \n",
      "103  0.675096  0.749149  0.771663  0.656867  0.736908  0.724617  0.700411  \n",
      "4    0.998014  0.601762  0.598762  0.782455  0.696135  0.595576  0.682169  \n",
      "\n",
      "[100 rows x 24 columns]\n",
      "\n",
      "      Amostra    Sexo Categoria Idade  Idade      URM1   TRAPPC3    GTF3C5  \\\n",
      "7   GTEX-WEY5  female          Adulto     45  0.628626  0.674297  0.552456   \n",
      "74  GTEX-ZF2S  female          Adulto     55  0.651882  0.712450  0.604596   \n",
      "24  GTEX-X3Y1    male          Adulto     45  0.937185  0.749398  0.812361   \n",
      "75  GTEX-ZF3C  female          Adulto     55  0.957804  0.884739  0.974643   \n",
      "38  GTEX-XQ3S    male           Jovem     25  0.820427  0.748996  0.815055   \n",
      "36  GTEX-XOT4  female           Idoso     65  0.849197  0.731928  0.900317   \n",
      "89  GTEX-ZU9S    male           Jovem     35  0.533685  0.615060  0.722029   \n",
      "35  GTEX-XMD2  female           Idoso     65  0.589067  0.735341  0.755943   \n",
      "85  GTEX-ZT9X    male          Adulto     45  0.678974  0.632932  0.694453   \n",
      "8   GTEX-WFG7    male           Jovem     25  0.857588  0.489357  0.808082   \n",
      "\n",
      "        USP4     SCYL1      MLF2  ...    RTFDC1    MTMR14    MANBAL     MRPL9  \\\n",
      "7   0.599473  0.738497  0.684245  ...  0.715462  0.689083  0.822457  0.773203   \n",
      "74  0.706983  0.676039  0.654948  ...  0.687884  0.681846  0.724776  0.803257   \n",
      "24  0.769170  0.948766  0.713542  ...  0.869429  0.853739  0.872571  0.704753   \n",
      "75  0.552833  0.695154  0.710938  ...  0.755849  0.796743  0.878065  0.980140   \n",
      "38  0.697497  0.772727  0.886068  ...  0.710234  0.633896  0.871365  0.764862   \n",
      "36  0.704875  0.717271  0.774740  ...  0.780552  0.758142  0.701729  0.740103   \n",
      "89  0.610277  0.544565  0.586003  ...  0.581231  0.633896  0.719282  0.575268   \n",
      "35  0.752833  0.530896  0.663411  ...  0.768266  0.655609  0.604583  0.715874   \n",
      "85  0.668775  0.690487  0.768229  ...  0.675206  0.681242  0.682299  0.709255   \n",
      "8   0.797628  0.823516  0.824870  ...  0.714678  0.808504  0.660860  0.597379   \n",
      "\n",
      "        GPS1    GTF2F1     SMPD4     NRBP1   DNAJB12    SUPT5H  \n",
      "7   0.696536  0.580194  0.667686  0.700676  0.670732  0.697404  \n",
      "74  0.635702  0.736679  0.640640  0.713527  0.731707  0.687782  \n",
      "24  0.919906  0.865850  0.756115  0.818937  0.883154  0.855668  \n",
      "75  0.894304  0.721340  0.670508  0.773430  0.908678  0.738298  \n",
      "38  0.892777  0.822255  0.881468  0.742126  0.870108  0.776586  \n",
      "36  0.813388  0.699812  0.755174  0.601353  0.765457  0.732384  \n",
      "89  0.683617  0.617061  0.647225  0.542995  0.692853  0.690288  \n",
      "35  0.663300  0.668864  0.656397  0.750338  0.593307  0.668437  \n",
      "85  0.742572  0.877557  0.647225  0.638164  0.684061  0.705523  \n",
      "8   0.689489  1.000000  0.700611  0.938261  0.804311  0.854666  \n",
      "\n",
      "[10 rows x 24 columns]\n"
     ]
    }
   ],
   "source": [
    "# Para o dataframe do \"data.csv\"\n",
    "from sklearn.model_selection import train_test_split\n",
    "\n",
    "TAMANHO_TESTE = 10\n",
    "\n",
    "indices = df_data.index\n",
    "indices_treino, indices_teste = train_test_split(\n",
    "    indices, test_size=TAMANHO_TESTE\n",
    ")\n",
    "\n",
    "df_treino = df_data.loc[indices_treino]\n",
    "df_teste = df_data.loc[indices_teste]\n",
    "\n",
    "print(df_treino)\n",
    "print()\n",
    "print(df_teste)"
   ]
  },
  {
   "cell_type": "code",
   "execution_count": 56,
   "id": "23dc7d1a-5f51-4f27-82ec-011a6b0fa122",
   "metadata": {
    "collapsed": true,
    "jupyter": {
     "outputs_hidden": true
    },
    "tags": []
   },
   "outputs": [
    {
     "name": "stdout",
     "output_type": "stream",
     "text": [
      "       Amostra    Sexo Categoria Idade  Idade          MMP1          MMP3  \\\n",
      "9    GTEX-WFG8    male           Jovem     25  2.858917e-01  1.199518e-01   \n",
      "49   GTEX-Y5V5  female           Idoso     65  1.621957e-06  3.550381e-07   \n",
      "107  GTEX-ZYY3  female           Idoso     65  3.338301e-06  2.070253e-07   \n",
      "108  GTEX-ZZ64    male           Jovem     25  1.189767e-06  3.753111e-02   \n",
      "72   GTEX-ZE9C    male           Idoso     65  0.000000e+00  1.096748e-07   \n",
      "..         ...     ...             ...    ...           ...           ...   \n",
      "50   GTEX-Y5V6    male           Idoso     65  3.800298e-06  1.696909e-01   \n",
      "84   GTEX-ZT9W    male          Adulto     55  4.513164e-06  2.149739e-01   \n",
      "28   GTEX-X5EB    male          Adulto     45  3.733234e-06  3.086311e-07   \n",
      "19   GTEX-WXYG  female          Adulto     55  1.743666e-06  4.327579e-03   \n",
      "88   GTEX-ZTX8    male           Jovem     25  5.240934e-07  1.833802e-07   \n",
      "\n",
      "         MMP9         MMP11     MMP24     MMP27     BARD1     BCL7C   CLPTM1L  \\\n",
      "9    0.361534  1.576657e-06  0.000019  0.402566  0.204521  0.349715  0.450629   \n",
      "49   0.201056  1.770956e-01  0.000042  0.645229  0.449794  0.607731  0.679524   \n",
      "107  0.071373  8.591668e-07  0.000021  0.000006  0.754844  0.472580  0.506640   \n",
      "108  0.185770  2.604149e-02  0.000039  0.289014  0.354081  0.503746  0.718097   \n",
      "72   0.068260  1.727104e-02  0.443352  0.000007  0.384615  0.645190  0.645918   \n",
      "..        ...           ...       ...       ...       ...       ...       ...   \n",
      "50   0.091773  2.290437e-02  0.000009  0.428308  0.139342  0.816002  0.483312   \n",
      "84   0.263257  2.405127e-02  0.000034  0.432478  0.235085  0.338328  0.636563   \n",
      "28   0.120956  8.643953e-02  0.513467  0.361187  0.379918  0.783638  0.746853   \n",
      "19   0.000004  6.589644e-02  0.000040  0.139294  0.354962  0.726101  0.791893   \n",
      "88   0.000005  5.582729e-07  0.000037  0.000007  0.179037  0.516332  0.530777   \n",
      "\n",
      "         TERT    CDKN1A  \n",
      "9    0.148525  0.155640  \n",
      "49   0.000000  0.172833  \n",
      "107  0.312230  0.363262  \n",
      "108  0.037088  0.377036  \n",
      "72   0.449198  0.229238  \n",
      "..        ...       ...  \n",
      "50   0.094704  0.116831  \n",
      "84   0.126617  0.155238  \n",
      "28   0.193893  0.262115  \n",
      "19   0.000000  0.164388  \n",
      "88   0.081594  0.170420  \n",
      "\n",
      "[100 rows x 15 columns]\n",
      "\n",
      "      Amostra    Sexo Categoria Idade  Idade      MMP1          MMP3  \\\n",
      "39  GTEX-XQ8I    male          Adulto     55  0.000001  1.582096e-01   \n",
      "46  GTEX-Y3I4    male          Adulto     55  0.000000  5.347250e-03   \n",
      "97  GTEX-ZVZP    male          Adulto     55  0.000001  6.178242e-03   \n",
      "59  GTEX-YFCO    male          Adulto     45  0.000000  4.560418e-01   \n",
      "2   GTEX-UPK5    male          Adulto     45  0.000000  7.149739e-03   \n",
      "25  GTEX-X4EO  female           Idoso     65  0.328614  2.843436e-07   \n",
      "96  GTEX-ZVTK    male           Jovem     25  0.000018  3.664793e-07   \n",
      "78  GTEX-ZLV1  female           Idoso     65  0.000003  7.374548e-03   \n",
      "21  GTEX-WYBS  female           Idoso     65  0.000009  2.819350e-07   \n",
      "23  GTEX-WYVS  female          Adulto     45  0.000002  4.038539e-08   \n",
      "\n",
      "        MMP9         MMP11     MMP24     MMP27     BARD1     BCL7C   CLPTM1L  \\\n",
      "39  0.275542  1.858661e-02  0.591706  0.000006  0.764827  0.701828  0.684028   \n",
      "46  0.129516  9.644122e-07  0.000042  0.157017  0.617440  0.560983  0.575124   \n",
      "97  0.117399  2.103221e-07  0.000017  0.000002  0.810628  0.694936  0.728606   \n",
      "59  0.071039  4.889526e-07  0.000028  0.093665  0.365825  0.682050  0.752396   \n",
      "2   0.000003  4.746163e-02  0.000003  0.310585  0.215032  0.536110  0.690726   \n",
      "25  0.213007  2.794738e-01  0.000022  0.306175  0.344392  0.671262  0.563114   \n",
      "96  0.064925  1.862034e-01  0.000024  0.746351  0.230916  0.545700  0.718212   \n",
      "78  0.173263  7.348625e-07  0.690038  0.151804  0.398708  0.561882  0.764407   \n",
      "21  0.201167  7.758475e-02  0.000017  0.356135  0.730182  0.450105  0.594988   \n",
      "23  0.231907  2.113341e-01  0.537409  1.000000  0.339988  0.682649  0.677214   \n",
      "\n",
      "        TERT    CDKN1A  \n",
      "39  0.228394  0.454253  \n",
      "46  0.070554  0.105268  \n",
      "97  0.446093  0.105872  \n",
      "59  0.034501  0.399357  \n",
      "2   0.000000  0.230042  \n",
      "25  0.486114  0.351096  \n",
      "96  0.254959  0.146189  \n",
      "78  0.155770  0.413634  \n",
      "21  0.262550  0.434345  \n",
      "23  0.034501  0.275789  \n"
     ]
    }
   ],
   "source": [
    "# Para o dataframe do \"data_artigo.csv\"\n",
    "from sklearn.model_selection import train_test_split\n",
    "\n",
    "TAMANHO_TESTE_art = 10\n",
    "\n",
    "indices_art = df_data_art.index\n",
    "indices_treino_art, indices_teste_art = train_test_split(\n",
    "    indices_art, test_size=TAMANHO_TESTE_art\n",
    ")\n",
    "\n",
    "df_art_treino = df_data_art.loc[indices_treino_art]\n",
    "df_art_teste = df_data_art.loc[indices_teste_art]\n",
    "\n",
    "print(df_art_treino)\n",
    "print()\n",
    "print(df_art_teste)"
   ]
  },
  {
   "cell_type": "markdown",
   "id": "0701dccd-c7a0-4215-9bd9-cbddca44906e",
   "metadata": {},
   "source": [
    "--- "
   ]
  },
  {
   "cell_type": "markdown",
   "id": "4dadcdf7-78b2-49da-8ab7-9736ad86c990",
   "metadata": {},
   "source": [
    "#### Criando o modelo preditivo de base (baseline)"
   ]
  },
  {
   "cell_type": "markdown",
   "id": "f0bcee34-35f5-4c2f-a4f7-bcf3b721589e",
   "metadata": {},
   "source": [
    "- Para o dataframe do arquivo ***\"data.csv\"***:"
   ]
  },
  {
   "cell_type": "code",
   "execution_count": 57,
   "id": "c9aa408b-6120-4e91-b754-4f067d316a66",
   "metadata": {},
   "outputs": [
    {
     "data": {
      "text/plain": [
       "array(['Amostra', 'Sexo', 'Categoria Idade', 'Idade', 'URM1', 'TRAPPC3',\n",
       "       'GTF3C5', 'USP4', 'SCYL1', 'MLF2', 'DGCR14', 'ARAF', 'TCF25',\n",
       "       'HDAC3', 'RTFDC1', 'MTMR14', 'MANBAL', 'MRPL9', 'GPS1', 'GTF2F1',\n",
       "       'SMPD4', 'NRBP1', 'DNAJB12', 'SUPT5H'], dtype=object)"
      ]
     },
     "execution_count": 57,
     "metadata": {},
     "output_type": "execute_result"
    }
   ],
   "source": [
    "df_data.columns.values"
   ]
  },
  {
   "cell_type": "markdown",
   "id": "05edf5fb-ee17-4515-aad3-c1c141a533bc",
   "metadata": {},
   "source": [
    "> Queremos apenas os genes como features, então selecionaremos da quarta coluna para frente"
   ]
  },
  {
   "cell_type": "code",
   "execution_count": 58,
   "id": "0a087370-c570-4107-ad6c-379c0dc224fb",
   "metadata": {},
   "outputs": [],
   "source": [
    "TAMANHO_TESTE = 10\n",
    "SEMENTE_ALEATORIA = 666\n",
    "FEATURES = df_data.columns.values[4:]\n",
    "TARGET = [\"Idade\"]\n",
    "\n",
    "indices_data = df_data.index\n",
    "indices_treino_data, indices_teste_data = train_test_split(\n",
    "    indices_data, test_size=TAMANHO_TESTE, random_state=SEMENTE_ALEATORIA\n",
    ")\n",
    "\n",
    "df_treino_data = df_data.loc[indices_treino_data]\n",
    "df_teste_data = df_data.loc[indices_teste_data]\n",
    "\n",
    "# observe que usamos o .values aqui pois queremos apenas os valores\n",
    "X_treino_data = df_treino_data.reindex(FEATURES, axis=1).values\n",
    "y_treino_data = df_treino_data.reindex(TARGET, axis=1).values\n",
    "X_teste_data = df_teste_data.reindex(FEATURES, axis=1).values\n",
    "y_teste_data = df_teste_data.reindex(TARGET, axis=1).values"
   ]
  },
  {
   "cell_type": "markdown",
   "id": "9beb402b-16d2-402d-a432-1c2c5886ac85",
   "metadata": {},
   "source": [
    "Treinando o modelo:"
   ]
  },
  {
   "cell_type": "code",
   "execution_count": 66,
   "id": "9f274dd1-505a-4302-a5c9-61b9da564d79",
   "metadata": {},
   "outputs": [
    {
     "name": "stdout",
     "output_type": "stream",
     "text": [
      "[51.4 51.4 51.4 51.4 51.4 51.4 51.4 51.4 51.4 51.4]\n"
     ]
    }
   ],
   "source": [
    "from sklearn.dummy import DummyRegressor\n",
    "\n",
    "# Criando o modelo\n",
    "modelo_baseline = DummyRegressor()\n",
    "\n",
    "# Treinando o modelo\n",
    "modelo_baseline.fit(X_treino_data, y_treino_data)\n",
    "\n",
    "# realiza uma previsão usando o modelo treinado\n",
    "previsao = modelo_baseline.predict(X_teste_data)\n",
    "print(previsao)"
   ]
  },
  {
   "cell_type": "markdown",
   "id": "88e71d9e-e910-4e86-b3b6-965e0797af9b",
   "metadata": {},
   "source": [
    "####"
   ]
  },
  {
   "cell_type": "markdown",
   "id": "1dd5f304-65ef-45d9-afd4-e301f5db6d47",
   "metadata": {},
   "source": [
    "- Para o dataframe do arquivo ***\"data_artigo.csv\"***:"
   ]
  },
  {
   "cell_type": "code",
   "execution_count": 67,
   "id": "8092af7c-05e1-43b7-943f-88246363002a",
   "metadata": {},
   "outputs": [
    {
     "data": {
      "text/plain": [
       "array(['Amostra', 'Sexo', 'Categoria Idade', 'Idade', 'MMP1', 'MMP3',\n",
       "       'MMP9', 'MMP11', 'MMP24', 'MMP27', 'BARD1', 'BCL7C', 'CLPTM1L',\n",
       "       'TERT', 'CDKN1A'], dtype=object)"
      ]
     },
     "execution_count": 67,
     "metadata": {},
     "output_type": "execute_result"
    }
   ],
   "source": [
    "df_data_art.columns.values"
   ]
  },
  {
   "cell_type": "markdown",
   "id": "21b7885b-c53e-42f6-83f4-9c68930bda9e",
   "metadata": {},
   "source": [
    "> Novamente, apenas desejamos os genes como as features, então trabalharemos a partir da quarta coluna para frente"
   ]
  },
  {
   "cell_type": "code",
   "execution_count": 68,
   "id": "687e7f0c-0dd6-46d6-a4c2-b1695a7b4cbb",
   "metadata": {},
   "outputs": [],
   "source": [
    "TAMANHO_TESTE_art = 10\n",
    "SEMENTE_ALEATORIA_art = 777\n",
    "FEATURES_art = df_data_art.columns.values[4:]\n",
    "TARGET_art = [\"Idade\"]\n",
    "\n",
    "indices_data_art = df_data_art.index\n",
    "indices_treino_data_art, indices_teste_data_art = train_test_split(\n",
    "    indices_data_art, test_size=TAMANHO_TESTE_art, random_state=SEMENTE_ALEATORIA_art\n",
    ")\n",
    "\n",
    "df_treino_data_art = df_data_art.loc[indices_treino_data_art]\n",
    "df_teste_data_art = df_data_art.loc[indices_teste_data_art]\n",
    "\n",
    "# observe que usamos o .values aqui pois queremos apenas os valores\n",
    "X_treino_data_art = df_treino_data_art.reindex(FEATURES_art, axis=1).values\n",
    "y_treino_data_art = df_treino_data_art.reindex(TARGET_art, axis=1).values\n",
    "X_teste_data_art = df_teste_data_art.reindex(FEATURES_art, axis=1).values\n",
    "y_teste_data_art = df_teste_data_art.reindex(TARGET_art, axis=1).values"
   ]
  },
  {
   "cell_type": "markdown",
   "id": "f8e2fdd9-1e95-4b79-9841-5b2def87b51e",
   "metadata": {},
   "source": [
    "Treinando o modelo (para o ***data_artigo.csv***):"
   ]
  },
  {
   "cell_type": "code",
   "execution_count": 69,
   "id": "7bab03a1-fa36-4fec-a2af-eebe174d9cf5",
   "metadata": {},
   "outputs": [
    {
     "name": "stdout",
     "output_type": "stream",
     "text": [
      "[51.1 51.1 51.1 51.1 51.1 51.1 51.1 51.1 51.1 51.1]\n"
     ]
    }
   ],
   "source": [
    "from sklearn.dummy import DummyRegressor\n",
    "\n",
    "# Criando o modelo\n",
    "modelo_baseline_art = DummyRegressor()\n",
    "\n",
    "# Treinando o modelo\n",
    "modelo_baseline_art.fit(X_treino_data_art, y_treino_data_art)\n",
    "\n",
    "# realiza uma previsão usando o modelo treinado\n",
    "previsao_art = modelo_baseline_art.predict(X_teste_data_art)\n",
    "print(previsao_art)"
   ]
  },
  {
   "cell_type": "code",
   "execution_count": null,
   "id": "7ab51934-155f-4d78-90f4-00e5a88a2d2b",
   "metadata": {},
   "outputs": [],
   "source": []
  }
 ],
 "metadata": {
  "kernelspec": {
   "display_name": "new-ilumpy",
   "language": "python",
   "name": "new-ilumpy"
  },
  "language_info": {
   "codemirror_mode": {
    "name": "ipython",
    "version": 3
   },
   "file_extension": ".py",
   "mimetype": "text/x-python",
   "name": "python",
   "nbconvert_exporter": "python",
   "pygments_lexer": "ipython3",
   "version": "3.9.7"
  }
 },
 "nbformat": 4,
 "nbformat_minor": 5
}
