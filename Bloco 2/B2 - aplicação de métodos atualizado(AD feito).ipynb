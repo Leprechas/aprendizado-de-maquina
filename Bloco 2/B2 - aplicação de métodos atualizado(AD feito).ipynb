{
 "cells": [
  {
   "cell_type": "markdown",
   "id": "37252307-20eb-41b2-960d-3b0a9cadc347",
   "metadata": {},
   "source": [
    "## Bloco 2 - aprendizado de máquina\n",
    "\n",
    "<a id='sum'>Sumário</a>\n",
    "\n",
    "1. [Treino, teste e baseline](#treino)\n",
    "2. [k vizinhos mais próximos (k-NN)](#vizinhos)\n",
    "3. [Regressão linear](#linear)\n",
    "4. [Árvore de decisão](#decisao)\n",
    "5. [Floresta aleatória](#floresta)\n",
    "6. [Comparando os desempenhos dos modelos de regressão](#comparacao)\n",
    "7. [Classificação](#class)\n",
    "\n",
    "---"
   ]
  },
  {
   "cell_type": "markdown",
   "id": "1c95936d-b9eb-49d7-82f4-3d5857b28a67",
   "metadata": {
    "tags": []
   },
   "source": [
    "### <a id=\"treino\">Tarefa 1 - Treino, teste e baseline"
   ]
  },
  {
   "cell_type": "markdown",
   "id": "c9792d81-483a-47f8-b1aa-db529a4f6de7",
   "metadata": {},
   "source": [
    "Antes de mais nada, apenas por convenção e consistência dos dados analisados, estamos utilizando as seguintes `seeds` para as análises feitas:\n",
    "- ***seed:* 666** para os dados referentes ao dataset que utiliza o arquivo ***data.csv*** \n",
    "- ***seed:* 777** para os dados referentes ao dataset que utiliza o arquivo ***data_artigo.csv*** "
   ]
  },
  {
   "cell_type": "markdown",
   "id": "9dadca4f-473e-4442-ad36-0092bc0e4718",
   "metadata": {},
   "source": [
    "[Voltar para o sumário](#sum)"
   ]
  },
  {
   "cell_type": "markdown",
   "id": "8f747eec-c842-46e0-80b8-83a9bb9cb16c",
   "metadata": {},
   "source": [
    "Importando os dados dos arquivos:"
   ]
  },
  {
   "cell_type": "code",
   "execution_count": 1,
   "id": "9ea90edd-122a-4760-a407-c9790cb2740f",
   "metadata": {},
   "outputs": [],
   "source": [
    "# Importando as bibliotecas e módulos a serem utilizados para a realização do treino, teste e baseline\n",
    "import numpy as np\n",
    "import matplotlib.pyplot as plt\n",
    "import seaborn as sns\n",
    "import pandas as pd\n",
    "from sklearn.pipeline import Pipeline\n",
    "from sklearn.preprocessing import PolynomialFeatures\n",
    "from sklearn.linear_model import LinearRegression"
   ]
  },
  {
   "cell_type": "code",
   "execution_count": 2,
   "id": "0e811130-9939-40c8-a1f6-fb017f7b2fd0",
   "metadata": {
    "tags": []
   },
   "outputs": [],
   "source": [
    "df_data = pd.read_csv('data.csv') #Importando o dataframe do arquivo \"data.csv\" (o arquivo sem os dados do artigo)\n",
    "df_data = df_data.drop(\"Unnamed: 0\",axis=1)"
   ]
  },
  {
   "cell_type": "code",
   "execution_count": 3,
   "id": "55ba298e-c63c-438f-a848-89cc9352db3c",
   "metadata": {
    "tags": []
   },
   "outputs": [],
   "source": [
    "df_data_art = pd.read_csv('data_artigo.csv') #Importando o dataframe do arquivo \"data_artigo.csv\"\n",
    "df_data_art = df_data_art.drop(\"Unnamed: 0\",axis=1)"
   ]
  },
  {
   "cell_type": "code",
   "execution_count": 69,
   "id": "1945a23d-08f4-47c5-a756-73cf329f79a8",
   "metadata": {},
   "outputs": [
    {
     "data": {
      "text/html": [
       "<div>\n",
       "<style scoped>\n",
       "    .dataframe tbody tr th:only-of-type {\n",
       "        vertical-align: middle;\n",
       "    }\n",
       "\n",
       "    .dataframe tbody tr th {\n",
       "        vertical-align: top;\n",
       "    }\n",
       "\n",
       "    .dataframe thead th {\n",
       "        text-align: right;\n",
       "    }\n",
       "</style>\n",
       "<table border=\"1\" class=\"dataframe\">\n",
       "  <thead>\n",
       "    <tr style=\"text-align: right;\">\n",
       "      <th></th>\n",
       "      <th>Amostra</th>\n",
       "      <th>Sexo</th>\n",
       "      <th>Categoria Idade</th>\n",
       "      <th>Idade</th>\n",
       "      <th>URM1</th>\n",
       "      <th>TRAPPC3</th>\n",
       "      <th>GTF3C5</th>\n",
       "      <th>USP4</th>\n",
       "      <th>SCYL1</th>\n",
       "      <th>MLF2</th>\n",
       "      <th>...</th>\n",
       "      <th>RTFDC1</th>\n",
       "      <th>MTMR14</th>\n",
       "      <th>MANBAL</th>\n",
       "      <th>MRPL9</th>\n",
       "      <th>GPS1</th>\n",
       "      <th>GTF2F1</th>\n",
       "      <th>SMPD4</th>\n",
       "      <th>NRBP1</th>\n",
       "      <th>DNAJB12</th>\n",
       "      <th>SUPT5H</th>\n",
       "    </tr>\n",
       "  </thead>\n",
       "  <tbody>\n",
       "    <tr>\n",
       "      <th>0</th>\n",
       "      <td>GTEX-U8XE</td>\n",
       "      <td>male</td>\n",
       "      <td>Jovem</td>\n",
       "      <td>35</td>\n",
       "      <td>0.970511</td>\n",
       "      <td>0.916667</td>\n",
       "      <td>0.706498</td>\n",
       "      <td>0.825296</td>\n",
       "      <td>0.943988</td>\n",
       "      <td>0.915365</td>\n",
       "      <td>...</td>\n",
       "      <td>0.810352</td>\n",
       "      <td>0.620929</td>\n",
       "      <td>0.731743</td>\n",
       "      <td>0.965841</td>\n",
       "      <td>0.830299</td>\n",
       "      <td>0.712460</td>\n",
       "      <td>0.889464</td>\n",
       "      <td>0.847246</td>\n",
       "      <td>0.717243</td>\n",
       "      <td>0.864087</td>\n",
       "    </tr>\n",
       "    <tr>\n",
       "      <th>1</th>\n",
       "      <td>GTEX-UPJH</td>\n",
       "      <td>male</td>\n",
       "      <td>Adulto</td>\n",
       "      <td>55</td>\n",
       "      <td>0.668665</td>\n",
       "      <td>0.724498</td>\n",
       "      <td>0.855626</td>\n",
       "      <td>1.000000</td>\n",
       "      <td>0.814403</td>\n",
       "      <td>0.777995</td>\n",
       "      <td>...</td>\n",
       "      <td>0.843942</td>\n",
       "      <td>1.000000</td>\n",
       "      <td>0.821252</td>\n",
       "      <td>0.669403</td>\n",
       "      <td>0.862361</td>\n",
       "      <td>0.765743</td>\n",
       "      <td>0.917921</td>\n",
       "      <td>1.000000</td>\n",
       "      <td>0.882019</td>\n",
       "      <td>0.871705</td>\n",
       "    </tr>\n",
       "    <tr>\n",
       "      <th>2</th>\n",
       "      <td>GTEX-UPK5</td>\n",
       "      <td>male</td>\n",
       "      <td>Adulto</td>\n",
       "      <td>45</td>\n",
       "      <td>0.765044</td>\n",
       "      <td>0.891566</td>\n",
       "      <td>0.641997</td>\n",
       "      <td>0.779974</td>\n",
       "      <td>0.665592</td>\n",
       "      <td>0.738281</td>\n",
       "      <td>...</td>\n",
       "      <td>0.869037</td>\n",
       "      <td>0.802774</td>\n",
       "      <td>0.980705</td>\n",
       "      <td>0.990600</td>\n",
       "      <td>0.564181</td>\n",
       "      <td>0.765877</td>\n",
       "      <td>0.690263</td>\n",
       "      <td>0.776425</td>\n",
       "      <td>0.791548</td>\n",
       "      <td>0.700210</td>\n",
       "    </tr>\n",
       "    <tr>\n",
       "      <th>3</th>\n",
       "      <td>GTEX-V1D1</td>\n",
       "      <td>male</td>\n",
       "      <td>Adulto</td>\n",
       "      <td>55</td>\n",
       "      <td>0.695756</td>\n",
       "      <td>0.547992</td>\n",
       "      <td>0.632330</td>\n",
       "      <td>0.924374</td>\n",
       "      <td>0.575239</td>\n",
       "      <td>0.707031</td>\n",
       "      <td>...</td>\n",
       "      <td>0.592602</td>\n",
       "      <td>0.774729</td>\n",
       "      <td>0.699183</td>\n",
       "      <td>0.706209</td>\n",
       "      <td>0.623605</td>\n",
       "      <td>0.516550</td>\n",
       "      <td>0.806444</td>\n",
       "      <td>0.662126</td>\n",
       "      <td>0.736812</td>\n",
       "      <td>0.725469</td>\n",
       "    </tr>\n",
       "    <tr>\n",
       "      <th>4</th>\n",
       "      <td>GTEX-VJYA</td>\n",
       "      <td>male</td>\n",
       "      <td>Idoso</td>\n",
       "      <td>65</td>\n",
       "      <td>0.574682</td>\n",
       "      <td>0.795382</td>\n",
       "      <td>0.503962</td>\n",
       "      <td>0.911989</td>\n",
       "      <td>0.711825</td>\n",
       "      <td>0.703125</td>\n",
       "      <td>...</td>\n",
       "      <td>0.743955</td>\n",
       "      <td>0.808203</td>\n",
       "      <td>0.802090</td>\n",
       "      <td>0.998014</td>\n",
       "      <td>0.601762</td>\n",
       "      <td>0.598762</td>\n",
       "      <td>0.782455</td>\n",
       "      <td>0.696135</td>\n",
       "      <td>0.595576</td>\n",
       "      <td>0.682169</td>\n",
       "    </tr>\n",
       "    <tr>\n",
       "      <th>...</th>\n",
       "      <td>...</td>\n",
       "      <td>...</td>\n",
       "      <td>...</td>\n",
       "      <td>...</td>\n",
       "      <td>...</td>\n",
       "      <td>...</td>\n",
       "      <td>...</td>\n",
       "      <td>...</td>\n",
       "      <td>...</td>\n",
       "      <td>...</td>\n",
       "      <td>...</td>\n",
       "      <td>...</td>\n",
       "      <td>...</td>\n",
       "      <td>...</td>\n",
       "      <td>...</td>\n",
       "      <td>...</td>\n",
       "      <td>...</td>\n",
       "      <td>...</td>\n",
       "      <td>...</td>\n",
       "      <td>...</td>\n",
       "      <td>...</td>\n",
       "    </tr>\n",
       "    <tr>\n",
       "      <th>105</th>\n",
       "      <td>GTEX-ZYVF</td>\n",
       "      <td>female</td>\n",
       "      <td>Adulto</td>\n",
       "      <td>55</td>\n",
       "      <td>0.621434</td>\n",
       "      <td>0.841566</td>\n",
       "      <td>0.654834</td>\n",
       "      <td>0.779710</td>\n",
       "      <td>0.571905</td>\n",
       "      <td>0.693359</td>\n",
       "      <td>...</td>\n",
       "      <td>0.749706</td>\n",
       "      <td>0.637817</td>\n",
       "      <td>0.738845</td>\n",
       "      <td>0.560572</td>\n",
       "      <td>0.590957</td>\n",
       "      <td>0.616523</td>\n",
       "      <td>0.637347</td>\n",
       "      <td>0.698454</td>\n",
       "      <td>0.700794</td>\n",
       "      <td>0.709131</td>\n",
       "    </tr>\n",
       "    <tr>\n",
       "      <th>106</th>\n",
       "      <td>GTEX-ZYW4</td>\n",
       "      <td>male</td>\n",
       "      <td>Idoso</td>\n",
       "      <td>65</td>\n",
       "      <td>0.846320</td>\n",
       "      <td>0.833534</td>\n",
       "      <td>0.655784</td>\n",
       "      <td>0.621080</td>\n",
       "      <td>0.802956</td>\n",
       "      <td>0.835286</td>\n",
       "      <td>...</td>\n",
       "      <td>0.830741</td>\n",
       "      <td>0.783172</td>\n",
       "      <td>0.946804</td>\n",
       "      <td>0.734278</td>\n",
       "      <td>0.729771</td>\n",
       "      <td>0.822255</td>\n",
       "      <td>0.687912</td>\n",
       "      <td>0.822222</td>\n",
       "      <td>0.886841</td>\n",
       "      <td>0.665130</td>\n",
       "    </tr>\n",
       "    <tr>\n",
       "      <th>107</th>\n",
       "      <td>GTEX-ZYY3</td>\n",
       "      <td>female</td>\n",
       "      <td>Idoso</td>\n",
       "      <td>65</td>\n",
       "      <td>0.723328</td>\n",
       "      <td>0.796185</td>\n",
       "      <td>0.860539</td>\n",
       "      <td>0.756258</td>\n",
       "      <td>0.531007</td>\n",
       "      <td>0.571289</td>\n",
       "      <td>...</td>\n",
       "      <td>0.572082</td>\n",
       "      <td>0.701448</td>\n",
       "      <td>0.514538</td>\n",
       "      <td>0.804449</td>\n",
       "      <td>0.648268</td>\n",
       "      <td>0.560549</td>\n",
       "      <td>0.853010</td>\n",
       "      <td>0.704058</td>\n",
       "      <td>0.745037</td>\n",
       "      <td>0.848852</td>\n",
       "    </tr>\n",
       "    <tr>\n",
       "      <th>108</th>\n",
       "      <td>GTEX-ZZ64</td>\n",
       "      <td>male</td>\n",
       "      <td>Jovem</td>\n",
       "      <td>25</td>\n",
       "      <td>0.713498</td>\n",
       "      <td>0.731124</td>\n",
       "      <td>0.688431</td>\n",
       "      <td>0.855863</td>\n",
       "      <td>0.870305</td>\n",
       "      <td>0.915365</td>\n",
       "      <td>...</td>\n",
       "      <td>0.817671</td>\n",
       "      <td>0.783172</td>\n",
       "      <td>0.808790</td>\n",
       "      <td>0.722494</td>\n",
       "      <td>0.756665</td>\n",
       "      <td>0.994483</td>\n",
       "      <td>0.765522</td>\n",
       "      <td>0.869179</td>\n",
       "      <td>0.891378</td>\n",
       "      <td>0.833317</td>\n",
       "    </tr>\n",
       "    <tr>\n",
       "      <th>109</th>\n",
       "      <td>GTEX-ZZPU</td>\n",
       "      <td>female</td>\n",
       "      <td>Adulto</td>\n",
       "      <td>55</td>\n",
       "      <td>0.742268</td>\n",
       "      <td>0.708032</td>\n",
       "      <td>0.784786</td>\n",
       "      <td>0.767852</td>\n",
       "      <td>0.706935</td>\n",
       "      <td>0.634635</td>\n",
       "      <td>...</td>\n",
       "      <td>0.662528</td>\n",
       "      <td>0.848613</td>\n",
       "      <td>0.661664</td>\n",
       "      <td>0.739309</td>\n",
       "      <td>0.910393</td>\n",
       "      <td>0.718649</td>\n",
       "      <td>0.695673</td>\n",
       "      <td>0.746473</td>\n",
       "      <td>0.778219</td>\n",
       "      <td>0.818282</td>\n",
       "    </tr>\n",
       "  </tbody>\n",
       "</table>\n",
       "<p>110 rows × 24 columns</p>\n",
       "</div>"
      ],
      "text/plain": [
       "       Amostra    Sexo Categoria Idade  Idade      URM1   TRAPPC3    GTF3C5  \\\n",
       "0    GTEX-U8XE    male           Jovem     35  0.970511  0.916667  0.706498   \n",
       "1    GTEX-UPJH    male          Adulto     55  0.668665  0.724498  0.855626   \n",
       "2    GTEX-UPK5    male          Adulto     45  0.765044  0.891566  0.641997   \n",
       "3    GTEX-V1D1    male          Adulto     55  0.695756  0.547992  0.632330   \n",
       "4    GTEX-VJYA    male           Idoso     65  0.574682  0.795382  0.503962   \n",
       "..         ...     ...             ...    ...       ...       ...       ...   \n",
       "105  GTEX-ZYVF  female          Adulto     55  0.621434  0.841566  0.654834   \n",
       "106  GTEX-ZYW4    male           Idoso     65  0.846320  0.833534  0.655784   \n",
       "107  GTEX-ZYY3  female           Idoso     65  0.723328  0.796185  0.860539   \n",
       "108  GTEX-ZZ64    male           Jovem     25  0.713498  0.731124  0.688431   \n",
       "109  GTEX-ZZPU  female          Adulto     55  0.742268  0.708032  0.784786   \n",
       "\n",
       "         USP4     SCYL1      MLF2  ...    RTFDC1    MTMR14    MANBAL  \\\n",
       "0    0.825296  0.943988  0.915365  ...  0.810352  0.620929  0.731743   \n",
       "1    1.000000  0.814403  0.777995  ...  0.843942  1.000000  0.821252   \n",
       "2    0.779974  0.665592  0.738281  ...  0.869037  0.802774  0.980705   \n",
       "3    0.924374  0.575239  0.707031  ...  0.592602  0.774729  0.699183   \n",
       "4    0.911989  0.711825  0.703125  ...  0.743955  0.808203  0.802090   \n",
       "..        ...       ...       ...  ...       ...       ...       ...   \n",
       "105  0.779710  0.571905  0.693359  ...  0.749706  0.637817  0.738845   \n",
       "106  0.621080  0.802956  0.835286  ...  0.830741  0.783172  0.946804   \n",
       "107  0.756258  0.531007  0.571289  ...  0.572082  0.701448  0.514538   \n",
       "108  0.855863  0.870305  0.915365  ...  0.817671  0.783172  0.808790   \n",
       "109  0.767852  0.706935  0.634635  ...  0.662528  0.848613  0.661664   \n",
       "\n",
       "        MRPL9      GPS1    GTF2F1     SMPD4     NRBP1   DNAJB12    SUPT5H  \n",
       "0    0.965841  0.830299  0.712460  0.889464  0.847246  0.717243  0.864087  \n",
       "1    0.669403  0.862361  0.765743  0.917921  1.000000  0.882019  0.871705  \n",
       "2    0.990600  0.564181  0.765877  0.690263  0.776425  0.791548  0.700210  \n",
       "3    0.706209  0.623605  0.516550  0.806444  0.662126  0.736812  0.725469  \n",
       "4    0.998014  0.601762  0.598762  0.782455  0.696135  0.595576  0.682169  \n",
       "..        ...       ...       ...       ...       ...       ...       ...  \n",
       "105  0.560572  0.590957  0.616523  0.637347  0.698454  0.700794  0.709131  \n",
       "106  0.734278  0.729771  0.822255  0.687912  0.822222  0.886841  0.665130  \n",
       "107  0.804449  0.648268  0.560549  0.853010  0.704058  0.745037  0.848852  \n",
       "108  0.722494  0.756665  0.994483  0.765522  0.869179  0.891378  0.833317  \n",
       "109  0.739309  0.910393  0.718649  0.695673  0.746473  0.778219  0.818282  \n",
       "\n",
       "[110 rows x 24 columns]"
      ]
     },
     "execution_count": 69,
     "metadata": {},
     "output_type": "execute_result"
    }
   ],
   "source": [
    "# Substituindo os intervalos dos valores das idades para a média, a fim de obter os dados em valores numéricos - para o \"data.csv\"\n",
    "df_data['Idade']=df_data['Idade'].replace('20-29',int(25))\n",
    "df_data['Idade']=df_data['Idade'].replace('30-39',int(35))\n",
    "df_data['Idade']=df_data['Idade'].replace('40-49',int(45))\n",
    "df_data['Idade']=df_data['Idade'].replace('50-59',int(55))\n",
    "df_data['Idade']=df_data['Idade'].replace('60-69',int(65))\n",
    "df_data['Idade']=df_data['Idade'].replace('70-79',int(75))\n",
    "df_data"
   ]
  },
  {
   "cell_type": "code",
   "execution_count": 70,
   "id": "b4d66675-8b36-4a58-939d-02cf4f048156",
   "metadata": {},
   "outputs": [
    {
     "data": {
      "text/html": [
       "<div>\n",
       "<style scoped>\n",
       "    .dataframe tbody tr th:only-of-type {\n",
       "        vertical-align: middle;\n",
       "    }\n",
       "\n",
       "    .dataframe tbody tr th {\n",
       "        vertical-align: top;\n",
       "    }\n",
       "\n",
       "    .dataframe thead th {\n",
       "        text-align: right;\n",
       "    }\n",
       "</style>\n",
       "<table border=\"1\" class=\"dataframe\">\n",
       "  <thead>\n",
       "    <tr style=\"text-align: right;\">\n",
       "      <th></th>\n",
       "      <th>Amostra</th>\n",
       "      <th>Sexo</th>\n",
       "      <th>Categoria Idade</th>\n",
       "      <th>Idade</th>\n",
       "      <th>MMP1</th>\n",
       "      <th>MMP3</th>\n",
       "      <th>MMP9</th>\n",
       "      <th>MMP11</th>\n",
       "      <th>MMP24</th>\n",
       "      <th>MMP27</th>\n",
       "      <th>BARD1</th>\n",
       "      <th>BCL7C</th>\n",
       "      <th>CLPTM1L</th>\n",
       "      <th>TERT</th>\n",
       "      <th>CDKN1A</th>\n",
       "    </tr>\n",
       "  </thead>\n",
       "  <tbody>\n",
       "    <tr>\n",
       "      <th>0</th>\n",
       "      <td>GTEX-U8XE</td>\n",
       "      <td>male</td>\n",
       "      <td>Jovem</td>\n",
       "      <td>35</td>\n",
       "      <td>0.415301</td>\n",
       "      <td>1.959855e-02</td>\n",
       "      <td>0.609227</td>\n",
       "      <td>8.821049e-02</td>\n",
       "      <td>0.000014</td>\n",
       "      <td>0.851644</td>\n",
       "      <td>0.354668</td>\n",
       "      <td>0.472280</td>\n",
       "      <td>0.910613</td>\n",
       "      <td>0.456960</td>\n",
       "      <td>0.770863</td>\n",
       "    </tr>\n",
       "    <tr>\n",
       "      <th>1</th>\n",
       "      <td>GTEX-UPJH</td>\n",
       "      <td>male</td>\n",
       "      <td>Adulto</td>\n",
       "      <td>55</td>\n",
       "      <td>0.000005</td>\n",
       "      <td>7.996788e-03</td>\n",
       "      <td>0.159422</td>\n",
       "      <td>3.882611e-02</td>\n",
       "      <td>0.503206</td>\n",
       "      <td>0.168324</td>\n",
       "      <td>0.491779</td>\n",
       "      <td>0.604135</td>\n",
       "      <td>0.656658</td>\n",
       "      <td>0.020528</td>\n",
       "      <td>0.301729</td>\n",
       "    </tr>\n",
       "    <tr>\n",
       "      <th>2</th>\n",
       "      <td>GTEX-UPK5</td>\n",
       "      <td>male</td>\n",
       "      <td>Adulto</td>\n",
       "      <td>45</td>\n",
       "      <td>0.000000</td>\n",
       "      <td>7.149739e-03</td>\n",
       "      <td>0.000003</td>\n",
       "      <td>4.746163e-02</td>\n",
       "      <td>0.000003</td>\n",
       "      <td>0.310585</td>\n",
       "      <td>0.215032</td>\n",
       "      <td>0.536110</td>\n",
       "      <td>0.690726</td>\n",
       "      <td>0.000000</td>\n",
       "      <td>0.230042</td>\n",
       "    </tr>\n",
       "    <tr>\n",
       "      <th>3</th>\n",
       "      <td>GTEX-V1D1</td>\n",
       "      <td>male</td>\n",
       "      <td>Adulto</td>\n",
       "      <td>55</td>\n",
       "      <td>0.000000</td>\n",
       "      <td>0.000000e+00</td>\n",
       "      <td>0.062979</td>\n",
       "      <td>1.321471e-06</td>\n",
       "      <td>0.000034</td>\n",
       "      <td>0.523176</td>\n",
       "      <td>0.488843</td>\n",
       "      <td>0.430027</td>\n",
       "      <td>0.459522</td>\n",
       "      <td>0.183716</td>\n",
       "      <td>0.266740</td>\n",
       "    </tr>\n",
       "    <tr>\n",
       "      <th>4</th>\n",
       "      <td>GTEX-VJYA</td>\n",
       "      <td>male</td>\n",
       "      <td>Idoso</td>\n",
       "      <td>65</td>\n",
       "      <td>0.000000</td>\n",
       "      <td>1.969892e-02</td>\n",
       "      <td>0.329350</td>\n",
       "      <td>3.710575e-02</td>\n",
       "      <td>0.444207</td>\n",
       "      <td>0.744908</td>\n",
       "      <td>0.250793</td>\n",
       "      <td>0.411447</td>\n",
       "      <td>0.618432</td>\n",
       "      <td>0.223564</td>\n",
       "      <td>0.134728</td>\n",
       "    </tr>\n",
       "    <tr>\n",
       "      <th>...</th>\n",
       "      <td>...</td>\n",
       "      <td>...</td>\n",
       "      <td>...</td>\n",
       "      <td>...</td>\n",
       "      <td>...</td>\n",
       "      <td>...</td>\n",
       "      <td>...</td>\n",
       "      <td>...</td>\n",
       "      <td>...</td>\n",
       "      <td>...</td>\n",
       "      <td>...</td>\n",
       "      <td>...</td>\n",
       "      <td>...</td>\n",
       "      <td>...</td>\n",
       "      <td>...</td>\n",
       "    </tr>\n",
       "    <tr>\n",
       "      <th>105</th>\n",
       "      <td>GTEX-ZYVF</td>\n",
       "      <td>female</td>\n",
       "      <td>Adulto</td>\n",
       "      <td>55</td>\n",
       "      <td>0.000024</td>\n",
       "      <td>1.819350e-07</td>\n",
       "      <td>0.142913</td>\n",
       "      <td>2.020577e-02</td>\n",
       "      <td>0.000032</td>\n",
       "      <td>0.095750</td>\n",
       "      <td>0.363183</td>\n",
       "      <td>0.539107</td>\n",
       "      <td>0.547407</td>\n",
       "      <td>0.106089</td>\n",
       "      <td>0.242711</td>\n",
       "    </tr>\n",
       "    <tr>\n",
       "      <th>106</th>\n",
       "      <td>GTEX-ZYW4</td>\n",
       "      <td>male</td>\n",
       "      <td>Idoso</td>\n",
       "      <td>65</td>\n",
       "      <td>0.000023</td>\n",
       "      <td>5.150542e-03</td>\n",
       "      <td>0.168872</td>\n",
       "      <td>5.422500e-02</td>\n",
       "      <td>0.000013</td>\n",
       "      <td>0.103609</td>\n",
       "      <td>0.250000</td>\n",
       "      <td>0.706623</td>\n",
       "      <td>0.785079</td>\n",
       "      <td>0.312058</td>\n",
       "      <td>0.371003</td>\n",
       "    </tr>\n",
       "    <tr>\n",
       "      <th>107</th>\n",
       "      <td>GTEX-ZYY3</td>\n",
       "      <td>female</td>\n",
       "      <td>Idoso</td>\n",
       "      <td>65</td>\n",
       "      <td>0.000003</td>\n",
       "      <td>2.070253e-07</td>\n",
       "      <td>0.071373</td>\n",
       "      <td>8.591668e-07</td>\n",
       "      <td>0.000021</td>\n",
       "      <td>0.000006</td>\n",
       "      <td>0.754844</td>\n",
       "      <td>0.472580</td>\n",
       "      <td>0.506640</td>\n",
       "      <td>0.312230</td>\n",
       "      <td>0.363262</td>\n",
       "    </tr>\n",
       "    <tr>\n",
       "      <th>108</th>\n",
       "      <td>GTEX-ZZ64</td>\n",
       "      <td>male</td>\n",
       "      <td>Jovem</td>\n",
       "      <td>25</td>\n",
       "      <td>0.000001</td>\n",
       "      <td>3.753111e-02</td>\n",
       "      <td>0.185770</td>\n",
       "      <td>2.604149e-02</td>\n",
       "      <td>0.000039</td>\n",
       "      <td>0.289014</td>\n",
       "      <td>0.354081</td>\n",
       "      <td>0.503746</td>\n",
       "      <td>0.718097</td>\n",
       "      <td>0.037088</td>\n",
       "      <td>0.377036</td>\n",
       "    </tr>\n",
       "    <tr>\n",
       "      <th>109</th>\n",
       "      <td>GTEX-ZZPU</td>\n",
       "      <td>female</td>\n",
       "      <td>Adulto</td>\n",
       "      <td>55</td>\n",
       "      <td>0.000000</td>\n",
       "      <td>1.586110e-02</td>\n",
       "      <td>0.067426</td>\n",
       "      <td>1.959858e-02</td>\n",
       "      <td>0.502779</td>\n",
       "      <td>0.581716</td>\n",
       "      <td>0.288227</td>\n",
       "      <td>0.700330</td>\n",
       "      <td>0.666243</td>\n",
       "      <td>0.043816</td>\n",
       "      <td>0.166901</td>\n",
       "    </tr>\n",
       "  </tbody>\n",
       "</table>\n",
       "<p>110 rows × 15 columns</p>\n",
       "</div>"
      ],
      "text/plain": [
       "       Amostra    Sexo Categoria Idade  Idade      MMP1          MMP3  \\\n",
       "0    GTEX-U8XE    male           Jovem     35  0.415301  1.959855e-02   \n",
       "1    GTEX-UPJH    male          Adulto     55  0.000005  7.996788e-03   \n",
       "2    GTEX-UPK5    male          Adulto     45  0.000000  7.149739e-03   \n",
       "3    GTEX-V1D1    male          Adulto     55  0.000000  0.000000e+00   \n",
       "4    GTEX-VJYA    male           Idoso     65  0.000000  1.969892e-02   \n",
       "..         ...     ...             ...    ...       ...           ...   \n",
       "105  GTEX-ZYVF  female          Adulto     55  0.000024  1.819350e-07   \n",
       "106  GTEX-ZYW4    male           Idoso     65  0.000023  5.150542e-03   \n",
       "107  GTEX-ZYY3  female           Idoso     65  0.000003  2.070253e-07   \n",
       "108  GTEX-ZZ64    male           Jovem     25  0.000001  3.753111e-02   \n",
       "109  GTEX-ZZPU  female          Adulto     55  0.000000  1.586110e-02   \n",
       "\n",
       "         MMP9         MMP11     MMP24     MMP27     BARD1     BCL7C   CLPTM1L  \\\n",
       "0    0.609227  8.821049e-02  0.000014  0.851644  0.354668  0.472280  0.910613   \n",
       "1    0.159422  3.882611e-02  0.503206  0.168324  0.491779  0.604135  0.656658   \n",
       "2    0.000003  4.746163e-02  0.000003  0.310585  0.215032  0.536110  0.690726   \n",
       "3    0.062979  1.321471e-06  0.000034  0.523176  0.488843  0.430027  0.459522   \n",
       "4    0.329350  3.710575e-02  0.444207  0.744908  0.250793  0.411447  0.618432   \n",
       "..        ...           ...       ...       ...       ...       ...       ...   \n",
       "105  0.142913  2.020577e-02  0.000032  0.095750  0.363183  0.539107  0.547407   \n",
       "106  0.168872  5.422500e-02  0.000013  0.103609  0.250000  0.706623  0.785079   \n",
       "107  0.071373  8.591668e-07  0.000021  0.000006  0.754844  0.472580  0.506640   \n",
       "108  0.185770  2.604149e-02  0.000039  0.289014  0.354081  0.503746  0.718097   \n",
       "109  0.067426  1.959858e-02  0.502779  0.581716  0.288227  0.700330  0.666243   \n",
       "\n",
       "         TERT    CDKN1A  \n",
       "0    0.456960  0.770863  \n",
       "1    0.020528  0.301729  \n",
       "2    0.000000  0.230042  \n",
       "3    0.183716  0.266740  \n",
       "4    0.223564  0.134728  \n",
       "..        ...       ...  \n",
       "105  0.106089  0.242711  \n",
       "106  0.312058  0.371003  \n",
       "107  0.312230  0.363262  \n",
       "108  0.037088  0.377036  \n",
       "109  0.043816  0.166901  \n",
       "\n",
       "[110 rows x 15 columns]"
      ]
     },
     "execution_count": 70,
     "metadata": {},
     "output_type": "execute_result"
    }
   ],
   "source": [
    "# Substituindo os intervalos dos valores das idades para a média, a fim de obter os dados em valores numéricos - para o \"data_artigo.csv\"\n",
    "df_data_art['Idade']=df_data_art['Idade'].replace('20-29',int(25))\n",
    "df_data_art['Idade']=df_data_art['Idade'].replace('30-39',int(35))\n",
    "df_data_art['Idade']=df_data_art['Idade'].replace('40-49',int(45))\n",
    "df_data_art['Idade']=df_data_art['Idade'].replace('50-59',int(55))\n",
    "df_data_art['Idade']=df_data_art['Idade'].replace('60-69',int(65))\n",
    "df_data_art['Idade']=df_data_art['Idade'].replace('70-79',int(75))\n",
    "df_data_art"
   ]
  },
  {
   "cell_type": "markdown",
   "id": "0a35e864-1be9-4c40-aa04-1da1654e20c1",
   "metadata": {},
   "source": [
    "#### Dividindo o dataset em treino e teste"
   ]
  },
  {
   "cell_type": "code",
   "execution_count": 6,
   "id": "76757cd6-703a-4490-8387-728693493980",
   "metadata": {
    "tags": []
   },
   "outputs": [],
   "source": [
    "# Para o dataframe do \"data.csv\"\n",
    "from sklearn.model_selection import train_test_split\n",
    "\n",
    "TAMANHO_TESTE = 10\n",
    "\n",
    "indices = df_data.index\n",
    "indices_treino, indices_teste = train_test_split(\n",
    "    indices, test_size=TAMANHO_TESTE\n",
    ")\n",
    "\n",
    "df_treino = df_data.loc[indices_treino]\n",
    "df_teste = df_data.loc[indices_teste]"
   ]
  },
  {
   "cell_type": "code",
   "execution_count": 7,
   "id": "23dc7d1a-5f51-4f27-82ec-011a6b0fa122",
   "metadata": {
    "tags": []
   },
   "outputs": [],
   "source": [
    "# Para o dataframe do \"data_artigo.csv\"\n",
    "from sklearn.model_selection import train_test_split\n",
    "\n",
    "TAMANHO_TESTE_art = 10\n",
    "\n",
    "indices_art = df_data_art.index\n",
    "indices_treino_art, indices_teste_art = train_test_split(\n",
    "    indices_art, test_size=TAMANHO_TESTE_art\n",
    ")\n",
    "\n",
    "df_art_treino = df_data_art.loc[indices_treino_art]\n",
    "df_art_teste = df_data_art.loc[indices_teste_art]"
   ]
  },
  {
   "cell_type": "markdown",
   "id": "0701dccd-c7a0-4215-9bd9-cbddca44906e",
   "metadata": {},
   "source": [
    "--- "
   ]
  },
  {
   "cell_type": "markdown",
   "id": "4dadcdf7-78b2-49da-8ab7-9736ad86c990",
   "metadata": {},
   "source": [
    "#### Criando o modelo preditivo de base (baseline)"
   ]
  },
  {
   "cell_type": "markdown",
   "id": "f0bcee34-35f5-4c2f-a4f7-bcf3b721589e",
   "metadata": {},
   "source": [
    "- Para o dataframe do arquivo ***\"data.csv\"***:"
   ]
  },
  {
   "cell_type": "code",
   "execution_count": 8,
   "id": "c9aa408b-6120-4e91-b754-4f067d316a66",
   "metadata": {},
   "outputs": [
    {
     "data": {
      "text/plain": [
       "array(['Amostra', 'Sexo', 'Categoria Idade', 'Idade', 'URM1', 'TRAPPC3',\n",
       "       'GTF3C5', 'USP4', 'SCYL1', 'MLF2', 'DGCR14', 'ARAF', 'TCF25',\n",
       "       'HDAC3', 'RTFDC1', 'MTMR14', 'MANBAL', 'MRPL9', 'GPS1', 'GTF2F1',\n",
       "       'SMPD4', 'NRBP1', 'DNAJB12', 'SUPT5H'], dtype=object)"
      ]
     },
     "execution_count": 8,
     "metadata": {},
     "output_type": "execute_result"
    }
   ],
   "source": [
    "df_data.columns.values"
   ]
  },
  {
   "cell_type": "markdown",
   "id": "05edf5fb-ee17-4515-aad3-c1c141a533bc",
   "metadata": {},
   "source": [
    "> Queremos apenas os genes como features, então selecionaremos da quarta coluna para frente"
   ]
  },
  {
   "cell_type": "code",
   "execution_count": 9,
   "id": "0a087370-c570-4107-ad6c-379c0dc224fb",
   "metadata": {},
   "outputs": [],
   "source": [
    "TAMANHO_TESTE = 10\n",
    "SEMENTE_ALEATORIA = 666\n",
    "FEATURES = df_data.columns.values[4:]\n",
    "TARGET = [\"Idade\"]\n",
    "\n",
    "indices_data = df_data.index\n",
    "indices_treino_data, indices_teste_data = train_test_split(\n",
    "    indices_data, test_size=TAMANHO_TESTE, random_state=SEMENTE_ALEATORIA\n",
    ")\n",
    "\n",
    "df_treino_data = df_data.loc[indices_treino_data]\n",
    "df_teste_data = df_data.loc[indices_teste_data]\n",
    "\n",
    "# observe que usamos o .values aqui pois queremos apenas os valores\n",
    "X_treino_data = df_treino_data.reindex(FEATURES, axis=1).values\n",
    "y_treino_data = df_treino_data.reindex(TARGET, axis=1).values\n",
    "X_teste_data = df_teste_data.reindex(FEATURES, axis=1).values\n",
    "y_teste_data = df_teste_data.reindex(TARGET, axis=1).values"
   ]
  },
  {
   "cell_type": "markdown",
   "id": "9beb402b-16d2-402d-a432-1c2c5886ac85",
   "metadata": {},
   "source": [
    "Treinando o modelo:"
   ]
  },
  {
   "cell_type": "code",
   "execution_count": 10,
   "id": "9f274dd1-505a-4302-a5c9-61b9da564d79",
   "metadata": {},
   "outputs": [
    {
     "name": "stdout",
     "output_type": "stream",
     "text": [
      "[51.4 51.4 51.4 51.4 51.4 51.4 51.4 51.4 51.4 51.4]\n"
     ]
    }
   ],
   "source": [
    "from sklearn.dummy import DummyRegressor\n",
    "\n",
    "# Criando o modelo\n",
    "modelo_baseline = DummyRegressor()\n",
    "\n",
    "# Treinando o modelo\n",
    "modelo_baseline.fit(X_treino_data, y_treino_data)\n",
    "\n",
    "# realiza uma previsão usando o modelo treinado\n",
    "previsao = modelo_baseline.predict(X_teste_data)\n",
    "print(previsao)"
   ]
  },
  {
   "cell_type": "markdown",
   "id": "88e71d9e-e910-4e86-b3b6-965e0797af9b",
   "metadata": {},
   "source": [
    "####"
   ]
  },
  {
   "cell_type": "markdown",
   "id": "1dd5f304-65ef-45d9-afd4-e301f5db6d47",
   "metadata": {},
   "source": [
    "- Para o dataframe do arquivo ***\"data_artigo.csv\"***:"
   ]
  },
  {
   "cell_type": "code",
   "execution_count": 11,
   "id": "8092af7c-05e1-43b7-943f-88246363002a",
   "metadata": {},
   "outputs": [
    {
     "data": {
      "text/plain": [
       "array(['Amostra', 'Sexo', 'Categoria Idade', 'Idade', 'MMP1', 'MMP3',\n",
       "       'MMP9', 'MMP11', 'MMP24', 'MMP27', 'BARD1', 'BCL7C', 'CLPTM1L',\n",
       "       'TERT', 'CDKN1A'], dtype=object)"
      ]
     },
     "execution_count": 11,
     "metadata": {},
     "output_type": "execute_result"
    }
   ],
   "source": [
    "df_data_art.columns.values"
   ]
  },
  {
   "cell_type": "markdown",
   "id": "21b7885b-c53e-42f6-83f4-9c68930bda9e",
   "metadata": {},
   "source": [
    "> Novamente, apenas desejamos os genes como as features, então trabalharemos a partir da quarta coluna para frente"
   ]
  },
  {
   "cell_type": "code",
   "execution_count": 12,
   "id": "687e7f0c-0dd6-46d6-a4c2-b1695a7b4cbb",
   "metadata": {},
   "outputs": [],
   "source": [
    "TAMANHO_TESTE_art = 10\n",
    "SEMENTE_ALEATORIA_art = 777\n",
    "FEATURES_art = df_data_art.columns.values[4:]\n",
    "TARGET_art = [\"Idade\"]\n",
    "\n",
    "indices_data_art = df_data_art.index\n",
    "indices_treino_data_art, indices_teste_data_art = train_test_split(\n",
    "    indices_data_art, test_size=TAMANHO_TESTE_art, random_state=SEMENTE_ALEATORIA_art\n",
    ")\n",
    "\n",
    "df_treino_data_art = df_data_art.loc[indices_treino_data_art]\n",
    "df_teste_data_art = df_data_art.loc[indices_teste_data_art]\n",
    "\n",
    "# observe que usamos o .values aqui pois queremos apenas os valores\n",
    "X_treino_data_art = df_treino_data_art.reindex(FEATURES_art, axis=1).values\n",
    "y_treino_data_art = df_treino_data_art.reindex(TARGET_art, axis=1).values\n",
    "X_teste_data_art = df_teste_data_art.reindex(FEATURES_art, axis=1).values\n",
    "y_teste_data_art = df_teste_data_art.reindex(TARGET_art, axis=1).values"
   ]
  },
  {
   "cell_type": "markdown",
   "id": "f8e2fdd9-1e95-4b79-9841-5b2def87b51e",
   "metadata": {},
   "source": [
    "Treinando o modelo (para o ***data_artigo.csv***):"
   ]
  },
  {
   "cell_type": "code",
   "execution_count": 13,
   "id": "7bab03a1-fa36-4fec-a2af-eebe174d9cf5",
   "metadata": {},
   "outputs": [
    {
     "name": "stdout",
     "output_type": "stream",
     "text": [
      "[51.1 51.1 51.1 51.1 51.1 51.1 51.1 51.1 51.1 51.1]\n"
     ]
    }
   ],
   "source": [
    "from sklearn.dummy import DummyRegressor\n",
    "\n",
    "# Criando o modelo\n",
    "modelo_baseline_art = DummyRegressor()\n",
    "\n",
    "# Treinando o modelo\n",
    "modelo_baseline_art.fit(X_treino_data_art, y_treino_data_art)\n",
    "\n",
    "# realiza uma previsão usando o modelo treinado\n",
    "previsao_art = modelo_baseline_art.predict(X_teste_data_art)\n",
    "print(previsao_art)"
   ]
  },
  {
   "cell_type": "markdown",
   "id": "1faf3113-f4c7-44ef-af9b-a5cf303e1090",
   "metadata": {},
   "source": [
    "###"
   ]
  },
  {
   "cell_type": "markdown",
   "id": "6e84afab-c40d-4c86-af73-9be7e342b8f7",
   "metadata": {},
   "source": [
    "Agora, precisamos testar se o nosso modelo realmente é bom, e para isso, precisamos utilizar métricas - a raiz quadrada do erro quadrático médio (RMSE, root mean squared error) é um bom método para determinar a eficácia do algoritmo."
   ]
  },
  {
   "cell_type": "markdown",
   "id": "60784de8-87ae-415a-a5b6-e7f93797c260",
   "metadata": {},
   "source": [
    "- Testando para o dataframe do arquivo ***\"data.csv\"***:"
   ]
  },
  {
   "cell_type": "code",
   "execution_count": 14,
   "id": "93c84a88-866f-4b32-b861-09e3b1a84f1a",
   "metadata": {},
   "outputs": [
    {
     "name": "stdout",
     "output_type": "stream",
     "text": [
      "O RMSE do modelo baseline foi de 14.579437574886077 anos.\n"
     ]
    },
    {
     "data": {
      "image/png": "[encoded data removed]",
      "text/plain": [
       "<Figure size 432x288 with 1 Axes>"
      ]
     },
     "metadata": {
      "needs_background": "light"
     },
     "output_type": "display_data"
    }
   ],
   "source": [
    "from sklearn.metrics import mean_squared_error\n",
    "\n",
    "y_verdadeiro = y_teste_data\n",
    "y_previsao = modelo_baseline.predict(X_teste_data)\n",
    "\n",
    "RMSE = mean_squared_error(y_verdadeiro, y_previsao, squared=False)\n",
    "\n",
    "print(f\"O RMSE do modelo baseline foi de {RMSE} anos.\")\n",
    "\n",
    "fig, ax = plt.subplots()\n",
    "ax.scatter(y_verdadeiro, y_previsao)\n",
    "ax.plot([y_verdadeiro.min(), y_verdadeiro.max()], [y_verdadeiro.min(), y_verdadeiro.max()], 'k--', lw=4)\n",
    "ax.set_xlabel('Valor real')\n",
    "ax.set_ylabel('Previsão')\n",
    "plt.show()"
   ]
  },
  {
   "cell_type": "markdown",
   "id": "a6099859-93e3-4acf-8f7f-d24df8215cfb",
   "metadata": {},
   "source": [
    "- Testando para o dataframe do arquivo ***\"data_artigo.csv\"***:"
   ]
  },
  {
   "cell_type": "code",
   "execution_count": 15,
   "id": "4329089e-c8c2-473f-8875-3be958a58831",
   "metadata": {},
   "outputs": [
    {
     "name": "stdout",
     "output_type": "stream",
     "text": [
      "O RMSE do modelo baseline foi de 10.205880657738458 anos.\n"
     ]
    }
   ],
   "source": [
    "y_verdadeiro_art = y_teste_data_art\n",
    "y_previsao_art = modelo_baseline.predict(X_teste_data_art)\n",
    "\n",
    "RMSE_art = mean_squared_error(y_verdadeiro_art, y_previsao_art, squared=False)\n",
    "\n",
    "print(f\"O RMSE do modelo baseline foi de {RMSE_art} anos.\")"
   ]
  },
  {
   "cell_type": "code",
   "execution_count": 16,
   "id": "c8806d26-4914-4c1b-bfee-3dcf60f7ea37",
   "metadata": {},
   "outputs": [
    {
     "data": {
      "image/png": "[encoded data removed]",
      "text/plain": [
       "<Figure size 432x288 with 1 Axes>"
      ]
     },
     "metadata": {
      "needs_background": "light"
     },
     "output_type": "display_data"
    }
   ],
   "source": [
    "ig, ax = plt.subplots()\n",
    "ax.scatter(y_verdadeiro_art, y_previsao_art)\n",
    "ax.plot([y_verdadeiro_art.min(), y_verdadeiro_art.max()], [y_verdadeiro_art.min(), y_verdadeiro_art.max()], 'k--', lw=4)\n",
    "ax.set_xlabel('Valor real')\n",
    "ax.set_ylabel('Previsão')\n",
    "plt.show()"
   ]
  },
  {
   "cell_type": "markdown",
   "id": "91719377-46b8-4a33-bc17-621794b33084",
   "metadata": {},
   "source": [
    "---"
   ]
  },
  {
   "cell_type": "markdown",
   "id": "4fd6fde4-627c-4262-88ae-da6d6f50701e",
   "metadata": {
    "tags": []
   },
   "source": [
    "### <a id=\"vizinhos\">Tarefa 2 - k vizinhos mais próximos (k-NN)\n"
   ]
  },
  {
   "cell_type": "markdown",
   "id": "8ee56450-9a05-402e-a8ab-b7b362c4565e",
   "metadata": {},
   "source": [
    "[Voltar para o sumário](#sum)"
   ]
  },
  {
   "cell_type": "code",
   "execution_count": 17,
   "id": "e6468778-853a-4270-81de-b6818cd0d0a5",
   "metadata": {},
   "outputs": [],
   "source": [
    "# Relembrando o nome das variáveis do data.csv\n",
    "# observe que usamos o .values aqui, pois queremos apenas os valores\n",
    "# X_treino_data = df_treino_data.reindex(FEATURES, axis=1).values\n",
    "# y_treino_data = df_treino_data.reindex(TARGET, axis=1).values\n",
    "# X_teste_data = df_teste_data.reindex(FEATURES, axis=1).values\n",
    "# y_teste_data = df_teste_data.reindex(TARGET, axis=1).values\n",
    "\n",
    "# Relembrando o nome das variáveis do data.art.cvs\n",
    "# observe que usamos o .values aqui, pois queremos apenas os valores\n",
    "# X_treino_data_art = df_treino_data_art.reindex(FEATURES_art, axis=1).values\n",
    "# y_treino_data_art = df_treino_data_art.reindex(TARGET_art, axis=1).values\n",
    "# X_teste_data_art = df_teste_data_art.reindex(FEATURES_art, axis=1).values\n",
    "# y_teste_data_art = df_teste_data_art.reindex(TARGET_art, axis=1).values"
   ]
  },
  {
   "cell_type": "markdown",
   "id": "84676e01-af41-40ff-a652-0851ddb04f05",
   "metadata": {},
   "source": [
    "Proponho seguirmos a mesma ordem de raciocínio utilizada nos itens anteriores; \n",
    "\n",
    "1- Treinar;\n",
    "\n",
    "2- Testar e produzir o RMSE para ver se é um bom método;\n",
    "\n",
    "3- Determinando a quantidade ideal de vizinhos (Testando os Hiperparâmetros);\n",
    "\n",
    "4- Posteriormente comparar entre os dataframes (data.csv e data_artigo.csv);\n",
    "\n",
    "5- Comparar o RMSE com os Hiperparâmetros; (Produzindo gráficos);"
   ]
  },
  {
   "cell_type": "markdown",
   "id": "4c7f58eb-2125-4d46-84fb-9e374257fd57",
   "metadata": {},
   "source": [
    "- 1 - Treinando o K-NN para o dataframe do arquivo ***\"data.csv\"***;"
   ]
  },
  {
   "cell_type": "code",
   "execution_count": 18,
   "id": "29323bf3-948a-4502-9019-7ae0669f9e88",
   "metadata": {},
   "outputs": [
    {
     "name": "stdout",
     "output_type": "stream",
     "text": [
      "[[45.]\n",
      " [47.]\n",
      " [59.]\n",
      " [47.]\n",
      " [49.]\n",
      " [51.]\n",
      " [53.]\n",
      " [57.]\n",
      " [53.]\n",
      " [53.]]\n"
     ]
    }
   ],
   "source": [
    "from sklearn.neighbors import KNeighborsRegressor\n",
    "\n",
    "# cria o modelo\n",
    "modelo_knn = KNeighborsRegressor()\n",
    "\n",
    "# treina o modelo\n",
    "modelo_knn.fit(X_treino_data, y_treino_data)\n",
    "\n",
    "# realiza uma previsão usando o modelo treinado\n",
    "previsao = modelo_knn.predict(X_teste_data)\n",
    "print(previsao)"
   ]
  },
  {
   "cell_type": "markdown",
   "id": "315dee98-96e1-4a2b-828c-9fde4f1b6941",
   "metadata": {},
   "source": [
    "- 2 - Testando o K-NN para o dataframe do arquivo ***\"data.csv\"***;"
   ]
  },
  {
   "cell_type": "code",
   "execution_count": 19,
   "id": "51a4206d-d5ff-494c-bdee-a9a1c3bbf01d",
   "metadata": {},
   "outputs": [
    {
     "name": "stdout",
     "output_type": "stream",
     "text": [
      "O RMSE do modelo k-NN foi de 13.6088206689632 anos.\n"
     ]
    }
   ],
   "source": [
    "from sklearn.metrics import mean_squared_error\n",
    "#aqui estamos testando o modelo produzindo uma previsão e medindo o RMSE da previsão\n",
    "y_verdadeiro1 = y_teste_data\n",
    "y_previsao1 = modelo_knn.predict(X_teste_data)\n",
    "\n",
    "RMSE = mean_squared_error(y_verdadeiro1, y_previsao1, squared=False)\n",
    "\n",
    "print(f\"O RMSE do modelo k-NN foi de {RMSE} anos.\")"
   ]
  },
  {
   "cell_type": "markdown",
   "id": "6c1d69ec-bbfe-4475-b597-2a875349e214",
   "metadata": {},
   "source": [
    "- 3- Determinando a quantidade ideal de vizinhos para o ***\"data.csv\"*** (Testando os Hiperparâmetros);"
   ]
  },
  {
   "cell_type": "code",
   "execution_count": 20,
   "id": "5232d901-6f8c-442f-b100-f06a4468cc36",
   "metadata": {},
   "outputs": [
    {
     "name": "stdout",
     "output_type": "stream",
     "text": [
      "O RMSE do modelo k-NN usando k=1 foi de 17.60681686165901 anos.\n",
      "O RMSE do modelo k-NN usando k=5 foi de 13.6088206689632 anos.\n",
      "O RMSE do modelo k-NN usando k=10 foi de 13.914021704740868 anos.\n",
      "O RMSE do modelo k-NN usando k=25 foi de 14.127986409959487 anos.\n",
      "O RMSE do modelo k-NN usando k=30 foi de 14.227516375749573 anos.\n",
      "O RMSE do modelo k-NN usando k=100 foi de 14.579437574886077 anos.\n"
     ]
    }
   ],
   "source": [
    "NUM_VIZINHOS = [1, 5, 10, 25, 30, 100]\n",
    "#Aqui vamos testar valores diferentes de k (além do padrão de 5), para ver qual seria o melhor número de vizinhos para produzir o melhor RMSE \n",
    "for n in NUM_VIZINHOS:\n",
    "    modelo_knn = KNeighborsRegressor(n_neighbors=n)\n",
    "\n",
    "    modelo_knn.fit(X_treino_data, y_treino_data)\n",
    "\n",
    "    y_verdadeiro1 = y_teste_data\n",
    "    y_previsao1 = modelo_knn.predict(X_teste_data)\n",
    "    RMSE = mean_squared_error(y_verdadeiro1, y_previsao1, squared=False)\n",
    "    print(f\"O RMSE do modelo k-NN usando k={n} foi de {RMSE} anos.\")"
   ]
  },
  {
   "cell_type": "markdown",
   "id": "8abc45e1-015c-4115-bfd4-f8cc130856c5",
   "metadata": {},
   "source": [
    "- 1 - Treinando o K-NN para o dataframe do arquivo ***\"data_artigo.csv\"***;"
   ]
  },
  {
   "cell_type": "code",
   "execution_count": 21,
   "id": "06fe51e4-73fa-4726-9974-7fcc86863449",
   "metadata": {},
   "outputs": [
    {
     "name": "stdout",
     "output_type": "stream",
     "text": [
      "[[51.]\n",
      " [57.]\n",
      " [53.]\n",
      " [55.]\n",
      " [51.]\n",
      " [53.]\n",
      " [55.]\n",
      " [43.]\n",
      " [49.]\n",
      " [51.]]\n"
     ]
    }
   ],
   "source": [
    "from sklearn.neighbors import KNeighborsRegressor\n",
    "\n",
    "# cria o modelo\n",
    "modelo_knn = KNeighborsRegressor()\n",
    "\n",
    "# treina o modelo\n",
    "modelo_knn.fit(X_treino_data_art, y_treino_data_art)\n",
    "\n",
    "# realiza uma previsão usando o modelo treinado\n",
    "previsao_art = modelo_knn.predict(X_teste_data_art)\n",
    "print(previsao_art)"
   ]
  },
  {
   "cell_type": "markdown",
   "id": "c786cc5f-2198-4b3c-8037-4cd17da01d45",
   "metadata": {},
   "source": [
    "- 2 - Testando o K-NN para o dataframe do arquivo ***\"data_artigo.csv\"***;"
   ]
  },
  {
   "cell_type": "code",
   "execution_count": 22,
   "id": "4719cbd9-71b4-45b9-8cef-f3e1d96c4237",
   "metadata": {},
   "outputs": [
    {
     "name": "stdout",
     "output_type": "stream",
     "text": [
      "O RMSE do modelo k-NN foi de 11.661903789690601 anos.\n"
     ]
    }
   ],
   "source": [
    "from sklearn.metrics import mean_squared_error\n",
    "#aqui estamos testando o modelo produzindo uma previsão e medindo o RMSE da previsão\n",
    "y_verdadeiro2 = y_teste_data_art\n",
    "y_previsao2 = modelo_knn.predict(X_teste_data_art)\n",
    "\n",
    "RMSE = mean_squared_error(y_verdadeiro2, y_previsao2, squared=False)\n",
    "\n",
    "print(f\"O RMSE do modelo k-NN foi de {RMSE} anos.\")"
   ]
  },
  {
   "cell_type": "markdown",
   "id": "ad81b2f1-6031-4523-8824-ef10b0289d25",
   "metadata": {},
   "source": [
    "- 3- Determinando a quantidade ideal de vizinhos para o ***\"data_artigo.csv\"*** (Testando os Hiperparâmetros);"
   ]
  },
  {
   "cell_type": "code",
   "execution_count": 23,
   "id": "a78f28d6-3183-4e10-a611-e4cd04a9e705",
   "metadata": {},
   "outputs": [
    {
     "name": "stdout",
     "output_type": "stream",
     "text": [
      "O RMSE do modelo k-NN usando k=1 foi de 12.24744871391589 anos.\n",
      "O RMSE do modelo k-NN usando k=5 foi de 11.661903789690601 anos.\n",
      "O RMSE do modelo k-NN usando k=10 foi de 10.620734437881403 anos.\n",
      "O RMSE do modelo k-NN usando k=25 foi de 10.080476179228837 anos.\n",
      "O RMSE do modelo k-NN usando k=30 foi de 9.857878969523705 anos.\n",
      "O RMSE do modelo k-NN usando k=100 foi de 10.198529305738155 anos.\n"
     ]
    }
   ],
   "source": [
    "NUM_VIZINHOS = [1, 5, 10, 25, 30, 100]\n",
    "#Aqui vamos testar valores diferentes de k (além do padrão de 5), para ver qual seria o melhor número de vizinhos para produzir o melhor RMSE \n",
    "for n in NUM_VIZINHOS:\n",
    "    modelo_knn = KNeighborsRegressor(n_neighbors=n)\n",
    "\n",
    "    modelo_knn.fit(X_treino_data_art, y_treino_data_art)\n",
    "\n",
    "    y_verdadeiro2 = y_teste_data_art\n",
    "    y_previsao2 = modelo_knn.predict(X_teste_data_art)\n",
    "    RMSE = mean_squared_error(y_verdadeiro2, y_previsao2, squared=False)\n",
    "    print(f\"O RMSE do modelo k-NN usando k={n} foi de {RMSE} anos.\")"
   ]
  },
  {
   "cell_type": "markdown",
   "id": "368511d1-0163-479a-b85b-22e943f53448",
   "metadata": {},
   "source": [
    "- 4- Posteriormente comparar entre os dataframes (data.csv e data_artigo.csv)\n",
    "\n",
    "A diferença entre os dataframes continua sendo baixa data.csv = 13.6 anos e o data_artivo.csv = 11.6 anos.\n",
    "\n",
    "O melhor número de vizinhos para data.csv = 5 e para o data_artivo.csv = 30 (considerando o melhor RMSE)."
   ]
  },
  {
   "cell_type": "markdown",
   "id": "4b061ec9-a1e3-4e43-96b4-ce0701fe7faf",
   "metadata": {},
   "source": [
    "- 5- Comparar o RMSE com os Hiperparâmetros;"
   ]
  },
  {
   "cell_type": "code",
   "execution_count": 24,
   "id": "a5d77b83-54ec-4743-bcf0-221e9aed98a3",
   "metadata": {},
   "outputs": [],
   "source": [
    "#Aqui vamos plotar um gráfico de RMSE x Número de vizinhos para confirmar que o melhor número de vizinhos achado anteriormente é realmente o melhor\n",
    "def kn_plot(X_treino_data, y_treino_data, X_teste_data, y_teste_data, n=5):    \n",
    "    import matplotlib.pyplot as plt        \n",
    "    resultado_RMSE = []    \n",
    "    testes = [i for i in range(1, n) if i % 2 != 0] #Estamos escolhendo os números, impares para produzir os gráficos        \n",
    "    for k in testes:        \n",
    "        model = KNeighborsRegressor(n_neighbors=k)        \n",
    "        model.fit(X_treino_data, y_treino_data)        \n",
    "        previsao1 = model.predict(X_teste_data)        \n",
    "        rmse = mean_squared_error(y_teste_data, previsao1, squared=False)        \n",
    "        resultado_RMSE.append(rmse)       \n",
    "    plt.xlabel('Número de vizinhos')    \n",
    "    plt.ylabel('RMSE')\n",
    "    plt.plot(testes, resultado_RMSE)"
   ]
  },
  {
   "cell_type": "code",
   "execution_count": 25,
   "id": "a4e97615-3673-4ad1-8ea8-43a6c3ad1a78",
   "metadata": {},
   "outputs": [
    {
     "data": {
      "image/png": "[encoded data removed]",
      "text/plain": [
       "<Figure size 432x288 with 1 Axes>"
      ]
     },
     "metadata": {
      "needs_background": "light"
     },
     "output_type": "display_data"
    }
   ],
   "source": [
    "# ***\"data.csv\"***\n",
    "kn_plot(X_treino_data, y_treino_data, X_teste_data, y_teste_data, n=100)"
   ]
  },
  {
   "cell_type": "code",
   "execution_count": 26,
   "id": "146e8d90-cf5a-45f5-9c1d-d24c82126021",
   "metadata": {},
   "outputs": [
    {
     "data": {
      "image/png": "[encoded data removed]",
      "text/plain": [
       "<Figure size 432x288 with 1 Axes>"
      ]
     },
     "metadata": {
      "needs_background": "light"
     },
     "output_type": "display_data"
    }
   ],
   "source": [
    "# ***\"data_artigo.csv\"***\n",
    "kn_plot(X_treino_data_art, y_treino_data_art, X_teste_data_art, y_teste_data_art, n=100)"
   ]
  },
  {
   "cell_type": "markdown",
   "id": "36a05270-4d8a-4dcb-9649-0e28481e5421",
   "metadata": {},
   "source": [
    "- 5 - Comparar o RMSE com os Hiperparâmetros; \n",
    "\n",
    "Conclusão: Conforme comprovado na 4, aqui temos graficamente que os valores para data.csv = 5 e para o data_artivo.csv = 30 são os melhores valores de vizinhos que podemos encontrar considerando o RMSE.\n",
    "\n",
    "Temos 2 pontos mínimos globais nos dois gráficos: Isso levantou um questionamento pelo método utilizado pela KNN para escolher o melhor número de vizinhos. Por padrão o KNN utiliza a distância euclidiana e ela apresenta alguns problemas conforme o número de dimensões crescem e no nosso modelo nós temos 10 dimensões, mas mesmo que tenhamos duas opções de mínimos globais é melhor escolher o primeiro mínimo global que apareceu no gráfico, ou seja, para data.csv = 5 e para o data_artivo.csv = 31 (pois excluímos os números pares).\n",
    "\n",
    "OBS: uma solução para a existência desses dois pontos mínimos globais eficientes seria mudar o método para medir a distância entre os vizinhos, por exemplo, poderíamos utilizar o método da distância manhattan.\n",
    "\n",
    "Comentário do professor Daniel: Diferentemente dos outros grupos, o nosso modelo (KNN) deve reagir melhor com mais dados para ter como vizinhos para escolher de forma mais eficiente o local do novo dado, pois nosso projeto é computacionalmente mais complexo."
   ]
  },
  {
   "cell_type": "markdown",
   "id": "a87e7a68-8198-4236-8543-3beac449b1fe",
   "metadata": {
    "tags": []
   },
   "source": [
    "---\n",
    "\n",
    "### <a id=\"linear\">Tarefa 3 - Regressão Linear"
   ]
  },
  {
   "cell_type": "markdown",
   "id": "2cc794af-6511-4736-92d5-e14d45a1b354",
   "metadata": {},
   "source": [
    "[Voltar para o sumário](#sum)"
   ]
  },
  {
   "cell_type": "markdown",
   "id": "890e0968-9800-4606-861a-2acc232b43dd",
   "metadata": {},
   "source": [
    "#### Treinando um modelo linear para os datasets:"
   ]
  },
  {
   "cell_type": "markdown",
   "id": "ef8fb3e9-0760-4e4a-ba36-ef17694380ac",
   "metadata": {},
   "source": [
    "- Treinando para o dataframe do arquivo ***\"data.csv\"***: "
   ]
  },
  {
   "cell_type": "code",
   "execution_count": 27,
   "id": "28ca39d5-5104-45d2-ba82-4da74730cc01",
   "metadata": {},
   "outputs": [
    {
     "name": "stdout",
     "output_type": "stream",
     "text": [
      "[[48.93143127]\n",
      " [56.90916389]\n",
      " [56.84489212]\n",
      " [47.08586348]\n",
      " [44.34850338]\n",
      " [62.32849594]\n",
      " [49.72741549]\n",
      " [55.26228612]\n",
      " [52.32362282]\n",
      " [56.02821142]]\n"
     ]
    }
   ],
   "source": [
    "from sklearn.linear_model import LinearRegression\n",
    "\n",
    "# cria o modelo\n",
    "modelo_linear_data = LinearRegression()\n",
    "\n",
    "# treina o modelo\n",
    "modelo_linear_data.fit(X_treino_data, y_treino_data)\n",
    "\n",
    "# realiza uma previsão usando o modelo treinado\n",
    "previsao_data = modelo_linear_data.predict(X_teste_data)\n",
    "print(previsao_data)"
   ]
  },
  {
   "cell_type": "code",
   "execution_count": 28,
   "id": "fee97819-8886-4fde-9a57-d3b113fb0716",
   "metadata": {},
   "outputs": [
    {
     "name": "stdout",
     "output_type": "stream",
     "text": [
      "O RMSE do modelo linear foi de 17.661276151490007 anos\n"
     ]
    }
   ],
   "source": [
    "y_verdadeiro_data = y_teste_data\n",
    "y_previsao_data = modelo_linear_data.predict(X_teste_data)\n",
    "\n",
    "RMSE_data2 = mean_squared_error(y_verdadeiro_data, y_previsao_data, squared=False)\n",
    "\n",
    "print(f\"O RMSE do modelo linear foi de {RMSE_data2} anos\")"
   ]
  },
  {
   "cell_type": "code",
   "execution_count": 29,
   "id": "fa7c2973-8985-4b6a-a157-e7c5587fb630",
   "metadata": {},
   "outputs": [
    {
     "data": {
      "image/png": "[encoded data removed]",
      "text/plain": [
       "<Figure size 432x288 with 1 Axes>"
      ]
     },
     "metadata": {
      "needs_background": "light"
     },
     "output_type": "display_data"
    }
   ],
   "source": [
    "fig, ax = plt.subplots()\n",
    "ax.scatter(y_verdadeiro_data, y_previsao_data)\n",
    "ax.plot([y_verdadeiro_data.min(), y_verdadeiro_data.max()], [y_verdadeiro_data.min(), y_verdadeiro_data.max()], 'k--', lw=4)\n",
    "ax.set_xlabel('Valor real')\n",
    "ax.set_ylabel('Previsão')\n",
    "plt.show()"
   ]
  },
  {
   "cell_type": "markdown",
   "id": "d1bd196d-7a69-460e-8be0-141f19eb747d",
   "metadata": {},
   "source": [
    "> O valor de RMSE do caso linear (no caso dos genes identificados como relevantes no bloco anterior) foi maior do que aquele obtido a partir da previsão de baseline, ou seja, obtivemos uma piora na performance de predição. Normalmente, o RMSE do modelo linear demonstraria um valor menor em comparação ao valor de RMSE do modelo baseline, implicando em uma melhora, mas curiosamente, o caso oposto ocorreu. Isso pode ser por conta dos valores quais estamos trabalhando no o *dataset* escolhido. "
   ]
  },
  {
   "cell_type": "markdown",
   "id": "8a61de04-87f3-4e59-a37d-75e0320c4e4c",
   "metadata": {},
   "source": [
    "- Treinando para o dataframe do arquivo ***\"data_artigo.csv\"***: "
   ]
  },
  {
   "cell_type": "code",
   "execution_count": 30,
   "id": "c47251f8-3d82-4b26-b9ab-46dc515fe2b4",
   "metadata": {},
   "outputs": [
    {
     "name": "stdout",
     "output_type": "stream",
     "text": [
      "[[53.18572151]\n",
      " [55.83297402]\n",
      " [48.85973193]\n",
      " [48.68125273]\n",
      " [50.75135134]\n",
      " [51.18883681]\n",
      " [52.40139163]\n",
      " [49.50503731]\n",
      " [54.42263743]\n",
      " [51.47477938]]\n"
     ]
    }
   ],
   "source": [
    "# cria o modelo\n",
    "modelo_linear_art = LinearRegression()\n",
    "\n",
    "# treina o modelo\n",
    "modelo_linear_art.fit(X_treino_data_art, y_treino_data_art)\n",
    "\n",
    "# realiza uma previsão usando o modelo treinado\n",
    "previsao_art2 = modelo_linear_art.predict(X_teste_data_art)\n",
    "print(previsao_art2)"
   ]
  },
  {
   "cell_type": "code",
   "execution_count": 31,
   "id": "1b5b0f2a-713e-48a8-94ab-f295ec9cb5d4",
   "metadata": {},
   "outputs": [
    {
     "name": "stdout",
     "output_type": "stream",
     "text": [
      "O RMSE do modelo linear foi de 9.496874730058186 anos\n"
     ]
    }
   ],
   "source": [
    "y_verdadeiro_art2 = y_teste_data_art\n",
    "y_previsao_art2 = modelo_linear_art.predict(X_teste_data_art)\n",
    "\n",
    "RMSE_art2 = mean_squared_error(y_verdadeiro_art2, y_previsao_art2, squared=False)\n",
    "\n",
    "print(f\"O RMSE do modelo linear foi de {RMSE_art2} anos\")"
   ]
  },
  {
   "cell_type": "markdown",
   "id": "9156d56a-40a6-4981-abbf-ef2ece9c49d9",
   "metadata": {},
   "source": [
    "> Já nesse caso, obtivemos o resultado normalmente esperado, no qual um valor menor de RMSE foi observado no caso do modelo linear (9.496874730058186 anos), enquanto o RMSE do modelo baseline teve um valor maior (10.205880657738458 anos.). Portanto, no caso do dataset contendo os genes que possuem sua expressão modificada em função do tempo confirmadada de acordo com a literatura, o modelo linear se prova um pouco mais eficaz."
   ]
  },
  {
   "cell_type": "code",
   "execution_count": 32,
   "id": "12c058af-0e40-4901-8af3-679b3d398b15",
   "metadata": {},
   "outputs": [
    {
     "data": {
      "image/png": "[encoded data removed]",
      "text/plain": [
       "<Figure size 432x288 with 1 Axes>"
      ]
     },
     "metadata": {
      "needs_background": "light"
     },
     "output_type": "display_data"
    }
   ],
   "source": [
    "ig, ax = plt.subplots()\n",
    "ax.scatter(y_verdadeiro_art2, y_previsao_art2)\n",
    "ax.plot([y_verdadeiro_art2.min(), y_verdadeiro_art2.max()], [y_verdadeiro_art2.min(), y_verdadeiro_art2.max()], 'k--', lw=4)\n",
    "ax.set_xlabel('Valor real')\n",
    "ax.set_ylabel('Previsão')\n",
    "plt.show()"
   ]
  },
  {
   "cell_type": "markdown",
   "id": "c4f7f722-89a3-4cd2-8d61-020ec93c30ab",
   "metadata": {},
   "source": [
    "###\n",
    "#### Normalizando os dados\n",
    "Vamos utilizar a normalização pelo mínimo e máximo (função `MinMaxScaler`). </br>\n",
    "<u>A normalização nesse caso só foi realizada como um teste, visto que nossos dados originais já se encontravam normalizados.</u>"
   ]
  },
  {
   "cell_type": "markdown",
   "id": "399d4a23-22e5-4c47-91fa-3882d43f6330",
   "metadata": {},
   "source": [
    "- Para o dataframe do arquivo ***\"data.csv\"***: "
   ]
  },
  {
   "cell_type": "code",
   "execution_count": 33,
   "id": "cb4a5cca-1964-4fbf-87f0-adba42867f29",
   "metadata": {},
   "outputs": [
    {
     "data": {
      "text/html": [
       "<style>#sk-container-id-1 {color: black;background-color: white;}#sk-container-id-1 pre{padding: 0;}#sk-container-id-1 div.sk-toggleable {background-color: white;}#sk-container-id-1 label.sk-toggleable__label {cursor: pointer;display: block;width: 100%;margin-bottom: 0;padding: 0.3em;box-sizing: border-box;text-align: center;}#sk-container-id-1 label.sk-toggleable__label-arrow:before {content: \"▸\";float: left;margin-right: 0.25em;color: #696969;}#sk-container-id-1 label.sk-toggleable__label-arrow:hover:before {color: black;}#sk-container-id-1 div.sk-estimator:hover label.sk-toggleable__label-arrow:before {color: black;}#sk-container-id-1 div.sk-toggleable__content {max-height: 0;max-width: 0;overflow: hidden;text-align: left;background-color: #f0f8ff;}#sk-container-id-1 div.sk-toggleable__content pre {margin: 0.2em;color: black;border-radius: 0.25em;background-color: #f0f8ff;}#sk-container-id-1 input.sk-toggleable__control:checked~div.sk-toggleable__content {max-height: 200px;max-width: 100%;overflow: auto;}#sk-container-id-1 input.sk-toggleable__control:checked~label.sk-toggleable__label-arrow:before {content: \"▾\";}#sk-container-id-1 div.sk-estimator input.sk-toggleable__control:checked~label.sk-toggleable__label {background-color: #d4ebff;}#sk-container-id-1 div.sk-label input.sk-toggleable__control:checked~label.sk-toggleable__label {background-color: #d4ebff;}#sk-container-id-1 input.sk-hidden--visually {border: 0;clip: rect(1px 1px 1px 1px);clip: rect(1px, 1px, 1px, 1px);height: 1px;margin: -1px;overflow: hidden;padding: 0;position: absolute;width: 1px;}#sk-container-id-1 div.sk-estimator {font-family: monospace;background-color: #f0f8ff;border: 1px dotted black;border-radius: 0.25em;box-sizing: border-box;margin-bottom: 0.5em;}#sk-container-id-1 div.sk-estimator:hover {background-color: #d4ebff;}#sk-container-id-1 div.sk-parallel-item::after {content: \"\";width: 100%;border-bottom: 1px solid gray;flex-grow: 1;}#sk-container-id-1 div.sk-label:hover label.sk-toggleable__label {background-color: #d4ebff;}#sk-container-id-1 div.sk-serial::before {content: \"\";position: absolute;border-left: 1px solid gray;box-sizing: border-box;top: 0;bottom: 0;left: 50%;z-index: 0;}#sk-container-id-1 div.sk-serial {display: flex;flex-direction: column;align-items: center;background-color: white;padding-right: 0.2em;padding-left: 0.2em;position: relative;}#sk-container-id-1 div.sk-item {position: relative;z-index: 1;}#sk-container-id-1 div.sk-parallel {display: flex;align-items: stretch;justify-content: center;background-color: white;position: relative;}#sk-container-id-1 div.sk-item::before, #sk-container-id-1 div.sk-parallel-item::before {content: \"\";position: absolute;border-left: 1px solid gray;box-sizing: border-box;top: 0;bottom: 0;left: 50%;z-index: -1;}#sk-container-id-1 div.sk-parallel-item {display: flex;flex-direction: column;z-index: 1;position: relative;background-color: white;}#sk-container-id-1 div.sk-parallel-item:first-child::after {align-self: flex-end;width: 50%;}#sk-container-id-1 div.sk-parallel-item:last-child::after {align-self: flex-start;width: 50%;}#sk-container-id-1 div.sk-parallel-item:only-child::after {width: 0;}#sk-container-id-1 div.sk-dashed-wrapped {border: 1px dashed gray;margin: 0 0.4em 0.5em 0.4em;box-sizing: border-box;padding-bottom: 0.4em;background-color: white;}#sk-container-id-1 div.sk-label label {font-family: monospace;font-weight: bold;display: inline-block;line-height: 1.2em;}#sk-container-id-1 div.sk-label-container {text-align: center;}#sk-container-id-1 div.sk-container {/* jupyter's `normalize.less` sets `[hidden] { display: none; }` but bootstrap.min.css set `[hidden] { display: none !important; }` so we also need the `!important` here to be able to override the default hidden behavior on the sphinx rendered scikit-learn.org. See: https://github.com/scikit-learn/scikit-learn/issues/21755 */display: inline-block !important;position: relative;}#sk-container-id-1 div.sk-text-repr-fallback {display: none;}</style><div id=\"sk-container-id-1\" class=\"sk-top-container\"><div class=\"sk-text-repr-fallback\"><pre>MinMaxScaler()</pre><b>In a Jupyter environment, please rerun this cell to show the HTML representation or trust the notebook. <br />On GitHub, the HTML representation is unable to render, please try loading this page with nbviewer.org.</b></div><div class=\"sk-container\" hidden><div class=\"sk-item\"><div class=\"sk-estimator sk-toggleable\"><input class=\"sk-toggleable__control sk-hidden--visually\" id=\"sk-estimator-id-1\" type=\"checkbox\" checked><label for=\"sk-estimator-id-1\" class=\"sk-toggleable__label sk-toggleable__label-arrow\">MinMaxScaler</label><div class=\"sk-toggleable__content\"><pre>MinMaxScaler()</pre></div></div></div></div></div>"
      ],
      "text/plain": [
       "MinMaxScaler()"
      ]
     },
     "execution_count": 33,
     "metadata": {},
     "output_type": "execute_result"
    }
   ],
   "source": [
    "from sklearn.preprocessing import MinMaxScaler\n",
    "\n",
    "normalizador_x = MinMaxScaler()\n",
    "normalizador_y = MinMaxScaler()\n",
    "\n",
    "normalizador_x.fit(X_treino_data)\n",
    "normalizador_y.fit(y_treino_data)"
   ]
  },
  {
   "cell_type": "code",
   "execution_count": 34,
   "id": "8f1d707c-431b-47df-a26b-f23fa0ce21c4",
   "metadata": {
    "collapsed": true,
    "jupyter": {
     "outputs_hidden": true
    },
    "tags": []
   },
   "outputs": [
    {
     "name": "stdout",
     "output_type": "stream",
     "text": [
      "[[55.33348849]\n",
      " [50.56341882]\n",
      " [46.85602764]\n",
      " [57.26211348]\n",
      " [47.31902063]\n",
      " [47.33612646]\n",
      " [54.71777868]\n",
      " [53.25793546]\n",
      " [60.27077979]\n",
      " [48.40420482]\n",
      " [55.89909326]\n",
      " [54.98353248]\n",
      " [54.3637402 ]\n",
      " [42.73383143]\n",
      " [50.45913773]\n",
      " [60.82667746]\n",
      " [53.7005485 ]\n",
      " [51.96597024]\n",
      " [56.35267631]\n",
      " [48.78786749]\n",
      " [61.26684892]\n",
      " [65.49582325]\n",
      " [51.08207143]\n",
      " [51.74953087]\n",
      " [57.36052171]\n",
      " [54.34895764]\n",
      " [51.31097155]\n",
      " [48.48306834]\n",
      " [50.49108198]\n",
      " [55.27757938]\n",
      " [46.86223803]\n",
      " [46.00098949]\n",
      " [55.49998148]\n",
      " [57.14165369]\n",
      " [45.66165884]\n",
      " [39.89626961]\n",
      " [55.00079756]\n",
      " [50.67888828]\n",
      " [51.19272933]\n",
      " [56.42431445]\n",
      " [47.08498729]\n",
      " [44.7411305 ]\n",
      " [44.54086476]\n",
      " [51.82844299]\n",
      " [47.91670639]\n",
      " [45.76728397]\n",
      " [51.83031631]\n",
      " [55.4488751 ]\n",
      " [50.33742961]\n",
      " [46.59875638]\n",
      " [49.07081977]\n",
      " [60.34143641]\n",
      " [47.90615939]\n",
      " [50.38411925]\n",
      " [43.92608637]\n",
      " [56.96287225]\n",
      " [61.1623197 ]\n",
      " [49.05882292]\n",
      " [58.14725778]\n",
      " [47.59226519]\n",
      " [50.97587996]\n",
      " [50.28960122]\n",
      " [48.2543825 ]\n",
      " [53.66408921]\n",
      " [60.25552623]\n",
      " [49.17444948]\n",
      " [46.06349765]\n",
      " [51.66678494]\n",
      " [57.85769041]\n",
      " [58.41331729]\n",
      " [48.19903699]\n",
      " [43.38145067]\n",
      " [51.44903007]\n",
      " [41.13307057]\n",
      " [46.86357923]\n",
      " [52.21100223]\n",
      " [57.63160046]\n",
      " [55.6457134 ]\n",
      " [56.23714913]\n",
      " [59.23939811]\n",
      " [49.45766905]\n",
      " [47.44944087]\n",
      " [50.33756256]\n",
      " [28.89109734]\n",
      " [48.24533275]\n",
      " [59.6762551 ]\n",
      " [49.85155818]\n",
      " [50.83749602]\n",
      " [55.1316205 ]\n",
      " [52.45508389]\n",
      " [46.15795534]\n",
      " [57.25843215]\n",
      " [51.07856508]\n",
      " [53.34973449]\n",
      " [51.89849054]\n",
      " [48.6365044 ]\n",
      " [47.05755301]\n",
      " [44.31995708]\n",
      " [55.37024721]\n",
      " [40.66629715]]\n"
     ]
    }
   ],
   "source": [
    "# Ajustando o modelo:\n",
    "\n",
    "from sklearn.linear_model import LinearRegression\n",
    "\n",
    "# cria o modelo\n",
    "modelo_linear_dn = LinearRegression()\n",
    "\n",
    "# treina o modelo\n",
    "modelo_linear_dn.fit(\n",
    "    normalizador_x.transform(X_treino_data),\n",
    "    normalizador_y.transform(y_treino_data),\n",
    ")\n",
    "\n",
    "# realiza uma previsão usando o modelo treinado\n",
    "previsao1 = modelo_linear_dn.predict(normalizador_x.transform(X_treino_data))\n",
    "previsao1 = normalizador_y.inverse_transform(previsao1)\n",
    "print(previsao1)"
   ]
  },
  {
   "cell_type": "code",
   "execution_count": 35,
   "id": "4aaeb91c-5f75-4ea9-81f5-9a1c50837b53",
   "metadata": {},
   "outputs": [
    {
     "name": "stdout",
     "output_type": "stream",
     "text": [
      "O RMSE do modelo linear foi de 2107.0077853959406 anos.\n"
     ]
    }
   ],
   "source": [
    "from sklearn.metrics import mean_squared_error\n",
    "\n",
    "y_verdadeiro = y_teste_data\n",
    "y_previsao_n = modelo_linear_dn.predict(normalizador_x.transform(X_teste_data))\n",
    "y_previsao_n = normalizador_y.inverse_transform(y_previsao_data)\n",
    "\n",
    "RMSE_dn = mean_squared_error(y_verdadeiro, y_previsao_n, squared=False)\n",
    "\n",
    "print(f\"O RMSE do modelo linear foi de {RMSE_dn} anos.\")"
   ]
  },
  {
   "cell_type": "markdown",
   "id": "577c0590-5e1d-47de-aa8d-125eeb1aeb40",
   "metadata": {},
   "source": [
    "###\n",
    "- Para o dataframe do arquivo ***\"data_artigo.csv\"***:"
   ]
  },
  {
   "cell_type": "code",
   "execution_count": 36,
   "id": "cf76cf56-4c5d-4a23-96c5-f113a55b2167",
   "metadata": {},
   "outputs": [
    {
     "data": {
      "text/html": [
       "<style>#sk-container-id-2 {color: black;background-color: white;}#sk-container-id-2 pre{padding: 0;}#sk-container-id-2 div.sk-toggleable {background-color: white;}#sk-container-id-2 label.sk-toggleable__label {cursor: pointer;display: block;width: 100%;margin-bottom: 0;padding: 0.3em;box-sizing: border-box;text-align: center;}#sk-container-id-2 label.sk-toggleable__label-arrow:before {content: \"▸\";float: left;margin-right: 0.25em;color: #696969;}#sk-container-id-2 label.sk-toggleable__label-arrow:hover:before {color: black;}#sk-container-id-2 div.sk-estimator:hover label.sk-toggleable__label-arrow:before {color: black;}#sk-container-id-2 div.sk-toggleable__content {max-height: 0;max-width: 0;overflow: hidden;text-align: left;background-color: #f0f8ff;}#sk-container-id-2 div.sk-toggleable__content pre {margin: 0.2em;color: black;border-radius: 0.25em;background-color: #f0f8ff;}#sk-container-id-2 input.sk-toggleable__control:checked~div.sk-toggleable__content {max-height: 200px;max-width: 100%;overflow: auto;}#sk-container-id-2 input.sk-toggleable__control:checked~label.sk-toggleable__label-arrow:before {content: \"▾\";}#sk-container-id-2 div.sk-estimator input.sk-toggleable__control:checked~label.sk-toggleable__label {background-color: #d4ebff;}#sk-container-id-2 div.sk-label input.sk-toggleable__control:checked~label.sk-toggleable__label {background-color: #d4ebff;}#sk-container-id-2 input.sk-hidden--visually {border: 0;clip: rect(1px 1px 1px 1px);clip: rect(1px, 1px, 1px, 1px);height: 1px;margin: -1px;overflow: hidden;padding: 0;position: absolute;width: 1px;}#sk-container-id-2 div.sk-estimator {font-family: monospace;background-color: #f0f8ff;border: 1px dotted black;border-radius: 0.25em;box-sizing: border-box;margin-bottom: 0.5em;}#sk-container-id-2 div.sk-estimator:hover {background-color: #d4ebff;}#sk-container-id-2 div.sk-parallel-item::after {content: \"\";width: 100%;border-bottom: 1px solid gray;flex-grow: 1;}#sk-container-id-2 div.sk-label:hover label.sk-toggleable__label {background-color: #d4ebff;}#sk-container-id-2 div.sk-serial::before {content: \"\";position: absolute;border-left: 1px solid gray;box-sizing: border-box;top: 0;bottom: 0;left: 50%;z-index: 0;}#sk-container-id-2 div.sk-serial {display: flex;flex-direction: column;align-items: center;background-color: white;padding-right: 0.2em;padding-left: 0.2em;position: relative;}#sk-container-id-2 div.sk-item {position: relative;z-index: 1;}#sk-container-id-2 div.sk-parallel {display: flex;align-items: stretch;justify-content: center;background-color: white;position: relative;}#sk-container-id-2 div.sk-item::before, #sk-container-id-2 div.sk-parallel-item::before {content: \"\";position: absolute;border-left: 1px solid gray;box-sizing: border-box;top: 0;bottom: 0;left: 50%;z-index: -1;}#sk-container-id-2 div.sk-parallel-item {display: flex;flex-direction: column;z-index: 1;position: relative;background-color: white;}#sk-container-id-2 div.sk-parallel-item:first-child::after {align-self: flex-end;width: 50%;}#sk-container-id-2 div.sk-parallel-item:last-child::after {align-self: flex-start;width: 50%;}#sk-container-id-2 div.sk-parallel-item:only-child::after {width: 0;}#sk-container-id-2 div.sk-dashed-wrapped {border: 1px dashed gray;margin: 0 0.4em 0.5em 0.4em;box-sizing: border-box;padding-bottom: 0.4em;background-color: white;}#sk-container-id-2 div.sk-label label {font-family: monospace;font-weight: bold;display: inline-block;line-height: 1.2em;}#sk-container-id-2 div.sk-label-container {text-align: center;}#sk-container-id-2 div.sk-container {/* jupyter's `normalize.less` sets `[hidden] { display: none; }` but bootstrap.min.css set `[hidden] { display: none !important; }` so we also need the `!important` here to be able to override the default hidden behavior on the sphinx rendered scikit-learn.org. See: https://github.com/scikit-learn/scikit-learn/issues/21755 */display: inline-block !important;position: relative;}#sk-container-id-2 div.sk-text-repr-fallback {display: none;}</style><div id=\"sk-container-id-2\" class=\"sk-top-container\"><div class=\"sk-text-repr-fallback\"><pre>MinMaxScaler()</pre><b>In a Jupyter environment, please rerun this cell to show the HTML representation or trust the notebook. <br />On GitHub, the HTML representation is unable to render, please try loading this page with nbviewer.org.</b></div><div class=\"sk-container\" hidden><div class=\"sk-item\"><div class=\"sk-estimator sk-toggleable\"><input class=\"sk-toggleable__control sk-hidden--visually\" id=\"sk-estimator-id-2\" type=\"checkbox\" checked><label for=\"sk-estimator-id-2\" class=\"sk-toggleable__label sk-toggleable__label-arrow\">MinMaxScaler</label><div class=\"sk-toggleable__content\"><pre>MinMaxScaler()</pre></div></div></div></div></div>"
      ],
      "text/plain": [
       "MinMaxScaler()"
      ]
     },
     "execution_count": 36,
     "metadata": {},
     "output_type": "execute_result"
    }
   ],
   "source": [
    "normalizador_x = MinMaxScaler()\n",
    "normalizador_y = MinMaxScaler()\n",
    "\n",
    "normalizador_x.fit(X_treino_data_art)\n",
    "normalizador_y.fit(y_treino_data_art)"
   ]
  },
  {
   "cell_type": "code",
   "execution_count": 37,
   "id": "02b21e0a-a887-4f74-9ca2-5234c05bb60a",
   "metadata": {
    "collapsed": true,
    "jupyter": {
     "outputs_hidden": true
    },
    "tags": []
   },
   "outputs": [
    {
     "name": "stdout",
     "output_type": "stream",
     "text": [
      "[[49.81214409]\n",
      " [48.65941644]\n",
      " [49.14751132]\n",
      " [52.81596816]\n",
      " [50.86518625]\n",
      " [51.28601586]\n",
      " [48.61021607]\n",
      " [49.97538721]\n",
      " [56.01091417]\n",
      " [50.2497385 ]\n",
      " [50.35492933]\n",
      " [44.1808967 ]\n",
      " [57.8244508 ]\n",
      " [51.42875806]\n",
      " [50.48611827]\n",
      " [52.27575694]\n",
      " [55.09980666]\n",
      " [47.94314813]\n",
      " [50.44665653]\n",
      " [50.41707531]\n",
      " [51.16673913]\n",
      " [52.46515677]\n",
      " [49.38523758]\n",
      " [48.24995462]\n",
      " [46.28738645]\n",
      " [48.60536523]\n",
      " [59.78798053]\n",
      " [51.6219699 ]\n",
      " [52.93627715]\n",
      " [53.23951225]\n",
      " [54.56367552]\n",
      " [52.45716998]\n",
      " [50.00398209]\n",
      " [49.43680644]\n",
      " [54.17732222]\n",
      " [53.12778833]\n",
      " [49.70481079]\n",
      " [51.78495573]\n",
      " [52.45136837]\n",
      " [47.83893685]\n",
      " [51.94085712]\n",
      " [50.34047047]\n",
      " [50.26163717]\n",
      " [49.36208117]\n",
      " [52.68213591]\n",
      " [50.11727791]\n",
      " [50.71475275]\n",
      " [48.96742329]\n",
      " [52.43077147]\n",
      " [52.22154839]\n",
      " [55.4875378 ]\n",
      " [51.0287955 ]\n",
      " [52.56673453]\n",
      " [48.27168746]\n",
      " [52.26173171]\n",
      " [53.44774815]\n",
      " [47.20192605]\n",
      " [47.87716325]\n",
      " [47.97424944]\n",
      " [49.83835519]\n",
      " [44.6552346 ]\n",
      " [48.49059542]\n",
      " [49.28605787]\n",
      " [51.69788579]\n",
      " [51.99350142]\n",
      " [52.09889697]\n",
      " [50.18567652]\n",
      " [53.10069508]\n",
      " [50.93733927]\n",
      " [50.19744266]\n",
      " [51.56276836]\n",
      " [53.53785376]\n",
      " [54.01737157]\n",
      " [51.54487104]\n",
      " [52.93571145]\n",
      " [55.9868473 ]\n",
      " [52.57517141]\n",
      " [48.16533518]\n",
      " [51.0233374 ]\n",
      " [50.70099952]\n",
      " [50.26126301]\n",
      " [53.43288021]\n",
      " [51.06875696]\n",
      " [52.62587035]\n",
      " [35.55356384]\n",
      " [52.56416275]\n",
      " [49.52098636]\n",
      " [51.76656937]\n",
      " [51.38046524]\n",
      " [50.75982447]\n",
      " [49.70919614]\n",
      " [56.33378512]\n",
      " [52.68743765]\n",
      " [55.61496028]\n",
      " [50.77184797]\n",
      " [51.32253856]\n",
      " [51.58780664]\n",
      " [55.89525808]\n",
      " [51.56890924]\n",
      " [48.70294966]]\n"
     ]
    }
   ],
   "source": [
    "# Ajustando o modelo:\n",
    "\n",
    "# cria o modelo\n",
    "modelo_linear_artn = LinearRegression()\n",
    "\n",
    "# treina o modelo\n",
    "modelo_linear_artn.fit(\n",
    "    normalizador_x.transform(X_treino_data_art),\n",
    "    normalizador_y.transform(y_treino_data_art),\n",
    ")\n",
    "\n",
    "# realiza uma previsão usando o modelo treinado\n",
    "previsao2 = modelo_linear_artn.predict(normalizador_x.transform(X_treino_data_art))\n",
    "previsao2 = normalizador_y.inverse_transform(previsao2)\n",
    "print(previsao2)"
   ]
  },
  {
   "cell_type": "code",
   "execution_count": 54,
   "id": "b0d78e44-3c2e-4cac-9c7c-5ee36c641279",
   "metadata": {},
   "outputs": [
    {
     "name": "stdout",
     "output_type": "stream",
     "text": [
      "O RMSE do modelo linear foi de 9.496874730058185 anos.\n"
     ]
    }
   ],
   "source": [
    "from sklearn.metrics import mean_squared_error\n",
    "\n",
    "y_verdadeiro = y_teste_data_art\n",
    "y_previsao_artn = modelo_linear_artn.predict(normalizador_x.transform(X_teste_data_art))\n",
    "y_previsao_artn = normalizador_y.inverse_transform(y_previsao_artn)\n",
    "\n",
    "RMSE_artn = mean_squared_error(y_verdadeiro, y_previsao_artn, squared=False)\n",
    "\n",
    "print(f\"O RMSE do modelo linear foi de {RMSE_artn} anos.\")"
   ]
  },
  {
   "cell_type": "markdown",
   "id": "491348ab-fb03-4cf3-9bb8-40897660bb90",
   "metadata": {},
   "source": [
    "---\n",
    "\n",
    "### <a id=\"decisao\">Tarefa 4 - Árvore de Decisão"
   ]
  },
  {
   "cell_type": "markdown",
   "id": "26107ec9-6d75-4a09-b537-1985f818c440",
   "metadata": {},
   "source": [
    "[Voltar para o sumário](#sum)"
   ]
  },
  {
   "cell_type": "markdown",
   "id": "14fa6f6b-1982-4f85-ae72-1144931b15a7",
   "metadata": {},
   "source": [
    "Começando com uma breve introdução, o algoritmo consiste basicamente em uma lógica de grafos direcionais, tomando decisões a partir da checagem da informação do tipo de vértice no qual a instância se encontra, sendo as categorias de vértice retratadas abaixo, de acordo com o notebook ***\"b2a2.1 - arvore de decisao\"*** disponibilizado para nós pelos professores:\n",
    "\n",
    "-   *Vértice raiz*: é um vértice cauda que é ligado a dois vértices cabeça. Em outras palavras, existem duas setas que saem dele e nenhuma seta que chega nele. (Ou seja, é comparável a uma casa inicial de um jogo de tabuleiro).\n",
    "\n",
    "-   *Vértice de decisão*: é um vértice que atua como cabeça para outro vértice e como cauda para dois outros vértices cabeça. Em outras palavras, existe uma seta que chega nele e duas setas que saem dele.\n",
    "\n",
    "-   *Vértice folha*: é um vértice cabeça de um outro vértice. Em outras palavras, existe uma seta que chega nele e nenhuma seta que sai dele. (Como se fossem os \"dead-ends\" de uma via)\n",
    "\n",
    "Ao navegar por uma árvore de decisão, a instância sempre iniciará no vértice raiz. O vértice raiz e os vértices de decisão possuem o que são chamados de *condicionais*, enquanto os vértices folhas possuem *valores de resposta*. Sabendo disso, a instâcia checará o condicional presente em um determinado vértice, sendo que a resposta ao condicional é sempre binária, ou seja, `True` ou `False`, sendo assim, caso o retorno for `True`, a seta da esquerda será seguida; já caso for `False`, seguirá para a seta da direita. O mesmo procedimento é repetido até que eventualmente um vértice folha for atingido. <br>\n",
    "\n",
    "####\n",
    "Com os dados já previamente importados no notebook, vamos partir diretamente para o treinamento dos modelos utilizando ambos os *datasets*, fazendo uso do algoritmo da árvore de decisão, também pelo `scikit-learn`:"
   ]
  },
  {
   "cell_type": "markdown",
   "id": "ba20ecbe-8125-40df-a3b2-0aaf7a4fcce4",
   "metadata": {},
   "source": [
    "- Para o dataframe do arquivo ***\"data.csv\"***: "
   ]
  },
  {
   "cell_type": "code",
   "execution_count": 55,
   "id": "2a8092f1-4ee6-4c17-b12e-122d701f78b7",
   "metadata": {},
   "outputs": [],
   "source": [
    "# Relembrando as variáveis:\n",
    "# X_treino_data = df_treino_data.reindex(FEATURES, axis=1).values\n",
    "# y_treino_data = df_treino_data.reindex(TARGET, axis=1).values\n",
    "# X_teste_data = df_teste_data.reindex(FEATURES, axis=1).values\n",
    "# y_teste_data = df_teste_data.reindex(TARGET, axis=1).values"
   ]
  },
  {
   "cell_type": "code",
   "execution_count": 56,
   "id": "d7dee745-1c46-4289-84ce-6d26d76933ff",
   "metadata": {},
   "outputs": [
    {
     "name": "stdout",
     "output_type": "stream",
     "text": [
      "[25. 25. 55. 55. 35. 65. 45. 25. 65. 45.]\n"
     ]
    }
   ],
   "source": [
    "from sklearn.tree import DecisionTreeRegressor\n",
    "\n",
    "# cria o modelo\n",
    "modelo_dt_data = DecisionTreeRegressor(random_state=666)\n",
    "\n",
    "# treina o modelo\n",
    "modelo_dt_data.fit(X_treino_data, y_treino_data)\n",
    "\n",
    "# realiza uma previsão usando o modelo treinado\n",
    "previsao = modelo_dt_data.predict(X_teste_data)\n",
    "print(previsao)"
   ]
  },
  {
   "cell_type": "code",
   "execution_count": 57,
   "id": "42855331-9f55-4a9c-9231-4d86ab217d9f",
   "metadata": {},
   "outputs": [
    {
     "name": "stdout",
     "output_type": "stream",
     "text": [
      "O RMSE do modelo árvore de decisão foi de 16.1245154965971 anos\n"
     ]
    }
   ],
   "source": [
    "# Assim como feito nos outros algoritmos de treinamento, aqui calcularemos o RMSE\n",
    "from sklearn.metrics import mean_squared_error\n",
    "\n",
    "y_verdadeiro_dt_data = y_teste_data\n",
    "y_previsao_dt_data = modelo_dt_data.predict(X_teste_data)\n",
    "\n",
    "RMSE_dt_data = mean_squared_error(y_verdadeiro_dt_data, y_previsao_dt_data, squared=False)\n",
    "\n",
    "print(f\"O RMSE do modelo árvore de decisão foi de {RMSE_dt_data} anos\")"
   ]
  },
  {
   "cell_type": "markdown",
   "id": "c04d7b27-effe-4beb-8f74-78c4f878d3aa",
   "metadata": {},
   "source": [
    "> A partir do valor de RMSE encontrado através da aplicação desse método, é possível inferir que esse método não aparenta ser tão eficaz em relação aos outros testados previamente, já que aparenta ser maior do que os outros, implicando em uma margem de erro média maior."
   ]
  },
  {
   "cell_type": "markdown",
   "id": "805fe5b1-a16b-4d6b-8362-fa78b7a91db6",
   "metadata": {},
   "source": [
    "####\n",
    "- Para o dataframe do arquivo ***\"data_artigo.csv\"***:"
   ]
  },
  {
   "cell_type": "code",
   "execution_count": 58,
   "id": "744f805d-6473-46f3-a903-788a1227d3db",
   "metadata": {},
   "outputs": [],
   "source": [
    "# Relembrando as variáveis para o dataset em questão:\n",
    "# X_treino_data_art = df_treino_data_art.reindex(FEATURES_art, axis=1).values\n",
    "# y_treino_data_art = df_treino_data_art.reindex(TARGET_art, axis=1).values\n",
    "# X_teste_data_art = df_teste_data_art.reindex(FEATURES_art, axis=1).values\n",
    "# y_teste_data_art = df_teste_data_art.reindex(TARGET_art, axis=1).values"
   ]
  },
  {
   "cell_type": "code",
   "execution_count": 59,
   "id": "3c109953-4f4e-4971-b37d-52c80c198df2",
   "metadata": {},
   "outputs": [
    {
     "name": "stdout",
     "output_type": "stream",
     "text": [
      "[45. 55. 45. 45. 55. 65. 25. 45. 65. 55.]\n"
     ]
    }
   ],
   "source": [
    "from sklearn.tree import DecisionTreeRegressor\n",
    "\n",
    "# cria o modelo\n",
    "modelo_dt_art = DecisionTreeRegressor(random_state=777)\n",
    "\n",
    "# treina o modelo\n",
    "modelo_dt_art.fit(X_treino_data_art, y_treino_data_art)\n",
    "\n",
    "# realiza uma previsão usando o modelo treinado\n",
    "previsao2 = modelo_dt_art.predict(X_teste_data_art)\n",
    "print(previsao2)"
   ]
  },
  {
   "cell_type": "code",
   "execution_count": 60,
   "id": "aeba79e7-c03f-40c8-9b15-67c50cd9eae7",
   "metadata": {},
   "outputs": [
    {
     "name": "stdout",
     "output_type": "stream",
     "text": [
      "O RMSE do modelo árvore de decisão foi de 12.24744871391589 anos\n"
     ]
    }
   ],
   "source": [
    "from sklearn.metrics import mean_squared_error\n",
    "\n",
    "y_verdadeiro_dt_art = y_teste_data_art\n",
    "y_previsao_dt_art = modelo_dt_art.predict(X_teste_data_art)\n",
    "\n",
    "RMSE_dt_art = mean_squared_error(y_verdadeiro_dt_art, y_previsao_dt_art, squared=False)\n",
    "\n",
    "print(f\"O RMSE do modelo árvore de decisão foi de {RMSE_dt_art} anos\")"
   ]
  },
  {
   "cell_type": "markdown",
   "id": "387c93e0-de9b-49de-bcb7-4056e2bf9589",
   "metadata": {},
   "source": [
    "> Novamente é possível notar que o valor de RMSE obtido a partir do método de árvore de decisão foi maior do que os anteriores até para o dataset com os dados referentes ao arquivo *\"dados_artigo.csv\"*, implicando em sua menor eficiência."
   ]
  },
  {
   "cell_type": "markdown",
   "id": "33070b56-7695-4d65-8cb5-070d6cbd8a72",
   "metadata": {},
   "source": [
    "####\n",
    "Como o *feature* e certos dados selecionados por nós já se tratavam de dados ordinais e dados categóricos originalmente e já foram tranformados em dados numéricos com sucesso, partiremos diretamente para a definição dos hiperparâmetros.\n",
    "</br>\n",
    "\n",
    "### Hiperparâmetros: \n",
    "Assim como no modelo de *k-NN*, podemos definir diferentes hiperparâmetros (ou seja, o conjunto de parâmetros definidos em um momento anterior ao treino dos modelos e que não se alteram durante o treino, de acordo com o notebook ***\"b2a1.3 - k vizinhos mais proximos\"***) a fim de melhorar a performance do modelo. Utilizaremos em primeira instância dois dos dez hiperparâmetros que o `scikit-learn` nos permite configurar, sendo eles (assim como afirmado no notebook ***\"b2a2.1 - arvore de decisao\"***):\n",
    "\n",
    "-   `max_leaf_nodes`: que controla o número máximo de *vértices folha* permitidos na árvore de decisão. O valor padrão é `None` que indica para o `scikit-learn` que não existe limite para esse número.\n",
    "\n",
    "-   `max_depth`: que controla a profundidade máxima da árvore de decisão, ou seja, o número máximo de *vértices de decisão* que podem ser visitados até se atingir um vértice folha. O valor padrão é `None` que indica para o `scikit-learn` que não existe limite para esse número."
   ]
  },
  {
   "cell_type": "markdown",
   "id": "f95f5489-e22f-497e-9e84-911241f9a55d",
   "metadata": {},
   "source": [
    "- Para o dataframe do arquivo ***\"data.csv\"***: "
   ]
  },
  {
   "cell_type": "code",
   "execution_count": 61,
   "id": "bf6e5b87-fba8-4731-be96-b3bfcdbfd4cb",
   "metadata": {},
   "outputs": [
    {
     "name": "stdout",
     "output_type": "stream",
     "text": [
      "O RMSE do modelo AD usando max_leaf_nodes=None e max_depth=None foi de 16.12 anos.\n",
      "O RMSE do modelo AD usando max_leaf_nodes=None e max_depth=3 foi de 9.95 anos.\n",
      "O RMSE do modelo AD usando max_leaf_nodes=None e max_depth=10 foi de 17.03 anos.\n",
      "O RMSE do modelo AD usando max_leaf_nodes=6 e max_depth=None foi de 11.87 anos.\n",
      "O RMSE do modelo AD usando max_leaf_nodes=6 e max_depth=3 foi de 10.13 anos.\n",
      "O RMSE do modelo AD usando max_leaf_nodes=6 e max_depth=10 foi de 11.87 anos.\n",
      "O RMSE do modelo AD usando max_leaf_nodes=36 e max_depth=None foi de 14.83 anos.\n",
      "O RMSE do modelo AD usando max_leaf_nodes=36 e max_depth=3 foi de 9.90 anos.\n",
      "O RMSE do modelo AD usando max_leaf_nodes=36 e max_depth=10 foi de 14.83 anos.\n"
     ]
    }
   ],
   "source": [
    "from itertools import product\n",
    "\n",
    "NUM_FOLHAS = [None, 6, 36]\n",
    "NUM_PROFUNDIDADE = [None, 3, 10]\n",
    "\n",
    "for n_folhas, n_profundidade in product(NUM_FOLHAS, NUM_PROFUNDIDADE):\n",
    "    modelo_dt_data = DecisionTreeRegressor(\n",
    "        max_leaf_nodes=n_folhas,\n",
    "        max_depth=n_profundidade,\n",
    "        random_state=666,\n",
    "    )\n",
    "\n",
    "    modelo_dt_data.fit(X_treino_data, y_treino_data)\n",
    "\n",
    "    y_verdadeiro_dt_data = y_teste_data\n",
    "    y_previsao_dt_data = modelo_dt_data.predict(X_teste_data)\n",
    "    RMSEdt1 = mean_squared_error(y_verdadeiro_dt_data, y_previsao_dt_data, squared=False)\n",
    "\n",
    "    print(\n",
    "        f\"O RMSE do modelo AD usando max_leaf_nodes={n_folhas} \"\n",
    "        f\"e max_depth={n_profundidade} foi de {RMSEdt1:.2f} anos.\"\n",
    "    )"
   ]
  },
  {
   "cell_type": "markdown",
   "id": "f28fd43c-aff9-474e-9d98-cd6aa6c3be21",
   "metadata": {},
   "source": [
    "> A partir da configuração dos diferentes valores de hiperparâmetros, conseguimos notar um valor melhor de RMSE (9,90 anos) para quando utilizamos um `max_leaf_nodes` equivalente a 36 e um valor de `max_depth` equivalente a 3, evidenciando uma certa melhora em performance do modelo."
   ]
  },
  {
   "cell_type": "markdown",
   "id": "06f4640b-e29b-4c40-8208-91fe104c35b4",
   "metadata": {},
   "source": [
    "####\n",
    "- Para o dataframe do arquivo ***\"data_artigo.csv\"***"
   ]
  },
  {
   "cell_type": "code",
   "execution_count": 62,
   "id": "33f927e1-b0d5-4d2b-a5cb-832937d9ea0e",
   "metadata": {},
   "outputs": [
    {
     "name": "stdout",
     "output_type": "stream",
     "text": [
      "O RMSE do modelo AD usando max_leaf_nodes=None e max_depth=None foi de 12.25 anos.\n",
      "O RMSE do modelo AD usando max_leaf_nodes=None e max_depth=3 foi de 12.33 anos.\n",
      "O RMSE do modelo AD usando max_leaf_nodes=None e max_depth=10 foi de 10.00 anos.\n",
      "O RMSE do modelo AD usando max_leaf_nodes=6 e max_depth=None foi de 9.82 anos.\n",
      "O RMSE do modelo AD usando max_leaf_nodes=6 e max_depth=3 foi de 9.82 anos.\n",
      "O RMSE do modelo AD usando max_leaf_nodes=6 e max_depth=10 foi de 9.82 anos.\n",
      "O RMSE do modelo AD usando max_leaf_nodes=36 e max_depth=None foi de 15.25 anos.\n",
      "O RMSE do modelo AD usando max_leaf_nodes=36 e max_depth=3 foi de 9.88 anos.\n",
      "O RMSE do modelo AD usando max_leaf_nodes=36 e max_depth=10 foi de 16.73 anos.\n"
     ]
    }
   ],
   "source": [
    "NUM_FOLHAS = [None, 6, 36]\n",
    "NUM_PROFUNDIDADE = [None, 3, 10]\n",
    "\n",
    "for n_folhas, n_profundidade in product(NUM_FOLHAS, NUM_PROFUNDIDADE):\n",
    "    modelo_dt_art = DecisionTreeRegressor(\n",
    "        max_leaf_nodes=n_folhas,\n",
    "        max_depth=n_profundidade,\n",
    "        random_state=777,\n",
    "    )\n",
    "\n",
    "    modelo_dt_art.fit(X_treino_data_art, y_treino_data_art)\n",
    "\n",
    "    y_verdadeiro_dt_data_art = y_teste_data_art\n",
    "    y_previsao_dt_data_art = modelo_dt_art.predict(X_teste_data_art)\n",
    "    RMSEdt2 = mean_squared_error(y_verdadeiro_dt_data_art, y_previsao_dt_data_art, squared=False)\n",
    "\n",
    "    print(\n",
    "        f\"O RMSE do modelo AD usando max_leaf_nodes={n_folhas} \"\n",
    "        f\"e max_depth={n_profundidade} foi de {RMSEdt2:.2f} anos.\"\n",
    "    )"
   ]
  },
  {
   "cell_type": "markdown",
   "id": "bd3ac24e-7cbc-4c70-833f-f01fb6164d65",
   "metadata": {},
   "source": [
    "> De novo, mesmo considerando agora o dataset referente aos dados do arquivo ***\"data_artigo.csv\"*** é possível notar, por meio da configuração de diferentes valores de hiperparâmetros, um melhor valor de RMSE (9,82 anos) para quando utilizamos um `max_leaf_nodes` equivalente a 6 e um valor de `max_depth` equivalente a *None*, 3 ou 10, também evidenciando uma certa melhora em performance."
   ]
  },
  {
   "cell_type": "markdown",
   "id": "26942a68-cbe9-4290-a156-b70ea6b52671",
   "metadata": {},
   "source": [
    "####\n",
    "### Analisando a árvore de decisão através da plotagem gráfica\n"
   ]
  },
  {
   "cell_type": "markdown",
   "id": "9c2dd1d4-b4cb-4225-8c2d-3ff292a84ee1",
   "metadata": {},
   "source": [
    "Para que possamos compreender melhor os modelos desenvolvidos anteriormente, e os condicionais que estão sendo levados em consideração, vale plotar as árvores de decisão de forma gráfica. </br>\n",
    "É válido ressaltar também que em ambos os gráficos abaixo, assim como mencionado anteriormente, a seta da esquerda de cada vértice é tomada se a condição for verdadeira (`True`) e a seta da direita é seguida apenas caso a condição for falsa (`False`)."
   ]
  },
  {
   "cell_type": "markdown",
   "id": "393bd9b3-e0a7-4658-ae2e-080fd208f0ef",
   "metadata": {},
   "source": [
    "- Para o dataframe do arquivo ***\"data.csv\"***: "
   ]
  },
  {
   "cell_type": "code",
   "execution_count": 63,
   "id": "93e8beba-4953-40c8-a89a-5b920f02a8d8",
   "metadata": {},
   "outputs": [
    {
     "data": {
      "image/png": "[encoded data removed]",
      "text/plain": [
       "<Figure size 2100x1200 with 1 Axes>"
      ]
     },
     "metadata": {
      "needs_background": "light"
     },
     "output_type": "display_data"
    }
   ],
   "source": [
    "from matplotlib import pyplot as plt\n",
    "from sklearn import tree\n",
    "\n",
    "# cria e treina o modelo\n",
    "modelo_dt_data = DecisionTreeRegressor(\n",
    "    max_leaf_nodes=36,  # Utilizando o valor de max_leaf_nodes = 36 pois foi o resultado que apresentou um menor valor de RMSE nos hiperparâmetros\n",
    "    max_depth=3, # Utilizando o valor de max_depth = 3 pois também foi o resultado que apresentou um menor valor de RMSE nos hiperparâmetros\n",
    "    random_state=666,\n",
    ")\n",
    "modelo_dt_data.fit(X_treino_data, y_treino_data)\n",
    "\n",
    "# cria os objetos de figura e eixo\n",
    "fig, axe = plt.subplots(\n",
    "    ncols=1,\n",
    "    nrows=1,\n",
    "    figsize=(7, 4),\n",
    "    dpi=300,\n",
    ")\n",
    "\n",
    "# plota o grafo da árvore de decisão\n",
    "tree.plot_tree(\n",
    "    modelo_dt_data,\n",
    "    feature_names=FEATURES,\n",
    "    ax=axe,\n",
    "    impurity=False,\n",
    "    filled=True,\n",
    "    proportion=True,\n",
    "    precision=2,\n",
    ")\n",
    "\n",
    "# mostra o plot para o usuário\n",
    "plt.show()"
   ]
  },
  {
   "cell_type": "markdown",
   "id": "cb40f81f-bd43-4a8f-9fc8-26a6e37c3575",
   "metadata": {},
   "source": [
    "> Chegamos à conclusão de que a distribuição um tanto quanto desigual das amostras em termos de porcentagem pode ser por conta das amostras que estamos considerando nos datasets e utilizando para o treinamento do modelo, uma vez que a maior parte das amostras corresponde a indivíduos com idade de 55 anos em média."
   ]
  },
  {
   "cell_type": "code",
   "execution_count": 65,
   "id": "5a8c3994-ae98-4c43-989f-e2ce63a75f18",
   "metadata": {},
   "outputs": [
    {
     "data": {
      "text/plain": [
       "<AxesSubplot:>"
      ]
     },
     "execution_count": 65,
     "metadata": {},
     "output_type": "execute_result"
    },
    {
     "data": {
      "image/png": "[encoded data removed]",
      "text/plain": [
       "<Figure size 432x288 with 1 Axes>"
      ]
     },
     "metadata": {
      "needs_background": "light"
     },
     "output_type": "display_data"
    }
   ],
   "source": [
    "df_data[\"Idade\"].hist()"
   ]
  },
  {
   "cell_type": "markdown",
   "id": "7959847c-3d9e-4b70-99e5-4f7178f87ed8",
   "metadata": {},
   "source": [
    "####\n",
    "- Para o dataframe do arquivo ***\"data_artigo.csv\"***: "
   ]
  },
  {
   "cell_type": "code",
   "execution_count": 64,
   "id": "3c4debd3-b8ed-4773-b7d5-1644deecdba4",
   "metadata": {},
   "outputs": [
    {
     "data": {
      "image/png": "[encoded data removed]",
      "text/plain": [
       "<Figure size 2100x1200 with 1 Axes>"
      ]
     },
     "metadata": {
      "needs_background": "light"
     },
     "output_type": "display_data"
    }
   ],
   "source": [
    "# cria e treina o modelo\n",
    "modelo_dt_art = DecisionTreeRegressor(\n",
    "    max_leaf_nodes=6, # Utilizando o valor de max_leaf_nodes = 6 pois foi o resultado que apresentou um menor valor de RMSE nos hiperparâmetros\n",
    "    max_depth=10, # Utilizando o valor de max_depth = 10 pois foi um dos resultado que apresentou um menor valor de RMSE nos hiperparâmetros\n",
    "    random_state=777,\n",
    ")\n",
    "modelo_dt_art.fit(X_treino_data_art, y_treino_data_art)\n",
    "\n",
    "# cria os objetos de figura e eixo\n",
    "fig, axe = plt.subplots(\n",
    "    ncols=1,\n",
    "    nrows=1,\n",
    "    figsize=(7, 4),\n",
    "    dpi=300,\n",
    ")\n",
    "\n",
    "# plota o grafo da árvore de decisão\n",
    "tree.plot_tree(\n",
    "    modelo_dt_art,\n",
    "    feature_names=FEATURES,\n",
    "    ax=axe,\n",
    "    impurity=False,\n",
    "    filled=True,\n",
    "    proportion=True,\n",
    "    precision=2,\n",
    ")\n",
    "\n",
    "# mostra o plot para o usuário\n",
    "plt.show()"
   ]
  },
  {
   "cell_type": "markdown",
   "id": "e1f1b7a3-9361-4607-bb04-3b349e18bdbb",
   "metadata": {},
   "source": [
    "> Mesmo com as distribuições das amostras em termos de porcentagem um pouco menos concentradas em um só vértice folha, ainda apresentam uma grande diferença entre si, de tal forma conluímos que a mesma análise feita para o gráfico anterior também é aplicável neste."
   ]
  },
  {
   "cell_type": "code",
   "execution_count": 66,
   "id": "c277cf7b-bee8-4dcf-9ce3-9d34f7e45def",
   "metadata": {},
   "outputs": [
    {
     "data": {
      "text/plain": [
       "<AxesSubplot:>"
      ]
     },
     "execution_count": 66,
     "metadata": {},
     "output_type": "execute_result"
    },
    {
     "data": {
      "image/png": "[encoded data removed]",
      "text/plain": [
       "<Figure size 432x288 with 1 Axes>"
      ]
     },
     "metadata": {
      "needs_background": "light"
     },
     "output_type": "display_data"
    }
   ],
   "source": [
    "df_data_art[\"Idade\"].hist()"
   ]
  },
  {
   "cell_type": "markdown",
   "id": "23d4f2b4-a1e5-4dd3-875e-7cff8e219610",
   "metadata": {},
   "source": [
    "----"
   ]
  },
  {
   "cell_type": "markdown",
   "id": "20d5b43a-65a1-4c22-a4ad-ffc04ea5ca7e",
   "metadata": {},
   "source": [
    "### <a id=\"floresta\"> Tarefa 5 - Floresta Aleatória"
   ]
  },
  {
   "cell_type": "markdown",
   "id": "556ab9f2-481b-4dda-87b1-ba1d4014ea03",
   "metadata": {},
   "source": [
    "[Voltar para o sumário](#sum)"
   ]
  },
  {
   "cell_type": "markdown",
   "id": "53f394c5-9438-4c87-8571-37119ae58a20",
   "metadata": {},
   "source": [
    "- Testando para o dataframe do arquivo ***\"data.csv\"***:"
   ]
  },
  {
   "cell_type": "code",
   "execution_count": 39,
   "id": "2cf94fc5-36f2-45c7-904d-319a40c4ed4e",
   "metadata": {},
   "outputs": [],
   "source": [
    "TAMANHO_TESTE = 10\n",
    "SEMENTE_ALEATORIA = 666\n",
    "FEATURES = df_data.columns.values[4:]\n",
    "TARGET = [\"Idade\"]\n",
    "\n",
    "indices_data = df_data.index\n",
    "indices_treino_data, indices_teste_data = train_test_split(\n",
    "    indices_data, test_size=TAMANHO_TESTE, random_state=SEMENTE_ALEATORIA\n",
    ")\n",
    "\n",
    "df_treino_data = df_data.loc[indices_treino_data]\n",
    "df_teste_data = df_data.loc[indices_teste_data]\n",
    "\n",
    "# observe que usamos o .values aqui pois queremos apenas os valores\n",
    "X_treino_data = df_treino_data.reindex(FEATURES, axis=1).values\n",
    "y_treino_data = df_treino_data.reindex(TARGET, axis=1).values\n",
    "X_teste_data = df_teste_data.reindex(FEATURES, axis=1).values\n",
    "y_teste_data = df_teste_data.reindex(TARGET, axis=1).values"
   ]
  },
  {
   "cell_type": "code",
   "execution_count": 40,
   "id": "2f72ac75-cbd5-4251-a39b-f6a9a3c6b8e9",
   "metadata": {},
   "outputs": [
    {
     "name": "stdout",
     "output_type": "stream",
     "text": [
      "(100, 1) (10, 1)\n",
      "(100,) (10,)\n",
      "\n",
      "[42.8 38.5 49.9 50.7 50.1 54.7 49.7 50.  55.  49.5]\n"
     ]
    }
   ],
   "source": [
    "from sklearn.ensemble import RandomForestRegressor\n",
    "\n",
    "# alterando o formato do target\n",
    "print(y_treino_data.shape, y_teste_data.shape)\n",
    "y_treino_data = y_treino_data.ravel()\n",
    "y_teste_data = y_teste_data.ravel()\n",
    "print(y_treino_data.shape, y_teste_data.shape)\n",
    "\n",
    "# cria o modelo\n",
    "modelo_rf = RandomForestRegressor(random_state=SEMENTE_ALEATORIA)\n",
    "\n",
    "# treina o modelo\n",
    "modelo_rf.fit(X_treino_data, y_treino_data)\n",
    "\n",
    "# realiza uma previsão usando o modelo treinado\n",
    "previsao = modelo_rf.predict(X_teste_data)\n",
    "print()\n",
    "print(previsao)"
   ]
  },
  {
   "cell_type": "code",
   "execution_count": 41,
   "id": "0c404d2f-06b8-4461-a1f4-e68e978d5f19",
   "metadata": {},
   "outputs": [
    {
     "name": "stdout",
     "output_type": "stream",
     "text": [
      "O RMSE do modelo árvore de decisão foi de 11.441284892878071 anos.\n"
     ]
    }
   ],
   "source": [
    "from sklearn.metrics import mean_squared_error\n",
    "\n",
    "y_verdadeiro = y_teste_data\n",
    "y_previsao = modelo_rf.predict(X_teste_data)\n",
    "\n",
    "RMSE = mean_squared_error(y_verdadeiro, y_previsao, squared=False)\n",
    "\n",
    "print(f\"O RMSE do modelo árvore de decisão foi de {RMSE} anos.\")"
   ]
  },
  {
   "cell_type": "markdown",
   "id": "cb0f9653-7e65-4860-8094-7eef97afb4b4",
   "metadata": {},
   "source": [
    "**Alteração dos Hiperparâmetros**\n",
    "\n",
    "Sabendo que os hiperparâmetros são `num_estimators`, responsável pelo controle do número de árvores que irão compor comitê, número de folhas, responsável pela quantidade de nós terminais, e número de profundida, quantos nós temos entre o começo e o fim, podemos testá-los."
   ]
  },
  {
   "cell_type": "code",
   "execution_count": 42,
   "id": "67ae23cb-7a21-4f77-9be4-afe6186c851d",
   "metadata": {},
   "outputs": [
    {
     "name": "stdout",
     "output_type": "stream",
     "text": [
      "O RMSE do modelo RF usando n_estimators=10 max_leaf_nodes=None e max_depth=None foi de 12.66 anos.\n",
      "O RMSE do modelo RF usando n_estimators=100 max_leaf_nodes=None e max_depth=None foi de 11.44 anos.\n",
      "O RMSE do modelo RF usando n_estimators=300 max_leaf_nodes=None e max_depth=None foi de 11.33 anos.\n",
      "O RMSE do modelo RF usando n_estimators=10 max_leaf_nodes=None e max_depth=3 foi de 12.67 anos.\n",
      "O RMSE do modelo RF usando n_estimators=100 max_leaf_nodes=None e max_depth=3 foi de 11.29 anos.\n",
      "O RMSE do modelo RF usando n_estimators=300 max_leaf_nodes=None e max_depth=3 foi de 11.24 anos.\n",
      "O RMSE do modelo RF usando n_estimators=10 max_leaf_nodes=6 e max_depth=None foi de 13.08 anos.\n",
      "O RMSE do modelo RF usando n_estimators=100 max_leaf_nodes=6 e max_depth=None foi de 11.38 anos.\n",
      "O RMSE do modelo RF usando n_estimators=300 max_leaf_nodes=6 e max_depth=None foi de 11.40 anos.\n",
      "O RMSE do modelo RF usando n_estimators=10 max_leaf_nodes=6 e max_depth=3 foi de 12.85 anos.\n",
      "O RMSE do modelo RF usando n_estimators=100 max_leaf_nodes=6 e max_depth=3 foi de 11.12 anos.\n",
      "O RMSE do modelo RF usando n_estimators=300 max_leaf_nodes=6 e max_depth=3 foi de 11.14 anos.\n"
     ]
    }
   ],
   "source": [
    "from itertools import product\n",
    "\n",
    "NUM_ARVORES = [10, 100, 300]\n",
    "NUM_FOLHAS = [None, 6]\n",
    "NUM_PROFUNDIDADE = [None, 3]\n",
    "\n",
    "for n_folhas, n_profundidade, n_arvores in product(\n",
    "    NUM_FOLHAS, NUM_PROFUNDIDADE, NUM_ARVORES\n",
    "):\n",
    "    modelo_rf = RandomForestRegressor(\n",
    "        n_estimators=n_arvores,\n",
    "        max_leaf_nodes=n_folhas,\n",
    "        max_depth=n_profundidade,\n",
    "        random_state=SEMENTE_ALEATORIA,\n",
    "        n_jobs=4,\n",
    "    )\n",
    "\n",
    "    modelo_rf.fit(X_treino_data, y_treino_data)\n",
    "\n",
    "    y_verdadeiro = y_teste_data\n",
    "    y_previsao = modelo_rf.predict(X_teste_data)\n",
    "    RMSE = mean_squared_error(y_verdadeiro, y_previsao, squared=False)\n",
    "\n",
    "    print(\n",
    "        f\"O RMSE do modelo RF usando \"\n",
    "        f\"n_estimators={n_arvores} max_leaf_nodes={n_folhas} \"\n",
    "        f\"e max_depth={n_profundidade} foi de {RMSE:.2f} anos.\"\n",
    "    )"
   ]
  },
  {
   "cell_type": "markdown",
   "id": "9c99ad79-8fd5-48a1-a77c-471523e64964",
   "metadata": {},
   "source": [
    "#"
   ]
  },
  {
   "cell_type": "code",
   "execution_count": 43,
   "id": "dbeb06be-c3f3-4310-9175-64904bec4b06",
   "metadata": {},
   "outputs": [],
   "source": [
    "TAMANHO_TESTE_art = 10\n",
    "SEMENTE_ALEATORIA_art = 777\n",
    "FEATURES_art = df_data_art.columns.values[4:]\n",
    "TARGET_art = [\"Idade\"]\n",
    "\n",
    "indices_data_art = df_data_art.index\n",
    "indices_treino_data_art, indices_teste_data_art = train_test_split(\n",
    "    indices_data_art, test_size=TAMANHO_TESTE_art, random_state=SEMENTE_ALEATORIA_art\n",
    ")\n",
    "\n",
    "df_treino_data_art = df_data_art.loc[indices_treino_data_art]\n",
    "df_teste_data_art = df_data_art.loc[indices_teste_data_art]\n",
    "\n",
    "# observe que usamos o .values aqui pois queremos apenas os valores\n",
    "X_treino_data_art = df_treino_data_art.reindex(FEATURES_art, axis=1).values\n",
    "y_treino_data_art = df_treino_data_art.reindex(TARGET_art, axis=1).values\n",
    "X_teste_data_art = df_teste_data_art.reindex(FEATURES_art, axis=1).values\n",
    "y_teste_data_art = df_teste_data_art.reindex(TARGET_art, axis=1).values"
   ]
  },
  {
   "cell_type": "code",
   "execution_count": 44,
   "id": "3d3cb77e-7369-462f-9168-a62ffc6c4e32",
   "metadata": {},
   "outputs": [
    {
     "name": "stdout",
     "output_type": "stream",
     "text": [
      "(100, 1) (10, 1)\n",
      "(100,) (10,)\n",
      "\n",
      "[48.8 55.3 48.  47.5 53.2 51.5 50.1 49.7 48.7 54. ]\n"
     ]
    }
   ],
   "source": [
    "from sklearn.ensemble import RandomForestRegressor\n",
    "\n",
    "# alterando o formato do target\n",
    "print(y_treino_data_art.shape, y_teste_data_art.shape)\n",
    "y_treino_data_art = y_treino_data_art.ravel()\n",
    "y_teste_data_art = y_teste_data_art.ravel()\n",
    "print(y_treino_data_art.shape, y_teste_data_art.shape)\n",
    "\n",
    "# cria o modelo\n",
    "modelo_rf = RandomForestRegressor(random_state=SEMENTE_ALEATORIA)\n",
    "\n",
    "# treina o modelo\n",
    "modelo_rf.fit(X_treino_data_art, y_treino_data_art)\n",
    "\n",
    "# realiza uma previsão usando o modelo treinado\n",
    "previsao = modelo_rf.predict(X_teste_data_art)\n",
    "print()\n",
    "print(previsao)"
   ]
  },
  {
   "cell_type": "markdown",
   "id": "b5914490-0162-4992-a351-aa6894815dd9",
   "metadata": {},
   "source": [
    "- Testando para o dataframe do arquivo ***\"data_artigo.csv\"***:"
   ]
  },
  {
   "cell_type": "code",
   "execution_count": 45,
   "id": "fc8e4415-2881-4c8e-8b04-20eeaaa731de",
   "metadata": {},
   "outputs": [
    {
     "name": "stdout",
     "output_type": "stream",
     "text": [
      "O RMSE do modelo árvore de decisão foi de 8.989215761121766 anos.\n"
     ]
    }
   ],
   "source": [
    "from sklearn.metrics import mean_squared_error\n",
    "\n",
    "y_verdadeiro = y_teste_data_art\n",
    "y_previsao = modelo_rf.predict(X_teste_data_art)\n",
    "\n",
    "RMSE = mean_squared_error(y_verdadeiro, y_previsao, squared=False)\n",
    "\n",
    "print(f\"O RMSE do modelo árvore de decisão foi de {RMSE} anos.\")"
   ]
  },
  {
   "cell_type": "markdown",
   "id": "7cb1b286-4c46-49cf-a58c-fc50878e8ec8",
   "metadata": {},
   "source": [
    "**Alteração dos Hiperparâmetros**\n",
    "\n",
    "Usando os mesmos conceitos apresentados anteriormente, temos:"
   ]
  },
  {
   "cell_type": "code",
   "execution_count": 46,
   "id": "6b7d0b33-ad43-4a1c-b918-c9e662d89a0d",
   "metadata": {},
   "outputs": [
    {
     "name": "stdout",
     "output_type": "stream",
     "text": [
      "O RMSE do modelo RF usando n_estimators=10 max_leaf_nodes=None e max_depth=None foi de 12.66 anos.\n",
      "O RMSE do modelo RF usando n_estimators=100 max_leaf_nodes=None e max_depth=None foi de 11.44 anos.\n",
      "O RMSE do modelo RF usando n_estimators=300 max_leaf_nodes=None e max_depth=None foi de 11.33 anos.\n",
      "O RMSE do modelo RF usando n_estimators=10 max_leaf_nodes=None e max_depth=3 foi de 12.67 anos.\n",
      "O RMSE do modelo RF usando n_estimators=100 max_leaf_nodes=None e max_depth=3 foi de 11.29 anos.\n",
      "O RMSE do modelo RF usando n_estimators=300 max_leaf_nodes=None e max_depth=3 foi de 11.24 anos.\n",
      "O RMSE do modelo RF usando n_estimators=10 max_leaf_nodes=6 e max_depth=None foi de 13.08 anos.\n",
      "O RMSE do modelo RF usando n_estimators=100 max_leaf_nodes=6 e max_depth=None foi de 11.38 anos.\n",
      "O RMSE do modelo RF usando n_estimators=300 max_leaf_nodes=6 e max_depth=None foi de 11.40 anos.\n",
      "O RMSE do modelo RF usando n_estimators=10 max_leaf_nodes=6 e max_depth=3 foi de 12.85 anos.\n",
      "O RMSE do modelo RF usando n_estimators=100 max_leaf_nodes=6 e max_depth=3 foi de 11.12 anos.\n",
      "O RMSE do modelo RF usando n_estimators=300 max_leaf_nodes=6 e max_depth=3 foi de 11.14 anos.\n"
     ]
    }
   ],
   "source": [
    "from itertools import product\n",
    "\n",
    "NUM_ARVORES = [10, 100, 300]\n",
    "NUM_FOLHAS = [None, 6]\n",
    "NUM_PROFUNDIDADE = [None, 3]\n",
    "\n",
    "for n_folhas, n_profundidade, n_arvores in product(\n",
    "    NUM_FOLHAS, NUM_PROFUNDIDADE, NUM_ARVORES\n",
    "):\n",
    "    modelo_rf = RandomForestRegressor(\n",
    "        n_estimators=n_arvores,\n",
    "        max_leaf_nodes=n_folhas,\n",
    "        max_depth=n_profundidade,\n",
    "        random_state=SEMENTE_ALEATORIA,\n",
    "        n_jobs=4,\n",
    "    )\n",
    "\n",
    "    modelo_rf.fit(X_treino_data, y_treino_data)\n",
    "\n",
    "    y_verdadeiro = y_teste_data\n",
    "    y_previsao = modelo_rf.predict(X_teste_data)\n",
    "    RMSE = mean_squared_error(y_verdadeiro, y_previsao, squared=False)\n",
    "\n",
    "    print(\n",
    "        f\"O RMSE do modelo RF usando \"\n",
    "        f\"n_estimators={n_arvores} max_leaf_nodes={n_folhas} \"\n",
    "        f\"e max_depth={n_profundidade} foi de {RMSE:.2f} anos.\"\n",
    "    )"
   ]
  },
  {
   "cell_type": "markdown",
   "id": "fce0da88-d2ac-41cc-a988-bdb8d1bd3e5e",
   "metadata": {},
   "source": [
    "#\n",
    "\n",
    "#### Medição da importância das features"
   ]
  },
  {
   "cell_type": "markdown",
   "id": "60a15fd1-2e9e-4978-8f80-9b1a6dd83871",
   "metadata": {},
   "source": [
    "- Testando para o dataframe do arquivo ***\"data.csv\"***:"
   ]
  },
  {
   "cell_type": "code",
   "execution_count": 47,
   "id": "04c47f9c-df79-49db-ad5c-e78318d33a45",
   "metadata": {},
   "outputs": [
    {
     "data": {
      "text/plain": [
       "((100, 20), (100,))"
      ]
     },
     "execution_count": 47,
     "metadata": {},
     "output_type": "execute_result"
    }
   ],
   "source": [
    "X_treino_data.shape,y_treino_data.shape"
   ]
  },
  {
   "cell_type": "code",
   "execution_count": 48,
   "id": "ef26456c-7a3a-4ea1-846c-0bdd33dcd69a",
   "metadata": {},
   "outputs": [
    {
     "data": {
      "text/html": [
       "<style>#sk-container-id-3 {color: black;background-color: white;}#sk-container-id-3 pre{padding: 0;}#sk-container-id-3 div.sk-toggleable {background-color: white;}#sk-container-id-3 label.sk-toggleable__label {cursor: pointer;display: block;width: 100%;margin-bottom: 0;padding: 0.3em;box-sizing: border-box;text-align: center;}#sk-container-id-3 label.sk-toggleable__label-arrow:before {content: \"▸\";float: left;margin-right: 0.25em;color: #696969;}#sk-container-id-3 label.sk-toggleable__label-arrow:hover:before {color: black;}#sk-container-id-3 div.sk-estimator:hover label.sk-toggleable__label-arrow:before {color: black;}#sk-container-id-3 div.sk-toggleable__content {max-height: 0;max-width: 0;overflow: hidden;text-align: left;background-color: #f0f8ff;}#sk-container-id-3 div.sk-toggleable__content pre {margin: 0.2em;color: black;border-radius: 0.25em;background-color: #f0f8ff;}#sk-container-id-3 input.sk-toggleable__control:checked~div.sk-toggleable__content {max-height: 200px;max-width: 100%;overflow: auto;}#sk-container-id-3 input.sk-toggleable__control:checked~label.sk-toggleable__label-arrow:before {content: \"▾\";}#sk-container-id-3 div.sk-estimator input.sk-toggleable__control:checked~label.sk-toggleable__label {background-color: #d4ebff;}#sk-container-id-3 div.sk-label input.sk-toggleable__control:checked~label.sk-toggleable__label {background-color: #d4ebff;}#sk-container-id-3 input.sk-hidden--visually {border: 0;clip: rect(1px 1px 1px 1px);clip: rect(1px, 1px, 1px, 1px);height: 1px;margin: -1px;overflow: hidden;padding: 0;position: absolute;width: 1px;}#sk-container-id-3 div.sk-estimator {font-family: monospace;background-color: #f0f8ff;border: 1px dotted black;border-radius: 0.25em;box-sizing: border-box;margin-bottom: 0.5em;}#sk-container-id-3 div.sk-estimator:hover {background-color: #d4ebff;}#sk-container-id-3 div.sk-parallel-item::after {content: \"\";width: 100%;border-bottom: 1px solid gray;flex-grow: 1;}#sk-container-id-3 div.sk-label:hover label.sk-toggleable__label {background-color: #d4ebff;}#sk-container-id-3 div.sk-serial::before {content: \"\";position: absolute;border-left: 1px solid gray;box-sizing: border-box;top: 0;bottom: 0;left: 50%;z-index: 0;}#sk-container-id-3 div.sk-serial {display: flex;flex-direction: column;align-items: center;background-color: white;padding-right: 0.2em;padding-left: 0.2em;position: relative;}#sk-container-id-3 div.sk-item {position: relative;z-index: 1;}#sk-container-id-3 div.sk-parallel {display: flex;align-items: stretch;justify-content: center;background-color: white;position: relative;}#sk-container-id-3 div.sk-item::before, #sk-container-id-3 div.sk-parallel-item::before {content: \"\";position: absolute;border-left: 1px solid gray;box-sizing: border-box;top: 0;bottom: 0;left: 50%;z-index: -1;}#sk-container-id-3 div.sk-parallel-item {display: flex;flex-direction: column;z-index: 1;position: relative;background-color: white;}#sk-container-id-3 div.sk-parallel-item:first-child::after {align-self: flex-end;width: 50%;}#sk-container-id-3 div.sk-parallel-item:last-child::after {align-self: flex-start;width: 50%;}#sk-container-id-3 div.sk-parallel-item:only-child::after {width: 0;}#sk-container-id-3 div.sk-dashed-wrapped {border: 1px dashed gray;margin: 0 0.4em 0.5em 0.4em;box-sizing: border-box;padding-bottom: 0.4em;background-color: white;}#sk-container-id-3 div.sk-label label {font-family: monospace;font-weight: bold;display: inline-block;line-height: 1.2em;}#sk-container-id-3 div.sk-label-container {text-align: center;}#sk-container-id-3 div.sk-container {/* jupyter's `normalize.less` sets `[hidden] { display: none; }` but bootstrap.min.css set `[hidden] { display: none !important; }` so we also need the `!important` here to be able to override the default hidden behavior on the sphinx rendered scikit-learn.org. See: https://github.com/scikit-learn/scikit-learn/issues/21755 */display: inline-block !important;position: relative;}#sk-container-id-3 div.sk-text-repr-fallback {display: none;}</style><div id=\"sk-container-id-3\" class=\"sk-top-container\"><div class=\"sk-text-repr-fallback\"><pre>RandomForestRegressor(n_estimators=50, n_jobs=4, random_state=666)</pre><b>In a Jupyter environment, please rerun this cell to show the HTML representation or trust the notebook. <br />On GitHub, the HTML representation is unable to render, please try loading this page with nbviewer.org.</b></div><div class=\"sk-container\" hidden><div class=\"sk-item\"><div class=\"sk-estimator sk-toggleable\"><input class=\"sk-toggleable__control sk-hidden--visually\" id=\"sk-estimator-id-3\" type=\"checkbox\" checked><label for=\"sk-estimator-id-3\" class=\"sk-toggleable__label sk-toggleable__label-arrow\">RandomForestRegressor</label><div class=\"sk-toggleable__content\"><pre>RandomForestRegressor(n_estimators=50, n_jobs=4, random_state=666)</pre></div></div></div></div></div>"
      ],
      "text/plain": [
       "RandomForestRegressor(n_estimators=50, n_jobs=4, random_state=666)"
      ]
     },
     "execution_count": 48,
     "metadata": {},
     "output_type": "execute_result"
    }
   ],
   "source": [
    "N_ARVORES = 50\n",
    "N_JOBS = 4\n",
    "\n",
    "modelo_rf = RandomForestRegressor(\n",
    "    n_estimators=N_ARVORES,\n",
    "    random_state=SEMENTE_ALEATORIA,\n",
    "    n_jobs=N_JOBS,\n",
    ")\n",
    "\n",
    "modelo_rf.fit(X_treino_data, y_treino_data.flatten())"
   ]
  },
  {
   "cell_type": "code",
   "execution_count": 49,
   "id": "df9633f8-e2a9-44a0-ac77-a1c43bfe3c8b",
   "metadata": {},
   "outputs": [
    {
     "data": {
      "image/png": "[encoded data removed]",
      "text/plain": [
       "<Figure size 432x288 with 1 Axes>"
      ]
     },
     "metadata": {
      "needs_background": "light"
     },
     "output_type": "display_data"
    }
   ],
   "source": [
    "import matplotlib.pyplot as plt\n",
    "import numpy as np\n",
    "import pandas as pd\n",
    "\n",
    "importancia = modelo_rf.feature_importances_\n",
    "desvio_padrao = np.std(\n",
    "    [arvore.feature_importances_ for arvore in modelo_rf.estimators_], axis=0\n",
    ")\n",
    "\n",
    "serie_importancia = pd.Series(importancia, index=FEATURES)\n",
    "\n",
    "fig, axe = plt.subplots()\n",
    "serie_importancia.plot.bar(yerr=desvio_padrao, ax=axe)\n",
    "axe.set_ylabel(\"Redução média da impureza\")\n",
    "plt.show()"
   ]
  },
  {
   "cell_type": "code",
   "execution_count": 50,
   "id": "0f1516e7-ee05-41e8-9f02-c6d3f28a7e23",
   "metadata": {},
   "outputs": [
    {
     "name": "stdout",
     "output_type": "stream",
     "text": [
      "O R^2 da previsão é de 0.9933332849364791\n",
      "\n",
      "MLF2    0.011 +/- 0.002\n",
      "RTFDC1  0.004 +/- 0.001\n",
      "MANBAL  0.003 +/- 0.000\n",
      "GTF2F1  0.003 +/- 0.001\n",
      "TRAPPC3 0.003 +/- 0.000\n",
      "TCF25   0.003 +/- 0.000\n",
      "SCYL1   0.002 +/- 0.000\n",
      "MTMR14  0.002 +/- 0.000\n",
      "USP4    0.002 +/- 0.000\n",
      "SUPT5H  0.002 +/- 0.000\n",
      "GPS1    0.002 +/- 0.000\n",
      "MRPL9   0.002 +/- 0.000\n",
      "NRBP1   0.002 +/- 0.000\n",
      "GTF3C5  0.001 +/- 0.000\n",
      "ARAF    0.001 +/- 0.000\n",
      "DGCR14  0.001 +/- 0.000\n",
      "DNAJB12 0.001 +/- 0.000\n",
      "HDAC3   0.001 +/- 0.000\n",
      "SMPD4   0.001 +/- 0.000\n",
      "URM1    0.000 +/- 0.000\n"
     ]
    }
   ],
   "source": [
    "from sklearn.inspection import permutation_importance\n",
    "\n",
    "N_REPETICOES = 10\n",
    "\n",
    "\n",
    "def R2_1param(modelo, x, y):\n",
    "    \"\"\"Computa o coef. de determinação quando hip. alt. não tem coef. linear.\"\"\"\n",
    "    y_pred = modelo.predict(x).ravel()\n",
    "    y_true = (np.array(y)).ravel()\n",
    "    return 1 - sum((y_true - y_pred) ** 2) / sum(y_true**2)\n",
    "\n",
    "\n",
    "X_local = X_treino_data\n",
    "y_local = y_treino_data\n",
    "\n",
    "R2 = R2_1param(modelo_rf, X_local, y_local)\n",
    "print(f\"O R^2 da previsão é de {R2}\")\n",
    "\n",
    "# Aqui que calculamos a importância das features\n",
    "r = permutation_importance(\n",
    "    modelo_rf,\n",
    "    X_local,\n",
    "    y_local,\n",
    "    n_repeats=N_REPETICOES,\n",
    "    random_state=SEMENTE_ALEATORIA,\n",
    "    scoring=R2_1param,\n",
    ")\n",
    "\n",
    "print()\n",
    "\n",
    "# Aqui nós exibimos os resultados obtidos\n",
    "for i in r.importances_mean.argsort()[::-1]:\n",
    "    if r.importances_mean[i] - 2 * r.importances_std[i] > 0:\n",
    "        print(f\"{FEATURES[i]:<8}\"\n",
    "              f\"{r.importances_mean[i]:.3f}\"\n",
    "              f\" +/- {r.importances_std[i]:.3f}\")"
   ]
  },
  {
   "cell_type": "markdown",
   "id": "c1f8600d-a669-4ede-b0fd-c44e6a787ff4",
   "metadata": {},
   "source": [
    "- Testando para o dataframe do arquivo ***\"data_artigo.csv\"***:"
   ]
  },
  {
   "cell_type": "code",
   "execution_count": 51,
   "id": "9d5c44e3-dba0-4a04-bf54-95797c748990",
   "metadata": {},
   "outputs": [
    {
     "data": {
      "text/html": [
       "<style>#sk-container-id-4 {color: black;background-color: white;}#sk-container-id-4 pre{padding: 0;}#sk-container-id-4 div.sk-toggleable {background-color: white;}#sk-container-id-4 label.sk-toggleable__label {cursor: pointer;display: block;width: 100%;margin-bottom: 0;padding: 0.3em;box-sizing: border-box;text-align: center;}#sk-container-id-4 label.sk-toggleable__label-arrow:before {content: \"▸\";float: left;margin-right: 0.25em;color: #696969;}#sk-container-id-4 label.sk-toggleable__label-arrow:hover:before {color: black;}#sk-container-id-4 div.sk-estimator:hover label.sk-toggleable__label-arrow:before {color: black;}#sk-container-id-4 div.sk-toggleable__content {max-height: 0;max-width: 0;overflow: hidden;text-align: left;background-color: #f0f8ff;}#sk-container-id-4 div.sk-toggleable__content pre {margin: 0.2em;color: black;border-radius: 0.25em;background-color: #f0f8ff;}#sk-container-id-4 input.sk-toggleable__control:checked~div.sk-toggleable__content {max-height: 200px;max-width: 100%;overflow: auto;}#sk-container-id-4 input.sk-toggleable__control:checked~label.sk-toggleable__label-arrow:before {content: \"▾\";}#sk-container-id-4 div.sk-estimator input.sk-toggleable__control:checked~label.sk-toggleable__label {background-color: #d4ebff;}#sk-container-id-4 div.sk-label input.sk-toggleable__control:checked~label.sk-toggleable__label {background-color: #d4ebff;}#sk-container-id-4 input.sk-hidden--visually {border: 0;clip: rect(1px 1px 1px 1px);clip: rect(1px, 1px, 1px, 1px);height: 1px;margin: -1px;overflow: hidden;padding: 0;position: absolute;width: 1px;}#sk-container-id-4 div.sk-estimator {font-family: monospace;background-color: #f0f8ff;border: 1px dotted black;border-radius: 0.25em;box-sizing: border-box;margin-bottom: 0.5em;}#sk-container-id-4 div.sk-estimator:hover {background-color: #d4ebff;}#sk-container-id-4 div.sk-parallel-item::after {content: \"\";width: 100%;border-bottom: 1px solid gray;flex-grow: 1;}#sk-container-id-4 div.sk-label:hover label.sk-toggleable__label {background-color: #d4ebff;}#sk-container-id-4 div.sk-serial::before {content: \"\";position: absolute;border-left: 1px solid gray;box-sizing: border-box;top: 0;bottom: 0;left: 50%;z-index: 0;}#sk-container-id-4 div.sk-serial {display: flex;flex-direction: column;align-items: center;background-color: white;padding-right: 0.2em;padding-left: 0.2em;position: relative;}#sk-container-id-4 div.sk-item {position: relative;z-index: 1;}#sk-container-id-4 div.sk-parallel {display: flex;align-items: stretch;justify-content: center;background-color: white;position: relative;}#sk-container-id-4 div.sk-item::before, #sk-container-id-4 div.sk-parallel-item::before {content: \"\";position: absolute;border-left: 1px solid gray;box-sizing: border-box;top: 0;bottom: 0;left: 50%;z-index: -1;}#sk-container-id-4 div.sk-parallel-item {display: flex;flex-direction: column;z-index: 1;position: relative;background-color: white;}#sk-container-id-4 div.sk-parallel-item:first-child::after {align-self: flex-end;width: 50%;}#sk-container-id-4 div.sk-parallel-item:last-child::after {align-self: flex-start;width: 50%;}#sk-container-id-4 div.sk-parallel-item:only-child::after {width: 0;}#sk-container-id-4 div.sk-dashed-wrapped {border: 1px dashed gray;margin: 0 0.4em 0.5em 0.4em;box-sizing: border-box;padding-bottom: 0.4em;background-color: white;}#sk-container-id-4 div.sk-label label {font-family: monospace;font-weight: bold;display: inline-block;line-height: 1.2em;}#sk-container-id-4 div.sk-label-container {text-align: center;}#sk-container-id-4 div.sk-container {/* jupyter's `normalize.less` sets `[hidden] { display: none; }` but bootstrap.min.css set `[hidden] { display: none !important; }` so we also need the `!important` here to be able to override the default hidden behavior on the sphinx rendered scikit-learn.org. See: https://github.com/scikit-learn/scikit-learn/issues/21755 */display: inline-block !important;position: relative;}#sk-container-id-4 div.sk-text-repr-fallback {display: none;}</style><div id=\"sk-container-id-4\" class=\"sk-top-container\"><div class=\"sk-text-repr-fallback\"><pre>RandomForestRegressor(n_estimators=50, n_jobs=4, random_state=666)</pre><b>In a Jupyter environment, please rerun this cell to show the HTML representation or trust the notebook. <br />On GitHub, the HTML representation is unable to render, please try loading this page with nbviewer.org.</b></div><div class=\"sk-container\" hidden><div class=\"sk-item\"><div class=\"sk-estimator sk-toggleable\"><input class=\"sk-toggleable__control sk-hidden--visually\" id=\"sk-estimator-id-4\" type=\"checkbox\" checked><label for=\"sk-estimator-id-4\" class=\"sk-toggleable__label sk-toggleable__label-arrow\">RandomForestRegressor</label><div class=\"sk-toggleable__content\"><pre>RandomForestRegressor(n_estimators=50, n_jobs=4, random_state=666)</pre></div></div></div></div></div>"
      ],
      "text/plain": [
       "RandomForestRegressor(n_estimators=50, n_jobs=4, random_state=666)"
      ]
     },
     "execution_count": 51,
     "metadata": {},
     "output_type": "execute_result"
    }
   ],
   "source": [
    "N_ARVORES = 50\n",
    "N_JOBS = 4\n",
    "\n",
    "modelo_rf = RandomForestRegressor(\n",
    "    n_estimators=N_ARVORES,\n",
    "    random_state=SEMENTE_ALEATORIA,\n",
    "    n_jobs=N_JOBS,\n",
    ")\n",
    "\n",
    "modelo_rf.fit(X_treino_data_art, y_treino_data_art)"
   ]
  },
  {
   "cell_type": "code",
   "execution_count": 52,
   "id": "042a91ad-2645-4596-b9a2-bfc991aec755",
   "metadata": {},
   "outputs": [
    {
     "data": {
      "image/png": "[encoded data removed]",
      "text/plain": [
       "<Figure size 432x288 with 1 Axes>"
      ]
     },
     "metadata": {
      "needs_background": "light"
     },
     "output_type": "display_data"
    }
   ],
   "source": [
    "import matplotlib.pyplot as plt\n",
    "import numpy as np\n",
    "import pandas as pd\n",
    "\n",
    "importancia = modelo_rf.feature_importances_\n",
    "desvio_padrao = np.std(\n",
    "    [arvore.feature_importances_ for arvore in modelo_rf.estimators_], axis=0\n",
    ")\n",
    "\n",
    "serie_importancia = pd.Series(importancia, index=FEATURES_art)\n",
    "\n",
    "fig, axe = plt.subplots()\n",
    "serie_importancia.plot.bar(yerr=desvio_padrao, ax=axe)\n",
    "axe.set_ylabel(\"Redução média da impureza\")\n",
    "plt.show()"
   ]
  },
  {
   "cell_type": "code",
   "execution_count": 53,
   "id": "42781e80-659d-4ac8-b602-a1fa68288160",
   "metadata": {},
   "outputs": [
    {
     "name": "stdout",
     "output_type": "stream",
     "text": [
      "O R^2 da previsão é de 0.992626252285192\n",
      "\n",
      "CLPTM1L 0.008 +/- 0.001\n",
      "CDKN1A  0.006 +/- 0.000\n",
      "MMP11   0.005 +/- 0.001\n",
      "MMP9    0.005 +/- 0.001\n",
      "BARD1   0.005 +/- 0.001\n",
      "MMP27   0.005 +/- 0.001\n",
      "BCL7C   0.004 +/- 0.000\n",
      "TERT    0.004 +/- 0.000\n",
      "MMP3    0.004 +/- 0.000\n",
      "MMP24   0.003 +/- 0.000\n",
      "MMP1    0.002 +/- 0.000\n"
     ]
    }
   ],
   "source": [
    "from sklearn.inspection import permutation_importance\n",
    "\n",
    "N_REPETICOES = 10\n",
    "\n",
    "\n",
    "def R2_1param(modelo, x, y):\n",
    "    \"\"\"Computa o coef. de determinação quando hip. alt. não tem coef. linear.\"\"\"\n",
    "    y_pred = modelo.predict(x).ravel()\n",
    "    y_true = (np.array(y)).ravel()\n",
    "    return 1 - sum((y_true - y_pred) ** 2) / sum(y_true**2)\n",
    "\n",
    "\n",
    "X_local = X_treino_data_art\n",
    "y_local = y_treino_data_art\n",
    "\n",
    "R2 = R2_1param(modelo_rf, X_local, y_local)\n",
    "print(f\"O R^2 da previsão é de {R2}\")\n",
    "\n",
    "# Aqui que calculamos a importância das features\n",
    "r = permutation_importance(\n",
    "    modelo_rf,\n",
    "    X_local,\n",
    "    y_local,\n",
    "    n_repeats=N_REPETICOES,\n",
    "    random_state=SEMENTE_ALEATORIA,\n",
    "    scoring=R2_1param,\n",
    ")\n",
    "\n",
    "print()\n",
    "\n",
    "# Aqui nós exibimos os resultados obtidos\n",
    "for i in r.importances_mean.argsort()[::-1]:\n",
    "    if r.importances_mean[i] - 2 * r.importances_std[i] > 0:\n",
    "        print(f\"{FEATURES_art[i]:<8}\"\n",
    "              f\"{r.importances_mean[i]:.3f}\"\n",
    "              f\" +/- {r.importances_std[i]:.3f}\")"
   ]
  }
 ],
 "metadata": {
  "kernelspec": {
   "display_name": "new-ilumpy",
   "language": "python",
   "name": "new-ilumpy"
  },
  "language_info": {
   "codemirror_mode": {
    "name": "ipython",
    "version": 3
   },
   "file_extension": ".py",
   "mimetype": "text/x-python",
   "name": "python",
   "nbconvert_exporter": "python",
   "pygments_lexer": "ipython3",
   "version": "3.9.7"
  }
 },
 "nbformat": 4,
 "nbformat_minor": 5
}
