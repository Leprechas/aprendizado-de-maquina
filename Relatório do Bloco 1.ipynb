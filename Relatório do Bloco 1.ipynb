{
 "cells": [
  {
   "cell_type": "markdown",
   "id": "1aa592e7-f679-4bc7-aa12-caf15fdd9381",
   "metadata": {
    "tags": []
   },
   "source": [
    "## Bloco 1\n",
    "\n",
    "### Sumário\n",
    "1. [Diário de Bordo do Lider](#Diário)\n",
    
    "##### Tarefas;\n",
    "1. [Início](#inicio)\n",
    "2. [Coleta](#coleta)\n",
    "3. [Preparação dos dados](#preparacao)\n",
    "4. [Análise exploratória dos dados](#analise)\n",
    "5. [Tarefas avançadas](#tarefas)\n",
    
    "##### Link's;\n",
    "1. [Link's](#links)"
   ]
  },
  {
   "cell_type": "markdown",
   "id": "05f52205-5a7e-45d7-be2c-f346196d2dd7",
   "metadata": {},
   "source": [
    "### Diário de bordo <a name=\"Diário\"></a>\n",
    "\n",
    "#### Acontecimentos da Semana 1 (02 a 09/08/2022), Início\n",
    "Discussão inicial: O grupo iniciou as discussões e 4 possíveis temas surgiram;\n",
    "- Investigação e previsão de focos de incêndio no Brasil\n",
    "- Estudos da curva basal da derme para agilizar os atendimentos em desastres\n",
    "- Analises da progressão do vírus Monkeypox no Brasil considerando os dados recentes da covid19\n",
    "- Emergência de grupos nazistas no Brasil\n",
    "\n",
    "O grupo decidiu investir nossas energias no tema 1 e 2\n",
    "\n",
    "Ações da semana:\n",
    "- Busca de bando de dados\n",
    "- Busca bibliográfica\n",
    "- Contactar pesquisadores das áreas\n",
    "\n",
    "Resultados;\n",
    "O tema escolhido definitivamente é o tema 2, contudo, não vámos viabilidade para prosseguir com o projeto analisando dados de imagem devido à inexistência de uma padronização das amostras histológicas. \n",
    "\n",
    "O tema 2 foi modificado para \"Analises da expressão genica da derme\" e os investimentos de energia se modificaram de área\n",
    "\n",
    "#### Acontecimentos da Semana 2 (09 a 16/08/2022), Coleta\n",
    "Discussão: Projeto: \"Analises da expressão genica da derme\":\n",
    "Objetivo do projeto: produzir uma máquina que a partir dos TPM de um certo número de genes de uma amostra consiga retornar a idade e o sexo do indivíduo.\n",
    "Objetivo de aplicação do projeto: Área florence: colaborar para a identificação de corpos e amostras de tecidos humanas.\n",
    "\n",
    "- Dados de entrada para treinamento da máquina: idade, sexo, X genes e seus TPM\n",
    "- Dados de saída: idade e sexo do indivíduo\n",
    "- Dados de entrada: X genes e seus TPM\n",
    "- Dados de saída: idade e sexo do indivíduo\n",
    "\n",
    "Ações da semana;\n",
    "- Inicio do tratamento de dados\n",
    "- Busca bibliográfica para escolher os genes a serem analisados\n",
    "- Organização dos link's utilizados no trabalhos\n",
    "- Dialogo com especialistas(Professora Juliana e Professor Vinicius), para entender o comportamento dos genes em determinados modelos aplicados em py\n",
    "\n",
    "Resultados;\n",
    "Os dados foram organizados e os genes foram escolhidos previamente para testar o modelo inicial aplicado em py\n",
    "\n",
    "#### Acontecimentos da Semana 3 (16 a 23/08/2022), Preparação dos dados e Análise exploratória dos dados\n",
    "Discussão: Como escolher os melhores genes para serem utilizados como dados após testar o modelo inicial.\n",
    "\n",
    "Ações da semana;\n",
    "- Organização das analises estatisticas\n",
    "- Teste do modelo\n",
    "- Escolha dos genes\n",
    "- Determinação do objetivo do geral do projeto\n",
    "- Elaboração de uma breve apresentação para a Semana 4\n",
    "- Produção de um relatorio sobre o bloco 1\n",
    "\n",
    "Resultados;\n",
    "Ainda pendentes na data 16/08"
   ]
  },
  {
   "cell_type": "markdown",
   "id": "1a83df2e-e66d-4a3b-b72d-ecf0d43aa1df",
   "metadata": {},
   "source": [
    "### Início <a name=\"inicio\"></a>\n",
    "\n",
    "- [x] Definir o grupo de trabalho e o líder do grupo no Bloco 1 (02/08)\n",
    "- [x] Criar o repositório oficial do projeto no GitHub (02/08)\n",
    "- [x] Responder ao questionário no Moodle sobre as informações acima (02/08)"
   ]
  },
  {
   "cell_type": "markdown",
   "id": "c6a9042e-385f-4184-afe1-994fb18d7774",
   "metadata": {},
   "source": [
    "### Coleta <a name=\"coleta\"></a>\n",
    "\n",
    "+ [x] Identificar os dados que serão estudados ao longo da disciplina (09/08)\n",
    "+ [x] Coletar e gravar o banco de dados em um arquivo local (09/08)\n",
    "+ [x] Criar um DataFrame de pandas com os dados (09/08)"
   ]
  },
  {
   "cell_type": "markdown",
   "id": "465d1059-4c32-4b1f-825e-e02fec7843e2",
   "metadata": {},
   "source": [
    "### Preparação dos dados <a name=\"preparacao\"></a>\n",
    "\n",
    "+ [x] Observar os tipos dos dados do seu dataset (16/08)\n",
    "+ [x] Pré-processar os dados do seu dataset (16/08)\n",
    "+ [x] Após o pré-processamento, criar ou identificar um identificador único para cada exemplo do seu dataset (16/08)"
   ]
  },
  {
   "cell_type": "markdown",
   "id": "5badea93-3cfd-40c3-b18d-540dd77404a6",
   "metadata": {},
   "source": [
    "### Análise exploratória dos dados <a name=\"analise\"></a>\n",
    "\n",
    "- [ ] Computar e analisar a estatística descritiva dos dados\n",
    "- [ ] Computar a matriz de covariancia\n",
    "- [ ] Graficar os dados"
   ]
  },
  {
   "cell_type": "markdown",
   "id": "9324c652-2f49-49ed-85ca-10f805222f4c",
   "metadata": {},
   "source": [
    "### Tarefas avançadas <a name=\"tarefas\"></a>\n",
    "\n",
    "- [ ] Pré-processar os dados\n",
    "- [ ] Análise exploratória de dados com amostragem por bootstrap"
   ]
  },
  {
   "cell_type": "markdown",
   "id": "5052649e-1b27-4ac5-8228-fa2a3d57ccbd",
   "metadata": {},
   "source": [
    "### Links; <a name=\"links\"></a>\n",
    "\n",
    "Alterações induzidas pela idade e foto induzidas nos perfis de expressão gênica na pele facial de mulheres caucasianas ao longo de 6 décadas de idade; https://www.jaad.org/article/s0190-9622%2817%2932336-8/fulltext\n",
    "\n",
    "Site de Histologia GTEx: https://gtexportal.org/home/histologyPage\n",
    "\n",
    "Site de Histologia GTEx, dados de genes e seus TPM/tecidos: https://gtexportal.org/home/tissue/Skin_Sun_Exposed_Lower_leg?tissueSelect=Skin_Sun_Exposed_Lower_leg\n",
    "\n",
    "Artigo que confirma a diferença no envelhecimento de pele exposta ao sol e não exposta: https://www.aging-us.com/article/101496/text\n",
    "\n",
    "Site de Histologia GTEx, para buscar os dados de genes e seus TPM/tecidos: https://gtexportal.org/home/biobank#search\n",
    "\n",
    "Artigo: A expressão gênica relacionada à idade sincronizada muda em vários tecidos em humanos e a ligação a doenças complexas (estudo de genes específicos ligados ao envelhecimento): https://www.nature.com/articles/srep15145\n",
    "\n",
    "Tabela de comparação histológica de TPM dos genes de diferentes tecidos: https://www.nature.com/articles/srep15145/tables/1\n",
    "\n",
    "Artigo: Análise transcriptômica do envelhecimento humano na pele masculina mostra o período de variabilidade da meia-idade e o papel central do NF-κB: https://www.nature.com/articles/srep26846\n",
    "\n",
    "Artigo que confirma que a pele sofre maiores modificações nas TPM dos seus genes conforme a idade avança;https://link-springer-com.ez106.periodicos.capes.gov.br/content/pdf/10.1186/gb-2013-14-7-r75.pdf\n",
    "\n",
    "https://link.springer.com/article/10.1007/s10522-018-9750-z\n",
    "\n",
    "Artigo que confirma a redução da quantidade de colágeno na pele se deve pela ação das MMPs, que aumentam sua expressão com a idade: https://onlinelibrary-wiley.ez106.periodicos.capes.gov.br/doi/full/10.1111/bjd.15379"
   ]
  }
 ],
 "metadata": {
  "kernelspec": {
   "display_name": "ilumpy",
   "language": "python",
   "name": "ilumpy"
  },
  "language_info": {
   "codemirror_mode": {
    "name": "ipython",
    "version": 3
   },
   "file_extension": ".py",
   "mimetype": "text/x-python",
   "name": "python",
   "nbconvert_exporter": "python",
   "pygments_lexer": "ipython3",
   "version": "3.9.7"
  }
 },
 "nbformat": 4,
 "nbformat_minor": 5
}
