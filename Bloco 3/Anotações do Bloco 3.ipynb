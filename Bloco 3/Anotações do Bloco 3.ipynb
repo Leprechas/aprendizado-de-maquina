{
 "cells": [
  {
   "cell_type": "markdown",
   "id": "bb10d897-4857-481d-908d-f6e0c57c47b0",
   "metadata": {},
   "source": [
    "#### **Aprendizado de Máquina** - Análise de expressão gênica da derme, com ênfase em estudos forenses"
   ]
  },
  {
   "cell_type": "markdown",
   "id": "702ef0b9-9d2b-4956-b544-87fd8066dbde",
   "metadata": {},
   "source": [
    "# Bloco 03"
   ]
  },
  {
   "cell_type": "markdown",
   "id": "08776b20-5959-4eff-b17a-b8371e04dfa6",
   "metadata": {},
   "source": [
    "**Geral**"
   ]
  },
  {
   "cell_type": "markdown",
   "id": "c4341a71-164d-4553-93d7-c769b727a838",
   "metadata": {},
   "source": [
    "| - | *Semana 01* | *Semana 02* | *Semana 03* | *Semana 04* | \n",
    "| :----------- | -----------: | ---------: | ----------: | -----------: | \n",
    "| **Datas** | 04 - 10 out | 11 - 17 out | 18 - 24 out | 25 out - 1 nov | \n",
    "| **Status**| Iniciada | A iniciar | A iniciar | A iniciar |"
   ]
  },
  {
   "cell_type": "markdown",
   "id": "a418b2d3-eb1c-434e-8910-214bf971c5fd",
   "metadata": {},
   "source": [
    "**ATIVIDADES**\n",
    "<br> **1. Redução de dimensionalidade**\n",
    "> *Análise de componente principal (PCA)*\n",
    ">- Obter as componentes principais do seu sistema.\n",
    ">- Gravar a variância explicada.\n",
    "        * Indicar quantas componentes são razoáveis para o seu sistema.\n",
    ">- Mostre a matriz de loadings do seu PCA, ou seja, o quanto de cada feature foi considerada para cada componente principal.\n",
    ">- Utilizar as componentes obtidas pelo PCA para uma regressão ou classicação.\n",
    "        * Analisar se a performance melhorou para seu dataset.\n",
    ">- Como vocês sabem os labels nesse caso, faça um gráfico das duas e três componentes principais, colorindo os labels.\n",
    "\n",
    "**2. Agrupamento (clustering)**\n",
    "> *K-means*\n",
    ">- Realizar o agrupamento com o método K-means.\n",
    "> Mostrar os grupos formados, comparar com os grupos que foram definidos para a classificação.\n",
    "        * Por mostrar, entendam gráficos mostrando os grupos e as centroides.\n",
    ">- Aplicar o método elbow para definir o número ideal de clusters.\n",
    "> Como vocês sabem os labels nesse caso, faça um gráfico das duas e três componentes principais, colorindo os labels.\n",
    "\n",
    "> *Escolha outro método de clustering e aplique ao seus dataset*\n",
    ">- Realize o agrupamento\n",
    ">- Mostre os gráficos dos grupos formados.\n",
    ">- Como vocês sabem os labels nesse caso, façam um gráfico das duas e três componentes principais, colorindo os labels.\n",
    ">- Compare o método escolhido como K-means.\n",
    "\n",
    "**3. Detecção de outliers**\n",
    "<br> Para os exercícios abaixo, tente primeiramente usar seu conjunto de dados. Caso os algoritmos identifiquem muito pouco (ou nenhum!) outlier, então mostre seu resultado, elabore uma hipótese para justificá-lo e tente com um\n",
    "outro conjunto de dados de sua escolha (pode ser um conjunto de dados didático para ensino de aprendizado de máquina).\n",
    ">\n",
    ">- Identifique outliers no seu dataset utilizando o método de Isolation Forest\n",
    "        * Visualize os outliers identifidos usando uma representação gráfica de sua escolha. Use estratégias de redução de dimensionalidade caso julgue necessário.isualize os outliers identificados usando uma representação gráfica de sua escolha. Use estratégias de redução de dimensionalidade caso julgue necessário.\n",
    ">- Identifique outliers no seu dataset utilizando o método local Outlier Factor \n",
    "        * Teste seu modelo com os seguintes valores para o hiperparâmetro n_neighbors: {10, 20, 30}. Certifique-se que seus dados estão normalizados para este teste! Proponha outros valores deste hiperparâmetro caso julgue interessante.\n",
    "        * Visualize os outliers identificados usando uma representação gráfica de sua escolha. Use estratégias de redução de dimensionalidade caso julgue necessário.\n",
    "        * Comente sobre as diferenças observadas na identificação de outliers ao alterar o hiperparâmetro n_neighbors.\n",
    ">- Compare os resultados obtidos acima e justifique qual dos dois métodos estudados você considera mais apropriado para usar no seu conjunto de dados (você pode responder que nenhum destes métodos é apropriado, mas veja que ainda assim é esperada uma justificativa)."
   ]
  },
  {
   "cell_type": "markdown",
   "id": "b09dfd33-4511-427a-bf1d-677070ebc1ea",
   "metadata": {},
   "source": [
    "<hr>"
   ]
  },
  {
   "cell_type": "markdown",
   "id": "4345abb9-4f80-463f-a898-ee6bafa95f61",
   "metadata": {},
   "source": [
    "**SEMANA 01 - 04 a 10 de OUTUBRO**"
   ]
  },
  {
   "cell_type": "code",
   "execution_count": null,
   "id": "1c969bc8-02d4-42d9-9cf6-fea9680fe70e",
   "metadata": {},
   "outputs": [],
   "source": []
  }
 ],
 "metadata": {
  "kernelspec": {
   "display_name": "ilumpy",
   "language": "python",
   "name": "ilumpy"
  },
  "language_info": {
   "codemirror_mode": {
    "name": "ipython",
    "version": 3
   },
   "file_extension": ".py",
   "mimetype": "text/x-python",
   "name": "python",
   "nbconvert_exporter": "python",
   "pygments_lexer": "ipython3",
   "version": "3.9.7"
  }
 },
 "nbformat": 4,
 "nbformat_minor": 5
}
