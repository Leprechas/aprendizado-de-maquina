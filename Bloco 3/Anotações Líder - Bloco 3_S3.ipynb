{
 "cells": [
  {
   "cell_type": "markdown",
   "id": "bb10d897-4857-481d-908d-f6e0c57c47b0",
   "metadata": {},
   "source": [
    "#### **Aprendizado de Máquina** - Análise de expressão gênica da derme, com ênfase em estudos forenses"
   ]
  },
  {
   "cell_type": "markdown",
   "id": "702ef0b9-9d2b-4956-b544-87fd8066dbde",
   "metadata": {},
   "source": [
    "# Bloco 03"
   ]
  },
  {
   "cell_type": "markdown",
   "id": "08776b20-5959-4eff-b17a-b8371e04dfa6",
   "metadata": {},
   "source": [
    "**Geral**"
   ]
  },
  {
   "cell_type": "markdown",
   "id": "c4341a71-164d-4553-93d7-c769b727a838",
   "metadata": {},
   "source": [
    "| - | *Semana 01* | *Semana 02* | *Semana 03* | *Semana 04* | \n",
    "| :----------- | -----------: | ---------: | ----------: | -----------: | \n",
    "| **Datas** | 04 - 10 out | 18 - 24 out | 25 out - 31 nov | 1 nov | \n",
    "| **Status**| Finalizada | Iniciada | A iniciar | A iniciar |"
   ]
  },
  {
   "cell_type": "markdown",
   "id": "a418b2d3-eb1c-434e-8910-214bf971c5fd",
   "metadata": {},
   "source": [
    "**ATIVIDADES**\n",
    "<br> **1. Redução de dimensionalidade**\n",
    "> *Análise de componente principal (PCA)*\n",
    ">- Obter as componentes principais do seu sistema.\n",
    ">- Gravar a variância explicada.\n",
    "        * Indicar quantas componentes são razoáveis para o seu sistema.\n",
    ">- Mostre a matriz de loadings do seu PCA, ou seja, o quanto de cada feature foi considerada para cada componente principal.\n",
    ">- Utilizar as componentes obtidas pelo PCA para uma regressão ou classicação.\n",
    "        * Analisar se a performance melhorou para seu dataset.\n",
    ">- Como vocês sabem os labels nesse caso, faça um gráfico das duas e três componentes principais, colorindo os labels.\n",
    "\n",
    "**2. Agrupamento (clustering)**\n",
    "> *K-means*\n",
    ">- Realizar o agrupamento com o método K-means.\n",
    "> Mostrar os grupos formados, comparar com os grupos que foram definidos para a classificação.\n",
    "        * Por mostrar, entendam gráficos mostrando os grupos e as centroides.\n",
    ">- Aplicar o método elbow para definir o número ideal de clusters.\n",
    "> Como vocês sabem os labels nesse caso, faça um gráfico das duas e três componentes principais, colorindo os labels.\n",
    "\n",
    "> *Escolha outro método de clustering e aplique ao seus dataset*\n",
    ">- Realize o agrupamento\n",
    ">- Mostre os gráficos dos grupos formados.\n",
    ">- Como vocês sabem os labels nesse caso, façam um gráfico das duas e três componentes principais, colorindo os labels.\n",
    ">- Compare o método escolhido como K-means.\n",
    "\n",
    "**3. Detecção de outliers**\n",
    "<br> Para os exercícios abaixo, tente primeiramente usar seu conjunto de dados. Caso os algoritmos identifiquem muito pouco (ou nenhum!) outlier, então mostre seu resultado, elabore uma hipótese para justificá-lo e tente com um\n",
    "outro conjunto de dados de sua escolha (pode ser um conjunto de dados didático para ensino de aprendizado de máquina).\n",
    ">\n",
    ">- Identifique outliers no seu dataset utilizando o método de Isolation Forest\n",
    "        * Visualize os outliers identifidos usando uma representação gráfica de sua escolha. Use estratégias de redução de dimensionalidade caso julgue necessário.isualize os outliers identificados usando uma representação gráfica de sua escolha. Use estratégias de redução de dimensionalidade caso julgue necessário.\n",
    ">- Identifique outliers no seu dataset utilizando o método local Outlier Factor \n",
    "        * Teste seu modelo com os seguintes valores para o hiperparâmetro n_neighbors: {10, 20, 30}. Certifique-se que seus dados estão normalizados para este teste! Proponha outros valores deste hiperparâmetro caso julgue interessante.\n",
    "        * Visualize os outliers identificados usando uma representação gráfica de sua escolha. Use estratégias de redução de dimensionalidade caso julgue necessário.\n",
    "        * Comente sobre as diferenças observadas na identificação de outliers ao alterar o hiperparâmetro n_neighbors.\n",
    ">- Compare os resultados obtidos acima e justifique qual dos dois métodos estudados você considera mais apropriado para usar no seu conjunto de dados (você pode responder que nenhum destes métodos é apropriado, mas veja que ainda assim é esperada uma justificativa)."
   ]
  },
  {
   "cell_type": "markdown",
   "id": "b09dfd33-4511-427a-bf1d-677070ebc1ea",
   "metadata": {},
   "source": [
    "<hr>"
   ]
  },
  {
   "cell_type": "markdown",
   "id": "4345abb9-4f80-463f-a898-ee6bafa95f61",
   "metadata": {},
   "source": [
    "**SEMANA 01 - 04 a 10 de OUTUBRO**"
   ]
  },
  {
   "cell_type": "markdown",
   "id": "6ccb54a1-86ba-436c-ae37-63c35c7bfdc7",
   "metadata": {},
   "source": [
    "Descrição das atividades:\n",
    "- Dia um pouco atípico:\n",
    "    - Dois membros do grupo tiveram reunião com o pessoal da enhenharia do CNPEM;\n",
    "    - Outro membro foi receber uma pessoa que ia visitar o CNPEM;\n",
    "- Depois que nos reúnimos, iniciamos as atividades do Bloco 01;\n",
    "- Conseguimos plotar tudo que era solicitado, mas tivemos algumas dificuldades com as interpretações em relação a PCA;\n",
    "\n",
    "Reunião com os professores:\n",
    "- Tudo ok;\n",
    "- Sugestão dos outros grupos que funcionou bem para eles: assistir os vídeos disponibilizados pelos professores antes de fazer as atividades;\n",
    "\n",
    "Organização para a próxima semana:\n",
    "- Refazer, revisar e finalizar as análises da parte de PCA;\n",
    "- Tarefas da atividade 02 do bloco 03;"
   ]
  },
  {
   "cell_type": "markdown",
   "id": "94dc1c4f-dc16-4167-85e4-d1bc326335d8",
   "metadata": {},
   "source": [
    "<hr>"
   ]
  },
  {
   "cell_type": "markdown",
   "id": "35ceeae2-5832-4e50-9ff3-3acad0db38ba",
   "metadata": {},
   "source": [
    "**SEMANA 02 - 18 a 24 de OUTUBRO**"
   ]
  },
  {
   "cell_type": "markdown",
   "id": "ac88c53c-4de1-4838-82a4-659aa0ec239d",
   "metadata": {},
   "source": [
    "Descrição das atividades & do dia:\n",
    "- Zani não está presente porque está passando mal, então dissemos que tudo bem ele ficar em casa;\n",
    "- Finalizar análises de PCA;\n",
    "- Segundo notebook de PCA;\n",
    "- Notebook de K-MEANS;\n",
    "- Tivemos bastante dúvidas no decorres da aula, mas fomos conversando com os professores, entre nós mesmos e buscando informações nos materiais disponibilizados;\n",
    "- Da metade para o final da aula, Artur começou a sentir dor nos olhos e aí eu diria que nos desconcentramos um pouco. Isso me afetou na reunião dos líderes com os professores também, estava inquieta e não consegui prestar muita atenção;\n",
    "\n",
    "Reunião com os professores:\n",
    "- No caso dos nossos clusteres que ficam todos sobrepostos, talves devêssemos fazer análises estatísticas separadamente para conhecer cada um dos agrupamentos, já que não conseguimos plotar todas as dimensões necessárias;\n",
    "- Talvez não precisemos nos preocupar com isso agora porque pode dar muito trabalho;\n",
    "\n",
    "Organização para a próxima semana:\n",
    "- Atividade 03 do bloco 03\n",
    "- Subir os cadernos de PCA e K-MEANS no GitHub;"
   ]
  },
  {
   "cell_type": "markdown",
   "id": "3204d496-ef92-4776-ac02-3ee6b681a101",
   "metadata": {},
   "source": [
    "<hr>"
   ]
  },
  {
   "cell_type": "markdown",
   "id": "49863a80-44c1-4eba-81ae-7ec4b5627bab",
   "metadata": {},
   "source": [
    "**SEMANA 03 - 25 a 31 de OUTUBRO**"
   ]
  },
  {
   "cell_type": "markdown",
   "id": "bb2378c7-8a12-4b26-8f03-1ed700a91478",
   "metadata": {},
   "source": [
    "Descrição das atividades & do dia:\n",
    "- Artur não está presente pelas mesmas questões de saúde ainda;\n",
    "- Juntar os cadernos 1 e 2 do bloco 3 - FEITO;\n",
    "- Revisar PCA, clustering;\n",
    "- Começar notebook 3 e terminar de preferência;\n",
    "- Tiramos várias dúvidas com o Dani no decorrer da aula;\n",
    "\n",
    "Anotações aula:\n",
    "- Dados anômalos não necessariamente precisam ser descartados, eles podem guardar informações muito importantes;\n",
    "- Dados anômalos não são bons ou ruins, são apenas diferentes;\n",
    "- Pode ser legal para nós tentar entender por qual razão os dados são tão diferentes;\n",
    "- Valores anômalos são mais fáceis de serem isolados em uma árvore de decisão do que valores não anômalos \n",
    "- Uma árvore com valores isolados segue às seguintes condições: vértices folhas com 1 ou 0 pontos ou mais de um ponto mas todos sendo iguais;\n",
    "- As coisas mais fáceis para isolar são aquelas que exigem menos perguntas;\n",
    "- Linhas ortogonais à pergunta feita;\n",
    "\n",
    "Reunião com os professores:\n",
    "- Discutir com a Juliana os nossos resultados antes da apresentação do simpósio;\n",
    "- No Bloco 04, não teremos uma aula teórica para que possamos organizar o que faltar no trabalho;\n",
    "\n",
    "Organização para a próxima semana:\n",
    "- Atualizar o ReadMe;\n",
    "- Subir todos os notebooks no GitHub;\n",
    "- Terminar de montar o GitHub completo;"
   ]
  },
  {
   "cell_type": "markdown",
   "id": "29fe47bf-73d9-4f06-ac16-0c41dcb8be8f",
   "metadata": {},
   "source": [
    "<hr>"
   ]
  },
  {
   "cell_type": "markdown",
   "id": "41d94324-0569-4209-b190-90febf884bff",
   "metadata": {},
   "source": [
    "**SEMANA 04 - 01 de OUTUBRO**"
   ]
  },
  {
   "cell_type": "markdown",
   "id": "10465148-6c5a-4188-9db9-b994c2bbddb4",
   "metadata": {},
   "source": [
    "Apresentação!"
   ]
  }
 ],
 "metadata": {
  "kernelspec": {
   "display_name": "ilumpy",
   "language": "python",
   "name": "ilumpy"
  },
  "language_info": {
   "codemirror_mode": {
    "name": "ipython",
    "version": 3
   },
   "file_extension": ".py",
   "mimetype": "text/x-python",
   "name": "python",
   "nbconvert_exporter": "python",
   "pygments_lexer": "ipython3",
   "version": "3.9.7"
  }
 },
 "nbformat": 4,
 "nbformat_minor": 5
}
