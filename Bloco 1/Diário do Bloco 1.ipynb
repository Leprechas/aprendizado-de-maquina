{
 "cells": [
  {
   "cell_type": "markdown",
   "id": "a30c38a6-e7c2-4ca9-82f6-6237668c8b65",
   "metadata": {},
   "source": [
    "# Diario do Bloco 1\n",
    "Autor/Lider do Bloco1: Vitor E. G. Barelli"
   ]
  },
  {
   "cell_type": "markdown",
   "id": "1b7fddfd-948c-4935-a4f2-eadaab2f7b37",
   "metadata": {},
   "source": [
    "## Semana 1 (02 a 09/08/2022)\n",
    "\n",
    "### Meta da semana: discutir temas possíveis e iniciar a pesquisa sobre o banco de dados necessário.\n",
    "\n",
    "O grupo iniciou as discussões e 4 possíveis temas surgiram;\n",
    "- Investigação e previsão de focos de incêndio no Brasil\n",
    "- Estudos da curva basal da derme para agilizar os atendimentos em desastres\n",
    "- Analises da progressão do vírus Monkeypox no Brasil considerando os dados recentes da covid19\n",
    "- Emergência de grupos nazistas no Brasil\n",
    "\n",
    "O grupo decidiu investir nossas energias no tema 1 e 2\n",
    "\n",
    "### Ações da semana;\n",
    "- Artur e Pedro ficaram responsáveis por buscar os bancos de dados que demonstrem a existência de variáveis para os 2 temas\n",
    "- Vitor e Débora ficaram responsáveis pela busca na literatura para confirmar as existência das variáveis achadas por Artur e Pedro\n",
    "- Débora e Artur contactaram pesquisadores para aprimorar as ideias\n",
    "\n",
    "### Resultados;\n",
    "O tema escolhido definitivamente é o tema 2, contudo, não váamos viabilidade para prosseguir com o projeto analisando dados de imagem devido à inexistência de uma padronização das amostras histológicas. \n",
    "\n",
    "O tema 2 foi modificado para \"Analises da expressão genica da derme\" e os investimentos de energia se modificaram de área\n",
    "\n",
    "### Atividades do Bloco 1 concluídas na semana 1;\n",
    "1 Inicio\n",
    "- [x] Definir o grupo de trabalho e o líder do grupo no Bloco 1\n",
    "- [x] Criar o repositório oficial do projeto no GitHub\n",
    "- [x] Responder ao questionário no Moodle sobre as informações acima"
   ]
  },
  {
   "cell_type": "markdown",
   "id": "7ae34491-b930-4255-8d70-7d2ee6f5c67a",
   "metadata": {},
   "source": [
    "## Semana 2 (09 a 16/08/2022)\n",
    "\n",
    "### Meta da semana: Avançar no tratamento de dados dos genes escolhidos com as faixas etárias delimitadas\n",
    "\n",
    "### Projeto novo;\n",
    "\"Analises da expressão genica da derme\":\n",
    "Objetivo do projeto: produzir uma máquina que a partir dos TPM de um certo número de genes de uma amostra consiga retornar a idade e o sexo do indivíduo.\n",
    "Dados de entrada para treinamento da máquina: idade, sexo, X genes e seus TPM\n",
    "Dados de saída: idade e sexo do indivíduo\n",
    "Dados de entrada: X genes e seus TPM\n",
    "Dados de saída: idade e sexo do indivíduo\n",
    "\n",
    "\n",
    "### Ações da semana;\n",
    "- Pedro começou o tratamento de dados e Artur ajudou\n",
    "- Artur e Débora começaram uma busca bibliográfica para escolher os genes a serem analisados\n",
    "- Vitor redigiu todas as ações e organizou os links utilizados para o trabalho\n",
    "- O grupo conversou com a professora Juliana para entender melhor os genes a serem escolhidos e como descrever isso graficamente em py \n",
    "- O grupo conversou com o professor Vinicius para entender melhor se as descrições gráficas em py fazem sentido para o que queremos analisar\n",
    "\n",
    "### Resultados;\n",
    "\n",
    "### Atividades do Bloco 1 concluídas na semana 2;\n",
    "2 Coleta\n",
    "- [] Identificar e tratar os dados que serão estudados ao longo da disciplina\n",
    "- [] Coletar e gravar o banco de dados em um arquivo local\n",
    "- [] Criar um DataFrame de pandas com os dados"
   ]
  },
  {
   "cell_type": "markdown",
   "id": "25f61f9c-c3e0-4574-8c45-22ce5c405966",
   "metadata": {},
   "source": [
    "# Links;\n",
    "\n",
    "Alterações induzidas pela idade e foto induzidas nos perfis de expressão gênica na pele facial de mulheres caucasianas ao longo de 6 décadas de idade; https://www.jaad.org/article/s0190-9622%2817%2932336-8/fulltext\n",
    "\n",
    "Site de Histologia GTEx: https://gtexportal.org/home/histologyPage\n",
    "\n",
    "Site de Histologia GTEx, dados de genes e seus TPM/tecidos: https://gtexportal.org/home/tissue/Skin_Sun_Exposed_Lower_leg?tissueSelect=Skin_Sun_Exposed_Lower_leg\n",
    "\n",
    "Artigo que confirma a diferença no envelhecimento de pele exposta ao sol e não exposta: https://www.aging-us.com/article/101496/text\n",
    "\n",
    "Site de Histologia GTEx, para buscar os dados de genes e seus TPM/tecidos: https://gtexportal.org/home/biobank#search\n",
    "\n",
    "Artigo: A expressão gênica relacionada à idade sincronizada muda em vários tecidos em humanos e a ligação a doenças complexas (estudo de genes específicos ligados ao envelhecimento): https://www.nature.com/articles/srep15145\n",
    "\n",
    "Tabela de comparação histológica de TPM dos genes de diferentes tecidos: https://www.nature.com/articles/srep15145/tables/1\n",
    "\n",
    "Artigo: Análise transcriptômica do envelhecimento humano na pele masculina mostra o período de variabilidade da meia-idade e o papel central do NF-κB: https://www.nature.com/articles/srep26846\n",
    "\n",
    "Artigo que confirma que a pele sofre maiores modificações nas TPM dos seus genes conforme a idade avança;https://link-springer-com.ez106.periodicos.capes.gov.br/content/pdf/10.1186/gb-2013-14-7-r75.pdf\n",
    "\n",
    "https://link.springer.com/article/10.1007/s10522-018-9750-z\n",
    "\n",
    "Artigo que confirma a redução da quantidade de colágeno na pele se deve pela ação das MMPs, que aumentam sua expressão com a idade: https://onlinelibrary-wiley.ez106.periodicos.capes.gov.br/doi/full/10.1111/bjd.15379"
   ]
  },
  {
   "cell_type": "code",
   "execution_count": null,
   "id": "480eec81-311f-4c34-90b5-99d5016f0d4b",
   "metadata": {},
   "outputs": [],
   "source": []
  }
 ],
 "metadata": {
  "kernelspec": {
   "display_name": "ilumpy",
   "language": "python",
   "name": "ilumpy"
  },
  "language_info": {
   "codemirror_mode": {
    "name": "ipython",
    "version": 3
   },
   "file_extension": ".py",
   "mimetype": "text/x-python",
   "name": "python",
   "nbconvert_exporter": "python",
   "pygments_lexer": "ipython3",
   "version": "3.9.7"
  }
 },
 "nbformat": 4,
 "nbformat_minor": 5
}
