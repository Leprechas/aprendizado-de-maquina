{
 "cells": [
  {
   "cell_type": "markdown",
   "id": "1aa592e7-f679-4bc7-aa12-caf15fdd9381",
   "metadata": {},
   "source": [
    "## Bloco 1\n",
    "\n",
    "### Sumário\n",
    "\n",
    "1. [Início](#inicio)\n",
    "2. [Coleta](#coleta)\n",
    "3. [Preparação dos dados](#preparacao)\n",
    "4. [Análise exploratória dos dados](#analise)\n",
    "5. [Tarefas avançadas](#tarefas)"
   ]
  },
  {
   "cell_type": "markdown",
   "id": "1a83df2e-e66d-4a3b-b72d-ecf0d43aa1df",
   "metadata": {},
   "source": [
    "### Início <a name=\"inicio\"></a>\n",
    "\n",
    "- [ ] Definir o grupo de trabalho e o líder do grupo no Bloco 1\n",
    "- [ ] Criar o repositório oficial do projeto no GitHub\n",
    "- [ ] Responder ao questionário no Moodle sobre as informações acima"
   ]
  },
  {
   "cell_type": "markdown",
   "id": "c6a9042e-385f-4184-afe1-994fb18d7774",
   "metadata": {},
   "source": [
    "### Coleta <a name=\"coleta\"></a>\n",
    "\n",
    "+ [ ] Identificar os dados que serão estudados ao longo da disciplina\n",
    "+ [ ] Coletar e gravar o banco de dados em um arquivo local\n",
    "+ [ ] Criar um DataFrame de pandas com os dados"
   ]
  },
  {
   "cell_type": "markdown",
   "id": "465d1059-4c32-4b1f-825e-e02fec7843e2",
   "metadata": {},
   "source": [
    "### Preparação dos dados <a name=\"preparacao\"></a>\n",
    "\n",
    "+ [ ] Observar os tipos dos dados do seu dataset\n",
    "+ [ ] Pré-processar os dados do seu dataset\n",
    "+ [ ] Após o pré-processamento, criar ou identificar um identificador único para cada exemplo do seu dataset"
   ]
  },
  {
   "cell_type": "markdown",
   "id": "5badea93-3cfd-40c3-b18d-540dd77404a6",
   "metadata": {},
   "source": [
    "### Análise exploratória dos dados <a name=\"analise\"></a>\n",
    "\n",
    "- [ ] Computar e analisar a estatística descritiva dos dados\n",
    "- [ ] Computar a matriz de covariancia\n",
    "- [ ] Graficar os dados"
   ]
  },
  {
   "cell_type": "markdown",
   "id": "9324c652-2f49-49ed-85ca-10f805222f4c",
   "metadata": {},
   "source": [
    "### Tarefas avançadas <a name=\"tarefas\"></a>\n",
    "\n",
    "- [ ] Pré-processar os dados\n",
    "- [ ] Análise exploratória de dados com amostragem por bootstrap"
   ]
  }
 ],
 "metadata": {
  "kernelspec": {
   "display_name": "ilumpy",
   "language": "python",
   "name": "ilumpy"
  },
  "language_info": {
   "codemirror_mode": {
    "name": "ipython",
    "version": 3
   },
   "file_extension": ".py",
   "mimetype": "text/x-python",
   "name": "python",
   "nbconvert_exporter": "python",
   "pygments_lexer": "ipython3",
   "version": "3.9.7"
  }
 },
 "nbformat": 4,
 "nbformat_minor": 5
}
